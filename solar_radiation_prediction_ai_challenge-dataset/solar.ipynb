{
 "cells": [
  {
   "cell_type": "code",
   "execution_count": 31,
   "metadata": {},
   "outputs": [],
   "source": [
    "import numpy as np\n",
    "import pandas as pd\n",
    "import matplotlib.pyplot as plt\n",
    "import seaborn as sns\n",
    "import plotly.express as px \n",
    "sns.set_style('darkgrid')\n",
    "import datetime"
   ]
  },
  {
   "cell_type": "code",
   "execution_count": 32,
   "metadata": {},
   "outputs": [],
   "source": [
    "data=pd.read_csv('Train.csv')"
   ]
  },
  {
   "cell_type": "code",
   "execution_count": 33,
   "metadata": {},
   "outputs": [
    {
     "data": {
      "text/html": [
       "<div>\n",
       "<style scoped>\n",
       "    .dataframe tbody tr th:only-of-type {\n",
       "        vertical-align: middle;\n",
       "    }\n",
       "\n",
       "    .dataframe tbody tr th {\n",
       "        vertical-align: top;\n",
       "    }\n",
       "\n",
       "    .dataframe thead th {\n",
       "        text-align: right;\n",
       "    }\n",
       "</style>\n",
       "<table border=\"1\" class=\"dataframe\">\n",
       "  <thead>\n",
       "    <tr style=\"text-align: right;\">\n",
       "      <th></th>\n",
       "      <th>idx</th>\n",
       "      <th>UNIXTime</th>\n",
       "      <th>Data</th>\n",
       "      <th>Time</th>\n",
       "      <th>Radiation</th>\n",
       "      <th>Temperature</th>\n",
       "      <th>Pressure</th>\n",
       "      <th>Humidity</th>\n",
       "      <th>WindDirection(Degrees)</th>\n",
       "      <th>Speed</th>\n",
       "      <th>TimeSunRise</th>\n",
       "      <th>TimeSunSet</th>\n",
       "    </tr>\n",
       "  </thead>\n",
       "  <tbody>\n",
       "    <tr>\n",
       "      <th>0</th>\n",
       "      <td>0</td>\n",
       "      <td>1480107904</td>\n",
       "      <td>11/25/2016 12:00:00 AM</td>\n",
       "      <td>11:05:04</td>\n",
       "      <td>288.44</td>\n",
       "      <td>46</td>\n",
       "      <td>30.48</td>\n",
       "      <td>101</td>\n",
       "      <td>129.84</td>\n",
       "      <td>13.50</td>\n",
       "      <td>06:37:00</td>\n",
       "      <td>17:42:00</td>\n",
       "    </tr>\n",
       "    <tr>\n",
       "      <th>1</th>\n",
       "      <td>1</td>\n",
       "      <td>1472818508</td>\n",
       "      <td>9/2/2016 12:00:00 AM</td>\n",
       "      <td>02:15:08</td>\n",
       "      <td>2.79</td>\n",
       "      <td>50</td>\n",
       "      <td>30.42</td>\n",
       "      <td>75</td>\n",
       "      <td>173.90</td>\n",
       "      <td>6.75</td>\n",
       "      <td>06:07:00</td>\n",
       "      <td>18:37:00</td>\n",
       "    </tr>\n",
       "    <tr>\n",
       "      <th>2</th>\n",
       "      <td>2</td>\n",
       "      <td>1475804719</td>\n",
       "      <td>10/6/2016 12:00:00 AM</td>\n",
       "      <td>15:45:19</td>\n",
       "      <td>118.05</td>\n",
       "      <td>54</td>\n",
       "      <td>30.42</td>\n",
       "      <td>100</td>\n",
       "      <td>7.35</td>\n",
       "      <td>1.12</td>\n",
       "      <td>06:15:00</td>\n",
       "      <td>18:07:00</td>\n",
       "    </tr>\n",
       "    <tr>\n",
       "      <th>3</th>\n",
       "      <td>3</td>\n",
       "      <td>1482533149</td>\n",
       "      <td>12/23/2016 12:00:00 AM</td>\n",
       "      <td>12:45:49</td>\n",
       "      <td>853.17</td>\n",
       "      <td>58</td>\n",
       "      <td>30.44</td>\n",
       "      <td>57</td>\n",
       "      <td>81.67</td>\n",
       "      <td>11.25</td>\n",
       "      <td>06:54:00</td>\n",
       "      <td>17:50:00</td>\n",
       "    </tr>\n",
       "    <tr>\n",
       "      <th>4</th>\n",
       "      <td>4</td>\n",
       "      <td>1481883019</td>\n",
       "      <td>12/16/2016 12:00:00 AM</td>\n",
       "      <td>00:10:19</td>\n",
       "      <td>1.24</td>\n",
       "      <td>42</td>\n",
       "      <td>30.24</td>\n",
       "      <td>103</td>\n",
       "      <td>171.13</td>\n",
       "      <td>2.25</td>\n",
       "      <td>06:50:00</td>\n",
       "      <td>17:46:00</td>\n",
       "    </tr>\n",
       "  </tbody>\n",
       "</table>\n",
       "</div>"
      ],
      "text/plain": [
       "   idx    UNIXTime                    Data      Time  Radiation  Temperature  \\\n",
       "0    0  1480107904  11/25/2016 12:00:00 AM  11:05:04     288.44           46   \n",
       "1    1  1472818508    9/2/2016 12:00:00 AM  02:15:08       2.79           50   \n",
       "2    2  1475804719   10/6/2016 12:00:00 AM  15:45:19     118.05           54   \n",
       "3    3  1482533149  12/23/2016 12:00:00 AM  12:45:49     853.17           58   \n",
       "4    4  1481883019  12/16/2016 12:00:00 AM  00:10:19       1.24           42   \n",
       "\n",
       "   Pressure  Humidity  WindDirection(Degrees)  Speed TimeSunRise TimeSunSet  \n",
       "0     30.48       101                  129.84  13.50    06:37:00   17:42:00  \n",
       "1     30.42        75                  173.90   6.75    06:07:00   18:37:00  \n",
       "2     30.42       100                    7.35   1.12    06:15:00   18:07:00  \n",
       "3     30.44        57                   81.67  11.25    06:54:00   17:50:00  \n",
       "4     30.24       103                  171.13   2.25    06:50:00   17:46:00  "
      ]
     },
     "execution_count": 33,
     "metadata": {},
     "output_type": "execute_result"
    }
   ],
   "source": [
    "data.head()"
   ]
  },
  {
   "cell_type": "code",
   "execution_count": 34,
   "metadata": {},
   "outputs": [],
   "source": [
    "data['UNIXTime'] = pd.to_datetime(data['UNIXTime']).dt.date.astype(str)"
   ]
  },
  {
   "cell_type": "code",
   "execution_count": 35,
   "metadata": {},
   "outputs": [
    {
     "data": {
      "text/html": [
       "<div>\n",
       "<style scoped>\n",
       "    .dataframe tbody tr th:only-of-type {\n",
       "        vertical-align: middle;\n",
       "    }\n",
       "\n",
       "    .dataframe tbody tr th {\n",
       "        vertical-align: top;\n",
       "    }\n",
       "\n",
       "    .dataframe thead th {\n",
       "        text-align: right;\n",
       "    }\n",
       "</style>\n",
       "<table border=\"1\" class=\"dataframe\">\n",
       "  <thead>\n",
       "    <tr style=\"text-align: right;\">\n",
       "      <th></th>\n",
       "      <th>idx</th>\n",
       "      <th>UNIXTime</th>\n",
       "      <th>Data</th>\n",
       "      <th>Time</th>\n",
       "      <th>Radiation</th>\n",
       "      <th>Temperature</th>\n",
       "      <th>Pressure</th>\n",
       "      <th>Humidity</th>\n",
       "      <th>WindDirection(Degrees)</th>\n",
       "      <th>Speed</th>\n",
       "      <th>TimeSunRise</th>\n",
       "      <th>TimeSunSet</th>\n",
       "    </tr>\n",
       "  </thead>\n",
       "  <tbody>\n",
       "    <tr>\n",
       "      <th>0</th>\n",
       "      <td>0</td>\n",
       "      <td>1970-01-01</td>\n",
       "      <td>11/25/2016 12:00:00 AM</td>\n",
       "      <td>11:05:04</td>\n",
       "      <td>288.44</td>\n",
       "      <td>46</td>\n",
       "      <td>30.48</td>\n",
       "      <td>101</td>\n",
       "      <td>129.84</td>\n",
       "      <td>13.50</td>\n",
       "      <td>06:37:00</td>\n",
       "      <td>17:42:00</td>\n",
       "    </tr>\n",
       "    <tr>\n",
       "      <th>1</th>\n",
       "      <td>1</td>\n",
       "      <td>1970-01-01</td>\n",
       "      <td>9/2/2016 12:00:00 AM</td>\n",
       "      <td>02:15:08</td>\n",
       "      <td>2.79</td>\n",
       "      <td>50</td>\n",
       "      <td>30.42</td>\n",
       "      <td>75</td>\n",
       "      <td>173.90</td>\n",
       "      <td>6.75</td>\n",
       "      <td>06:07:00</td>\n",
       "      <td>18:37:00</td>\n",
       "    </tr>\n",
       "    <tr>\n",
       "      <th>2</th>\n",
       "      <td>2</td>\n",
       "      <td>1970-01-01</td>\n",
       "      <td>10/6/2016 12:00:00 AM</td>\n",
       "      <td>15:45:19</td>\n",
       "      <td>118.05</td>\n",
       "      <td>54</td>\n",
       "      <td>30.42</td>\n",
       "      <td>100</td>\n",
       "      <td>7.35</td>\n",
       "      <td>1.12</td>\n",
       "      <td>06:15:00</td>\n",
       "      <td>18:07:00</td>\n",
       "    </tr>\n",
       "    <tr>\n",
       "      <th>3</th>\n",
       "      <td>3</td>\n",
       "      <td>1970-01-01</td>\n",
       "      <td>12/23/2016 12:00:00 AM</td>\n",
       "      <td>12:45:49</td>\n",
       "      <td>853.17</td>\n",
       "      <td>58</td>\n",
       "      <td>30.44</td>\n",
       "      <td>57</td>\n",
       "      <td>81.67</td>\n",
       "      <td>11.25</td>\n",
       "      <td>06:54:00</td>\n",
       "      <td>17:50:00</td>\n",
       "    </tr>\n",
       "    <tr>\n",
       "      <th>4</th>\n",
       "      <td>4</td>\n",
       "      <td>1970-01-01</td>\n",
       "      <td>12/16/2016 12:00:00 AM</td>\n",
       "      <td>00:10:19</td>\n",
       "      <td>1.24</td>\n",
       "      <td>42</td>\n",
       "      <td>30.24</td>\n",
       "      <td>103</td>\n",
       "      <td>171.13</td>\n",
       "      <td>2.25</td>\n",
       "      <td>06:50:00</td>\n",
       "      <td>17:46:00</td>\n",
       "    </tr>\n",
       "  </tbody>\n",
       "</table>\n",
       "</div>"
      ],
      "text/plain": [
       "   idx    UNIXTime                    Data      Time  Radiation  Temperature  \\\n",
       "0    0  1970-01-01  11/25/2016 12:00:00 AM  11:05:04     288.44           46   \n",
       "1    1  1970-01-01    9/2/2016 12:00:00 AM  02:15:08       2.79           50   \n",
       "2    2  1970-01-01   10/6/2016 12:00:00 AM  15:45:19     118.05           54   \n",
       "3    3  1970-01-01  12/23/2016 12:00:00 AM  12:45:49     853.17           58   \n",
       "4    4  1970-01-01  12/16/2016 12:00:00 AM  00:10:19       1.24           42   \n",
       "\n",
       "   Pressure  Humidity  WindDirection(Degrees)  Speed TimeSunRise TimeSunSet  \n",
       "0     30.48       101                  129.84  13.50    06:37:00   17:42:00  \n",
       "1     30.42        75                  173.90   6.75    06:07:00   18:37:00  \n",
       "2     30.42       100                    7.35   1.12    06:15:00   18:07:00  \n",
       "3     30.44        57                   81.67  11.25    06:54:00   17:50:00  \n",
       "4     30.24       103                  171.13   2.25    06:50:00   17:46:00  "
      ]
     },
     "execution_count": 35,
     "metadata": {},
     "output_type": "execute_result"
    }
   ],
   "source": [
    "data.head()"
   ]
  },
  {
   "cell_type": "code",
   "execution_count": 37,
   "metadata": {},
   "outputs": [
    {
     "data": {
      "text/plain": [
       "array(['1970-01-01'], dtype=object)"
      ]
     },
     "execution_count": 37,
     "metadata": {},
     "output_type": "execute_result"
    }
   ],
   "source": [
    "data['UNIXTime'].unique()"
   ]
  },
  {
   "cell_type": "code",
   "execution_count": 4,
   "metadata": {},
   "outputs": [],
   "source": [
    "tdata=pd.read_csv('Test.csv')"
   ]
  },
  {
   "cell_type": "code",
   "execution_count": 18,
   "metadata": {},
   "outputs": [
    {
     "data": {
      "text/html": [
       "<div>\n",
       "<style scoped>\n",
       "    .dataframe tbody tr th:only-of-type {\n",
       "        vertical-align: middle;\n",
       "    }\n",
       "\n",
       "    .dataframe tbody tr th {\n",
       "        vertical-align: top;\n",
       "    }\n",
       "\n",
       "    .dataframe thead th {\n",
       "        text-align: right;\n",
       "    }\n",
       "</style>\n",
       "<table border=\"1\" class=\"dataframe\">\n",
       "  <thead>\n",
       "    <tr style=\"text-align: right;\">\n",
       "      <th></th>\n",
       "      <th>idx</th>\n",
       "      <th>Radiation</th>\n",
       "      <th>Temperature</th>\n",
       "      <th>Pressure</th>\n",
       "      <th>Humidity</th>\n",
       "      <th>WindDirection(Degrees)</th>\n",
       "      <th>Speed</th>\n",
       "    </tr>\n",
       "  </thead>\n",
       "  <tbody>\n",
       "    <tr>\n",
       "      <th>count</th>\n",
       "      <td>26149.000000</td>\n",
       "      <td>26149.000000</td>\n",
       "      <td>26149.000000</td>\n",
       "      <td>26149.000000</td>\n",
       "      <td>26149.000000</td>\n",
       "      <td>26149.000000</td>\n",
       "      <td>26149.000000</td>\n",
       "    </tr>\n",
       "    <tr>\n",
       "      <th>mean</th>\n",
       "      <td>13074.000000</td>\n",
       "      <td>208.621000</td>\n",
       "      <td>51.135110</td>\n",
       "      <td>30.423005</td>\n",
       "      <td>74.970936</td>\n",
       "      <td>143.368247</td>\n",
       "      <td>6.262052</td>\n",
       "    </tr>\n",
       "    <tr>\n",
       "      <th>std</th>\n",
       "      <td>7548.710431</td>\n",
       "      <td>316.089736</td>\n",
       "      <td>6.212018</td>\n",
       "      <td>0.054679</td>\n",
       "      <td>26.008728</td>\n",
       "      <td>83.424186</td>\n",
       "      <td>3.503488</td>\n",
       "    </tr>\n",
       "    <tr>\n",
       "      <th>min</th>\n",
       "      <td>0.000000</td>\n",
       "      <td>1.110000</td>\n",
       "      <td>35.000000</td>\n",
       "      <td>30.190000</td>\n",
       "      <td>8.000000</td>\n",
       "      <td>0.090000</td>\n",
       "      <td>0.000000</td>\n",
       "    </tr>\n",
       "    <tr>\n",
       "      <th>25%</th>\n",
       "      <td>6537.000000</td>\n",
       "      <td>1.230000</td>\n",
       "      <td>46.000000</td>\n",
       "      <td>30.400000</td>\n",
       "      <td>56.000000</td>\n",
       "      <td>81.580000</td>\n",
       "      <td>3.370000</td>\n",
       "    </tr>\n",
       "    <tr>\n",
       "      <th>50%</th>\n",
       "      <td>13074.000000</td>\n",
       "      <td>2.720000</td>\n",
       "      <td>50.000000</td>\n",
       "      <td>30.430000</td>\n",
       "      <td>85.000000</td>\n",
       "      <td>147.320000</td>\n",
       "      <td>5.620000</td>\n",
       "    </tr>\n",
       "    <tr>\n",
       "      <th>75%</th>\n",
       "      <td>19611.000000</td>\n",
       "      <td>360.260000</td>\n",
       "      <td>55.000000</td>\n",
       "      <td>30.460000</td>\n",
       "      <td>97.000000</td>\n",
       "      <td>179.240000</td>\n",
       "      <td>7.870000</td>\n",
       "    </tr>\n",
       "    <tr>\n",
       "      <th>max</th>\n",
       "      <td>26148.000000</td>\n",
       "      <td>1601.260000</td>\n",
       "      <td>71.000000</td>\n",
       "      <td>30.560000</td>\n",
       "      <td>103.000000</td>\n",
       "      <td>359.940000</td>\n",
       "      <td>40.500000</td>\n",
       "    </tr>\n",
       "  </tbody>\n",
       "</table>\n",
       "</div>"
      ],
      "text/plain": [
       "                idx     Radiation   Temperature      Pressure      Humidity  \\\n",
       "count  26149.000000  26149.000000  26149.000000  26149.000000  26149.000000   \n",
       "mean   13074.000000    208.621000     51.135110     30.423005     74.970936   \n",
       "std     7548.710431    316.089736      6.212018      0.054679     26.008728   \n",
       "min        0.000000      1.110000     35.000000     30.190000      8.000000   \n",
       "25%     6537.000000      1.230000     46.000000     30.400000     56.000000   \n",
       "50%    13074.000000      2.720000     50.000000     30.430000     85.000000   \n",
       "75%    19611.000000    360.260000     55.000000     30.460000     97.000000   \n",
       "max    26148.000000   1601.260000     71.000000     30.560000    103.000000   \n",
       "\n",
       "       WindDirection(Degrees)         Speed  \n",
       "count            26149.000000  26149.000000  \n",
       "mean               143.368247      6.262052  \n",
       "std                 83.424186      3.503488  \n",
       "min                  0.090000      0.000000  \n",
       "25%                 81.580000      3.370000  \n",
       "50%                147.320000      5.620000  \n",
       "75%                179.240000      7.870000  \n",
       "max                359.940000     40.500000  "
      ]
     },
     "execution_count": 18,
     "metadata": {},
     "output_type": "execute_result"
    }
   ],
   "source": [
    "data.describe()"
   ]
  },
  {
   "cell_type": "code",
   "execution_count": 6,
   "metadata": {},
   "outputs": [],
   "source": [
    "for i in data[data['Speed'] == 0].iterrows():\n",
    "    data.loc[i[0],\"Speed\"] = data[\"Speed\"].median()"
   ]
  },
  {
   "cell_type": "code",
   "execution_count": 7,
   "metadata": {},
   "outputs": [
    {
     "data": {
      "text/html": [
       "<div>\n",
       "<style scoped>\n",
       "    .dataframe tbody tr th:only-of-type {\n",
       "        vertical-align: middle;\n",
       "    }\n",
       "\n",
       "    .dataframe tbody tr th {\n",
       "        vertical-align: top;\n",
       "    }\n",
       "\n",
       "    .dataframe thead th {\n",
       "        text-align: right;\n",
       "    }\n",
       "</style>\n",
       "<table border=\"1\" class=\"dataframe\">\n",
       "  <thead>\n",
       "    <tr style=\"text-align: right;\">\n",
       "      <th></th>\n",
       "      <th>idx</th>\n",
       "      <th>Radiation</th>\n",
       "      <th>Temperature</th>\n",
       "      <th>Pressure</th>\n",
       "      <th>Humidity</th>\n",
       "      <th>WindDirection(Degrees)</th>\n",
       "      <th>Speed</th>\n",
       "      <th>TimeSunRise</th>\n",
       "      <th>TimeSunSet</th>\n",
       "    </tr>\n",
       "    <tr>\n",
       "      <th>Date</th>\n",
       "      <th></th>\n",
       "      <th></th>\n",
       "      <th></th>\n",
       "      <th></th>\n",
       "      <th></th>\n",
       "      <th></th>\n",
       "      <th></th>\n",
       "      <th></th>\n",
       "      <th></th>\n",
       "    </tr>\n",
       "  </thead>\n",
       "  <tbody>\n",
       "    <tr>\n",
       "      <th>2016-11-25 11:05:04</th>\n",
       "      <td>0</td>\n",
       "      <td>288.44</td>\n",
       "      <td>46</td>\n",
       "      <td>30.48</td>\n",
       "      <td>101</td>\n",
       "      <td>129.84</td>\n",
       "      <td>13.50</td>\n",
       "      <td>2016-11-25 06:37:00</td>\n",
       "      <td>2016-11-25 17:42:00</td>\n",
       "    </tr>\n",
       "    <tr>\n",
       "      <th>2016-09-02 02:15:08</th>\n",
       "      <td>1</td>\n",
       "      <td>2.79</td>\n",
       "      <td>50</td>\n",
       "      <td>30.42</td>\n",
       "      <td>75</td>\n",
       "      <td>173.90</td>\n",
       "      <td>6.75</td>\n",
       "      <td>2016-09-02 06:07:00</td>\n",
       "      <td>2016-09-02 18:37:00</td>\n",
       "    </tr>\n",
       "    <tr>\n",
       "      <th>2016-10-06 15:45:19</th>\n",
       "      <td>2</td>\n",
       "      <td>118.05</td>\n",
       "      <td>54</td>\n",
       "      <td>30.42</td>\n",
       "      <td>100</td>\n",
       "      <td>7.35</td>\n",
       "      <td>1.12</td>\n",
       "      <td>2016-10-06 06:15:00</td>\n",
       "      <td>2016-10-06 18:07:00</td>\n",
       "    </tr>\n",
       "    <tr>\n",
       "      <th>2016-12-23 12:45:49</th>\n",
       "      <td>3</td>\n",
       "      <td>853.17</td>\n",
       "      <td>58</td>\n",
       "      <td>30.44</td>\n",
       "      <td>57</td>\n",
       "      <td>81.67</td>\n",
       "      <td>11.25</td>\n",
       "      <td>2016-12-23 06:54:00</td>\n",
       "      <td>2016-12-23 17:50:00</td>\n",
       "    </tr>\n",
       "    <tr>\n",
       "      <th>2016-12-16 00:10:19</th>\n",
       "      <td>4</td>\n",
       "      <td>1.24</td>\n",
       "      <td>42</td>\n",
       "      <td>30.24</td>\n",
       "      <td>103</td>\n",
       "      <td>171.13</td>\n",
       "      <td>2.25</td>\n",
       "      <td>2016-12-16 06:50:00</td>\n",
       "      <td>2016-12-16 17:46:00</td>\n",
       "    </tr>\n",
       "  </tbody>\n",
       "</table>\n",
       "</div>"
      ],
      "text/plain": [
       "                     idx  Radiation  Temperature  Pressure  Humidity  \\\n",
       "Date                                                                   \n",
       "2016-11-25 11:05:04    0     288.44           46     30.48       101   \n",
       "2016-09-02 02:15:08    1       2.79           50     30.42        75   \n",
       "2016-10-06 15:45:19    2     118.05           54     30.42       100   \n",
       "2016-12-23 12:45:49    3     853.17           58     30.44        57   \n",
       "2016-12-16 00:10:19    4       1.24           42     30.24       103   \n",
       "\n",
       "                     WindDirection(Degrees)  Speed          TimeSunRise  \\\n",
       "Date                                                                      \n",
       "2016-11-25 11:05:04                  129.84  13.50  2016-11-25 06:37:00   \n",
       "2016-09-02 02:15:08                  173.90   6.75  2016-09-02 06:07:00   \n",
       "2016-10-06 15:45:19                    7.35   1.12  2016-10-06 06:15:00   \n",
       "2016-12-23 12:45:49                   81.67  11.25  2016-12-23 06:54:00   \n",
       "2016-12-16 00:10:19                  171.13   2.25  2016-12-16 06:50:00   \n",
       "\n",
       "                              TimeSunSet  \n",
       "Date                                      \n",
       "2016-11-25 11:05:04  2016-11-25 17:42:00  \n",
       "2016-09-02 02:15:08  2016-09-02 18:37:00  \n",
       "2016-10-06 15:45:19  2016-10-06 18:07:00  \n",
       "2016-12-23 12:45:49  2016-12-23 17:50:00  \n",
       "2016-12-16 00:10:19  2016-12-16 17:46:00  "
      ]
     },
     "execution_count": 7,
     "metadata": {},
     "output_type": "execute_result"
    }
   ],
   "source": [
    "data['Date'] = pd.to_datetime(data['Data']).dt.date.astype(str)\n",
    "data['TimeSunRise'] = data['Date'] + ' ' + data['TimeSunRise']\n",
    "data['TimeSunSet'] = data['Date'] + ' ' + data['TimeSunSet']\n",
    "data['Date'] = data['Date'] + ' ' + data['Time']\n",
    "\n",
    "#data = data.sort_values('Date').reset_index(drop=True)\n",
    "data.set_index('Date', inplace=True)\n",
    "data.drop(['Data', 'Time', 'UNIXTime'], axis=1, inplace=True)\n",
    "data.index = pd.to_datetime(data.index)\n",
    "data.head()"
   ]
  },
  {
   "cell_type": "code",
   "execution_count": 8,
   "metadata": {},
   "outputs": [
    {
     "data": {
      "text/html": [
       "<div>\n",
       "<style scoped>\n",
       "    .dataframe tbody tr th:only-of-type {\n",
       "        vertical-align: middle;\n",
       "    }\n",
       "\n",
       "    .dataframe tbody tr th {\n",
       "        vertical-align: top;\n",
       "    }\n",
       "\n",
       "    .dataframe thead th {\n",
       "        text-align: right;\n",
       "    }\n",
       "</style>\n",
       "<table border=\"1\" class=\"dataframe\">\n",
       "  <thead>\n",
       "    <tr style=\"text-align: right;\">\n",
       "      <th></th>\n",
       "      <th>idx</th>\n",
       "      <th>Temperature</th>\n",
       "      <th>Pressure</th>\n",
       "      <th>Humidity</th>\n",
       "      <th>WindDirection(Degrees)</th>\n",
       "      <th>Speed</th>\n",
       "      <th>TimeSunRise</th>\n",
       "      <th>TimeSunSet</th>\n",
       "    </tr>\n",
       "    <tr>\n",
       "      <th>Date</th>\n",
       "      <th></th>\n",
       "      <th></th>\n",
       "      <th></th>\n",
       "      <th></th>\n",
       "      <th></th>\n",
       "      <th></th>\n",
       "      <th></th>\n",
       "      <th></th>\n",
       "    </tr>\n",
       "  </thead>\n",
       "  <tbody>\n",
       "    <tr>\n",
       "      <th>2016-12-26 08:00:50</th>\n",
       "      <td>0</td>\n",
       "      <td>48</td>\n",
       "      <td>30.47</td>\n",
       "      <td>101</td>\n",
       "      <td>187.78</td>\n",
       "      <td>4.50</td>\n",
       "      <td>2016-12-26 06:55:00</td>\n",
       "      <td>2016-12-26 17:51:00</td>\n",
       "    </tr>\n",
       "    <tr>\n",
       "      <th>2016-12-26 07:55:40</th>\n",
       "      <td>1</td>\n",
       "      <td>48</td>\n",
       "      <td>30.47</td>\n",
       "      <td>101</td>\n",
       "      <td>133.40</td>\n",
       "      <td>10.12</td>\n",
       "      <td>2016-12-26 06:55:00</td>\n",
       "      <td>2016-12-26 17:51:00</td>\n",
       "    </tr>\n",
       "    <tr>\n",
       "      <th>2016-12-26 07:50:49</th>\n",
       "      <td>2</td>\n",
       "      <td>48</td>\n",
       "      <td>30.47</td>\n",
       "      <td>101</td>\n",
       "      <td>160.69</td>\n",
       "      <td>5.62</td>\n",
       "      <td>2016-12-26 06:55:00</td>\n",
       "      <td>2016-12-26 17:51:00</td>\n",
       "    </tr>\n",
       "    <tr>\n",
       "      <th>2016-12-26 07:45:51</th>\n",
       "      <td>3</td>\n",
       "      <td>48</td>\n",
       "      <td>30.47</td>\n",
       "      <td>101</td>\n",
       "      <td>144.56</td>\n",
       "      <td>7.87</td>\n",
       "      <td>2016-12-26 06:55:00</td>\n",
       "      <td>2016-12-26 17:51:00</td>\n",
       "    </tr>\n",
       "    <tr>\n",
       "      <th>2016-12-26 07:40:39</th>\n",
       "      <td>4</td>\n",
       "      <td>48</td>\n",
       "      <td>30.47</td>\n",
       "      <td>101</td>\n",
       "      <td>169.05</td>\n",
       "      <td>10.12</td>\n",
       "      <td>2016-12-26 06:55:00</td>\n",
       "      <td>2016-12-26 17:51:00</td>\n",
       "    </tr>\n",
       "  </tbody>\n",
       "</table>\n",
       "</div>"
      ],
      "text/plain": [
       "                     idx  Temperature  Pressure  Humidity  \\\n",
       "Date                                                        \n",
       "2016-12-26 08:00:50    0           48     30.47       101   \n",
       "2016-12-26 07:55:40    1           48     30.47       101   \n",
       "2016-12-26 07:50:49    2           48     30.47       101   \n",
       "2016-12-26 07:45:51    3           48     30.47       101   \n",
       "2016-12-26 07:40:39    4           48     30.47       101   \n",
       "\n",
       "                     WindDirection(Degrees)  Speed          TimeSunRise  \\\n",
       "Date                                                                      \n",
       "2016-12-26 08:00:50                  187.78   4.50  2016-12-26 06:55:00   \n",
       "2016-12-26 07:55:40                  133.40  10.12  2016-12-26 06:55:00   \n",
       "2016-12-26 07:50:49                  160.69   5.62  2016-12-26 06:55:00   \n",
       "2016-12-26 07:45:51                  144.56   7.87  2016-12-26 06:55:00   \n",
       "2016-12-26 07:40:39                  169.05  10.12  2016-12-26 06:55:00   \n",
       "\n",
       "                              TimeSunSet  \n",
       "Date                                      \n",
       "2016-12-26 08:00:50  2016-12-26 17:51:00  \n",
       "2016-12-26 07:55:40  2016-12-26 17:51:00  \n",
       "2016-12-26 07:50:49  2016-12-26 17:51:00  \n",
       "2016-12-26 07:45:51  2016-12-26 17:51:00  \n",
       "2016-12-26 07:40:39  2016-12-26 17:51:00  "
      ]
     },
     "execution_count": 8,
     "metadata": {},
     "output_type": "execute_result"
    }
   ],
   "source": [
    "tdata['Date'] = pd.to_datetime(tdata['Data']).dt.date.astype(str)\n",
    "tdata['TimeSunRise'] = tdata['Date'] + ' ' + tdata['TimeSunRise']\n",
    "tdata['TimeSunSet'] = tdata['Date'] + ' ' + tdata['TimeSunSet']\n",
    "tdata['Date'] = tdata['Date'] + ' ' + tdata['Time']\n",
    "\n",
    "#tdata = tdata.sort_values('Date').reset_index(drop=True)\n",
    "tdata.set_index('Date', inplace=True)\n",
    "tdata.drop(['Data', 'Time', 'UNIXTime'], axis=1, inplace=True)\n",
    "tdata.index = pd.to_datetime(tdata.index)\n",
    "tdata.head()"
   ]
  },
  {
   "cell_type": "code",
   "execution_count": 9,
   "metadata": {},
   "outputs": [
    {
     "data": {
      "text/html": [
       "<div>\n",
       "<style scoped>\n",
       "    .dataframe tbody tr th:only-of-type {\n",
       "        vertical-align: middle;\n",
       "    }\n",
       "\n",
       "    .dataframe tbody tr th {\n",
       "        vertical-align: top;\n",
       "    }\n",
       "\n",
       "    .dataframe thead th {\n",
       "        text-align: right;\n",
       "    }\n",
       "</style>\n",
       "<table border=\"1\" class=\"dataframe\">\n",
       "  <thead>\n",
       "    <tr style=\"text-align: right;\">\n",
       "      <th></th>\n",
       "      <th>idx</th>\n",
       "      <th>Radiation(W/m2)</th>\n",
       "      <th>Temperature(F)</th>\n",
       "      <th>Pressure(mm Hg)</th>\n",
       "      <th>Humidity(%)</th>\n",
       "      <th>WindDirection(Degrees)</th>\n",
       "      <th>Speed(mph)</th>\n",
       "      <th>TimeSunRise</th>\n",
       "      <th>TimeSunSet</th>\n",
       "    </tr>\n",
       "    <tr>\n",
       "      <th>Date</th>\n",
       "      <th></th>\n",
       "      <th></th>\n",
       "      <th></th>\n",
       "      <th></th>\n",
       "      <th></th>\n",
       "      <th></th>\n",
       "      <th></th>\n",
       "      <th></th>\n",
       "      <th></th>\n",
       "    </tr>\n",
       "  </thead>\n",
       "  <tbody>\n",
       "    <tr>\n",
       "      <th>2016-11-25 11:05:04</th>\n",
       "      <td>0</td>\n",
       "      <td>288.44</td>\n",
       "      <td>46</td>\n",
       "      <td>30.48</td>\n",
       "      <td>101</td>\n",
       "      <td>129.84</td>\n",
       "      <td>13.50</td>\n",
       "      <td>2016-11-25 06:37:00</td>\n",
       "      <td>2016-11-25 17:42:00</td>\n",
       "    </tr>\n",
       "    <tr>\n",
       "      <th>2016-09-02 02:15:08</th>\n",
       "      <td>1</td>\n",
       "      <td>2.79</td>\n",
       "      <td>50</td>\n",
       "      <td>30.42</td>\n",
       "      <td>75</td>\n",
       "      <td>173.90</td>\n",
       "      <td>6.75</td>\n",
       "      <td>2016-09-02 06:07:00</td>\n",
       "      <td>2016-09-02 18:37:00</td>\n",
       "    </tr>\n",
       "    <tr>\n",
       "      <th>2016-10-06 15:45:19</th>\n",
       "      <td>2</td>\n",
       "      <td>118.05</td>\n",
       "      <td>54</td>\n",
       "      <td>30.42</td>\n",
       "      <td>100</td>\n",
       "      <td>7.35</td>\n",
       "      <td>1.12</td>\n",
       "      <td>2016-10-06 06:15:00</td>\n",
       "      <td>2016-10-06 18:07:00</td>\n",
       "    </tr>\n",
       "    <tr>\n",
       "      <th>2016-12-23 12:45:49</th>\n",
       "      <td>3</td>\n",
       "      <td>853.17</td>\n",
       "      <td>58</td>\n",
       "      <td>30.44</td>\n",
       "      <td>57</td>\n",
       "      <td>81.67</td>\n",
       "      <td>11.25</td>\n",
       "      <td>2016-12-23 06:54:00</td>\n",
       "      <td>2016-12-23 17:50:00</td>\n",
       "    </tr>\n",
       "    <tr>\n",
       "      <th>2016-12-16 00:10:19</th>\n",
       "      <td>4</td>\n",
       "      <td>1.24</td>\n",
       "      <td>42</td>\n",
       "      <td>30.24</td>\n",
       "      <td>103</td>\n",
       "      <td>171.13</td>\n",
       "      <td>2.25</td>\n",
       "      <td>2016-12-16 06:50:00</td>\n",
       "      <td>2016-12-16 17:46:00</td>\n",
       "    </tr>\n",
       "  </tbody>\n",
       "</table>\n",
       "</div>"
      ],
      "text/plain": [
       "                     idx  Radiation(W/m2)  Temperature(F)  Pressure(mm Hg)  \\\n",
       "Date                                                                         \n",
       "2016-11-25 11:05:04    0           288.44              46            30.48   \n",
       "2016-09-02 02:15:08    1             2.79              50            30.42   \n",
       "2016-10-06 15:45:19    2           118.05              54            30.42   \n",
       "2016-12-23 12:45:49    3           853.17              58            30.44   \n",
       "2016-12-16 00:10:19    4             1.24              42            30.24   \n",
       "\n",
       "                     Humidity(%)  WindDirection(Degrees)  Speed(mph)  \\\n",
       "Date                                                                   \n",
       "2016-11-25 11:05:04          101                  129.84       13.50   \n",
       "2016-09-02 02:15:08           75                  173.90        6.75   \n",
       "2016-10-06 15:45:19          100                    7.35        1.12   \n",
       "2016-12-23 12:45:49           57                   81.67       11.25   \n",
       "2016-12-16 00:10:19          103                  171.13        2.25   \n",
       "\n",
       "                             TimeSunRise           TimeSunSet  \n",
       "Date                                                           \n",
       "2016-11-25 11:05:04  2016-11-25 06:37:00  2016-11-25 17:42:00  \n",
       "2016-09-02 02:15:08  2016-09-02 06:07:00  2016-09-02 18:37:00  \n",
       "2016-10-06 15:45:19  2016-10-06 06:15:00  2016-10-06 18:07:00  \n",
       "2016-12-23 12:45:49  2016-12-23 06:54:00  2016-12-23 17:50:00  \n",
       "2016-12-16 00:10:19  2016-12-16 06:50:00  2016-12-16 17:46:00  "
      ]
     },
     "execution_count": 9,
     "metadata": {},
     "output_type": "execute_result"
    }
   ],
   "source": [
    "data.rename({\n",
    "    'Radiation': 'Radiation(W/m2)', 'Temperature': 'Temperature(F)', 'Pressure': 'Pressure(mm Hg)', 'Humidity': 'Humidity(%)',\n",
    "    'Speed': 'Speed(mph)'\n",
    "}, axis=1, inplace=True)\n",
    "data.head()"
   ]
  },
  {
   "cell_type": "code",
   "execution_count": 10,
   "metadata": {},
   "outputs": [
    {
     "data": {
      "text/html": [
       "<div>\n",
       "<style scoped>\n",
       "    .dataframe tbody tr th:only-of-type {\n",
       "        vertical-align: middle;\n",
       "    }\n",
       "\n",
       "    .dataframe tbody tr th {\n",
       "        vertical-align: top;\n",
       "    }\n",
       "\n",
       "    .dataframe thead th {\n",
       "        text-align: right;\n",
       "    }\n",
       "</style>\n",
       "<table border=\"1\" class=\"dataframe\">\n",
       "  <thead>\n",
       "    <tr style=\"text-align: right;\">\n",
       "      <th></th>\n",
       "      <th>idx</th>\n",
       "      <th>Temperature(F)</th>\n",
       "      <th>Pressure(mm Hg)</th>\n",
       "      <th>Humidity(%)</th>\n",
       "      <th>WindDirection(Degrees)</th>\n",
       "      <th>Speed(mph)</th>\n",
       "      <th>TimeSunRise</th>\n",
       "      <th>TimeSunSet</th>\n",
       "    </tr>\n",
       "    <tr>\n",
       "      <th>Date</th>\n",
       "      <th></th>\n",
       "      <th></th>\n",
       "      <th></th>\n",
       "      <th></th>\n",
       "      <th></th>\n",
       "      <th></th>\n",
       "      <th></th>\n",
       "      <th></th>\n",
       "    </tr>\n",
       "  </thead>\n",
       "  <tbody>\n",
       "    <tr>\n",
       "      <th>2016-12-26 08:00:50</th>\n",
       "      <td>0</td>\n",
       "      <td>48</td>\n",
       "      <td>30.47</td>\n",
       "      <td>101</td>\n",
       "      <td>187.78</td>\n",
       "      <td>4.50</td>\n",
       "      <td>2016-12-26 06:55:00</td>\n",
       "      <td>2016-12-26 17:51:00</td>\n",
       "    </tr>\n",
       "    <tr>\n",
       "      <th>2016-12-26 07:55:40</th>\n",
       "      <td>1</td>\n",
       "      <td>48</td>\n",
       "      <td>30.47</td>\n",
       "      <td>101</td>\n",
       "      <td>133.40</td>\n",
       "      <td>10.12</td>\n",
       "      <td>2016-12-26 06:55:00</td>\n",
       "      <td>2016-12-26 17:51:00</td>\n",
       "    </tr>\n",
       "    <tr>\n",
       "      <th>2016-12-26 07:50:49</th>\n",
       "      <td>2</td>\n",
       "      <td>48</td>\n",
       "      <td>30.47</td>\n",
       "      <td>101</td>\n",
       "      <td>160.69</td>\n",
       "      <td>5.62</td>\n",
       "      <td>2016-12-26 06:55:00</td>\n",
       "      <td>2016-12-26 17:51:00</td>\n",
       "    </tr>\n",
       "    <tr>\n",
       "      <th>2016-12-26 07:45:51</th>\n",
       "      <td>3</td>\n",
       "      <td>48</td>\n",
       "      <td>30.47</td>\n",
       "      <td>101</td>\n",
       "      <td>144.56</td>\n",
       "      <td>7.87</td>\n",
       "      <td>2016-12-26 06:55:00</td>\n",
       "      <td>2016-12-26 17:51:00</td>\n",
       "    </tr>\n",
       "    <tr>\n",
       "      <th>2016-12-26 07:40:39</th>\n",
       "      <td>4</td>\n",
       "      <td>48</td>\n",
       "      <td>30.47</td>\n",
       "      <td>101</td>\n",
       "      <td>169.05</td>\n",
       "      <td>10.12</td>\n",
       "      <td>2016-12-26 06:55:00</td>\n",
       "      <td>2016-12-26 17:51:00</td>\n",
       "    </tr>\n",
       "  </tbody>\n",
       "</table>\n",
       "</div>"
      ],
      "text/plain": [
       "                     idx  Temperature(F)  Pressure(mm Hg)  Humidity(%)  \\\n",
       "Date                                                                     \n",
       "2016-12-26 08:00:50    0              48            30.47          101   \n",
       "2016-12-26 07:55:40    1              48            30.47          101   \n",
       "2016-12-26 07:50:49    2              48            30.47          101   \n",
       "2016-12-26 07:45:51    3              48            30.47          101   \n",
       "2016-12-26 07:40:39    4              48            30.47          101   \n",
       "\n",
       "                     WindDirection(Degrees)  Speed(mph)          TimeSunRise  \\\n",
       "Date                                                                           \n",
       "2016-12-26 08:00:50                  187.78        4.50  2016-12-26 06:55:00   \n",
       "2016-12-26 07:55:40                  133.40       10.12  2016-12-26 06:55:00   \n",
       "2016-12-26 07:50:49                  160.69        5.62  2016-12-26 06:55:00   \n",
       "2016-12-26 07:45:51                  144.56        7.87  2016-12-26 06:55:00   \n",
       "2016-12-26 07:40:39                  169.05       10.12  2016-12-26 06:55:00   \n",
       "\n",
       "                              TimeSunSet  \n",
       "Date                                      \n",
       "2016-12-26 08:00:50  2016-12-26 17:51:00  \n",
       "2016-12-26 07:55:40  2016-12-26 17:51:00  \n",
       "2016-12-26 07:50:49  2016-12-26 17:51:00  \n",
       "2016-12-26 07:45:51  2016-12-26 17:51:00  \n",
       "2016-12-26 07:40:39  2016-12-26 17:51:00  "
      ]
     },
     "execution_count": 10,
     "metadata": {},
     "output_type": "execute_result"
    }
   ],
   "source": [
    "tdata.rename({\n",
    "    'Radiation': 'Radiation(W/m2)', 'Temperature': 'Temperature(F)', 'Pressure': 'Pressure(mm Hg)', 'Humidity': 'Humidity(%)',\n",
    "    'Speed': 'Speed(mph)'\n",
    "}, axis=1, inplace=True)\n",
    "tdata.head()\n"
   ]
  },
  {
   "cell_type": "code",
   "execution_count": 11,
   "metadata": {},
   "outputs": [],
   "source": [
    "def total_seconds(series):\n",
    "    return series.hour*60*60 + series.minute*60 + series.second"
   ]
  },
  {
   "cell_type": "code",
   "execution_count": 12,
   "metadata": {},
   "outputs": [
    {
     "data": {
      "text/html": [
       "<div>\n",
       "<style scoped>\n",
       "    .dataframe tbody tr th:only-of-type {\n",
       "        vertical-align: middle;\n",
       "    }\n",
       "\n",
       "    .dataframe tbody tr th {\n",
       "        vertical-align: top;\n",
       "    }\n",
       "\n",
       "    .dataframe thead th {\n",
       "        text-align: right;\n",
       "    }\n",
       "</style>\n",
       "<table border=\"1\" class=\"dataframe\">\n",
       "  <thead>\n",
       "    <tr style=\"text-align: right;\">\n",
       "      <th></th>\n",
       "      <th>idx</th>\n",
       "      <th>Radiation(W/m2)</th>\n",
       "      <th>Temperature(F)</th>\n",
       "      <th>Pressure(mm Hg)</th>\n",
       "      <th>Humidity(%)</th>\n",
       "      <th>WindDirection(Degrees)</th>\n",
       "      <th>Speed(mph)</th>\n",
       "      <th>MonthOfYear</th>\n",
       "      <th>DayOfYear</th>\n",
       "      <th>WeekOfYear</th>\n",
       "      <th>TimeOfDay(h)</th>\n",
       "      <th>TimeOfDay(m)</th>\n",
       "      <th>TimeOfDay(s)</th>\n",
       "      <th>DayLength(s)</th>\n",
       "      <th>TimeAfterSunRise(s)</th>\n",
       "      <th>TimeBeforeSunSet(s)</th>\n",
       "      <th>RelativeTOD</th>\n",
       "    </tr>\n",
       "    <tr>\n",
       "      <th>Date</th>\n",
       "      <th></th>\n",
       "      <th></th>\n",
       "      <th></th>\n",
       "      <th></th>\n",
       "      <th></th>\n",
       "      <th></th>\n",
       "      <th></th>\n",
       "      <th></th>\n",
       "      <th></th>\n",
       "      <th></th>\n",
       "      <th></th>\n",
       "      <th></th>\n",
       "      <th></th>\n",
       "      <th></th>\n",
       "      <th></th>\n",
       "      <th></th>\n",
       "      <th></th>\n",
       "    </tr>\n",
       "  </thead>\n",
       "  <tbody>\n",
       "    <tr>\n",
       "      <th>2016-11-25 11:05:04</th>\n",
       "      <td>0</td>\n",
       "      <td>288.44</td>\n",
       "      <td>46</td>\n",
       "      <td>30.48</td>\n",
       "      <td>101</td>\n",
       "      <td>129.84</td>\n",
       "      <td>13.50</td>\n",
       "      <td>11</td>\n",
       "      <td>330</td>\n",
       "      <td>47</td>\n",
       "      <td>11</td>\n",
       "      <td>665</td>\n",
       "      <td>39904</td>\n",
       "      <td>39900</td>\n",
       "      <td>16084</td>\n",
       "      <td>23816</td>\n",
       "      <td>0.403108</td>\n",
       "    </tr>\n",
       "    <tr>\n",
       "      <th>2016-09-02 02:15:08</th>\n",
       "      <td>1</td>\n",
       "      <td>2.79</td>\n",
       "      <td>50</td>\n",
       "      <td>30.42</td>\n",
       "      <td>75</td>\n",
       "      <td>173.90</td>\n",
       "      <td>6.75</td>\n",
       "      <td>9</td>\n",
       "      <td>246</td>\n",
       "      <td>35</td>\n",
       "      <td>2</td>\n",
       "      <td>135</td>\n",
       "      <td>8108</td>\n",
       "      <td>45000</td>\n",
       "      <td>-13912</td>\n",
       "      <td>58912</td>\n",
       "      <td>-0.309156</td>\n",
       "    </tr>\n",
       "    <tr>\n",
       "      <th>2016-10-06 15:45:19</th>\n",
       "      <td>2</td>\n",
       "      <td>118.05</td>\n",
       "      <td>54</td>\n",
       "      <td>30.42</td>\n",
       "      <td>100</td>\n",
       "      <td>7.35</td>\n",
       "      <td>1.12</td>\n",
       "      <td>10</td>\n",
       "      <td>280</td>\n",
       "      <td>40</td>\n",
       "      <td>15</td>\n",
       "      <td>945</td>\n",
       "      <td>56719</td>\n",
       "      <td>42720</td>\n",
       "      <td>34219</td>\n",
       "      <td>8501</td>\n",
       "      <td>0.801007</td>\n",
       "    </tr>\n",
       "    <tr>\n",
       "      <th>2016-12-23 12:45:49</th>\n",
       "      <td>3</td>\n",
       "      <td>853.17</td>\n",
       "      <td>58</td>\n",
       "      <td>30.44</td>\n",
       "      <td>57</td>\n",
       "      <td>81.67</td>\n",
       "      <td>11.25</td>\n",
       "      <td>12</td>\n",
       "      <td>358</td>\n",
       "      <td>51</td>\n",
       "      <td>12</td>\n",
       "      <td>765</td>\n",
       "      <td>45949</td>\n",
       "      <td>39360</td>\n",
       "      <td>21109</td>\n",
       "      <td>18251</td>\n",
       "      <td>0.536306</td>\n",
       "    </tr>\n",
       "    <tr>\n",
       "      <th>2016-12-16 00:10:19</th>\n",
       "      <td>4</td>\n",
       "      <td>1.24</td>\n",
       "      <td>42</td>\n",
       "      <td>30.24</td>\n",
       "      <td>103</td>\n",
       "      <td>171.13</td>\n",
       "      <td>2.25</td>\n",
       "      <td>12</td>\n",
       "      <td>351</td>\n",
       "      <td>50</td>\n",
       "      <td>0</td>\n",
       "      <td>10</td>\n",
       "      <td>619</td>\n",
       "      <td>39360</td>\n",
       "      <td>-23981</td>\n",
       "      <td>63341</td>\n",
       "      <td>-0.609273</td>\n",
       "    </tr>\n",
       "  </tbody>\n",
       "</table>\n",
       "</div>"
      ],
      "text/plain": [
       "                     idx  Radiation(W/m2)  Temperature(F)  Pressure(mm Hg)  \\\n",
       "Date                                                                         \n",
       "2016-11-25 11:05:04    0           288.44              46            30.48   \n",
       "2016-09-02 02:15:08    1             2.79              50            30.42   \n",
       "2016-10-06 15:45:19    2           118.05              54            30.42   \n",
       "2016-12-23 12:45:49    3           853.17              58            30.44   \n",
       "2016-12-16 00:10:19    4             1.24              42            30.24   \n",
       "\n",
       "                     Humidity(%)  WindDirection(Degrees)  Speed(mph)  \\\n",
       "Date                                                                   \n",
       "2016-11-25 11:05:04          101                  129.84       13.50   \n",
       "2016-09-02 02:15:08           75                  173.90        6.75   \n",
       "2016-10-06 15:45:19          100                    7.35        1.12   \n",
       "2016-12-23 12:45:49           57                   81.67       11.25   \n",
       "2016-12-16 00:10:19          103                  171.13        2.25   \n",
       "\n",
       "                     MonthOfYear  DayOfYear  WeekOfYear  TimeOfDay(h)  \\\n",
       "Date                                                                    \n",
       "2016-11-25 11:05:04           11        330          47            11   \n",
       "2016-09-02 02:15:08            9        246          35             2   \n",
       "2016-10-06 15:45:19           10        280          40            15   \n",
       "2016-12-23 12:45:49           12        358          51            12   \n",
       "2016-12-16 00:10:19           12        351          50             0   \n",
       "\n",
       "                     TimeOfDay(m)  TimeOfDay(s)  DayLength(s)  \\\n",
       "Date                                                            \n",
       "2016-11-25 11:05:04           665         39904         39900   \n",
       "2016-09-02 02:15:08           135          8108         45000   \n",
       "2016-10-06 15:45:19           945         56719         42720   \n",
       "2016-12-23 12:45:49           765         45949         39360   \n",
       "2016-12-16 00:10:19            10           619         39360   \n",
       "\n",
       "                     TimeAfterSunRise(s)  TimeBeforeSunSet(s)  RelativeTOD  \n",
       "Date                                                                        \n",
       "2016-11-25 11:05:04                16084                23816     0.403108  \n",
       "2016-09-02 02:15:08               -13912                58912    -0.309156  \n",
       "2016-10-06 15:45:19                34219                 8501     0.801007  \n",
       "2016-12-23 12:45:49                21109                18251     0.536306  \n",
       "2016-12-16 00:10:19               -23981                63341    -0.609273  "
      ]
     },
     "execution_count": 12,
     "metadata": {},
     "output_type": "execute_result"
    }
   ],
   "source": [
    "data['MonthOfYear'] = data.index.strftime('%m').astype(int)\n",
    "data['DayOfYear'] = data.index.strftime('%j').astype(int)\n",
    "data['WeekOfYear'] = data.index.strftime('%U').astype(int)\n",
    "data['TimeOfDay(h)'] = data.index.hour\n",
    "data['TimeOfDay(m)'] = data.index.hour*60 + data.index.minute\n",
    "data['TimeOfDay(s)'] = total_seconds(data.index)\n",
    "data['TimeSunRise'] = pd.to_datetime(data['TimeSunRise'])\n",
    "data['TimeSunSet'] = pd.to_datetime(data['TimeSunSet'])\n",
    "data['DayLength(s)'] = total_seconds(data['TimeSunSet'].dt) - total_seconds(data['TimeSunRise'].dt)\n",
    "data['TimeAfterSunRise(s)'] = total_seconds(data.index) - total_seconds(data['TimeSunRise'].dt)\n",
    "data['TimeBeforeSunSet(s)'] = total_seconds(data['TimeSunSet'].dt) - total_seconds(data.index)\n",
    "data['RelativeTOD'] = data['TimeAfterSunRise(s)'] / data['DayLength(s)']\n",
    "data.drop(['TimeSunRise','TimeSunSet'], inplace=True, axis=1)\n",
    "data.head()"
   ]
  },
  {
   "cell_type": "code",
   "execution_count": 13,
   "metadata": {},
   "outputs": [
    {
     "name": "stdout",
     "output_type": "stream",
     "text": [
      "[[1.73198457 0.25252489 0.82665702 ... 0.15705494 0.0954772  0.13174575]\n",
      " [1.7318521  0.65119146 0.1827316  ... 1.3622439  1.50607355 1.3158065 ]\n",
      " [1.73171962 0.2865412  0.46119382 ... 0.57157894 0.5200711  0.52971795]\n",
      " ...\n",
      " [1.73171962 0.6561585  0.34371295 ... 1.47265393 1.49835659 1.46034358]\n",
      " [1.7318521  0.65606359 0.34371295 ... 1.14062027 1.25060995 1.11793409]\n",
      " [1.73198457 0.61060094 0.82665702 ... 0.74514504 0.84052577 0.74694916]]\n"
     ]
    }
   ],
   "source": [
    "from scipy import stats\n",
    "import numpy as np\n",
    "z = np.abs(stats.zscore(data))\n",
    "print(z)"
   ]
  },
  {
   "cell_type": "code",
   "execution_count": 320,
   "metadata": {},
   "outputs": [],
   "source": [
    "threshold = 3\n",
    "dd=np.where(z > 3)"
   ]
  },
  {
   "cell_type": "code",
   "execution_count": 321,
   "metadata": {},
   "outputs": [],
   "source": [
    "orig_data = data[(z < 3).all(axis=1)]"
   ]
  },
  {
   "cell_type": "code",
   "execution_count": 322,
   "metadata": {},
   "outputs": [],
   "source": [
    "tt=data[(z>3)]"
   ]
  },
  {
   "cell_type": "code",
   "execution_count": 332,
   "metadata": {},
   "outputs": [],
   "source": [
    "frames=[data,tt]"
   ]
  },
  {
   "cell_type": "code",
   "execution_count": 333,
   "metadata": {},
   "outputs": [],
   "source": [
    "data=pd.concat(frames)"
   ]
  },
  {
   "cell_type": "code",
   "execution_count": 334,
   "metadata": {},
   "outputs": [
    {
     "data": {
      "text/plain": [
       "(29273, 17)"
      ]
     },
     "execution_count": 334,
     "metadata": {},
     "output_type": "execute_result"
    }
   ],
   "source": [
    "data.shape"
   ]
  },
  {
   "cell_type": "code",
   "execution_count": 301,
   "metadata": {},
   "outputs": [
    {
     "data": {
      "text/plain": [
       "(781, 17)"
      ]
     },
     "execution_count": 301,
     "metadata": {},
     "output_type": "execute_result"
    }
   ],
   "source": [
    "tt.shape"
   ]
  },
  {
   "cell_type": "code",
   "execution_count": 12,
   "metadata": {},
   "outputs": [
    {
     "data": {
      "text/html": [
       "<div>\n",
       "<style scoped>\n",
       "    .dataframe tbody tr th:only-of-type {\n",
       "        vertical-align: middle;\n",
       "    }\n",
       "\n",
       "    .dataframe tbody tr th {\n",
       "        vertical-align: top;\n",
       "    }\n",
       "\n",
       "    .dataframe thead th {\n",
       "        text-align: right;\n",
       "    }\n",
       "</style>\n",
       "<table border=\"1\" class=\"dataframe\">\n",
       "  <thead>\n",
       "    <tr style=\"text-align: right;\">\n",
       "      <th></th>\n",
       "      <th>idx</th>\n",
       "      <th>Radiation(W/m2)</th>\n",
       "      <th>Temperature(F)</th>\n",
       "      <th>Pressure(mm Hg)</th>\n",
       "      <th>Humidity(%)</th>\n",
       "      <th>WindDirection(Degrees)</th>\n",
       "      <th>Speed(mph)</th>\n",
       "      <th>MonthOfYear</th>\n",
       "      <th>DayOfYear</th>\n",
       "      <th>WeekOfYear</th>\n",
       "      <th>TimeOfDay(h)</th>\n",
       "      <th>TimeOfDay(m)</th>\n",
       "      <th>TimeOfDay(s)</th>\n",
       "      <th>DayLength(s)</th>\n",
       "      <th>TimeAfterSunRise(s)</th>\n",
       "      <th>TimeBeforeSunSet(s)</th>\n",
       "      <th>RelativeTOD</th>\n",
       "    </tr>\n",
       "  </thead>\n",
       "  <tbody>\n",
       "    <tr>\n",
       "      <th>count</th>\n",
       "      <td>26149.000000</td>\n",
       "      <td>26149.000000</td>\n",
       "      <td>26149.000000</td>\n",
       "      <td>26149.000000</td>\n",
       "      <td>26149.000000</td>\n",
       "      <td>26149.000000</td>\n",
       "      <td>26149.000000</td>\n",
       "      <td>26149.000000</td>\n",
       "      <td>26149.000000</td>\n",
       "      <td>26149.000000</td>\n",
       "      <td>26149.000000</td>\n",
       "      <td>26149.000000</td>\n",
       "      <td>26149.000000</td>\n",
       "      <td>26149.000000</td>\n",
       "      <td>26149.000000</td>\n",
       "      <td>26149.000000</td>\n",
       "      <td>26149.000000</td>\n",
       "    </tr>\n",
       "    <tr>\n",
       "      <th>mean</th>\n",
       "      <td>13074.000000</td>\n",
       "      <td>208.621000</td>\n",
       "      <td>51.135110</td>\n",
       "      <td>30.423005</td>\n",
       "      <td>74.970936</td>\n",
       "      <td>143.368247</td>\n",
       "      <td>6.262052</td>\n",
       "      <td>10.524724</td>\n",
       "      <td>306.093617</td>\n",
       "      <td>43.869479</td>\n",
       "      <td>11.550881</td>\n",
       "      <td>720.559104</td>\n",
       "      <td>43250.956174</td>\n",
       "      <td>41433.449845</td>\n",
       "      <td>19992.947073</td>\n",
       "      <td>21440.502773</td>\n",
       "      <td>0.482358</td>\n",
       "    </tr>\n",
       "    <tr>\n",
       "      <th>std</th>\n",
       "      <td>7548.710431</td>\n",
       "      <td>316.089736</td>\n",
       "      <td>6.212018</td>\n",
       "      <td>0.054679</td>\n",
       "      <td>26.008728</td>\n",
       "      <td>83.424186</td>\n",
       "      <td>3.503488</td>\n",
       "      <td>1.096730</td>\n",
       "      <td>34.772705</td>\n",
       "      <td>4.962493</td>\n",
       "      <td>6.902891</td>\n",
       "      <td>414.432039</td>\n",
       "      <td>24865.983359</td>\n",
       "      <td>1796.586821</td>\n",
       "      <td>24889.519027</td>\n",
       "      <td>24880.732942</td>\n",
       "      <td>0.601554</td>\n",
       "    </tr>\n",
       "    <tr>\n",
       "      <th>min</th>\n",
       "      <td>0.000000</td>\n",
       "      <td>1.110000</td>\n",
       "      <td>35.000000</td>\n",
       "      <td>30.190000</td>\n",
       "      <td>8.000000</td>\n",
       "      <td>0.090000</td>\n",
       "      <td>0.000000</td>\n",
       "      <td>9.000000</td>\n",
       "      <td>245.000000</td>\n",
       "      <td>35.000000</td>\n",
       "      <td>0.000000</td>\n",
       "      <td>0.000000</td>\n",
       "      <td>1.000000</td>\n",
       "      <td>39360.000000</td>\n",
       "      <td>-25016.000000</td>\n",
       "      <td>-22416.000000</td>\n",
       "      <td>-0.634602</td>\n",
       "    </tr>\n",
       "    <tr>\n",
       "      <th>25%</th>\n",
       "      <td>6537.000000</td>\n",
       "      <td>1.230000</td>\n",
       "      <td>46.000000</td>\n",
       "      <td>30.400000</td>\n",
       "      <td>56.000000</td>\n",
       "      <td>81.580000</td>\n",
       "      <td>3.370000</td>\n",
       "      <td>10.000000</td>\n",
       "      <td>277.000000</td>\n",
       "      <td>40.000000</td>\n",
       "      <td>6.000000</td>\n",
       "      <td>360.000000</td>\n",
       "      <td>21621.000000</td>\n",
       "      <td>39720.000000</td>\n",
       "      <td>-1600.000000</td>\n",
       "      <td>-142.000000</td>\n",
       "      <td>-0.038364</td>\n",
       "    </tr>\n",
       "    <tr>\n",
       "      <th>50%</th>\n",
       "      <td>13074.000000</td>\n",
       "      <td>2.720000</td>\n",
       "      <td>50.000000</td>\n",
       "      <td>30.430000</td>\n",
       "      <td>85.000000</td>\n",
       "      <td>147.320000</td>\n",
       "      <td>5.620000</td>\n",
       "      <td>11.000000</td>\n",
       "      <td>306.000000</td>\n",
       "      <td>44.000000</td>\n",
       "      <td>12.000000</td>\n",
       "      <td>720.000000</td>\n",
       "      <td>43221.000000</td>\n",
       "      <td>41040.000000</td>\n",
       "      <td>19981.000000</td>\n",
       "      <td>21359.000000</td>\n",
       "      <td>0.483697</td>\n",
       "    </tr>\n",
       "    <tr>\n",
       "      <th>75%</th>\n",
       "      <td>19611.000000</td>\n",
       "      <td>360.260000</td>\n",
       "      <td>55.000000</td>\n",
       "      <td>30.460000</td>\n",
       "      <td>97.000000</td>\n",
       "      <td>179.240000</td>\n",
       "      <td>7.870000</td>\n",
       "      <td>11.000000</td>\n",
       "      <td>334.000000</td>\n",
       "      <td>48.000000</td>\n",
       "      <td>18.000000</td>\n",
       "      <td>1080.000000</td>\n",
       "      <td>64820.000000</td>\n",
       "      <td>42900.000000</td>\n",
       "      <td>41544.000000</td>\n",
       "      <td>43056.000000</td>\n",
       "      <td>1.003444</td>\n",
       "    </tr>\n",
       "    <tr>\n",
       "      <th>max</th>\n",
       "      <td>26148.000000</td>\n",
       "      <td>1601.260000</td>\n",
       "      <td>71.000000</td>\n",
       "      <td>30.560000</td>\n",
       "      <td>103.000000</td>\n",
       "      <td>359.940000</td>\n",
       "      <td>40.500000</td>\n",
       "      <td>12.000000</td>\n",
       "      <td>366.000000</td>\n",
       "      <td>52.000000</td>\n",
       "      <td>23.000000</td>\n",
       "      <td>1436.000000</td>\n",
       "      <td>86185.000000</td>\n",
       "      <td>45060.000000</td>\n",
       "      <td>64087.000000</td>\n",
       "      <td>67072.000000</td>\n",
       "      <td>1.566061</td>\n",
       "    </tr>\n",
       "  </tbody>\n",
       "</table>\n",
       "</div>"
      ],
      "text/plain": [
       "                idx  Radiation(W/m2)  Temperature(F)  Pressure(mm Hg)  \\\n",
       "count  26149.000000     26149.000000    26149.000000     26149.000000   \n",
       "mean   13074.000000       208.621000       51.135110        30.423005   \n",
       "std     7548.710431       316.089736        6.212018         0.054679   \n",
       "min        0.000000         1.110000       35.000000        30.190000   \n",
       "25%     6537.000000         1.230000       46.000000        30.400000   \n",
       "50%    13074.000000         2.720000       50.000000        30.430000   \n",
       "75%    19611.000000       360.260000       55.000000        30.460000   \n",
       "max    26148.000000      1601.260000       71.000000        30.560000   \n",
       "\n",
       "        Humidity(%)  WindDirection(Degrees)    Speed(mph)   MonthOfYear  \\\n",
       "count  26149.000000            26149.000000  26149.000000  26149.000000   \n",
       "mean      74.970936              143.368247      6.262052     10.524724   \n",
       "std       26.008728               83.424186      3.503488      1.096730   \n",
       "min        8.000000                0.090000      0.000000      9.000000   \n",
       "25%       56.000000               81.580000      3.370000     10.000000   \n",
       "50%       85.000000              147.320000      5.620000     11.000000   \n",
       "75%       97.000000              179.240000      7.870000     11.000000   \n",
       "max      103.000000              359.940000     40.500000     12.000000   \n",
       "\n",
       "          DayOfYear    WeekOfYear  TimeOfDay(h)  TimeOfDay(m)  TimeOfDay(s)  \\\n",
       "count  26149.000000  26149.000000  26149.000000  26149.000000  26149.000000   \n",
       "mean     306.093617     43.869479     11.550881    720.559104  43250.956174   \n",
       "std       34.772705      4.962493      6.902891    414.432039  24865.983359   \n",
       "min      245.000000     35.000000      0.000000      0.000000      1.000000   \n",
       "25%      277.000000     40.000000      6.000000    360.000000  21621.000000   \n",
       "50%      306.000000     44.000000     12.000000    720.000000  43221.000000   \n",
       "75%      334.000000     48.000000     18.000000   1080.000000  64820.000000   \n",
       "max      366.000000     52.000000     23.000000   1436.000000  86185.000000   \n",
       "\n",
       "       DayLength(s)  TimeAfterSunRise(s)  TimeBeforeSunSet(s)   RelativeTOD  \n",
       "count  26149.000000         26149.000000         26149.000000  26149.000000  \n",
       "mean   41433.449845         19992.947073         21440.502773      0.482358  \n",
       "std     1796.586821         24889.519027         24880.732942      0.601554  \n",
       "min    39360.000000        -25016.000000        -22416.000000     -0.634602  \n",
       "25%    39720.000000         -1600.000000          -142.000000     -0.038364  \n",
       "50%    41040.000000         19981.000000         21359.000000      0.483697  \n",
       "75%    42900.000000         41544.000000         43056.000000      1.003444  \n",
       "max    45060.000000         64087.000000         67072.000000      1.566061  "
      ]
     },
     "execution_count": 12,
     "metadata": {},
     "output_type": "execute_result"
    }
   ],
   "source": [
    "data.describe()"
   ]
  },
  {
   "cell_type": "code",
   "execution_count": null,
   "metadata": {},
   "outputs": [],
   "source": []
  },
  {
   "cell_type": "code",
   "execution_count": 130,
   "metadata": {},
   "outputs": [],
   "source": []
  },
  {
   "cell_type": "code",
   "execution_count": 149,
   "metadata": {},
   "outputs": [],
   "source": []
  },
  {
   "cell_type": "code",
   "execution_count": 131,
   "metadata": {},
   "outputs": [],
   "source": []
  },
  {
   "cell_type": "code",
   "execution_count": 222,
   "metadata": {},
   "outputs": [
    {
     "data": {
      "text/plain": [
       "(25482, 6)"
      ]
     },
     "execution_count": 222,
     "metadata": {},
     "output_type": "execute_result"
    }
   ],
   "source": []
  },
  {
   "cell_type": "code",
   "execution_count": null,
   "metadata": {},
   "outputs": [],
   "source": []
  },
  {
   "cell_type": "code",
   "execution_count": 150,
   "metadata": {},
   "outputs": [],
   "source": []
  },
  {
   "cell_type": "code",
   "execution_count": 146,
   "metadata": {},
   "outputs": [],
   "source": []
  },
  {
   "cell_type": "code",
   "execution_count": 14,
   "metadata": {},
   "outputs": [
    {
     "data": {
      "text/html": [
       "<div>\n",
       "<style scoped>\n",
       "    .dataframe tbody tr th:only-of-type {\n",
       "        vertical-align: middle;\n",
       "    }\n",
       "\n",
       "    .dataframe tbody tr th {\n",
       "        vertical-align: top;\n",
       "    }\n",
       "\n",
       "    .dataframe thead th {\n",
       "        text-align: right;\n",
       "    }\n",
       "</style>\n",
       "<table border=\"1\" class=\"dataframe\">\n",
       "  <thead>\n",
       "    <tr style=\"text-align: right;\">\n",
       "      <th></th>\n",
       "      <th>idx</th>\n",
       "      <th>Temperature(F)</th>\n",
       "      <th>Pressure(mm Hg)</th>\n",
       "      <th>Humidity(%)</th>\n",
       "      <th>WindDirection(Degrees)</th>\n",
       "      <th>Speed(mph)</th>\n",
       "      <th>TimeSunRise</th>\n",
       "      <th>TimeSunSet</th>\n",
       "    </tr>\n",
       "    <tr>\n",
       "      <th>Date</th>\n",
       "      <th></th>\n",
       "      <th></th>\n",
       "      <th></th>\n",
       "      <th></th>\n",
       "      <th></th>\n",
       "      <th></th>\n",
       "      <th></th>\n",
       "      <th></th>\n",
       "    </tr>\n",
       "  </thead>\n",
       "  <tbody>\n",
       "    <tr>\n",
       "      <th>2016-12-26 08:00:50</th>\n",
       "      <td>0</td>\n",
       "      <td>48</td>\n",
       "      <td>30.47</td>\n",
       "      <td>101</td>\n",
       "      <td>187.78</td>\n",
       "      <td>4.50</td>\n",
       "      <td>2016-12-26 06:55:00</td>\n",
       "      <td>2016-12-26 17:51:00</td>\n",
       "    </tr>\n",
       "    <tr>\n",
       "      <th>2016-12-26 07:55:40</th>\n",
       "      <td>1</td>\n",
       "      <td>48</td>\n",
       "      <td>30.47</td>\n",
       "      <td>101</td>\n",
       "      <td>133.40</td>\n",
       "      <td>10.12</td>\n",
       "      <td>2016-12-26 06:55:00</td>\n",
       "      <td>2016-12-26 17:51:00</td>\n",
       "    </tr>\n",
       "    <tr>\n",
       "      <th>2016-12-26 07:50:49</th>\n",
       "      <td>2</td>\n",
       "      <td>48</td>\n",
       "      <td>30.47</td>\n",
       "      <td>101</td>\n",
       "      <td>160.69</td>\n",
       "      <td>5.62</td>\n",
       "      <td>2016-12-26 06:55:00</td>\n",
       "      <td>2016-12-26 17:51:00</td>\n",
       "    </tr>\n",
       "    <tr>\n",
       "      <th>2016-12-26 07:45:51</th>\n",
       "      <td>3</td>\n",
       "      <td>48</td>\n",
       "      <td>30.47</td>\n",
       "      <td>101</td>\n",
       "      <td>144.56</td>\n",
       "      <td>7.87</td>\n",
       "      <td>2016-12-26 06:55:00</td>\n",
       "      <td>2016-12-26 17:51:00</td>\n",
       "    </tr>\n",
       "    <tr>\n",
       "      <th>2016-12-26 07:40:39</th>\n",
       "      <td>4</td>\n",
       "      <td>48</td>\n",
       "      <td>30.47</td>\n",
       "      <td>101</td>\n",
       "      <td>169.05</td>\n",
       "      <td>10.12</td>\n",
       "      <td>2016-12-26 06:55:00</td>\n",
       "      <td>2016-12-26 17:51:00</td>\n",
       "    </tr>\n",
       "  </tbody>\n",
       "</table>\n",
       "</div>"
      ],
      "text/plain": [
       "                     idx  Temperature(F)  Pressure(mm Hg)  Humidity(%)  \\\n",
       "Date                                                                     \n",
       "2016-12-26 08:00:50    0              48            30.47          101   \n",
       "2016-12-26 07:55:40    1              48            30.47          101   \n",
       "2016-12-26 07:50:49    2              48            30.47          101   \n",
       "2016-12-26 07:45:51    3              48            30.47          101   \n",
       "2016-12-26 07:40:39    4              48            30.47          101   \n",
       "\n",
       "                     WindDirection(Degrees)  Speed(mph)          TimeSunRise  \\\n",
       "Date                                                                           \n",
       "2016-12-26 08:00:50                  187.78        4.50  2016-12-26 06:55:00   \n",
       "2016-12-26 07:55:40                  133.40       10.12  2016-12-26 06:55:00   \n",
       "2016-12-26 07:50:49                  160.69        5.62  2016-12-26 06:55:00   \n",
       "2016-12-26 07:45:51                  144.56        7.87  2016-12-26 06:55:00   \n",
       "2016-12-26 07:40:39                  169.05       10.12  2016-12-26 06:55:00   \n",
       "\n",
       "                              TimeSunSet  \n",
       "Date                                      \n",
       "2016-12-26 08:00:50  2016-12-26 17:51:00  \n",
       "2016-12-26 07:55:40  2016-12-26 17:51:00  \n",
       "2016-12-26 07:50:49  2016-12-26 17:51:00  \n",
       "2016-12-26 07:45:51  2016-12-26 17:51:00  \n",
       "2016-12-26 07:40:39  2016-12-26 17:51:00  "
      ]
     },
     "execution_count": 14,
     "metadata": {},
     "output_type": "execute_result"
    }
   ],
   "source": [
    "tdata.head()"
   ]
  },
  {
   "cell_type": "code",
   "execution_count": 268,
   "metadata": {},
   "outputs": [
    {
     "data": {
      "text/html": [
       "<div>\n",
       "<style scoped>\n",
       "    .dataframe tbody tr th:only-of-type {\n",
       "        vertical-align: middle;\n",
       "    }\n",
       "\n",
       "    .dataframe tbody tr th {\n",
       "        vertical-align: top;\n",
       "    }\n",
       "\n",
       "    .dataframe thead th {\n",
       "        text-align: right;\n",
       "    }\n",
       "</style>\n",
       "<table border=\"1\" class=\"dataframe\">\n",
       "  <thead>\n",
       "    <tr style=\"text-align: right;\">\n",
       "      <th></th>\n",
       "      <th>idx</th>\n",
       "      <th>Radiation(W/m2)</th>\n",
       "      <th>Temperature(F)</th>\n",
       "      <th>Pressure(mm Hg)</th>\n",
       "      <th>Humidity(%)</th>\n",
       "      <th>WindDirection(Degrees)</th>\n",
       "      <th>Speed(mph)</th>\n",
       "      <th>MonthOfYear</th>\n",
       "      <th>DayOfYear</th>\n",
       "      <th>WeekOfYear</th>\n",
       "      <th>TimeOfDay(h)</th>\n",
       "      <th>TimeOfDay(m)</th>\n",
       "      <th>TimeOfDay(s)</th>\n",
       "      <th>DayLength(s)</th>\n",
       "      <th>TimeAfterSunRise(s)</th>\n",
       "      <th>TimeBeforeSunSet(s)</th>\n",
       "      <th>RelativeTOD</th>\n",
       "    </tr>\n",
       "    <tr>\n",
       "      <th>Date</th>\n",
       "      <th></th>\n",
       "      <th></th>\n",
       "      <th></th>\n",
       "      <th></th>\n",
       "      <th></th>\n",
       "      <th></th>\n",
       "      <th></th>\n",
       "      <th></th>\n",
       "      <th></th>\n",
       "      <th></th>\n",
       "      <th></th>\n",
       "      <th></th>\n",
       "      <th></th>\n",
       "      <th></th>\n",
       "      <th></th>\n",
       "      <th></th>\n",
       "      <th></th>\n",
       "    </tr>\n",
       "  </thead>\n",
       "  <tbody>\n",
       "    <tr>\n",
       "      <th>2016-11-25 11:05:04</th>\n",
       "      <td>0</td>\n",
       "      <td>288.44</td>\n",
       "      <td>46</td>\n",
       "      <td>30.48</td>\n",
       "      <td>101</td>\n",
       "      <td>129.84</td>\n",
       "      <td>13.50</td>\n",
       "      <td>11</td>\n",
       "      <td>330</td>\n",
       "      <td>47</td>\n",
       "      <td>11</td>\n",
       "      <td>665</td>\n",
       "      <td>39904</td>\n",
       "      <td>39900</td>\n",
       "      <td>16084</td>\n",
       "      <td>23816</td>\n",
       "      <td>0.403108</td>\n",
       "    </tr>\n",
       "    <tr>\n",
       "      <th>2016-09-02 02:15:08</th>\n",
       "      <td>1</td>\n",
       "      <td>2.79</td>\n",
       "      <td>50</td>\n",
       "      <td>30.42</td>\n",
       "      <td>75</td>\n",
       "      <td>173.90</td>\n",
       "      <td>6.75</td>\n",
       "      <td>9</td>\n",
       "      <td>246</td>\n",
       "      <td>35</td>\n",
       "      <td>2</td>\n",
       "      <td>135</td>\n",
       "      <td>8108</td>\n",
       "      <td>45000</td>\n",
       "      <td>-13912</td>\n",
       "      <td>58912</td>\n",
       "      <td>-0.309156</td>\n",
       "    </tr>\n",
       "    <tr>\n",
       "      <th>2016-10-06 15:45:19</th>\n",
       "      <td>2</td>\n",
       "      <td>118.05</td>\n",
       "      <td>54</td>\n",
       "      <td>30.42</td>\n",
       "      <td>100</td>\n",
       "      <td>7.35</td>\n",
       "      <td>1.12</td>\n",
       "      <td>10</td>\n",
       "      <td>280</td>\n",
       "      <td>40</td>\n",
       "      <td>15</td>\n",
       "      <td>945</td>\n",
       "      <td>56719</td>\n",
       "      <td>42720</td>\n",
       "      <td>34219</td>\n",
       "      <td>8501</td>\n",
       "      <td>0.801007</td>\n",
       "    </tr>\n",
       "    <tr>\n",
       "      <th>2016-12-23 12:45:49</th>\n",
       "      <td>3</td>\n",
       "      <td>853.17</td>\n",
       "      <td>58</td>\n",
       "      <td>30.44</td>\n",
       "      <td>57</td>\n",
       "      <td>81.67</td>\n",
       "      <td>11.25</td>\n",
       "      <td>12</td>\n",
       "      <td>358</td>\n",
       "      <td>51</td>\n",
       "      <td>12</td>\n",
       "      <td>765</td>\n",
       "      <td>45949</td>\n",
       "      <td>39360</td>\n",
       "      <td>21109</td>\n",
       "      <td>18251</td>\n",
       "      <td>0.536306</td>\n",
       "    </tr>\n",
       "    <tr>\n",
       "      <th>2016-12-16 00:10:19</th>\n",
       "      <td>4</td>\n",
       "      <td>1.24</td>\n",
       "      <td>42</td>\n",
       "      <td>30.24</td>\n",
       "      <td>103</td>\n",
       "      <td>171.13</td>\n",
       "      <td>2.25</td>\n",
       "      <td>12</td>\n",
       "      <td>351</td>\n",
       "      <td>50</td>\n",
       "      <td>0</td>\n",
       "      <td>10</td>\n",
       "      <td>619</td>\n",
       "      <td>39360</td>\n",
       "      <td>-23981</td>\n",
       "      <td>63341</td>\n",
       "      <td>-0.609273</td>\n",
       "    </tr>\n",
       "  </tbody>\n",
       "</table>\n",
       "</div>"
      ],
      "text/plain": [
       "                     idx  Radiation(W/m2)  Temperature(F)  Pressure(mm Hg)  \\\n",
       "Date                                                                         \n",
       "2016-11-25 11:05:04    0           288.44              46            30.48   \n",
       "2016-09-02 02:15:08    1             2.79              50            30.42   \n",
       "2016-10-06 15:45:19    2           118.05              54            30.42   \n",
       "2016-12-23 12:45:49    3           853.17              58            30.44   \n",
       "2016-12-16 00:10:19    4             1.24              42            30.24   \n",
       "\n",
       "                     Humidity(%)  WindDirection(Degrees)  Speed(mph)  \\\n",
       "Date                                                                   \n",
       "2016-11-25 11:05:04          101                  129.84       13.50   \n",
       "2016-09-02 02:15:08           75                  173.90        6.75   \n",
       "2016-10-06 15:45:19          100                    7.35        1.12   \n",
       "2016-12-23 12:45:49           57                   81.67       11.25   \n",
       "2016-12-16 00:10:19          103                  171.13        2.25   \n",
       "\n",
       "                     MonthOfYear  DayOfYear  WeekOfYear  TimeOfDay(h)  \\\n",
       "Date                                                                    \n",
       "2016-11-25 11:05:04           11        330          47            11   \n",
       "2016-09-02 02:15:08            9        246          35             2   \n",
       "2016-10-06 15:45:19           10        280          40            15   \n",
       "2016-12-23 12:45:49           12        358          51            12   \n",
       "2016-12-16 00:10:19           12        351          50             0   \n",
       "\n",
       "                     TimeOfDay(m)  TimeOfDay(s)  DayLength(s)  \\\n",
       "Date                                                            \n",
       "2016-11-25 11:05:04           665         39904         39900   \n",
       "2016-09-02 02:15:08           135          8108         45000   \n",
       "2016-10-06 15:45:19           945         56719         42720   \n",
       "2016-12-23 12:45:49           765         45949         39360   \n",
       "2016-12-16 00:10:19            10           619         39360   \n",
       "\n",
       "                     TimeAfterSunRise(s)  TimeBeforeSunSet(s)  RelativeTOD  \n",
       "Date                                                                        \n",
       "2016-11-25 11:05:04                16084                23816     0.403108  \n",
       "2016-09-02 02:15:08               -13912                58912    -0.309156  \n",
       "2016-10-06 15:45:19                34219                 8501     0.801007  \n",
       "2016-12-23 12:45:49                21109                18251     0.536306  \n",
       "2016-12-16 00:10:19               -23981                63341    -0.609273  "
      ]
     },
     "execution_count": 268,
     "metadata": {},
     "output_type": "execute_result"
    }
   ],
   "source": [
    "data.head()"
   ]
  },
  {
   "cell_type": "code",
   "execution_count": null,
   "metadata": {},
   "outputs": [],
   "source": []
  },
  {
   "cell_type": "code",
   "execution_count": null,
   "metadata": {},
   "outputs": [],
   "source": []
  },
  {
   "cell_type": "code",
   "execution_count": null,
   "metadata": {},
   "outputs": [],
   "source": []
  },
  {
   "cell_type": "code",
   "execution_count": 15,
   "metadata": {},
   "outputs": [
    {
     "data": {
      "text/html": [
       "<div>\n",
       "<style scoped>\n",
       "    .dataframe tbody tr th:only-of-type {\n",
       "        vertical-align: middle;\n",
       "    }\n",
       "\n",
       "    .dataframe tbody tr th {\n",
       "        vertical-align: top;\n",
       "    }\n",
       "\n",
       "    .dataframe thead th {\n",
       "        text-align: right;\n",
       "    }\n",
       "</style>\n",
       "<table border=\"1\" class=\"dataframe\">\n",
       "  <thead>\n",
       "    <tr style=\"text-align: right;\">\n",
       "      <th></th>\n",
       "      <th>idx</th>\n",
       "      <th>Temperature(F)</th>\n",
       "      <th>Pressure(mm Hg)</th>\n",
       "      <th>Humidity(%)</th>\n",
       "      <th>WindDirection(Degrees)</th>\n",
       "      <th>Speed(mph)</th>\n",
       "      <th>MonthOfYear</th>\n",
       "      <th>DayOfYear</th>\n",
       "      <th>WeekOfYear</th>\n",
       "      <th>TimeOfDay(h)</th>\n",
       "      <th>TimeOfDay(m)</th>\n",
       "      <th>TimeOfDay(s)</th>\n",
       "      <th>DayLength(s)</th>\n",
       "      <th>TimeAfterSunRise(s)</th>\n",
       "      <th>TimeBeforeSunSet(s)</th>\n",
       "      <th>RelativeTOD</th>\n",
       "    </tr>\n",
       "    <tr>\n",
       "      <th>Date</th>\n",
       "      <th></th>\n",
       "      <th></th>\n",
       "      <th></th>\n",
       "      <th></th>\n",
       "      <th></th>\n",
       "      <th></th>\n",
       "      <th></th>\n",
       "      <th></th>\n",
       "      <th></th>\n",
       "      <th></th>\n",
       "      <th></th>\n",
       "      <th></th>\n",
       "      <th></th>\n",
       "      <th></th>\n",
       "      <th></th>\n",
       "      <th></th>\n",
       "    </tr>\n",
       "  </thead>\n",
       "  <tbody>\n",
       "    <tr>\n",
       "      <th>2016-12-26 08:00:50</th>\n",
       "      <td>0</td>\n",
       "      <td>48</td>\n",
       "      <td>30.47</td>\n",
       "      <td>101</td>\n",
       "      <td>187.78</td>\n",
       "      <td>4.50</td>\n",
       "      <td>12</td>\n",
       "      <td>361</td>\n",
       "      <td>52</td>\n",
       "      <td>8</td>\n",
       "      <td>480</td>\n",
       "      <td>28850</td>\n",
       "      <td>39360</td>\n",
       "      <td>3950</td>\n",
       "      <td>35410</td>\n",
       "      <td>0.100356</td>\n",
       "    </tr>\n",
       "    <tr>\n",
       "      <th>2016-12-26 07:55:40</th>\n",
       "      <td>1</td>\n",
       "      <td>48</td>\n",
       "      <td>30.47</td>\n",
       "      <td>101</td>\n",
       "      <td>133.40</td>\n",
       "      <td>10.12</td>\n",
       "      <td>12</td>\n",
       "      <td>361</td>\n",
       "      <td>52</td>\n",
       "      <td>7</td>\n",
       "      <td>475</td>\n",
       "      <td>28540</td>\n",
       "      <td>39360</td>\n",
       "      <td>3640</td>\n",
       "      <td>35720</td>\n",
       "      <td>0.092480</td>\n",
       "    </tr>\n",
       "    <tr>\n",
       "      <th>2016-12-26 07:50:49</th>\n",
       "      <td>2</td>\n",
       "      <td>48</td>\n",
       "      <td>30.47</td>\n",
       "      <td>101</td>\n",
       "      <td>160.69</td>\n",
       "      <td>5.62</td>\n",
       "      <td>12</td>\n",
       "      <td>361</td>\n",
       "      <td>52</td>\n",
       "      <td>7</td>\n",
       "      <td>470</td>\n",
       "      <td>28249</td>\n",
       "      <td>39360</td>\n",
       "      <td>3349</td>\n",
       "      <td>36011</td>\n",
       "      <td>0.085086</td>\n",
       "    </tr>\n",
       "    <tr>\n",
       "      <th>2016-12-26 07:45:51</th>\n",
       "      <td>3</td>\n",
       "      <td>48</td>\n",
       "      <td>30.47</td>\n",
       "      <td>101</td>\n",
       "      <td>144.56</td>\n",
       "      <td>7.87</td>\n",
       "      <td>12</td>\n",
       "      <td>361</td>\n",
       "      <td>52</td>\n",
       "      <td>7</td>\n",
       "      <td>465</td>\n",
       "      <td>27951</td>\n",
       "      <td>39360</td>\n",
       "      <td>3051</td>\n",
       "      <td>36309</td>\n",
       "      <td>0.077515</td>\n",
       "    </tr>\n",
       "    <tr>\n",
       "      <th>2016-12-26 07:40:39</th>\n",
       "      <td>4</td>\n",
       "      <td>48</td>\n",
       "      <td>30.47</td>\n",
       "      <td>101</td>\n",
       "      <td>169.05</td>\n",
       "      <td>10.12</td>\n",
       "      <td>12</td>\n",
       "      <td>361</td>\n",
       "      <td>52</td>\n",
       "      <td>7</td>\n",
       "      <td>460</td>\n",
       "      <td>27639</td>\n",
       "      <td>39360</td>\n",
       "      <td>2739</td>\n",
       "      <td>36621</td>\n",
       "      <td>0.069588</td>\n",
       "    </tr>\n",
       "  </tbody>\n",
       "</table>\n",
       "</div>"
      ],
      "text/plain": [
       "                     idx  Temperature(F)  Pressure(mm Hg)  Humidity(%)  \\\n",
       "Date                                                                     \n",
       "2016-12-26 08:00:50    0              48            30.47          101   \n",
       "2016-12-26 07:55:40    1              48            30.47          101   \n",
       "2016-12-26 07:50:49    2              48            30.47          101   \n",
       "2016-12-26 07:45:51    3              48            30.47          101   \n",
       "2016-12-26 07:40:39    4              48            30.47          101   \n",
       "\n",
       "                     WindDirection(Degrees)  Speed(mph)  MonthOfYear  \\\n",
       "Date                                                                   \n",
       "2016-12-26 08:00:50                  187.78        4.50           12   \n",
       "2016-12-26 07:55:40                  133.40       10.12           12   \n",
       "2016-12-26 07:50:49                  160.69        5.62           12   \n",
       "2016-12-26 07:45:51                  144.56        7.87           12   \n",
       "2016-12-26 07:40:39                  169.05       10.12           12   \n",
       "\n",
       "                     DayOfYear  WeekOfYear  TimeOfDay(h)  TimeOfDay(m)  \\\n",
       "Date                                                                     \n",
       "2016-12-26 08:00:50        361          52             8           480   \n",
       "2016-12-26 07:55:40        361          52             7           475   \n",
       "2016-12-26 07:50:49        361          52             7           470   \n",
       "2016-12-26 07:45:51        361          52             7           465   \n",
       "2016-12-26 07:40:39        361          52             7           460   \n",
       "\n",
       "                     TimeOfDay(s)  DayLength(s)  TimeAfterSunRise(s)  \\\n",
       "Date                                                                   \n",
       "2016-12-26 08:00:50         28850         39360                 3950   \n",
       "2016-12-26 07:55:40         28540         39360                 3640   \n",
       "2016-12-26 07:50:49         28249         39360                 3349   \n",
       "2016-12-26 07:45:51         27951         39360                 3051   \n",
       "2016-12-26 07:40:39         27639         39360                 2739   \n",
       "\n",
       "                     TimeBeforeSunSet(s)  RelativeTOD  \n",
       "Date                                                   \n",
       "2016-12-26 08:00:50                35410     0.100356  \n",
       "2016-12-26 07:55:40                35720     0.092480  \n",
       "2016-12-26 07:50:49                36011     0.085086  \n",
       "2016-12-26 07:45:51                36309     0.077515  \n",
       "2016-12-26 07:40:39                36621     0.069588  "
      ]
     },
     "execution_count": 15,
     "metadata": {},
     "output_type": "execute_result"
    }
   ],
   "source": [
    "tdata['MonthOfYear'] = tdata.index.strftime('%m').astype(int)\n",
    "tdata['DayOfYear'] = tdata.index.strftime('%j').astype(int)\n",
    "tdata['WeekOfYear'] = tdata.index.strftime('%U').astype(int)\n",
    "tdata['TimeOfDay(h)'] = tdata.index.hour\n",
    "tdata['TimeOfDay(m)'] = tdata.index.hour*60 + tdata.index.minute\n",
    "tdata['TimeOfDay(s)'] = total_seconds(tdata.index)\n",
    "tdata['TimeSunRise'] = pd.to_datetime(tdata['TimeSunRise'])\n",
    "tdata['TimeSunSet'] = pd.to_datetime(tdata['TimeSunSet'])\n",
    "tdata['DayLength(s)'] = total_seconds(tdata['TimeSunSet'].dt) - total_seconds(tdata['TimeSunRise'].dt)\n",
    "tdata['TimeAfterSunRise(s)'] = total_seconds(tdata.index) - total_seconds(tdata['TimeSunRise'].dt)\n",
    "tdata['TimeBeforeSunSet(s)'] = total_seconds(tdata['TimeSunSet'].dt) - total_seconds(tdata.index)\n",
    "tdata['RelativeTOD'] = tdata['TimeAfterSunRise(s)'] / tdata['DayLength(s)']\n",
    "tdata.drop(['TimeSunRise','TimeSunSet'], inplace=True, axis=1)\n",
    "tdata.head()"
   ]
  },
  {
   "cell_type": "code",
   "execution_count": 337,
   "metadata": {},
   "outputs": [],
   "source": [
    "feats = [\n",
    "    'Temperature(F)','DayOfYear','TimeOfDay(s)','DayLength(s)','Humidity(%)','Pressure(mm Hg)'\n",
    "]\n",
    "X =data[feats].values\n",
    "y = data['Radiation(W/m2)'].values\n",
    "\n",
    "X.shape\n",
    "test=tdata[feats]"
   ]
  },
  {
   "cell_type": "code",
   "execution_count": 338,
   "metadata": {},
   "outputs": [
    {
     "data": {
      "text/plain": [
       "(29273, 6)"
      ]
     },
     "execution_count": 338,
     "metadata": {},
     "output_type": "execute_result"
    }
   ],
   "source": [
    "X.shape"
   ]
  },
  {
   "cell_type": "code",
   "execution_count": 16,
   "metadata": {},
   "outputs": [
    {
     "data": {
      "text/html": [
       "<div>\n",
       "<style scoped>\n",
       "    .dataframe tbody tr th:only-of-type {\n",
       "        vertical-align: middle;\n",
       "    }\n",
       "\n",
       "    .dataframe tbody tr th {\n",
       "        vertical-align: top;\n",
       "    }\n",
       "\n",
       "    .dataframe thead th {\n",
       "        text-align: right;\n",
       "    }\n",
       "</style>\n",
       "<table border=\"1\" class=\"dataframe\">\n",
       "  <thead>\n",
       "    <tr style=\"text-align: right;\">\n",
       "      <th></th>\n",
       "      <th>idx</th>\n",
       "      <th>Radiation(W/m2)</th>\n",
       "      <th>Temperature(F)</th>\n",
       "      <th>Pressure(mm Hg)</th>\n",
       "      <th>Humidity(%)</th>\n",
       "      <th>WindDirection(Degrees)</th>\n",
       "      <th>Speed(mph)</th>\n",
       "      <th>MonthOfYear</th>\n",
       "      <th>DayOfYear</th>\n",
       "      <th>WeekOfYear</th>\n",
       "      <th>TimeOfDay(h)</th>\n",
       "      <th>TimeOfDay(m)</th>\n",
       "      <th>TimeOfDay(s)</th>\n",
       "      <th>DayLength(s)</th>\n",
       "      <th>TimeAfterSunRise(s)</th>\n",
       "      <th>TimeBeforeSunSet(s)</th>\n",
       "      <th>RelativeTOD</th>\n",
       "    </tr>\n",
       "  </thead>\n",
       "  <tbody>\n",
       "    <tr>\n",
       "      <th>count</th>\n",
       "      <td>26149.000000</td>\n",
       "      <td>26149.000000</td>\n",
       "      <td>26149.000000</td>\n",
       "      <td>26149.000000</td>\n",
       "      <td>26149.000000</td>\n",
       "      <td>26149.000000</td>\n",
       "      <td>26149.000000</td>\n",
       "      <td>26149.000000</td>\n",
       "      <td>26149.000000</td>\n",
       "      <td>26149.000000</td>\n",
       "      <td>26149.000000</td>\n",
       "      <td>26149.000000</td>\n",
       "      <td>26149.000000</td>\n",
       "      <td>26149.000000</td>\n",
       "      <td>26149.000000</td>\n",
       "      <td>26149.000000</td>\n",
       "      <td>26149.000000</td>\n",
       "    </tr>\n",
       "    <tr>\n",
       "      <th>mean</th>\n",
       "      <td>13074.000000</td>\n",
       "      <td>208.621000</td>\n",
       "      <td>51.135110</td>\n",
       "      <td>30.423005</td>\n",
       "      <td>74.970936</td>\n",
       "      <td>143.368247</td>\n",
       "      <td>6.347161</td>\n",
       "      <td>10.524724</td>\n",
       "      <td>306.093617</td>\n",
       "      <td>43.869479</td>\n",
       "      <td>11.550881</td>\n",
       "      <td>720.559104</td>\n",
       "      <td>43250.956174</td>\n",
       "      <td>41433.449845</td>\n",
       "      <td>19992.947073</td>\n",
       "      <td>21440.502773</td>\n",
       "      <td>0.482358</td>\n",
       "    </tr>\n",
       "    <tr>\n",
       "      <th>std</th>\n",
       "      <td>7548.710431</td>\n",
       "      <td>316.089736</td>\n",
       "      <td>6.212018</td>\n",
       "      <td>0.054679</td>\n",
       "      <td>26.008728</td>\n",
       "      <td>83.424186</td>\n",
       "      <td>3.417537</td>\n",
       "      <td>1.096730</td>\n",
       "      <td>34.772705</td>\n",
       "      <td>4.962493</td>\n",
       "      <td>6.902891</td>\n",
       "      <td>414.432039</td>\n",
       "      <td>24865.983359</td>\n",
       "      <td>1796.586821</td>\n",
       "      <td>24889.519027</td>\n",
       "      <td>24880.732942</td>\n",
       "      <td>0.601554</td>\n",
       "    </tr>\n",
       "    <tr>\n",
       "      <th>min</th>\n",
       "      <td>0.000000</td>\n",
       "      <td>1.110000</td>\n",
       "      <td>35.000000</td>\n",
       "      <td>30.190000</td>\n",
       "      <td>8.000000</td>\n",
       "      <td>0.090000</td>\n",
       "      <td>1.120000</td>\n",
       "      <td>9.000000</td>\n",
       "      <td>245.000000</td>\n",
       "      <td>35.000000</td>\n",
       "      <td>0.000000</td>\n",
       "      <td>0.000000</td>\n",
       "      <td>1.000000</td>\n",
       "      <td>39360.000000</td>\n",
       "      <td>-25016.000000</td>\n",
       "      <td>-22416.000000</td>\n",
       "      <td>-0.634602</td>\n",
       "    </tr>\n",
       "    <tr>\n",
       "      <th>25%</th>\n",
       "      <td>6537.000000</td>\n",
       "      <td>1.230000</td>\n",
       "      <td>46.000000</td>\n",
       "      <td>30.400000</td>\n",
       "      <td>56.000000</td>\n",
       "      <td>81.580000</td>\n",
       "      <td>4.500000</td>\n",
       "      <td>10.000000</td>\n",
       "      <td>277.000000</td>\n",
       "      <td>40.000000</td>\n",
       "      <td>6.000000</td>\n",
       "      <td>360.000000</td>\n",
       "      <td>21621.000000</td>\n",
       "      <td>39720.000000</td>\n",
       "      <td>-1600.000000</td>\n",
       "      <td>-142.000000</td>\n",
       "      <td>-0.038364</td>\n",
       "    </tr>\n",
       "    <tr>\n",
       "      <th>50%</th>\n",
       "      <td>13074.000000</td>\n",
       "      <td>2.720000</td>\n",
       "      <td>50.000000</td>\n",
       "      <td>30.430000</td>\n",
       "      <td>85.000000</td>\n",
       "      <td>147.320000</td>\n",
       "      <td>5.620000</td>\n",
       "      <td>11.000000</td>\n",
       "      <td>306.000000</td>\n",
       "      <td>44.000000</td>\n",
       "      <td>12.000000</td>\n",
       "      <td>720.000000</td>\n",
       "      <td>43221.000000</td>\n",
       "      <td>41040.000000</td>\n",
       "      <td>19981.000000</td>\n",
       "      <td>21359.000000</td>\n",
       "      <td>0.483697</td>\n",
       "    </tr>\n",
       "    <tr>\n",
       "      <th>75%</th>\n",
       "      <td>19611.000000</td>\n",
       "      <td>360.260000</td>\n",
       "      <td>55.000000</td>\n",
       "      <td>30.460000</td>\n",
       "      <td>97.000000</td>\n",
       "      <td>179.240000</td>\n",
       "      <td>7.870000</td>\n",
       "      <td>11.000000</td>\n",
       "      <td>334.000000</td>\n",
       "      <td>48.000000</td>\n",
       "      <td>18.000000</td>\n",
       "      <td>1080.000000</td>\n",
       "      <td>64820.000000</td>\n",
       "      <td>42900.000000</td>\n",
       "      <td>41544.000000</td>\n",
       "      <td>43056.000000</td>\n",
       "      <td>1.003444</td>\n",
       "    </tr>\n",
       "    <tr>\n",
       "      <th>max</th>\n",
       "      <td>26148.000000</td>\n",
       "      <td>1601.260000</td>\n",
       "      <td>71.000000</td>\n",
       "      <td>30.560000</td>\n",
       "      <td>103.000000</td>\n",
       "      <td>359.940000</td>\n",
       "      <td>40.500000</td>\n",
       "      <td>12.000000</td>\n",
       "      <td>366.000000</td>\n",
       "      <td>52.000000</td>\n",
       "      <td>23.000000</td>\n",
       "      <td>1436.000000</td>\n",
       "      <td>86185.000000</td>\n",
       "      <td>45060.000000</td>\n",
       "      <td>64087.000000</td>\n",
       "      <td>67072.000000</td>\n",
       "      <td>1.566061</td>\n",
       "    </tr>\n",
       "  </tbody>\n",
       "</table>\n",
       "</div>"
      ],
      "text/plain": [
       "                idx  Radiation(W/m2)  Temperature(F)  Pressure(mm Hg)  \\\n",
       "count  26149.000000     26149.000000    26149.000000     26149.000000   \n",
       "mean   13074.000000       208.621000       51.135110        30.423005   \n",
       "std     7548.710431       316.089736        6.212018         0.054679   \n",
       "min        0.000000         1.110000       35.000000        30.190000   \n",
       "25%     6537.000000         1.230000       46.000000        30.400000   \n",
       "50%    13074.000000         2.720000       50.000000        30.430000   \n",
       "75%    19611.000000       360.260000       55.000000        30.460000   \n",
       "max    26148.000000      1601.260000       71.000000        30.560000   \n",
       "\n",
       "        Humidity(%)  WindDirection(Degrees)    Speed(mph)   MonthOfYear  \\\n",
       "count  26149.000000            26149.000000  26149.000000  26149.000000   \n",
       "mean      74.970936              143.368247      6.347161     10.524724   \n",
       "std       26.008728               83.424186      3.417537      1.096730   \n",
       "min        8.000000                0.090000      1.120000      9.000000   \n",
       "25%       56.000000               81.580000      4.500000     10.000000   \n",
       "50%       85.000000              147.320000      5.620000     11.000000   \n",
       "75%       97.000000              179.240000      7.870000     11.000000   \n",
       "max      103.000000              359.940000     40.500000     12.000000   \n",
       "\n",
       "          DayOfYear    WeekOfYear  TimeOfDay(h)  TimeOfDay(m)  TimeOfDay(s)  \\\n",
       "count  26149.000000  26149.000000  26149.000000  26149.000000  26149.000000   \n",
       "mean     306.093617     43.869479     11.550881    720.559104  43250.956174   \n",
       "std       34.772705      4.962493      6.902891    414.432039  24865.983359   \n",
       "min      245.000000     35.000000      0.000000      0.000000      1.000000   \n",
       "25%      277.000000     40.000000      6.000000    360.000000  21621.000000   \n",
       "50%      306.000000     44.000000     12.000000    720.000000  43221.000000   \n",
       "75%      334.000000     48.000000     18.000000   1080.000000  64820.000000   \n",
       "max      366.000000     52.000000     23.000000   1436.000000  86185.000000   \n",
       "\n",
       "       DayLength(s)  TimeAfterSunRise(s)  TimeBeforeSunSet(s)   RelativeTOD  \n",
       "count  26149.000000         26149.000000         26149.000000  26149.000000  \n",
       "mean   41433.449845         19992.947073         21440.502773      0.482358  \n",
       "std     1796.586821         24889.519027         24880.732942      0.601554  \n",
       "min    39360.000000        -25016.000000        -22416.000000     -0.634602  \n",
       "25%    39720.000000         -1600.000000          -142.000000     -0.038364  \n",
       "50%    41040.000000         19981.000000         21359.000000      0.483697  \n",
       "75%    42900.000000         41544.000000         43056.000000      1.003444  \n",
       "max    45060.000000         64087.000000         67072.000000      1.566061  "
      ]
     },
     "execution_count": 16,
     "metadata": {},
     "output_type": "execute_result"
    }
   ],
   "source": [
    "data.describe()"
   ]
  },
  {
   "cell_type": "code",
   "execution_count": 17,
   "metadata": {},
   "outputs": [
    {
     "data": {
      "text/html": [
       "<div>\n",
       "<style scoped>\n",
       "    .dataframe tbody tr th:only-of-type {\n",
       "        vertical-align: middle;\n",
       "    }\n",
       "\n",
       "    .dataframe tbody tr th {\n",
       "        vertical-align: top;\n",
       "    }\n",
       "\n",
       "    .dataframe thead th {\n",
       "        text-align: right;\n",
       "    }\n",
       "</style>\n",
       "<table border=\"1\" class=\"dataframe\">\n",
       "  <thead>\n",
       "    <tr style=\"text-align: right;\">\n",
       "      <th></th>\n",
       "      <th>idx</th>\n",
       "      <th>Temperature(F)</th>\n",
       "      <th>Pressure(mm Hg)</th>\n",
       "      <th>Humidity(%)</th>\n",
       "      <th>WindDirection(Degrees)</th>\n",
       "      <th>Speed(mph)</th>\n",
       "      <th>MonthOfYear</th>\n",
       "      <th>DayOfYear</th>\n",
       "      <th>WeekOfYear</th>\n",
       "      <th>TimeOfDay(h)</th>\n",
       "      <th>TimeOfDay(m)</th>\n",
       "      <th>TimeOfDay(s)</th>\n",
       "      <th>DayLength(s)</th>\n",
       "      <th>TimeAfterSunRise(s)</th>\n",
       "      <th>TimeBeforeSunSet(s)</th>\n",
       "      <th>RelativeTOD</th>\n",
       "    </tr>\n",
       "  </thead>\n",
       "  <tbody>\n",
       "    <tr>\n",
       "      <th>count</th>\n",
       "      <td>6537.000000</td>\n",
       "      <td>6537.000000</td>\n",
       "      <td>6537.000000</td>\n",
       "      <td>6537.000000</td>\n",
       "      <td>6537.000000</td>\n",
       "      <td>6537.000000</td>\n",
       "      <td>6537.0</td>\n",
       "      <td>6537.000000</td>\n",
       "      <td>6537.000000</td>\n",
       "      <td>6537.000000</td>\n",
       "      <td>6537.000000</td>\n",
       "      <td>6537.000000</td>\n",
       "      <td>6537.000000</td>\n",
       "      <td>6537.000000</td>\n",
       "      <td>6537.000000</td>\n",
       "      <td>6537.000000</td>\n",
       "    </tr>\n",
       "    <tr>\n",
       "      <th>mean</th>\n",
       "      <td>3268.000000</td>\n",
       "      <td>47.836316</td>\n",
       "      <td>30.376486</td>\n",
       "      <td>81.613278</td>\n",
       "      <td>178.844800</td>\n",
       "      <td>6.738943</td>\n",
       "      <td>12.0</td>\n",
       "      <td>348.910509</td>\n",
       "      <td>49.967569</td>\n",
       "      <td>11.462598</td>\n",
       "      <td>715.331345</td>\n",
       "      <td>42947.021723</td>\n",
       "      <td>39437.154658</td>\n",
       "      <td>18421.542145</td>\n",
       "      <td>21015.612513</td>\n",
       "      <td>0.467062</td>\n",
       "    </tr>\n",
       "    <tr>\n",
       "      <th>std</th>\n",
       "      <td>1887.213687</td>\n",
       "      <td>4.847630</td>\n",
       "      <td>0.078843</td>\n",
       "      <td>21.306379</td>\n",
       "      <td>87.664437</td>\n",
       "      <td>4.788839</td>\n",
       "      <td>0.0</td>\n",
       "      <td>7.368084</td>\n",
       "      <td>1.124660</td>\n",
       "      <td>6.912098</td>\n",
       "      <td>415.039019</td>\n",
       "      <td>24902.847296</td>\n",
       "      <td>102.360061</td>\n",
       "      <td>24912.223275</td>\n",
       "      <td>24909.152941</td>\n",
       "      <td>0.631685</td>\n",
       "    </tr>\n",
       "    <tr>\n",
       "      <th>min</th>\n",
       "      <td>0.000000</td>\n",
       "      <td>34.000000</td>\n",
       "      <td>30.190000</td>\n",
       "      <td>20.000000</td>\n",
       "      <td>0.170000</td>\n",
       "      <td>0.000000</td>\n",
       "      <td>12.0</td>\n",
       "      <td>336.000000</td>\n",
       "      <td>48.000000</td>\n",
       "      <td>0.000000</td>\n",
       "      <td>0.000000</td>\n",
       "      <td>2.000000</td>\n",
       "      <td>39360.000000</td>\n",
       "      <td>-24861.000000</td>\n",
       "      <td>-22416.000000</td>\n",
       "      <td>-0.631631</td>\n",
       "    </tr>\n",
       "    <tr>\n",
       "      <th>25%</th>\n",
       "      <td>1634.000000</td>\n",
       "      <td>45.000000</td>\n",
       "      <td>30.320000</td>\n",
       "      <td>72.000000</td>\n",
       "      <td>126.110000</td>\n",
       "      <td>3.370000</td>\n",
       "      <td>12.0</td>\n",
       "      <td>344.000000</td>\n",
       "      <td>49.000000</td>\n",
       "      <td>5.000000</td>\n",
       "      <td>355.000000</td>\n",
       "      <td>21317.000000</td>\n",
       "      <td>39360.000000</td>\n",
       "      <td>-3251.000000</td>\n",
       "      <td>-497.000000</td>\n",
       "      <td>-0.082597</td>\n",
       "    </tr>\n",
       "    <tr>\n",
       "      <th>50%</th>\n",
       "      <td>3268.000000</td>\n",
       "      <td>47.000000</td>\n",
       "      <td>30.380000</td>\n",
       "      <td>93.000000</td>\n",
       "      <td>170.010000</td>\n",
       "      <td>5.620000</td>\n",
       "      <td>12.0</td>\n",
       "      <td>349.000000</td>\n",
       "      <td>50.000000</td>\n",
       "      <td>12.000000</td>\n",
       "      <td>720.000000</td>\n",
       "      <td>43202.000000</td>\n",
       "      <td>39420.000000</td>\n",
       "      <td>18590.000000</td>\n",
       "      <td>20845.000000</td>\n",
       "      <td>0.471468</td>\n",
       "    </tr>\n",
       "    <tr>\n",
       "      <th>75%</th>\n",
       "      <td>4902.000000</td>\n",
       "      <td>51.000000</td>\n",
       "      <td>30.430000</td>\n",
       "      <td>96.000000</td>\n",
       "      <td>236.520000</td>\n",
       "      <td>9.000000</td>\n",
       "      <td>12.0</td>\n",
       "      <td>355.000000</td>\n",
       "      <td>51.000000</td>\n",
       "      <td>17.000000</td>\n",
       "      <td>1075.000000</td>\n",
       "      <td>64517.000000</td>\n",
       "      <td>39480.000000</td>\n",
       "      <td>39966.000000</td>\n",
       "      <td>42717.000000</td>\n",
       "      <td>1.012551</td>\n",
       "    </tr>\n",
       "    <tr>\n",
       "      <th>max</th>\n",
       "      <td>6536.000000</td>\n",
       "      <td>62.000000</td>\n",
       "      <td>30.560000</td>\n",
       "      <td>103.000000</td>\n",
       "      <td>359.900000</td>\n",
       "      <td>40.500000</td>\n",
       "      <td>12.0</td>\n",
       "      <td>361.000000</td>\n",
       "      <td>52.000000</td>\n",
       "      <td>23.000000</td>\n",
       "      <td>1436.000000</td>\n",
       "      <td>86185.000000</td>\n",
       "      <td>39660.000000</td>\n",
       "      <td>62045.000000</td>\n",
       "      <td>64221.000000</td>\n",
       "      <td>1.566061</td>\n",
       "    </tr>\n",
       "  </tbody>\n",
       "</table>\n",
       "</div>"
      ],
      "text/plain": [
       "               idx  Temperature(F)  Pressure(mm Hg)  Humidity(%)  \\\n",
       "count  6537.000000     6537.000000      6537.000000  6537.000000   \n",
       "mean   3268.000000       47.836316        30.376486    81.613278   \n",
       "std    1887.213687        4.847630         0.078843    21.306379   \n",
       "min       0.000000       34.000000        30.190000    20.000000   \n",
       "25%    1634.000000       45.000000        30.320000    72.000000   \n",
       "50%    3268.000000       47.000000        30.380000    93.000000   \n",
       "75%    4902.000000       51.000000        30.430000    96.000000   \n",
       "max    6536.000000       62.000000        30.560000   103.000000   \n",
       "\n",
       "       WindDirection(Degrees)   Speed(mph)  MonthOfYear    DayOfYear  \\\n",
       "count             6537.000000  6537.000000       6537.0  6537.000000   \n",
       "mean               178.844800     6.738943         12.0   348.910509   \n",
       "std                 87.664437     4.788839          0.0     7.368084   \n",
       "min                  0.170000     0.000000         12.0   336.000000   \n",
       "25%                126.110000     3.370000         12.0   344.000000   \n",
       "50%                170.010000     5.620000         12.0   349.000000   \n",
       "75%                236.520000     9.000000         12.0   355.000000   \n",
       "max                359.900000    40.500000         12.0   361.000000   \n",
       "\n",
       "        WeekOfYear  TimeOfDay(h)  TimeOfDay(m)  TimeOfDay(s)  DayLength(s)  \\\n",
       "count  6537.000000   6537.000000   6537.000000   6537.000000   6537.000000   \n",
       "mean     49.967569     11.462598    715.331345  42947.021723  39437.154658   \n",
       "std       1.124660      6.912098    415.039019  24902.847296    102.360061   \n",
       "min      48.000000      0.000000      0.000000      2.000000  39360.000000   \n",
       "25%      49.000000      5.000000    355.000000  21317.000000  39360.000000   \n",
       "50%      50.000000     12.000000    720.000000  43202.000000  39420.000000   \n",
       "75%      51.000000     17.000000   1075.000000  64517.000000  39480.000000   \n",
       "max      52.000000     23.000000   1436.000000  86185.000000  39660.000000   \n",
       "\n",
       "       TimeAfterSunRise(s)  TimeBeforeSunSet(s)  RelativeTOD  \n",
       "count          6537.000000          6537.000000  6537.000000  \n",
       "mean          18421.542145         21015.612513     0.467062  \n",
       "std           24912.223275         24909.152941     0.631685  \n",
       "min          -24861.000000        -22416.000000    -0.631631  \n",
       "25%           -3251.000000          -497.000000    -0.082597  \n",
       "50%           18590.000000         20845.000000     0.471468  \n",
       "75%           39966.000000         42717.000000     1.012551  \n",
       "max           62045.000000         64221.000000     1.566061  "
      ]
     },
     "execution_count": 17,
     "metadata": {},
     "output_type": "execute_result"
    }
   ],
   "source": [
    "tdata.describe()"
   ]
  },
  {
   "cell_type": "code",
   "execution_count": null,
   "metadata": {},
   "outputs": [],
   "source": []
  },
  {
   "cell_type": "code",
   "execution_count": null,
   "metadata": {},
   "outputs": [],
   "source": []
  },
  {
   "cell_type": "code",
   "execution_count": 196,
   "metadata": {},
   "outputs": [
    {
     "data": {
      "text/plain": [
       "(26149, 17)"
      ]
     },
     "execution_count": 196,
     "metadata": {},
     "output_type": "execute_result"
    }
   ],
   "source": [
    "data.shape"
   ]
  },
  {
   "cell_type": "code",
   "execution_count": null,
   "metadata": {},
   "outputs": [],
   "source": []
  },
  {
   "cell_type": "code",
   "execution_count": 200,
   "metadata": {},
   "outputs": [
    {
     "data": {
      "text/plain": [
       "(25699, 6)"
      ]
     },
     "execution_count": 200,
     "metadata": {},
     "output_type": "execute_result"
    }
   ],
   "source": [
    "X.shape"
   ]
  },
  {
   "cell_type": "code",
   "execution_count": null,
   "metadata": {},
   "outputs": [],
   "source": []
  },
  {
   "cell_type": "code",
   "execution_count": 202,
   "metadata": {},
   "outputs": [],
   "source": []
  },
  {
   "cell_type": "code",
   "execution_count": 101,
   "metadata": {},
   "outputs": [
    {
     "data": {
      "text/plain": [
       "(26149, 6)"
      ]
     },
     "execution_count": 101,
     "metadata": {},
     "output_type": "execute_result"
    }
   ],
   "source": [
    "X.shape"
   ]
  },
  {
   "cell_type": "code",
   "execution_count": null,
   "metadata": {},
   "outputs": [],
   "source": []
  },
  {
   "cell_type": "code",
   "execution_count": null,
   "metadata": {},
   "outputs": [],
   "source": []
  },
  {
   "cell_type": "code",
   "execution_count": 102,
   "metadata": {},
   "outputs": [
    {
     "data": {
      "text/plain": [
       "3.416085994155906"
      ]
     },
     "execution_count": 102,
     "metadata": {},
     "output_type": "execute_result"
    }
   ],
   "source": []
  },
  {
   "cell_type": "code",
   "execution_count": 155,
   "metadata": {},
   "outputs": [],
   "source": [
    "    from sklearn.model_selection import KFold, RandomizedSearchCV\n",
    "    from sklearn.dummy import DummyRegressor\n",
    "    from sklearn.tree import DecisionTreeRegressor\n",
    "    from sklearn.metrics import mean_squared_error, mean_absolute_error\n",
    "\n",
    "    kf = KFold(shuffle=True, random_state=19)"
   ]
  },
  {
   "cell_type": "code",
   "execution_count": 107,
   "metadata": {},
   "outputs": [
    {
     "name": "stdout",
     "output_type": "stream",
     "text": [
      "Mean R2 Score: -0.00026\n",
      "Mean RMSE: 316.08255\n",
      "Mean MAE: 259.85315\n"
     ]
    }
   ],
   "source": [
    "scores = []\n",
    "rmse = []\n",
    "mae = []\n",
    "\n",
    "for train_index, test_index in kf.split(X):\n",
    "    X_train, X_test = X[train_index], X[test_index]\n",
    "    y_train, y_test = y[train_index], y[test_index]\n",
    "    \n",
    "    model = DummyRegressor(strategy='mean').fit(X_train, y_train)\n",
    "    scores.append(model.score(X_test, y_test))\n",
    "    rmse.append(np.sqrt(mean_squared_error(y_test, model.predict(X_test))))\n",
    "    mae.append(mean_absolute_error(y_test, model.predict(X_test)))\n",
    "    \n",
    "print('Mean R2 Score:', round(np.mean(scores), 5))\n",
    "print('Mean RMSE:', round(np.mean(rmse), 5))\n",
    "print('Mean MAE:', round(np.mean(mae), 5))"
   ]
  },
  {
   "cell_type": "code",
   "execution_count": 178,
   "metadata": {},
   "outputs": [
    {
     "name": "stdout",
     "output_type": "stream",
     "text": [
      "Mean R2 Score: 0.90122\n",
      "Mean RMSE: 97.96746\n",
      "Mean MAE: 34.32847\n",
      "Wall time: 1.24 s\n"
     ]
    }
   ],
   "source": [
    "%%time\n",
    "\n",
    "scores = []\n",
    "rmse = []\n",
    "mae = []\n",
    "\n",
    "for train_index, test_index in kf.split(X):\n",
    "    X_train, X_test = X[train_index], X[test_index]\n",
    "    y_train, y_test = y[train_index], y[test_index]\n",
    "    \n",
    "    dtmodel = DecisionTreeRegressor(random_state=19).fit(X_train, y_train)\n",
    "    scores.append(dtmodel.score(X_test, y_test))\n",
    "    rmse.append(np.sqrt(mean_squared_error(y_test, dtmodel.predict(X_test))))\n",
    "    mae.append(mean_absolute_error(y_test, dtmodel.predict(X_test)))\n",
    "    \n",
    "print('Mean R2 Score:', round(np.mean(scores), 5))\n",
    "print('Mean RMSE:', round(np.mean(rmse), 5))\n",
    "print('Mean MAE:', round(np.mean(mae), 5))"
   ]
  },
  {
   "cell_type": "code",
   "execution_count": 179,
   "metadata": {},
   "outputs": [],
   "source": [
    "from sklearn.ensemble import RandomForestRegressor, ExtraTreesRegressor, GradientBoostingRegressor\n",
    "#from lightgbm import LGBMRegressor\n",
    "from xgboost import XGBRegressor, XGBRFRegressor\n",
    "\n",
    "\n",
    "trees = {\n",
    "    'RandomForest': RandomForestRegressor(random_state=19), 'ExtraTrees': ExtraTreesRegressor(random_state=19),\n",
    "    'GradientBoosting': GradientBoostingRegressor(random_state=19), \n",
    "    'XGBoost': XGBRegressor(random_state=19), 'XGBoostRF': XGBRFRegressor(random_state=19), \n",
    "   \n",
    "}"
   ]
  },
  {
   "cell_type": "code",
   "execution_count": 194,
   "metadata": {},
   "outputs": [
    {
     "name": "stdout",
     "output_type": "stream",
     "text": [
      "Wall time: 1min 10s\n"
     ]
    }
   ],
   "source": [
    "%%time\n",
    "\n",
    "performance = {'rmse':[], '100* r2':[], 'mae':[]}\n",
    "for name, model in trees.items():\n",
    "    scores = []\n",
    "    rmse = []\n",
    "    mae = []\n",
    "\n",
    "    for train_index, test_index in kf.split(X):\n",
    "        X_train, X_test = X[train_index], X[test_index]\n",
    "        y_train, y_test = y[train_index], y[test_index]\n",
    "\n",
    "        model = model.fit(X_train, y_train)\n",
    "        scores.append(100*model.score(X_test, y_test))\n",
    "        rmse.append(np.sqrt(mean_squared_error(y_test, model.predict(X_test))))\n",
    "        mae.append(mean_absolute_error(y_test, model.predict(X_test)))\n",
    "    performance['100* r2'].append(np.mean(scores))\n",
    "    performance['rmse'].append(np.mean(rmse))\n",
    "    performance['mae'].append(np.mean(mae))"
   ]
  },
  {
   "cell_type": "code",
   "execution_count": 195,
   "metadata": {},
   "outputs": [
    {
     "data": {
      "application/vnd.plotly.v1+json": {
       "config": {
        "plotlyServerURL": "https://plot.ly"
       },
       "data": [
        {
         "alignmentgroup": "True",
         "hovertemplate": "variable=rmse<br>index=%{x}<br>value=%{y}<extra></extra>",
         "legendgroup": "rmse",
         "marker": {
          "color": "#636efa"
         },
         "name": "rmse",
         "offsetgroup": "rmse",
         "orientation": "v",
         "showlegend": true,
         "textposition": "auto",
         "type": "bar",
         "x": [
          "RandomForest",
          "ExtraTrees",
          "GradientBoosting",
          "XGBoost",
          "XGBoostRF"
         ],
         "xaxis": "x",
         "y": [
          78.37765976281923,
          79.99527624182028,
          106.84161393048798,
          80.22042831877533,
          113.41196124085272
         ],
         "yaxis": "y"
        },
        {
         "alignmentgroup": "True",
         "hovertemplate": "variable=100* r2<br>index=%{x}<br>value=%{y}<extra></extra>",
         "legendgroup": "100* r2",
         "marker": {
          "color": "#EF553B"
         },
         "name": "100* r2",
         "offsetgroup": "100* r2",
         "orientation": "v",
         "showlegend": true,
         "textposition": "auto",
         "type": "bar",
         "x": [
          "RandomForest",
          "ExtraTrees",
          "GradientBoosting",
          "XGBoost",
          "XGBoostRF"
         ],
         "xaxis": "x",
         "y": [
          93.84717751405056,
          93.59228321171675,
          88.56995145193385,
          93.55439198966107,
          87.12189821699079
         ],
         "yaxis": "y"
        },
        {
         "alignmentgroup": "True",
         "hovertemplate": "variable=mae<br>index=%{x}<br>value=%{y}<extra></extra>",
         "legendgroup": "mae",
         "marker": {
          "color": "#00cc96"
         },
         "name": "mae",
         "offsetgroup": "mae",
         "orientation": "v",
         "showlegend": true,
         "textposition": "auto",
         "type": "bar",
         "x": [
          "RandomForest",
          "ExtraTrees",
          "GradientBoosting",
          "XGBoost",
          "XGBoostRF"
         ],
         "xaxis": "x",
         "y": [
          29.136216335906493,
          28.06073903363906,
          57.55217518869296,
          34.9770749295924,
          55.80550238353751
         ],
         "yaxis": "y"
        }
       ],
       "layout": {
        "barmode": "group",
        "legend": {
         "title": {
          "text": "variable"
         },
         "tracegroupgap": 0
        },
        "template": {
         "data": {
          "bar": [
           {
            "error_x": {
             "color": "#2a3f5f"
            },
            "error_y": {
             "color": "#2a3f5f"
            },
            "marker": {
             "line": {
              "color": "#E5ECF6",
              "width": 0.5
             }
            },
            "type": "bar"
           }
          ],
          "barpolar": [
           {
            "marker": {
             "line": {
              "color": "#E5ECF6",
              "width": 0.5
             }
            },
            "type": "barpolar"
           }
          ],
          "carpet": [
           {
            "aaxis": {
             "endlinecolor": "#2a3f5f",
             "gridcolor": "white",
             "linecolor": "white",
             "minorgridcolor": "white",
             "startlinecolor": "#2a3f5f"
            },
            "baxis": {
             "endlinecolor": "#2a3f5f",
             "gridcolor": "white",
             "linecolor": "white",
             "minorgridcolor": "white",
             "startlinecolor": "#2a3f5f"
            },
            "type": "carpet"
           }
          ],
          "choropleth": [
           {
            "colorbar": {
             "outlinewidth": 0,
             "ticks": ""
            },
            "type": "choropleth"
           }
          ],
          "contour": [
           {
            "colorbar": {
             "outlinewidth": 0,
             "ticks": ""
            },
            "colorscale": [
             [
              0,
              "#0d0887"
             ],
             [
              0.1111111111111111,
              "#46039f"
             ],
             [
              0.2222222222222222,
              "#7201a8"
             ],
             [
              0.3333333333333333,
              "#9c179e"
             ],
             [
              0.4444444444444444,
              "#bd3786"
             ],
             [
              0.5555555555555556,
              "#d8576b"
             ],
             [
              0.6666666666666666,
              "#ed7953"
             ],
             [
              0.7777777777777778,
              "#fb9f3a"
             ],
             [
              0.8888888888888888,
              "#fdca26"
             ],
             [
              1,
              "#f0f921"
             ]
            ],
            "type": "contour"
           }
          ],
          "contourcarpet": [
           {
            "colorbar": {
             "outlinewidth": 0,
             "ticks": ""
            },
            "type": "contourcarpet"
           }
          ],
          "heatmap": [
           {
            "colorbar": {
             "outlinewidth": 0,
             "ticks": ""
            },
            "colorscale": [
             [
              0,
              "#0d0887"
             ],
             [
              0.1111111111111111,
              "#46039f"
             ],
             [
              0.2222222222222222,
              "#7201a8"
             ],
             [
              0.3333333333333333,
              "#9c179e"
             ],
             [
              0.4444444444444444,
              "#bd3786"
             ],
             [
              0.5555555555555556,
              "#d8576b"
             ],
             [
              0.6666666666666666,
              "#ed7953"
             ],
             [
              0.7777777777777778,
              "#fb9f3a"
             ],
             [
              0.8888888888888888,
              "#fdca26"
             ],
             [
              1,
              "#f0f921"
             ]
            ],
            "type": "heatmap"
           }
          ],
          "heatmapgl": [
           {
            "colorbar": {
             "outlinewidth": 0,
             "ticks": ""
            },
            "colorscale": [
             [
              0,
              "#0d0887"
             ],
             [
              0.1111111111111111,
              "#46039f"
             ],
             [
              0.2222222222222222,
              "#7201a8"
             ],
             [
              0.3333333333333333,
              "#9c179e"
             ],
             [
              0.4444444444444444,
              "#bd3786"
             ],
             [
              0.5555555555555556,
              "#d8576b"
             ],
             [
              0.6666666666666666,
              "#ed7953"
             ],
             [
              0.7777777777777778,
              "#fb9f3a"
             ],
             [
              0.8888888888888888,
              "#fdca26"
             ],
             [
              1,
              "#f0f921"
             ]
            ],
            "type": "heatmapgl"
           }
          ],
          "histogram": [
           {
            "marker": {
             "colorbar": {
              "outlinewidth": 0,
              "ticks": ""
             }
            },
            "type": "histogram"
           }
          ],
          "histogram2d": [
           {
            "colorbar": {
             "outlinewidth": 0,
             "ticks": ""
            },
            "colorscale": [
             [
              0,
              "#0d0887"
             ],
             [
              0.1111111111111111,
              "#46039f"
             ],
             [
              0.2222222222222222,
              "#7201a8"
             ],
             [
              0.3333333333333333,
              "#9c179e"
             ],
             [
              0.4444444444444444,
              "#bd3786"
             ],
             [
              0.5555555555555556,
              "#d8576b"
             ],
             [
              0.6666666666666666,
              "#ed7953"
             ],
             [
              0.7777777777777778,
              "#fb9f3a"
             ],
             [
              0.8888888888888888,
              "#fdca26"
             ],
             [
              1,
              "#f0f921"
             ]
            ],
            "type": "histogram2d"
           }
          ],
          "histogram2dcontour": [
           {
            "colorbar": {
             "outlinewidth": 0,
             "ticks": ""
            },
            "colorscale": [
             [
              0,
              "#0d0887"
             ],
             [
              0.1111111111111111,
              "#46039f"
             ],
             [
              0.2222222222222222,
              "#7201a8"
             ],
             [
              0.3333333333333333,
              "#9c179e"
             ],
             [
              0.4444444444444444,
              "#bd3786"
             ],
             [
              0.5555555555555556,
              "#d8576b"
             ],
             [
              0.6666666666666666,
              "#ed7953"
             ],
             [
              0.7777777777777778,
              "#fb9f3a"
             ],
             [
              0.8888888888888888,
              "#fdca26"
             ],
             [
              1,
              "#f0f921"
             ]
            ],
            "type": "histogram2dcontour"
           }
          ],
          "mesh3d": [
           {
            "colorbar": {
             "outlinewidth": 0,
             "ticks": ""
            },
            "type": "mesh3d"
           }
          ],
          "parcoords": [
           {
            "line": {
             "colorbar": {
              "outlinewidth": 0,
              "ticks": ""
             }
            },
            "type": "parcoords"
           }
          ],
          "pie": [
           {
            "automargin": true,
            "type": "pie"
           }
          ],
          "scatter": [
           {
            "marker": {
             "colorbar": {
              "outlinewidth": 0,
              "ticks": ""
             }
            },
            "type": "scatter"
           }
          ],
          "scatter3d": [
           {
            "line": {
             "colorbar": {
              "outlinewidth": 0,
              "ticks": ""
             }
            },
            "marker": {
             "colorbar": {
              "outlinewidth": 0,
              "ticks": ""
             }
            },
            "type": "scatter3d"
           }
          ],
          "scattercarpet": [
           {
            "marker": {
             "colorbar": {
              "outlinewidth": 0,
              "ticks": ""
             }
            },
            "type": "scattercarpet"
           }
          ],
          "scattergeo": [
           {
            "marker": {
             "colorbar": {
              "outlinewidth": 0,
              "ticks": ""
             }
            },
            "type": "scattergeo"
           }
          ],
          "scattergl": [
           {
            "marker": {
             "colorbar": {
              "outlinewidth": 0,
              "ticks": ""
             }
            },
            "type": "scattergl"
           }
          ],
          "scattermapbox": [
           {
            "marker": {
             "colorbar": {
              "outlinewidth": 0,
              "ticks": ""
             }
            },
            "type": "scattermapbox"
           }
          ],
          "scatterpolar": [
           {
            "marker": {
             "colorbar": {
              "outlinewidth": 0,
              "ticks": ""
             }
            },
            "type": "scatterpolar"
           }
          ],
          "scatterpolargl": [
           {
            "marker": {
             "colorbar": {
              "outlinewidth": 0,
              "ticks": ""
             }
            },
            "type": "scatterpolargl"
           }
          ],
          "scatterternary": [
           {
            "marker": {
             "colorbar": {
              "outlinewidth": 0,
              "ticks": ""
             }
            },
            "type": "scatterternary"
           }
          ],
          "surface": [
           {
            "colorbar": {
             "outlinewidth": 0,
             "ticks": ""
            },
            "colorscale": [
             [
              0,
              "#0d0887"
             ],
             [
              0.1111111111111111,
              "#46039f"
             ],
             [
              0.2222222222222222,
              "#7201a8"
             ],
             [
              0.3333333333333333,
              "#9c179e"
             ],
             [
              0.4444444444444444,
              "#bd3786"
             ],
             [
              0.5555555555555556,
              "#d8576b"
             ],
             [
              0.6666666666666666,
              "#ed7953"
             ],
             [
              0.7777777777777778,
              "#fb9f3a"
             ],
             [
              0.8888888888888888,
              "#fdca26"
             ],
             [
              1,
              "#f0f921"
             ]
            ],
            "type": "surface"
           }
          ],
          "table": [
           {
            "cells": {
             "fill": {
              "color": "#EBF0F8"
             },
             "line": {
              "color": "white"
             }
            },
            "header": {
             "fill": {
              "color": "#C8D4E3"
             },
             "line": {
              "color": "white"
             }
            },
            "type": "table"
           }
          ]
         },
         "layout": {
          "annotationdefaults": {
           "arrowcolor": "#2a3f5f",
           "arrowhead": 0,
           "arrowwidth": 1
          },
          "autotypenumbers": "strict",
          "coloraxis": {
           "colorbar": {
            "outlinewidth": 0,
            "ticks": ""
           }
          },
          "colorscale": {
           "diverging": [
            [
             0,
             "#8e0152"
            ],
            [
             0.1,
             "#c51b7d"
            ],
            [
             0.2,
             "#de77ae"
            ],
            [
             0.3,
             "#f1b6da"
            ],
            [
             0.4,
             "#fde0ef"
            ],
            [
             0.5,
             "#f7f7f7"
            ],
            [
             0.6,
             "#e6f5d0"
            ],
            [
             0.7,
             "#b8e186"
            ],
            [
             0.8,
             "#7fbc41"
            ],
            [
             0.9,
             "#4d9221"
            ],
            [
             1,
             "#276419"
            ]
           ],
           "sequential": [
            [
             0,
             "#0d0887"
            ],
            [
             0.1111111111111111,
             "#46039f"
            ],
            [
             0.2222222222222222,
             "#7201a8"
            ],
            [
             0.3333333333333333,
             "#9c179e"
            ],
            [
             0.4444444444444444,
             "#bd3786"
            ],
            [
             0.5555555555555556,
             "#d8576b"
            ],
            [
             0.6666666666666666,
             "#ed7953"
            ],
            [
             0.7777777777777778,
             "#fb9f3a"
            ],
            [
             0.8888888888888888,
             "#fdca26"
            ],
            [
             1,
             "#f0f921"
            ]
           ],
           "sequentialminus": [
            [
             0,
             "#0d0887"
            ],
            [
             0.1111111111111111,
             "#46039f"
            ],
            [
             0.2222222222222222,
             "#7201a8"
            ],
            [
             0.3333333333333333,
             "#9c179e"
            ],
            [
             0.4444444444444444,
             "#bd3786"
            ],
            [
             0.5555555555555556,
             "#d8576b"
            ],
            [
             0.6666666666666666,
             "#ed7953"
            ],
            [
             0.7777777777777778,
             "#fb9f3a"
            ],
            [
             0.8888888888888888,
             "#fdca26"
            ],
            [
             1,
             "#f0f921"
            ]
           ]
          },
          "colorway": [
           "#636efa",
           "#EF553B",
           "#00cc96",
           "#ab63fa",
           "#FFA15A",
           "#19d3f3",
           "#FF6692",
           "#B6E880",
           "#FF97FF",
           "#FECB52"
          ],
          "font": {
           "color": "#2a3f5f"
          },
          "geo": {
           "bgcolor": "white",
           "lakecolor": "white",
           "landcolor": "#E5ECF6",
           "showlakes": true,
           "showland": true,
           "subunitcolor": "white"
          },
          "hoverlabel": {
           "align": "left"
          },
          "hovermode": "closest",
          "mapbox": {
           "style": "light"
          },
          "paper_bgcolor": "white",
          "plot_bgcolor": "#E5ECF6",
          "polar": {
           "angularaxis": {
            "gridcolor": "white",
            "linecolor": "white",
            "ticks": ""
           },
           "bgcolor": "#E5ECF6",
           "radialaxis": {
            "gridcolor": "white",
            "linecolor": "white",
            "ticks": ""
           }
          },
          "scene": {
           "xaxis": {
            "backgroundcolor": "#E5ECF6",
            "gridcolor": "white",
            "gridwidth": 2,
            "linecolor": "white",
            "showbackground": true,
            "ticks": "",
            "zerolinecolor": "white"
           },
           "yaxis": {
            "backgroundcolor": "#E5ECF6",
            "gridcolor": "white",
            "gridwidth": 2,
            "linecolor": "white",
            "showbackground": true,
            "ticks": "",
            "zerolinecolor": "white"
           },
           "zaxis": {
            "backgroundcolor": "#E5ECF6",
            "gridcolor": "white",
            "gridwidth": 2,
            "linecolor": "white",
            "showbackground": true,
            "ticks": "",
            "zerolinecolor": "white"
           }
          },
          "shapedefaults": {
           "line": {
            "color": "#2a3f5f"
           }
          },
          "ternary": {
           "aaxis": {
            "gridcolor": "white",
            "linecolor": "white",
            "ticks": ""
           },
           "baxis": {
            "gridcolor": "white",
            "linecolor": "white",
            "ticks": ""
           },
           "bgcolor": "#E5ECF6",
           "caxis": {
            "gridcolor": "white",
            "linecolor": "white",
            "ticks": ""
           }
          },
          "title": {
           "x": 0.05
          },
          "xaxis": {
           "automargin": true,
           "gridcolor": "white",
           "linecolor": "white",
           "ticks": "",
           "title": {
            "standoff": 15
           },
           "zerolinecolor": "white",
           "zerolinewidth": 2
          },
          "yaxis": {
           "automargin": true,
           "gridcolor": "white",
           "linecolor": "white",
           "ticks": "",
           "title": {
            "standoff": 15
           },
           "zerolinecolor": "white",
           "zerolinewidth": 2
          }
         }
        },
        "title": {
         "text": "Model Comparison"
        },
        "xaxis": {
         "anchor": "y",
         "domain": [
          0,
          1
         ],
         "title": {
          "text": "index"
         }
        },
        "yaxis": {
         "anchor": "x",
         "domain": [
          0,
          1
         ],
         "title": {
          "text": "value"
         }
        }
       }
      },
      "text/html": [
       "<div>                            <div id=\"8dc8bfef-68d6-4d95-a1c5-0ac9bcd7f8b8\" class=\"plotly-graph-div\" style=\"height:525px; width:100%;\"></div>            <script type=\"text/javascript\">                require([\"plotly\"], function(Plotly) {                    window.PLOTLYENV=window.PLOTLYENV || {};                                    if (document.getElementById(\"8dc8bfef-68d6-4d95-a1c5-0ac9bcd7f8b8\")) {                    Plotly.newPlot(                        \"8dc8bfef-68d6-4d95-a1c5-0ac9bcd7f8b8\",                        [{\"alignmentgroup\": \"True\", \"hovertemplate\": \"variable=rmse<br>index=%{x}<br>value=%{y}<extra></extra>\", \"legendgroup\": \"rmse\", \"marker\": {\"color\": \"#636efa\"}, \"name\": \"rmse\", \"offsetgroup\": \"rmse\", \"orientation\": \"v\", \"showlegend\": true, \"textposition\": \"auto\", \"type\": \"bar\", \"x\": [\"RandomForest\", \"ExtraTrees\", \"GradientBoosting\", \"XGBoost\", \"XGBoostRF\"], \"xaxis\": \"x\", \"y\": [78.37765976281923, 79.99527624182028, 106.84161393048798, 80.22042831877533, 113.41196124085272], \"yaxis\": \"y\"}, {\"alignmentgroup\": \"True\", \"hovertemplate\": \"variable=100* r2<br>index=%{x}<br>value=%{y}<extra></extra>\", \"legendgroup\": \"100* r2\", \"marker\": {\"color\": \"#EF553B\"}, \"name\": \"100* r2\", \"offsetgroup\": \"100* r2\", \"orientation\": \"v\", \"showlegend\": true, \"textposition\": \"auto\", \"type\": \"bar\", \"x\": [\"RandomForest\", \"ExtraTrees\", \"GradientBoosting\", \"XGBoost\", \"XGBoostRF\"], \"xaxis\": \"x\", \"y\": [93.84717751405056, 93.59228321171675, 88.56995145193385, 93.55439198966107, 87.12189821699079], \"yaxis\": \"y\"}, {\"alignmentgroup\": \"True\", \"hovertemplate\": \"variable=mae<br>index=%{x}<br>value=%{y}<extra></extra>\", \"legendgroup\": \"mae\", \"marker\": {\"color\": \"#00cc96\"}, \"name\": \"mae\", \"offsetgroup\": \"mae\", \"orientation\": \"v\", \"showlegend\": true, \"textposition\": \"auto\", \"type\": \"bar\", \"x\": [\"RandomForest\", \"ExtraTrees\", \"GradientBoosting\", \"XGBoost\", \"XGBoostRF\"], \"xaxis\": \"x\", \"y\": [29.136216335906493, 28.06073903363906, 57.55217518869296, 34.9770749295924, 55.80550238353751], \"yaxis\": \"y\"}],                        {\"barmode\": \"group\", \"legend\": {\"title\": {\"text\": \"variable\"}, \"tracegroupgap\": 0}, \"template\": {\"data\": {\"bar\": [{\"error_x\": {\"color\": \"#2a3f5f\"}, \"error_y\": {\"color\": \"#2a3f5f\"}, \"marker\": {\"line\": {\"color\": \"#E5ECF6\", \"width\": 0.5}}, \"type\": \"bar\"}], \"barpolar\": [{\"marker\": {\"line\": {\"color\": \"#E5ECF6\", \"width\": 0.5}}, \"type\": \"barpolar\"}], \"carpet\": [{\"aaxis\": {\"endlinecolor\": \"#2a3f5f\", \"gridcolor\": \"white\", \"linecolor\": \"white\", \"minorgridcolor\": \"white\", \"startlinecolor\": \"#2a3f5f\"}, \"baxis\": {\"endlinecolor\": \"#2a3f5f\", \"gridcolor\": \"white\", \"linecolor\": \"white\", \"minorgridcolor\": \"white\", \"startlinecolor\": \"#2a3f5f\"}, \"type\": \"carpet\"}], \"choropleth\": [{\"colorbar\": {\"outlinewidth\": 0, \"ticks\": \"\"}, \"type\": \"choropleth\"}], \"contour\": [{\"colorbar\": {\"outlinewidth\": 0, \"ticks\": \"\"}, \"colorscale\": [[0.0, \"#0d0887\"], [0.1111111111111111, \"#46039f\"], [0.2222222222222222, \"#7201a8\"], [0.3333333333333333, \"#9c179e\"], [0.4444444444444444, \"#bd3786\"], [0.5555555555555556, \"#d8576b\"], [0.6666666666666666, \"#ed7953\"], [0.7777777777777778, \"#fb9f3a\"], [0.8888888888888888, \"#fdca26\"], [1.0, \"#f0f921\"]], \"type\": \"contour\"}], \"contourcarpet\": [{\"colorbar\": {\"outlinewidth\": 0, \"ticks\": \"\"}, \"type\": \"contourcarpet\"}], \"heatmap\": [{\"colorbar\": {\"outlinewidth\": 0, \"ticks\": \"\"}, \"colorscale\": [[0.0, \"#0d0887\"], [0.1111111111111111, \"#46039f\"], [0.2222222222222222, \"#7201a8\"], [0.3333333333333333, \"#9c179e\"], [0.4444444444444444, \"#bd3786\"], [0.5555555555555556, \"#d8576b\"], [0.6666666666666666, \"#ed7953\"], [0.7777777777777778, \"#fb9f3a\"], [0.8888888888888888, \"#fdca26\"], [1.0, \"#f0f921\"]], \"type\": \"heatmap\"}], \"heatmapgl\": [{\"colorbar\": {\"outlinewidth\": 0, \"ticks\": \"\"}, \"colorscale\": [[0.0, \"#0d0887\"], [0.1111111111111111, \"#46039f\"], [0.2222222222222222, \"#7201a8\"], [0.3333333333333333, \"#9c179e\"], [0.4444444444444444, \"#bd3786\"], [0.5555555555555556, \"#d8576b\"], [0.6666666666666666, \"#ed7953\"], [0.7777777777777778, \"#fb9f3a\"], [0.8888888888888888, \"#fdca26\"], [1.0, \"#f0f921\"]], \"type\": \"heatmapgl\"}], \"histogram\": [{\"marker\": {\"colorbar\": {\"outlinewidth\": 0, \"ticks\": \"\"}}, \"type\": \"histogram\"}], \"histogram2d\": [{\"colorbar\": {\"outlinewidth\": 0, \"ticks\": \"\"}, \"colorscale\": [[0.0, \"#0d0887\"], [0.1111111111111111, \"#46039f\"], [0.2222222222222222, \"#7201a8\"], [0.3333333333333333, \"#9c179e\"], [0.4444444444444444, \"#bd3786\"], [0.5555555555555556, \"#d8576b\"], [0.6666666666666666, \"#ed7953\"], [0.7777777777777778, \"#fb9f3a\"], [0.8888888888888888, \"#fdca26\"], [1.0, \"#f0f921\"]], \"type\": \"histogram2d\"}], \"histogram2dcontour\": [{\"colorbar\": {\"outlinewidth\": 0, \"ticks\": \"\"}, \"colorscale\": [[0.0, \"#0d0887\"], [0.1111111111111111, \"#46039f\"], [0.2222222222222222, \"#7201a8\"], [0.3333333333333333, \"#9c179e\"], [0.4444444444444444, \"#bd3786\"], [0.5555555555555556, \"#d8576b\"], [0.6666666666666666, \"#ed7953\"], [0.7777777777777778, \"#fb9f3a\"], [0.8888888888888888, \"#fdca26\"], [1.0, \"#f0f921\"]], \"type\": \"histogram2dcontour\"}], \"mesh3d\": [{\"colorbar\": {\"outlinewidth\": 0, \"ticks\": \"\"}, \"type\": \"mesh3d\"}], \"parcoords\": [{\"line\": {\"colorbar\": {\"outlinewidth\": 0, \"ticks\": \"\"}}, \"type\": \"parcoords\"}], \"pie\": [{\"automargin\": true, \"type\": \"pie\"}], \"scatter\": [{\"marker\": {\"colorbar\": {\"outlinewidth\": 0, \"ticks\": \"\"}}, \"type\": \"scatter\"}], \"scatter3d\": [{\"line\": {\"colorbar\": {\"outlinewidth\": 0, \"ticks\": \"\"}}, \"marker\": {\"colorbar\": {\"outlinewidth\": 0, \"ticks\": \"\"}}, \"type\": \"scatter3d\"}], \"scattercarpet\": [{\"marker\": {\"colorbar\": {\"outlinewidth\": 0, \"ticks\": \"\"}}, \"type\": \"scattercarpet\"}], \"scattergeo\": [{\"marker\": {\"colorbar\": {\"outlinewidth\": 0, \"ticks\": \"\"}}, \"type\": \"scattergeo\"}], \"scattergl\": [{\"marker\": {\"colorbar\": {\"outlinewidth\": 0, \"ticks\": \"\"}}, \"type\": \"scattergl\"}], \"scattermapbox\": [{\"marker\": {\"colorbar\": {\"outlinewidth\": 0, \"ticks\": \"\"}}, \"type\": \"scattermapbox\"}], \"scatterpolar\": [{\"marker\": {\"colorbar\": {\"outlinewidth\": 0, \"ticks\": \"\"}}, \"type\": \"scatterpolar\"}], \"scatterpolargl\": [{\"marker\": {\"colorbar\": {\"outlinewidth\": 0, \"ticks\": \"\"}}, \"type\": \"scatterpolargl\"}], \"scatterternary\": [{\"marker\": {\"colorbar\": {\"outlinewidth\": 0, \"ticks\": \"\"}}, \"type\": \"scatterternary\"}], \"surface\": [{\"colorbar\": {\"outlinewidth\": 0, \"ticks\": \"\"}, \"colorscale\": [[0.0, \"#0d0887\"], [0.1111111111111111, \"#46039f\"], [0.2222222222222222, \"#7201a8\"], [0.3333333333333333, \"#9c179e\"], [0.4444444444444444, \"#bd3786\"], [0.5555555555555556, \"#d8576b\"], [0.6666666666666666, \"#ed7953\"], [0.7777777777777778, \"#fb9f3a\"], [0.8888888888888888, \"#fdca26\"], [1.0, \"#f0f921\"]], \"type\": \"surface\"}], \"table\": [{\"cells\": {\"fill\": {\"color\": \"#EBF0F8\"}, \"line\": {\"color\": \"white\"}}, \"header\": {\"fill\": {\"color\": \"#C8D4E3\"}, \"line\": {\"color\": \"white\"}}, \"type\": \"table\"}]}, \"layout\": {\"annotationdefaults\": {\"arrowcolor\": \"#2a3f5f\", \"arrowhead\": 0, \"arrowwidth\": 1}, \"autotypenumbers\": \"strict\", \"coloraxis\": {\"colorbar\": {\"outlinewidth\": 0, \"ticks\": \"\"}}, \"colorscale\": {\"diverging\": [[0, \"#8e0152\"], [0.1, \"#c51b7d\"], [0.2, \"#de77ae\"], [0.3, \"#f1b6da\"], [0.4, \"#fde0ef\"], [0.5, \"#f7f7f7\"], [0.6, \"#e6f5d0\"], [0.7, \"#b8e186\"], [0.8, \"#7fbc41\"], [0.9, \"#4d9221\"], [1, \"#276419\"]], \"sequential\": [[0.0, \"#0d0887\"], [0.1111111111111111, \"#46039f\"], [0.2222222222222222, \"#7201a8\"], [0.3333333333333333, \"#9c179e\"], [0.4444444444444444, \"#bd3786\"], [0.5555555555555556, \"#d8576b\"], [0.6666666666666666, \"#ed7953\"], [0.7777777777777778, \"#fb9f3a\"], [0.8888888888888888, \"#fdca26\"], [1.0, \"#f0f921\"]], \"sequentialminus\": [[0.0, \"#0d0887\"], [0.1111111111111111, \"#46039f\"], [0.2222222222222222, \"#7201a8\"], [0.3333333333333333, \"#9c179e\"], [0.4444444444444444, \"#bd3786\"], [0.5555555555555556, \"#d8576b\"], [0.6666666666666666, \"#ed7953\"], [0.7777777777777778, \"#fb9f3a\"], [0.8888888888888888, \"#fdca26\"], [1.0, \"#f0f921\"]]}, \"colorway\": [\"#636efa\", \"#EF553B\", \"#00cc96\", \"#ab63fa\", \"#FFA15A\", \"#19d3f3\", \"#FF6692\", \"#B6E880\", \"#FF97FF\", \"#FECB52\"], \"font\": {\"color\": \"#2a3f5f\"}, \"geo\": {\"bgcolor\": \"white\", \"lakecolor\": \"white\", \"landcolor\": \"#E5ECF6\", \"showlakes\": true, \"showland\": true, \"subunitcolor\": \"white\"}, \"hoverlabel\": {\"align\": \"left\"}, \"hovermode\": \"closest\", \"mapbox\": {\"style\": \"light\"}, \"paper_bgcolor\": \"white\", \"plot_bgcolor\": \"#E5ECF6\", \"polar\": {\"angularaxis\": {\"gridcolor\": \"white\", \"linecolor\": \"white\", \"ticks\": \"\"}, \"bgcolor\": \"#E5ECF6\", \"radialaxis\": {\"gridcolor\": \"white\", \"linecolor\": \"white\", \"ticks\": \"\"}}, \"scene\": {\"xaxis\": {\"backgroundcolor\": \"#E5ECF6\", \"gridcolor\": \"white\", \"gridwidth\": 2, \"linecolor\": \"white\", \"showbackground\": true, \"ticks\": \"\", \"zerolinecolor\": \"white\"}, \"yaxis\": {\"backgroundcolor\": \"#E5ECF6\", \"gridcolor\": \"white\", \"gridwidth\": 2, \"linecolor\": \"white\", \"showbackground\": true, \"ticks\": \"\", \"zerolinecolor\": \"white\"}, \"zaxis\": {\"backgroundcolor\": \"#E5ECF6\", \"gridcolor\": \"white\", \"gridwidth\": 2, \"linecolor\": \"white\", \"showbackground\": true, \"ticks\": \"\", \"zerolinecolor\": \"white\"}}, \"shapedefaults\": {\"line\": {\"color\": \"#2a3f5f\"}}, \"ternary\": {\"aaxis\": {\"gridcolor\": \"white\", \"linecolor\": \"white\", \"ticks\": \"\"}, \"baxis\": {\"gridcolor\": \"white\", \"linecolor\": \"white\", \"ticks\": \"\"}, \"bgcolor\": \"#E5ECF6\", \"caxis\": {\"gridcolor\": \"white\", \"linecolor\": \"white\", \"ticks\": \"\"}}, \"title\": {\"x\": 0.05}, \"xaxis\": {\"automargin\": true, \"gridcolor\": \"white\", \"linecolor\": \"white\", \"ticks\": \"\", \"title\": {\"standoff\": 15}, \"zerolinecolor\": \"white\", \"zerolinewidth\": 2}, \"yaxis\": {\"automargin\": true, \"gridcolor\": \"white\", \"linecolor\": \"white\", \"ticks\": \"\", \"title\": {\"standoff\": 15}, \"zerolinecolor\": \"white\", \"zerolinewidth\": 2}}}, \"title\": {\"text\": \"Model Comparison\"}, \"xaxis\": {\"anchor\": \"y\", \"domain\": [0.0, 1.0], \"title\": {\"text\": \"index\"}}, \"yaxis\": {\"anchor\": \"x\", \"domain\": [0.0, 1.0], \"title\": {\"text\": \"value\"}}},                        {\"responsive\": true}                    ).then(function(){\n",
       "                            \n",
       "var gd = document.getElementById('8dc8bfef-68d6-4d95-a1c5-0ac9bcd7f8b8');\n",
       "var x = new MutationObserver(function (mutations, observer) {{\n",
       "        var display = window.getComputedStyle(gd).display;\n",
       "        if (!display || display === 'none') {{\n",
       "            console.log([gd, 'removed!']);\n",
       "            Plotly.purge(gd);\n",
       "            observer.disconnect();\n",
       "        }}\n",
       "}});\n",
       "\n",
       "// Listen for the removal of the full notebook cells\n",
       "var notebookContainer = gd.closest('#notebook-container');\n",
       "if (notebookContainer) {{\n",
       "    x.observe(notebookContainer, {childList: true});\n",
       "}}\n",
       "\n",
       "// Listen for the clearing of the current output cell\n",
       "var outputEl = gd.closest('.output');\n",
       "if (outputEl) {{\n",
       "    x.observe(outputEl, {childList: true});\n",
       "}}\n",
       "\n",
       "                        })                };                });            </script>        </div>"
      ]
     },
     "metadata": {},
     "output_type": "display_data"
    }
   ],
   "source": [
    "fig = px.bar(pd.DataFrame(performance, index=trees.keys()), barmode='group', title='Model Comparison')\n",
    "fig.show()"
   ]
  },
  {
   "cell_type": "code",
   "execution_count": 70,
   "metadata": {},
   "outputs": [],
   "source": [
    "import pandas as pd\n",
    "from sklearn.model_selection import GridSearchCV\n",
    "from sklearn.ensemble import ExtraTreesRegressor"
   ]
  },
  {
   "cell_type": "code",
   "execution_count": 32,
   "metadata": {},
   "outputs": [],
   "source": [
    "model = ExtraTreesRegressor( n_jobs=4\n",
    "                           )"
   ]
  },
  {
   "cell_type": "code",
   "execution_count": 41,
   "metadata": {},
   "outputs": [],
   "source": [
    "max_features=['auto', 'sqrt', 'log2']\n",
    "gsc = GridSearchCV(\n",
    "    estimator=model,\n",
    "    param_grid={\n",
    "        'n_estimators': range(50,126,25),\n",
    "        'max_features':max_features,\n",
    "        'min_samples_leaf': range(20,50,5),\n",
    "        'min_samples_split': range(15,36,5),\n",
    "    },\n",
    "    scoring='r2',\n",
    "    cv=5\n",
    ")"
   ]
  },
  {
   "cell_type": "code",
   "execution_count": null,
   "metadata": {},
   "outputs": [],
   "source": [
    "grid_result = gsc.fit(X, y)\n",
    "    grid_result = gsc.fit(X, y)"
   ]
  },
  {
   "cell_type": "code",
   "execution_count": null,
   "metadata": {},
   "outputs": [],
   "source": [
    "print(grid_result.best_params_)"
   ]
  },
  {
   "cell_type": "code",
   "execution_count": 57,
   "metadata": {},
   "outputs": [],
   "source": [
    "Rmodel = RandomForestRegressor()"
   ]
  },
  {
   "cell_type": "code",
   "execution_count": 58,
   "metadata": {},
   "outputs": [
    {
     "data": {
      "text/plain": [
       "RandomForestRegressor()"
      ]
     },
     "execution_count": 58,
     "metadata": {},
     "output_type": "execute_result"
    }
   ],
   "source": [
    "Rmodel.fit(data,y)"
   ]
  },
  {
   "cell_type": "code",
   "execution_count": 59,
   "metadata": {},
   "outputs": [
    {
     "data": {
      "image/png": "[encoded data removed]",
      "text/plain": [
       "<Figure size 432x288 with 1 Axes>"
      ]
     },
     "metadata": {},
     "output_type": "display_data"
    }
   ],
   "source": [
    "importance = Rmodel.feature_importances_\n",
    "# summarize feature importance\n",
    "#for i,v in enumerate(importance):\n",
    "#print('Feature: %0d, Score: %.5f' % (i,v))\n",
    "# plot feature importance\n",
    "pyplot.bar([x for x in range(len(importance))], importance)\n",
    "pyplot.show()"
   ]
  },
  {
   "cell_type": "code",
   "execution_count": 60,
   "metadata": {},
   "outputs": [],
   "source": [
    "from lightgbm import LGBMRegressor\n",
    "lreg= LGBMRegressor()"
   ]
  },
  {
   "cell_type": "code",
   "execution_count": 61,
   "metadata": {},
   "outputs": [
    {
     "data": {
      "text/plain": [
       "LGBMRegressor()"
      ]
     },
     "execution_count": 61,
     "metadata": {},
     "output_type": "execute_result"
    }
   ],
   "source": [
    "lreg.fit(data,y)"
   ]
  },
  {
   "cell_type": "code",
   "execution_count": 62,
   "metadata": {},
   "outputs": [
    {
     "data": {
      "image/png": "[encoded data removed]",
      "text/plain": [
       "<Figure size 432x288 with 1 Axes>"
      ]
     },
     "metadata": {},
     "output_type": "display_data"
    }
   ],
   "source": [
    "from matplotlib import pyplot\n",
    "pyplot.bar(range(len(lreg.feature_importances_)), lreg.feature_importances_)\n",
    "pyplot.show()"
   ]
  },
  {
   "cell_type": "code",
   "execution_count": 63,
   "metadata": {},
   "outputs": [],
   "source": [
    "from sklearn.ensemble import RandomForestRegressor, ExtraTreesRegressor, GradientBoostingRegressor"
   ]
  },
  {
   "cell_type": "code",
   "execution_count": 64,
   "metadata": {},
   "outputs": [],
   "source": [
    "greg=GradientBoostingRegressor()"
   ]
  },
  {
   "cell_type": "code",
   "execution_count": 65,
   "metadata": {},
   "outputs": [
    {
     "data": {
      "text/plain": [
       "GradientBoostingRegressor()"
      ]
     },
     "execution_count": 65,
     "metadata": {},
     "output_type": "execute_result"
    }
   ],
   "source": [
    "greg.fit(data,y)"
   ]
  },
  {
   "cell_type": "code",
   "execution_count": 66,
   "metadata": {},
   "outputs": [
    {
     "data": {
      "image/png": "[encoded data removed]",
      "text/plain": [
       "<Figure size 432x288 with 1 Axes>"
      ]
     },
     "metadata": {},
     "output_type": "display_data"
    }
   ],
   "source": [
    "from matplotlib import pyplot\n",
    "pyplot.bar(range(len(greg.feature_importances_)), greg.feature_importances_)\n",
    "pyplot.show()"
   ]
  },
  {
   "cell_type": "code",
   "execution_count": 67,
   "metadata": {},
   "outputs": [],
   "source": [
    "from xgboost import XGBRegressor, XGBRFRegressor"
   ]
  },
  {
   "cell_type": "code",
   "execution_count": 68,
   "metadata": {},
   "outputs": [],
   "source": [
    "creg=XGBRFRegressor"
   ]
  },
  {
   "cell_type": "code",
   "execution_count": 73,
   "metadata": {},
   "outputs": [
    {
     "ename": "AttributeError",
     "evalue": "'str' object has no attribute 'n_features_in_'",
     "output_type": "error",
     "traceback": [
      "\u001b[1;31m---------------------------------------------------------------------------\u001b[0m",
      "\u001b[1;31mAttributeError\u001b[0m                            Traceback (most recent call last)",
      "\u001b[1;32m<ipython-input-73-45d1f9f07256>\u001b[0m in \u001b[0;36m<module>\u001b[1;34m\u001b[0m\n\u001b[1;32m----> 1\u001b[1;33m \u001b[0mcreg\u001b[0m\u001b[1;33m.\u001b[0m\u001b[0mfit\u001b[0m\u001b[1;33m(\u001b[0m\u001b[1;34m'self'\u001b[0m\u001b[1;33m,\u001b[0m\u001b[0mdata\u001b[0m\u001b[1;33m,\u001b[0m\u001b[0my\u001b[0m\u001b[1;33m)\u001b[0m\u001b[1;33m\u001b[0m\u001b[1;33m\u001b[0m\u001b[0m\n\u001b[0m",
      "\u001b[1;32m~\\anaconda3.8\\lib\\site-packages\\xgboost\\sklearn.py\u001b[0m in \u001b[0;36mfit\u001b[1;34m(self, X, y, sample_weight, base_margin, eval_set, eval_metric, early_stopping_rounds, verbose, xgb_model, sample_weight_eval_set, callbacks)\u001b[0m\n\u001b[0;32m    500\u001b[0m                 \u001b[1;33m[\u001b[0m\u001b[0mxgb\u001b[0m\u001b[1;33m.\u001b[0m\u001b[0mcallback\u001b[0m\u001b[1;33m.\u001b[0m\u001b[0mreset_learning_rate\u001b[0m\u001b[1;33m(\u001b[0m\u001b[0mcustom_rates\u001b[0m\u001b[1;33m)\u001b[0m\u001b[1;33m]\u001b[0m\u001b[1;33m\u001b[0m\u001b[1;33m\u001b[0m\u001b[0m\n\u001b[0;32m    501\u001b[0m         \"\"\"\n\u001b[1;32m--> 502\u001b[1;33m         \u001b[0mself\u001b[0m\u001b[1;33m.\u001b[0m\u001b[0mn_features_in_\u001b[0m \u001b[1;33m=\u001b[0m \u001b[0mX\u001b[0m\u001b[1;33m.\u001b[0m\u001b[0mshape\u001b[0m\u001b[1;33m[\u001b[0m\u001b[1;36m1\u001b[0m\u001b[1;33m]\u001b[0m\u001b[1;33m\u001b[0m\u001b[1;33m\u001b[0m\u001b[0m\n\u001b[0m\u001b[0;32m    503\u001b[0m \u001b[1;33m\u001b[0m\u001b[0m\n\u001b[0;32m    504\u001b[0m         train_dmatrix = DMatrix(data=X, label=y, weight=sample_weight,\n",
      "\u001b[1;31mAttributeError\u001b[0m: 'str' object has no attribute 'n_features_in_'"
     ]
    }
   ],
   "source": [
    "creg.fit('self',data,y)"
   ]
  },
  {
   "cell_type": "code",
   "execution_count": 46,
   "metadata": {},
   "outputs": [],
   "source": [
    "import xgboost as xgb"
   ]
  },
  {
   "cell_type": "code",
   "execution_count": 47,
   "metadata": {},
   "outputs": [],
   "source": [
    "import xgboost\n",
    "regressor=xgboost.XGBRegressor()"
   ]
  },
  {
   "cell_type": "code",
   "execution_count": 48,
   "metadata": {},
   "outputs": [
    {
     "name": "stdout",
     "output_type": "stream",
     "text": [
      "Fitting 5 folds for each of 50 candidates, totalling 250 fits\n"
     ]
    },
    {
     "name": "stderr",
     "output_type": "stream",
     "text": [
      "[Parallel(n_jobs=4)]: Using backend LokyBackend with 4 concurrent workers.\n",
      "[Parallel(n_jobs=4)]: Done  10 tasks      | elapsed:   27.4s\n",
      "[Parallel(n_jobs=4)]: Done  64 tasks      | elapsed:  6.4min\n",
      "[Parallel(n_jobs=4)]: Done 154 tasks      | elapsed: 12.5min\n",
      "[Parallel(n_jobs=4)]: Done 250 out of 250 | elapsed: 17.2min finished\n"
     ]
    },
    {
     "data": {
      "text/plain": [
       "RandomizedSearchCV(cv=5,\n",
       "                   estimator=XGBRegressor(base_score=None, booster=None,\n",
       "                                          colsample_bylevel=None,\n",
       "                                          colsample_bynode=None,\n",
       "                                          colsample_bytree=None, gamma=None,\n",
       "                                          gpu_id=None, importance_type='gain',\n",
       "                                          interaction_constraints=None,\n",
       "                                          learning_rate=None,\n",
       "                                          max_delta_step=None, max_depth=None,\n",
       "                                          min_child_weight=None, missing=nan,\n",
       "                                          monotone_constraints=None,\n",
       "                                          n_estimators=100, n...\n",
       "                                          validate_parameters=None,\n",
       "                                          verbosity=None),\n",
       "                   n_iter=50, n_jobs=4,\n",
       "                   param_distributions={'base_score': [0.25, 0.5, 0.75, 1],\n",
       "                                        'booster': ['gbtree', 'gblinear'],\n",
       "                                        'learning_rate': [0.05, 0.1, 0.15, 0.2],\n",
       "                                        'max_depth': [2, 3, 5, 10, 15],\n",
       "                                        'min_child_weight': [1, 2, 3, 4],\n",
       "                                        'n_estimators': [100, 500, 900, 1100,\n",
       "                                                         1500]},\n",
       "                   random_state=42, return_train_score=True,\n",
       "                   scoring='neg_mean_absolute_error', verbose=5)"
      ]
     },
     "execution_count": 48,
     "metadata": {},
     "output_type": "execute_result"
    }
   ],
   "source": [
    "booster=['gbtree','gblinear']\n",
    "base_score=[0.25,0.5,0.75,1]\n",
    "n_estimators = [100, 500, 900, 1100, 1500]\n",
    "max_depth = [2, 3, 5, 10, 15]\n",
    "booster=['gbtree','gblinear']\n",
    "learning_rate=[0.05,0.1,0.15,0.20]\n",
    "min_child_weight=[1,2,3,4]\n",
    "\n",
    "# Define the grid of hyperparameters to search\n",
    "hyperparameter_grid = {\n",
    "    'n_estimators': n_estimators,\n",
    "    'max_depth':max_depth,\n",
    "    'learning_rate':learning_rate,\n",
    "    'min_child_weight':min_child_weight,\n",
    "    'booster':booster,\n",
    "    'base_score':base_score\n",
    "    }\n",
    "from sklearn.model_selection import RandomizedSearchCV\n",
    "random_cv = RandomizedSearchCV(estimator=regressor,\n",
    "            param_distributions=hyperparameter_grid,\n",
    "            cv=5, n_iter=50,\n",
    "            scoring = 'neg_mean_absolute_error',n_jobs = 4,\n",
    "            verbose = 5, \n",
    "            return_train_score = True,\n",
    "            random_state=42)\n",
    "random_cv.fit(data,y)\n"
   ]
  },
  {
   "cell_type": "code",
   "execution_count": 49,
   "metadata": {},
   "outputs": [
    {
     "data": {
      "text/plain": [
       "XGBRegressor(base_score=0.25, booster='gbtree', colsample_bylevel=1,\n",
       "             colsample_bynode=1, colsample_bytree=1, gamma=0, gpu_id=-1,\n",
       "             importance_type='gain', interaction_constraints='',\n",
       "             learning_rate=0.15, max_delta_step=0, max_depth=15,\n",
       "             min_child_weight=2, missing=nan, monotone_constraints='()',\n",
       "             n_estimators=1500, n_jobs=0, num_parallel_tree=1, random_state=0,\n",
       "             reg_alpha=0, reg_lambda=1, scale_pos_weight=1, subsample=1,\n",
       "             tree_method='exact', validate_parameters=1, verbosity=None)"
      ]
     },
     "execution_count": 49,
     "metadata": {},
     "output_type": "execute_result"
    }
   ],
   "source": [
    "random_cv.best_estimator_"
   ]
  },
  {
   "cell_type": "code",
   "execution_count": 50,
   "metadata": {},
   "outputs": [],
   "source": [
    "reg=xgboost.XGBRegressor(base_score=0.25, booster='gbtree', colsample_bylevel=1,\n",
    "             colsample_bynode=1, colsample_bytree=1, gamma=0, gpu_id=-1,\n",
    "             importance_type='gain', interaction_constraints='',\n",
    "             learning_rate=0.15, max_delta_step=0, max_depth=15,\n",
    "             min_child_weight=2, missing=np.nan, monotone_constraints='()',\n",
    "             n_estimators=1500, n_jobs=0, num_parallel_tree=1, random_state=0,\n",
    "             reg_alpha=0, reg_lambda=1, scale_pos_weight=1, subsample=1,\n",
    "             tree_method='exact', validate_parameters=1, verbosity=None)"
   ]
  },
  {
   "cell_type": "code",
   "execution_count": 53,
   "metadata": {},
   "outputs": [
    {
     "data": {
      "text/plain": [
       "XGBRegressor(base_score=0.25, booster='gbtree', colsample_bylevel=1,\n",
       "             colsample_bynode=1, colsample_bytree=1, gamma=0, gpu_id=-1,\n",
       "             importance_type='gain', interaction_constraints='',\n",
       "             learning_rate=0.15, max_delta_step=0, max_depth=15,\n",
       "             min_child_weight=2, missing=nan, monotone_constraints='()',\n",
       "             n_estimators=1500, n_jobs=0, num_parallel_tree=1, random_state=0,\n",
       "             reg_alpha=0, reg_lambda=1, scale_pos_weight=1, subsample=1,\n",
       "             tree_method='exact', validate_parameters=1, verbosity=None)"
      ]
     },
     "execution_count": 53,
     "metadata": {},
     "output_type": "execute_result"
    }
   ],
   "source": [
    "reg.fit(data,y)"
   ]
  },
  {
   "cell_type": "code",
   "execution_count": 54,
   "metadata": {},
   "outputs": [],
   "source": [
    "importances=reg.feature_importances_"
   ]
  },
  {
   "cell_type": "code",
   "execution_count": 56,
   "metadata": {},
   "outputs": [
    {
     "data": {
      "image/png": "[encoded data removed]",
      "text/plain": [
       "<Figure size 432x288 with 1 Axes>"
      ]
     },
     "metadata": {},
     "output_type": "display_data"
    }
   ],
   "source": [
    "from matplotlib import pyplot\n",
    "pyplot.bar(range(len(reg.feature_importances_)), reg.feature_importances_)\n",
    "pyplot.show()"
   ]
  },
  {
   "cell_type": "code",
   "execution_count": 156,
   "metadata": {},
   "outputs": [],
   "source": [
    "m2=ExtraTreesRegressor()"
   ]
  },
  {
   "cell_type": "code",
   "execution_count": 31,
   "metadata": {},
   "outputs": [],
   "source": [
    "train"
   ]
  },
  {
   "cell_type": "code",
   "execution_count": 339,
   "metadata": {},
   "outputs": [
    {
     "data": {
      "text/plain": [
       "ExtraTreesRegressor()"
      ]
     },
     "execution_count": 339,
     "metadata": {},
     "output_type": "execute_result"
    }
   ],
   "source": [
    "m2.fit(X,y)"
   ]
  },
  {
   "cell_type": "code",
   "execution_count": 37,
   "metadata": {},
   "outputs": [],
   "source": [
    "\n",
    "importances = m2.feature_importances_"
   ]
  },
  {
   "cell_type": "code",
   "execution_count": 45,
   "metadata": {},
   "outputs": [
    {
     "data": {
      "image/png": "[encoded data removed]",
      "text/plain": [
       "<Figure size 432x288 with 1 Axes>"
      ]
     },
     "metadata": {},
     "output_type": "display_data"
    }
   ],
   "source": [
    "import matplotlib.pyplot as plt\n",
    "indices = np.argsort(importances)[::-1]\n",
    "std = np.std([tree.feature_importances_ for tree in m2.estimators_],\n",
    "             axis=0)\n",
    "plt.figure()\n",
    "plt.title(\"Feature importances\")\n",
    "plt.bar(range(data.shape[1]), importances[indices],\n",
    "        color=\"r\", yerr=std[indices], align=\"center\")\n",
    "plt.xticks(range(data.shape[1]), indices)\n",
    "plt.xlim([-1, data.shape[1]])\n",
    "plt.show()"
   ]
  },
  {
   "cell_type": "code",
   "execution_count": 43,
   "metadata": {},
   "outputs": [
    {
     "data": {
      "text/plain": [
       "array([0.00546441, 0.27372404, 0.01315502, 0.05318813, 0.04427721,\n",
       "       0.00630077, 0.00999224, 0.01572887, 0.01349004, 0.08733666,\n",
       "       0.0920665 , 0.12025915, 0.01318987, 0.08139997, 0.07602521,\n",
       "       0.0944019 ])"
      ]
     },
     "execution_count": 43,
     "metadata": {},
     "output_type": "execute_result"
    }
   ],
   "source": [
    "importances"
   ]
  },
  {
   "cell_type": "code",
   "execution_count": 340,
   "metadata": {},
   "outputs": [],
   "source": [
    "vals=m2.predict(test)"
   ]
  },
  {
   "cell_type": "code",
   "execution_count": 341,
   "metadata": {},
   "outputs": [
    {
     "data": {
      "text/plain": [
       "array([81.3621, 80.02  , 77.91  , 57.14  , 49.51  , 43.5327, 40.99  ,\n",
       "       34.3078, 32.82  , 25.91  , 16.74  , 11.29  ])"
      ]
     },
     "execution_count": 341,
     "metadata": {},
     "output_type": "execute_result"
    }
   ],
   "source": [
    "vals[0:12]"
   ]
  },
  {
   "cell_type": "code",
   "execution_count": 71,
   "metadata": {},
   "outputs": [
    {
     "data": {
      "text/html": [
       "<div>\n",
       "<style scoped>\n",
       "    .dataframe tbody tr th:only-of-type {\n",
       "        vertical-align: middle;\n",
       "    }\n",
       "\n",
       "    .dataframe tbody tr th {\n",
       "        vertical-align: top;\n",
       "    }\n",
       "\n",
       "    .dataframe thead th {\n",
       "        text-align: right;\n",
       "    }\n",
       "</style>\n",
       "<table border=\"1\" class=\"dataframe\">\n",
       "  <thead>\n",
       "    <tr style=\"text-align: right;\">\n",
       "      <th></th>\n",
       "      <th>idx</th>\n",
       "      <th>Temperature(F)</th>\n",
       "      <th>Pressure(mm Hg)</th>\n",
       "      <th>Humidity(%)</th>\n",
       "      <th>WindDirection(Degrees)</th>\n",
       "      <th>Speed(mph)</th>\n",
       "      <th>TimeSunRise</th>\n",
       "      <th>TimeSunSet</th>\n",
       "    </tr>\n",
       "    <tr>\n",
       "      <th>Date</th>\n",
       "      <th></th>\n",
       "      <th></th>\n",
       "      <th></th>\n",
       "      <th></th>\n",
       "      <th></th>\n",
       "      <th></th>\n",
       "      <th></th>\n",
       "      <th></th>\n",
       "    </tr>\n",
       "  </thead>\n",
       "  <tbody>\n",
       "    <tr>\n",
       "      <th>2016-12-26 08:00:50</th>\n",
       "      <td>0</td>\n",
       "      <td>48</td>\n",
       "      <td>30.47</td>\n",
       "      <td>101</td>\n",
       "      <td>187.78</td>\n",
       "      <td>4.50</td>\n",
       "      <td>2016-12-26 06:55:00</td>\n",
       "      <td>2016-12-26 17:51:00</td>\n",
       "    </tr>\n",
       "    <tr>\n",
       "      <th>2016-12-26 07:55:40</th>\n",
       "      <td>1</td>\n",
       "      <td>48</td>\n",
       "      <td>30.47</td>\n",
       "      <td>101</td>\n",
       "      <td>133.40</td>\n",
       "      <td>10.12</td>\n",
       "      <td>2016-12-26 06:55:00</td>\n",
       "      <td>2016-12-26 17:51:00</td>\n",
       "    </tr>\n",
       "    <tr>\n",
       "      <th>2016-12-26 07:50:49</th>\n",
       "      <td>2</td>\n",
       "      <td>48</td>\n",
       "      <td>30.47</td>\n",
       "      <td>101</td>\n",
       "      <td>160.69</td>\n",
       "      <td>5.62</td>\n",
       "      <td>2016-12-26 06:55:00</td>\n",
       "      <td>2016-12-26 17:51:00</td>\n",
       "    </tr>\n",
       "    <tr>\n",
       "      <th>2016-12-26 07:45:51</th>\n",
       "      <td>3</td>\n",
       "      <td>48</td>\n",
       "      <td>30.47</td>\n",
       "      <td>101</td>\n",
       "      <td>144.56</td>\n",
       "      <td>7.87</td>\n",
       "      <td>2016-12-26 06:55:00</td>\n",
       "      <td>2016-12-26 17:51:00</td>\n",
       "    </tr>\n",
       "    <tr>\n",
       "      <th>2016-12-26 07:40:39</th>\n",
       "      <td>4</td>\n",
       "      <td>48</td>\n",
       "      <td>30.47</td>\n",
       "      <td>101</td>\n",
       "      <td>169.05</td>\n",
       "      <td>10.12</td>\n",
       "      <td>2016-12-26 06:55:00</td>\n",
       "      <td>2016-12-26 17:51:00</td>\n",
       "    </tr>\n",
       "  </tbody>\n",
       "</table>\n",
       "</div>"
      ],
      "text/plain": [
       "                     idx  Temperature(F)  Pressure(mm Hg)  Humidity(%)  \\\n",
       "Date                                                                     \n",
       "2016-12-26 08:00:50    0              48            30.47          101   \n",
       "2016-12-26 07:55:40    1              48            30.47          101   \n",
       "2016-12-26 07:50:49    2              48            30.47          101   \n",
       "2016-12-26 07:45:51    3              48            30.47          101   \n",
       "2016-12-26 07:40:39    4              48            30.47          101   \n",
       "\n",
       "                     WindDirection(Degrees)  Speed(mph)          TimeSunRise  \\\n",
       "Date                                                                           \n",
       "2016-12-26 08:00:50                  187.78        4.50  2016-12-26 06:55:00   \n",
       "2016-12-26 07:55:40                  133.40       10.12  2016-12-26 06:55:00   \n",
       "2016-12-26 07:50:49                  160.69        5.62  2016-12-26 06:55:00   \n",
       "2016-12-26 07:45:51                  144.56        7.87  2016-12-26 06:55:00   \n",
       "2016-12-26 07:40:39                  169.05       10.12  2016-12-26 06:55:00   \n",
       "\n",
       "                              TimeSunSet  \n",
       "Date                                      \n",
       "2016-12-26 08:00:50  2016-12-26 17:51:00  \n",
       "2016-12-26 07:55:40  2016-12-26 17:51:00  \n",
       "2016-12-26 07:50:49  2016-12-26 17:51:00  \n",
       "2016-12-26 07:45:51  2016-12-26 17:51:00  \n",
       "2016-12-26 07:40:39  2016-12-26 17:51:00  "
      ]
     },
     "execution_count": 71,
     "metadata": {},
     "output_type": "execute_result"
    }
   ],
   "source": [
    "tdata.head()"
   ]
  },
  {
   "cell_type": "code",
   "execution_count": 22,
   "metadata": {},
   "outputs": [],
   "source": [
    "testin=tdata[feats].values"
   ]
  },
  {
   "cell_type": "code",
   "execution_count": 121,
   "metadata": {},
   "outputs": [],
   "source": [
    "vals=Rmodel.predict(testin)"
   ]
  },
  {
   "cell_type": "code",
   "execution_count": 137,
   "metadata": {},
   "outputs": [
    {
     "data": {
      "text/plain": [
       "(6537,)"
      ]
     },
     "execution_count": 137,
     "metadata": {},
     "output_type": "execute_result"
    }
   ],
   "source": [
    "vals.shape"
   ]
  },
  {
   "cell_type": "code",
   "execution_count": 342,
   "metadata": {},
   "outputs": [],
   "source": [
    "output = pd.DataFrame({\n",
    "        \"idx\": tdata[\"idx\"],\n",
    "        \"Radiation\": vals \n",
    "    })\n",
    "output.to_csv('etr2.csv', index=False)"
   ]
  },
  {
   "cell_type": "code",
   "execution_count": 343,
   "metadata": {},
   "outputs": [],
   "source": [
    "z=pd.read_csv('etr.csv')\n",
    "z=z['Radiation']"
   ]
  },
  {
   "cell_type": "code",
   "execution_count": 344,
   "metadata": {},
   "outputs": [
    {
     "data": {
      "text/plain": [
       "(6537,)"
      ]
     },
     "execution_count": 344,
     "metadata": {},
     "output_type": "execute_result"
    }
   ],
   "source": [
    "v=pd.read_csv('xbg_out.csv')\n",
    "v=v['Radiation']\n",
    "v.shape"
   ]
  },
  {
   "cell_type": "code",
   "execution_count": 345,
   "metadata": {},
   "outputs": [
    {
     "data": {
      "text/plain": [
       "(6537,)"
      ]
     },
     "execution_count": 345,
     "metadata": {},
     "output_type": "execute_result"
    }
   ],
   "source": [
    "e=pd.read_csv('out_best.csv')\n",
    "e=e['Radiation']\n",
    "e.shape"
   ]
  },
  {
   "cell_type": "code",
   "execution_count": 37,
   "metadata": {},
   "outputs": [
    {
     "data": {
      "text/plain": [
       "(6537,)"
      ]
     },
     "execution_count": 37,
     "metadata": {},
     "output_type": "execute_result"
    }
   ],
   "source": [
    "e.shape"
   ]
  },
  {
   "cell_type": "code",
   "execution_count": 38,
   "metadata": {},
   "outputs": [
    {
     "data": {
      "text/plain": [
       "46.18453253920001"
      ]
     },
     "execution_count": 38,
     "metadata": {},
     "output_type": "execute_result"
    }
   ],
   "source": [
    "e[5]"
   ]
  },
  {
   "cell_type": "code",
   "execution_count": 383,
   "metadata": {},
   "outputs": [
    {
     "data": {
      "text/plain": [
       "81.36210000000003"
      ]
     },
     "execution_count": 383,
     "metadata": {},
     "output_type": "execute_result"
    }
   ],
   "source": [
    "vals[0]"
   ]
  },
  {
   "cell_type": "code",
   "execution_count": 411,
   "metadata": {},
   "outputs": [],
   "source": [
    "final=(0.7*z+0.1*vals+0.2*v)"
   ]
  },
  {
   "cell_type": "code",
   "execution_count": 123,
   "metadata": {},
   "outputs": [],
   "source": [
    "hh=final"
   ]
  },
  {
   "cell_type": "code",
   "execution_count": 412,
   "metadata": {},
   "outputs": [
    {
     "data": {
      "text/plain": [
       "0     79.012466\n",
       "1     80.010618\n",
       "2     77.819966\n",
       "3     57.148184\n",
       "4     49.506773\n",
       "5     43.225979\n",
       "6     40.997592\n",
       "7     34.034960\n",
       "8     32.822191\n",
       "9     25.905216\n",
       "10    16.751303\n",
       "11    11.285109\n",
       "Name: Radiation, dtype: float64"
      ]
     },
     "execution_count": 412,
     "metadata": {},
     "output_type": "execute_result"
    }
   ],
   "source": [
    "final[0:12]"
   ]
  },
  {
   "cell_type": "code",
   "execution_count": 396,
   "metadata": {},
   "outputs": [],
   "source": [
    "final=np.array(final)"
   ]
  },
  {
   "cell_type": "code",
   "execution_count": 397,
   "metadata": {},
   "outputs": [],
   "source": [
    "output = pd.DataFrame({\n",
    "        \"idx\": tdata[\"idx\"],\n",
    "        \"Radiation\":  final\n",
    "    })\n",
    "output.to_csv('output.csv', index=False)"
   ]
  },
  {
   "cell_type": "code",
   "execution_count": 104,
   "metadata": {},
   "outputs": [
    {
     "name": "stdout",
     "output_type": "stream",
     "text": [
      "Tensorflow version: 2.3.0\n"
     ]
    }
   ],
   "source": [
    "import tensorflow as tf\n",
    "import tensorflow.keras.backend as K\n",
    "import tensorflow.keras.layers as L\n",
    "import tensorflow.keras.models as M\n",
    "from tensorflow.keras.callbacks import ReduceLROnPlateau, ModelCheckpoint, EarlyStopping\n",
    "#import tensorflow_addons as tfa\n",
    "\n",
    "print('Tensorflow version:', tf.__version__)\n",
    "\n",
    "### File Operations ###\n",
    "import shutil"
   ]
  },
  {
   "cell_type": "code",
   "execution_count": 107,
   "metadata": {},
   "outputs": [],
   "source": [
    "import os\n",
    "SEED=42\n",
    "def set_seed(seed):\n",
    "    np.random.seed(seed)\n",
    "    tf.random.set_seed(seed)\n",
    "    os.environ['PYTHONHASHSEED'] = str(seed)\n",
    "\n",
    "set_seed(SEED)"
   ]
  },
  {
   "cell_type": "code",
   "execution_count": 108,
   "metadata": {},
   "outputs": [
    {
     "name": "stdout",
     "output_type": "stream",
     "text": [
      "Running on CPU\n",
      "Number of accelerators:  1\n"
     ]
    }
   ],
   "source": [
    "try:\n",
    "    tpu = tf.distribute.cluster_resolver.TPUClusterResolver() # TPU detection\n",
    "    \n",
    "except ValueError:\n",
    "    tpu = None\n",
    "    #If TPU not found try with GPUs\n",
    "    gpus = tf.config.experimental.list_logical_devices(\"GPU\")\n",
    "    \n",
    "# Select appropriate distribution strategy for hardware\n",
    "if tpu:\n",
    "    tf.config.experimental_connect_to_cluster(tpu)\n",
    "    tf.tpu.experimental.initialize_tpu_system(tpu)\n",
    "    strategy = tf.distribute.experimental.TPUStrategy(tpu)\n",
    "    print('Running on TPU ', tpu.master())  \n",
    "    \n",
    "elif len(gpus) > 0:\n",
    "    strategy = tf.distribute.MirroredStrategy(gpus) # this works for 1 to multiple GPUs\n",
    "    print('Running on ', len(gpus), ' GPU(s) ')\n",
    "\n",
    "else:\n",
    "    strategy = tf.distribute.get_strategy()\n",
    "    print('Running on CPU')\n",
    "\n",
    "# How many accelerators do we have ?\n",
    "print(\"Number of accelerators: \", strategy.num_replicas_in_sync)\n",
    "    \n",
    "AUTO = tf.data.experimental.AUTOTUNE\n",
    "REPLICAS = strategy.num_replicas_in_sync"
   ]
  },
  {
   "cell_type": "code",
   "execution_count": 109,
   "metadata": {},
   "outputs": [],
   "source": [
    "BATCH_SIZE = 128\n",
    "VERBOSE = 0\n",
    "\n",
    "DISPLAY_PLOT = True\n",
    "TEST_INFERENCE = True"
   ]
  },
  {
   "cell_type": "code",
   "execution_count": 110,
   "metadata": {},
   "outputs": [],
   "source": [
    "def plotLoss(history, name = 'loss'):\n",
    "    plt.figure(figsize=(20,8))\n",
    "    \n",
    "    epochs = len(history[name])\n",
    "    \n",
    "    plt.plot(np.arange(epochs),history[name],'-o',label='Train Loss',color='#cc0044')\n",
    "    plt.plot(np.arange(epochs),history[f'val_{name}'],'-o',label='Val Loss',color='#6600ff')\n",
    "\n",
    "    x_ = np.argmin(history[f'val_{name}'] ); y_ = np.min( history[f'val_{name}'] )\n",
    "\n",
    "    xdist = plt.xlim()[1] - plt.xlim()[0]; ydist = plt.ylim()[1] - plt.ylim()[0]\n",
    "\n",
    "    plt.scatter(x_,y_,s=200,color='#6600ff'); plt.text(x_-0.03*xdist,y_+0.05*ydist,f'min loss - {y_}',size=14)\n",
    "\n",
    "    plt.ylabel(name,size=14)\n",
    "    plt.title(f'Training Losses & Validation Losses')\n",
    "    plt.legend()\n",
    "\n",
    "    plt.show()"
   ]
  },
  {
   "cell_type": "code",
   "execution_count": 113,
   "metadata": {},
   "outputs": [
    {
     "name": "stdout",
     "output_type": "stream",
     "text": [
      "('Failed to import pydot. You must `pip install pydot` and install graphviz (https://graphviz.gitlab.io/download/), ', 'for `pydotprint` to work.')\n"
     ]
    }
   ],
   "source": [
    "import pydot\n",
    "def getNN(params,inp_shape=(X.shape[1],)):\n",
    "    \n",
    "    K.clear_session()\n",
    "    \n",
    "    inputs = L.Input(shape = inp_shape)\n",
    "    \n",
    "    x1 = L.BatchNormalization()(inputs)\n",
    "    x1 = L.Dropout(params['dropout_rates'][0])(x1)\n",
    "    x = L.Dense(params['hidden_units'][0], activation = 'elu')(x1)\n",
    "    \n",
    "    for i in range(1,len(params['hidden_units'])):\n",
    "        x1 = L.BatchNormalization()(x)\n",
    "        x1 = L.Dropout(params['dropout_rates'][i])(x1)\n",
    "        x = L.Dense(params['hidden_units'][i], activation = 'elu')(x1)\n",
    "    \n",
    "    x = L.BatchNormalization()(x)\n",
    "    x = L.Dropout(params['dropout_rates'][-1])(x)\n",
    "    out = L.Dense(1, dtype='float32')(x)\n",
    "    \n",
    "    model = M.Model(inputs = inputs, outputs = out)\n",
    "    \n",
    "    LR = 1e-2 * strategy.num_replicas_in_sync\n",
    "    \n",
    "    def rmse_loss(y_true, y_pred):\n",
    "        return K.sqrt(K.mean((y_true-y_pred)**2))\n",
    "    model.compile(optimizer = tf.optimizers.Adam(LR), loss=rmse_loss, metrics=[tf.keras.metrics.MeanAbsoluteError(name='mae')])\n",
    "    \n",
    "    return model\n",
    "\n",
    "params = {'hidden_units': [64,256, 32], 'dropout_rates': [0.05, 0.15, 0.25, 0.3]}\n",
    "\n",
    "tf.keras.utils.plot_model(getNN(params),show_shapes=True)"
   ]
  },
  {
   "cell_type": "code",
   "execution_count": null,
   "metadata": {},
   "outputs": [],
   "source": [
    "    \n",
    "    ### Out of Fold Predictions ###\n",
    "    oof_preds = []\n",
    "    oof_targets = []\n",
    "    oof_datetime = []\n",
    "    \n",
    "    ### Test set Predictions ###\n",
    "    test_preds = np.zeros_like(y_test,dtype='float32')\n",
    "    \n",
    "    ### Directory to save results ###\n",
    "    DIR_PATH = './NeuralN/'\n",
    "    if os.path.exists(DIR_PATH):\n",
    "        shutil.rmtree(DIR_PATH)\n",
    "    os.mkdir(DIR_PATH)\n",
    "    \n",
    "    set_seed(SEED)\n",
    "    \n",
    "    for fold, (idxT, idxV) in enumerate(kfcv.split(train)):\n",
    "        \n",
    "        if LOGS:\n",
    "            print()\n",
    "            print(\"#\"*100)\n",
    "            print(f\"#### Fold {fold}: \")\n",
    "        X_train_, y_train_ = X.iloc[idxT].copy(), y.iloc[idxT].copy()\n",
    "        X_val_, y_val_ = X.iloc[idxV].copy(), y.iloc[idxV].copy()\n",
    "        X_test_ = X_test.copy()\n",
    "        "
   ]
  },
  {
   "cell_type": "code",
   "execution_count": null,
   "metadata": {},
   "outputs": [],
   "source": []
  }
 ],
 "metadata": {
  "kernelspec": {
   "display_name": "Python 3",
   "language": "python",
   "name": "python3"
  },
  "language_info": {
   "codemirror_mode": {
    "name": "ipython",
    "version": 3
   },
   "file_extension": ".py",
   "mimetype": "text/x-python",
   "name": "python",
   "nbconvert_exporter": "python",
   "pygments_lexer": "ipython3",
   "version": "3.8.5"
  }
 },
 "nbformat": 4,
 "nbformat_minor": 4
}
