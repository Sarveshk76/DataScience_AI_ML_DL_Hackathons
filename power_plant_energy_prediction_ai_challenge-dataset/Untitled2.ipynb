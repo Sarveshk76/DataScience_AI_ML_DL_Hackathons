{
 "cells": [
  {
   "cell_type": "code",
   "execution_count": 1,
   "metadata": {},
   "outputs": [],
   "source": [
    "import pandas as pd"
   ]
  },
  {
   "cell_type": "code",
   "execution_count": 2,
   "metadata": {},
   "outputs": [],
   "source": [
    "df=pd.read_csv('Train.csv')"
   ]
  },
  {
   "cell_type": "code",
   "execution_count": 3,
   "metadata": {},
   "outputs": [],
   "source": [
    "X=df.iloc[:,:-1]"
   ]
  },
  {
   "cell_type": "code",
   "execution_count": 5,
   "metadata": {},
   "outputs": [],
   "source": [
    "y=df.iloc[:,-1]"
   ]
  },
  {
   "cell_type": "code",
   "execution_count": 9,
   "metadata": {},
   "outputs": [],
   "source": [
    "import xgboost\n",
    "regressor=xgboost.XGBRegressor()"
   ]
  },
  {
   "cell_type": "code",
   "execution_count": 10,
   "metadata": {},
   "outputs": [],
   "source": [
    "booster=['gbtree','gblinear']\n",
    "base_score=[0.25,0.5,0.75,1]"
   ]
  },
  {
   "cell_type": "code",
   "execution_count": 11,
   "metadata": {},
   "outputs": [],
   "source": [
    "n_estimators = [100, 500, 900, 1100, 1500]\n",
    "max_depth = [2, 3, 5, 10, 15]\n",
    "booster=['gbtree','gblinear']\n",
    "learning_rate=[0.05,0.1,0.15,0.20]\n",
    "min_child_weight=[1,2,3,4]\n",
    "\n",
    "# Define the grid of hyperparameters to search\n",
    "hyperparameter_grid = {\n",
    "    'n_estimators': n_estimators,\n",
    "    'max_depth':max_depth,\n",
    "    'learning_rate':learning_rate,\n",
    "    'min_child_weight':min_child_weight,\n",
    "    'booster':booster,\n",
    "    'base_score':base_score\n",
    "    }"
   ]
  },
  {
   "cell_type": "code",
   "execution_count": 14,
   "metadata": {},
   "outputs": [],
   "source": [
    "from sklearn.model_selection import RandomizedSearchCV\n",
    "random_cv = RandomizedSearchCV(estimator=regressor,\n",
    "            param_distributions=hyperparameter_grid,\n",
    "            cv=5, n_iter=50,\n",
    "            scoring = 'neg_mean_absolute_error',n_jobs = 4,\n",
    "            verbose = 5, \n",
    "            return_train_score = True,\n",
    "            random_state=42)"
   ]
  },
  {
   "cell_type": "code",
   "execution_count": 15,
   "metadata": {},
   "outputs": [],
   "source": [
    "from sklearn.model_selection import train_test_split\n",
    "X_train, X_test, y_train, y_test = train_test_split(X, y, test_size=0.01, random_state=0)"
   ]
  },
  {
   "cell_type": "code",
   "execution_count": 16,
   "metadata": {},
   "outputs": [
    {
     "name": "stdout",
     "output_type": "stream",
     "text": [
      "Fitting 5 folds for each of 50 candidates, totalling 250 fits\n"
     ]
    },
    {
     "name": "stderr",
     "output_type": "stream",
     "text": [
      "[Parallel(n_jobs=4)]: Using backend LokyBackend with 4 concurrent workers.\n",
      "[Parallel(n_jobs=4)]: Done  10 tasks      | elapsed:   36.5s\n",
      "[Parallel(n_jobs=4)]: Done  64 tasks      | elapsed:  3.2min\n",
      "[Parallel(n_jobs=4)]: Done 154 tasks      | elapsed:  4.0min\n",
      "[Parallel(n_jobs=4)]: Done 250 out of 250 | elapsed:  4.6min finished\n"
     ]
    },
    {
     "data": {
      "text/plain": [
       "RandomizedSearchCV(cv=5,\n",
       "                   estimator=XGBRegressor(base_score=None, booster=None,\n",
       "                                          colsample_bylevel=None,\n",
       "                                          colsample_bynode=None,\n",
       "                                          colsample_bytree=None, gamma=None,\n",
       "                                          gpu_id=None, importance_type='gain',\n",
       "                                          interaction_constraints=None,\n",
       "                                          learning_rate=None,\n",
       "                                          max_delta_step=None, max_depth=None,\n",
       "                                          min_child_weight=None, missing=nan,\n",
       "                                          monotone_constraints=None,\n",
       "                                          n_estimators=100, n...\n",
       "                                          validate_parameters=None,\n",
       "                                          verbosity=None),\n",
       "                   n_iter=50, n_jobs=4,\n",
       "                   param_distributions={'base_score': [0.25, 0.5, 0.75, 1],\n",
       "                                        'booster': ['gbtree', 'gblinear'],\n",
       "                                        'learning_rate': [0.05, 0.1, 0.15, 0.2],\n",
       "                                        'max_depth': [2, 3, 5, 10, 15],\n",
       "                                        'min_child_weight': [1, 2, 3, 4],\n",
       "                                        'n_estimators': [100, 500, 900, 1100,\n",
       "                                                         1500]},\n",
       "                   random_state=42, return_train_score=True,\n",
       "                   scoring='neg_mean_absolute_error', verbose=5)"
      ]
     },
     "execution_count": 16,
     "metadata": {},
     "output_type": "execute_result"
    }
   ],
   "source": [
    "random_cv.fit(X_train,y_train)"
   ]
  },
  {
   "cell_type": "code",
   "execution_count": 17,
   "metadata": {},
   "outputs": [
    {
     "data": {
      "text/plain": [
       "XGBRegressor(base_score=0.5, booster='gbtree', colsample_bylevel=1,\n",
       "             colsample_bynode=1, colsample_bytree=1, gamma=0, gpu_id=-1,\n",
       "             importance_type='gain', interaction_constraints='',\n",
       "             learning_rate=0.05, max_delta_step=0, max_depth=15,\n",
       "             min_child_weight=4, missing=nan, monotone_constraints='()',\n",
       "             n_estimators=900, n_jobs=0, num_parallel_tree=1, random_state=0,\n",
       "             reg_alpha=0, reg_lambda=1, scale_pos_weight=1, subsample=1,\n",
       "             tree_method='exact', validate_parameters=1, verbosity=None)"
      ]
     },
     "execution_count": 17,
     "metadata": {},
     "output_type": "execute_result"
    }
   ],
   "source": [
    "random_cv.best_estimator_"
   ]
  },
  {
   "cell_type": "code",
   "execution_count": 18,
   "metadata": {},
   "outputs": [
    {
     "data": {
      "text/plain": [
       "XGBRegressor(base_score=0.5, booster='gbtree', colsample_bylevel=1,\n",
       "             colsample_bynode=1, colsample_bytree=1, gamma=0, gpu_id=-1,\n",
       "             importance_type='gain', interaction_constraints='',\n",
       "             learning_rate=0.05, max_delta_step=0, max_depth=15,\n",
       "             min_child_weight=4, missing=nan, monotone_constraints='()',\n",
       "             n_estimators=900, n_jobs=0, num_parallel_tree=1, random_state=0,\n",
       "             reg_alpha=0, reg_lambda=1, scale_pos_weight=1, subsample=1,\n",
       "             tree_method='exact', validate_parameters=1, verbosity=None)"
      ]
     },
     "execution_count": 18,
     "metadata": {},
     "output_type": "execute_result"
    }
   ],
   "source": [
    "random_cv.best_estimator_"
   ]
  },
  {
   "cell_type": "code",
   "execution_count": 21,
   "metadata": {},
   "outputs": [],
   "source": [
    "regressor=xgboost.XGBRegressor(base_score=0.5, booster='gbtree', colsample_bylevel=1,\n",
    "             colsample_bynode=1, colsample_bytree=1, gamma=0, gpu_id=-1,\n",
    "             importance_type='gain', interaction_constraints='',\n",
    "             learning_rate=0.05, max_delta_step=0, max_depth=15,\n",
    "             min_child_weight=4, missing=None, monotone_constraints='()',\n",
    "             n_estimators=900, n_jobs=0, num_parallel_tree=1, random_state=0,\n",
    "             reg_alpha=0, reg_lambda=1, scale_pos_weight=1, subsample=1,\n",
    "             tree_method='exact', validate_parameters=1, verbosity=None)"
   ]
  },
  {
   "cell_type": "code",
   "execution_count": 22,
   "metadata": {},
   "outputs": [
    {
     "data": {
      "text/plain": [
       "XGBRegressor(base_score=0.5, booster='gbtree', colsample_bylevel=1,\n",
       "             colsample_bynode=1, colsample_bytree=1, gamma=0, gpu_id=-1,\n",
       "             importance_type='gain', interaction_constraints='',\n",
       "             learning_rate=0.05, max_delta_step=0, max_depth=15,\n",
       "             min_child_weight=4, missing=None, monotone_constraints='()',\n",
       "             n_estimators=900, n_jobs=0, num_parallel_tree=1, random_state=0,\n",
       "             reg_alpha=0, reg_lambda=1, scale_pos_weight=1, subsample=1,\n",
       "             tree_method='exact', validate_parameters=1, verbosity=None)"
      ]
     },
     "execution_count": 22,
     "metadata": {},
     "output_type": "execute_result"
    }
   ],
   "source": [
    "regressor.fit(X_train,y_train)"
   ]
  },
  {
   "cell_type": "code",
   "execution_count": 23,
   "metadata": {},
   "outputs": [],
   "source": [
    "predictions=regressor.predict(X_test)"
   ]
  },
  {
   "cell_type": "code",
   "execution_count": 24,
   "metadata": {},
   "outputs": [
    {
     "data": {
      "text/plain": [
       "array([427.8384 , 432.24237, 444.27228, 483.9921 , 445.1004 , 466.9469 ,\n",
       "       467.1231 , 431.0614 , 429.93103, 473.3476 , 454.8006 , 442.36188,\n",
       "       430.4814 , 439.0784 , 467.44037, 437.51154, 442.84338, 461.09616,\n",
       "       464.96808, 466.84854, 434.93152, 465.47937, 463.02383, 456.642  ,\n",
       "       429.50415, 456.22824, 475.18597, 434.60675, 456.44415, 461.28226,\n",
       "       439.36642, 446.1479 , 435.6666 , 441.51663, 437.65872, 484.0768 ,\n",
       "       461.63675, 488.1228 , 440.89517, 444.83875, 465.88522, 464.03738,\n",
       "       474.07034, 476.89536, 482.8664 , 451.93237, 432.58926, 448.48953,\n",
       "       447.84296, 447.0155 , 467.39258, 452.96606, 442.8618 , 438.39932,\n",
       "       466.62878, 463.22546, 437.4915 , 451.10867, 476.3772 , 477.581  ,\n",
       "       437.9328 , 433.5493 , 460.9508 , 440.0281 , 432.0586 , 456.3395 ,\n",
       "       444.58722, 475.19452, 467.69455, 431.8826 , 443.99448, 453.32336,\n",
       "       483.90933, 481.8618 , 433.15427, 453.59155, 477.79932, 479.0568 ,\n",
       "       434.4367 , 446.70352], dtype=float32)"
      ]
     },
     "execution_count": 24,
     "metadata": {},
     "output_type": "execute_result"
    }
   ],
   "source": [
    "predictions"
   ]
  },
  {
   "cell_type": "code",
   "execution_count": 26,
   "metadata": {},
   "outputs": [
    {
     "data": {
      "text/plain": [
       "<matplotlib.axes._subplots.AxesSubplot at 0x193b7335550>"
      ]
     },
     "execution_count": 26,
     "metadata": {},
     "output_type": "execute_result"
    },
    {
     "data": {
      "image/png": "[encoded data removed]",
      "text/plain": [
       "<Figure size 432x288 with 1 Axes>"
      ]
     },
     "metadata": {
      "needs_background": "light"
     },
     "output_type": "display_data"
    }
   ],
   "source": [
    "import seaborn as sns\n",
    "sns.distplot(y_test-predictions)"
   ]
  },
  {
   "cell_type": "code",
   "execution_count": 28,
   "metadata": {},
   "outputs": [
    {
     "data": {
      "text/plain": [
       "<matplotlib.collections.PathCollection at 0x193b7aeec10>"
      ]
     },
     "execution_count": 28,
     "metadata": {},
     "output_type": "execute_result"
    },
    {
     "data": {
      "image/png": "[encoded data removed]",
      "text/plain": [
       "<Figure size 432x288 with 1 Axes>"
      ]
     },
     "metadata": {
      "needs_background": "light"
     },
     "output_type": "display_data"
    }
   ],
   "source": [
    "import matplotlib.pyplot as plt\n",
    "plt.scatter(y_test,predictions)"
   ]
  },
  {
   "cell_type": "code",
   "execution_count": 29,
   "metadata": {},
   "outputs": [],
   "source": [
    "from sklearn import metrics"
   ]
  },
  {
   "cell_type": "code",
   "execution_count": 31,
   "metadata": {},
   "outputs": [
    {
     "name": "stdout",
     "output_type": "stream",
     "text": [
      "MAE: 1.838464721679685\n",
      "MSE: 6.606525930011912\n",
      "RMSE: 2.5703163093308015\n"
     ]
    }
   ],
   "source": [
    "import numpy as np\n",
    "print('MAE:', metrics.mean_absolute_error(y_test, predictions))\n",
    "print('MSE:', metrics.mean_squared_error(y_test, predictions))\n",
    "print('RMSE:', np.sqrt(metrics.mean_squared_error(y_test, predictions)))"
   ]
  },
  {
   "cell_type": "code",
   "execution_count": 32,
   "metadata": {},
   "outputs": [],
   "source": [
    "errors = abs(predictions - y_test)"
   ]
  },
  {
   "cell_type": "code",
   "execution_count": 33,
   "metadata": {},
   "outputs": [
    {
     "name": "stdout",
     "output_type": "stream",
     "text": [
      "Accuracy: 99.5924 %.\n"
     ]
    }
   ],
   "source": [
    "#mape=mean absolute percentage error\n",
    "mape = 100 * (errors / y_test)\n",
    "# Calculate and display accuracy\n",
    "accuracy = 100 - np.mean(mape)\n",
    "print('Accuracy:', round(accuracy, 4), '%.')"
   ]
  },
  {
   "cell_type": "code",
   "execution_count": 34,
   "metadata": {},
   "outputs": [],
   "source": [
    "df=pd.read_csv('Test.csv')"
   ]
  },
  {
   "cell_type": "code",
   "execution_count": 35,
   "metadata": {},
   "outputs": [],
   "source": [
    "y_pred=regressor.predict(df)"
   ]
  },
  {
   "cell_type": "code",
   "execution_count": 40,
   "metadata": {},
   "outputs": [],
   "source": [
    "t=y_pred[1000:1568]"
   ]
  },
  {
   "cell_type": "code",
   "execution_count": 41,
   "metadata": {},
   "outputs": [
    {
     "data": {
      "text/plain": [
       "[441.9549865722656,\n",
       " 469.69488525390625,\n",
       " 441.2725524902344,\n",
       " 443.4864807128906,\n",
       " 480.92919921875,\n",
       " 438.4297180175781,\n",
       " 436.14239501953125,\n",
       " 469.6304016113281,\n",
       " 436.1054992675781,\n",
       " 446.9373779296875,\n",
       " 448.6961669921875,\n",
       " 444.22210693359375,\n",
       " 431.4864807128906,\n",
       " 461.7339172363281,\n",
       " 436.82049560546875,\n",
       " 441.2994384765625,\n",
       " 447.6611633300781,\n",
       " 460.9621276855469,\n",
       " 461.1173400878906,\n",
       " 436.9198303222656,\n",
       " 472.1515808105469,\n",
       " 479.018310546875,\n",
       " 432.6003112792969,\n",
       " 444.39739990234375,\n",
       " 440.4348449707031,\n",
       " 454.7785949707031,\n",
       " 477.6672668457031,\n",
       " 447.5572204589844,\n",
       " 446.05767822265625,\n",
       " 431.41217041015625,\n",
       " 453.5091247558594,\n",
       " 479.673828125,\n",
       " 440.6551208496094,\n",
       " 434.61712646484375,\n",
       " 458.66595458984375,\n",
       " 442.4317932128906,\n",
       " 451.9743957519531,\n",
       " 453.797607421875,\n",
       " 470.4364929199219,\n",
       " 432.3110656738281,\n",
       " 474.3523254394531,\n",
       " 475.6544189453125,\n",
       " 444.2186584472656,\n",
       " 442.58123779296875,\n",
       " 468.788818359375,\n",
       " 463.3926696777344,\n",
       " 471.091064453125,\n",
       " 431.44757080078125,\n",
       " 436.7708435058594,\n",
       " 432.0087585449219,\n",
       " 451.7067565917969,\n",
       " 449.0039367675781,\n",
       " 481.3898620605469,\n",
       " 451.59356689453125,\n",
       " 444.0345764160156,\n",
       " 481.14947509765625,\n",
       " 476.3879699707031,\n",
       " 449.0605163574219,\n",
       " 446.1440124511719,\n",
       " 484.427001953125,\n",
       " 433.5359191894531,\n",
       " 472.1899108886719,\n",
       " 444.6659240722656,\n",
       " 461.10595703125,\n",
       " 442.1513366699219,\n",
       " 438.09027099609375,\n",
       " 461.7418212890625,\n",
       " 440.0479736328125,\n",
       " 472.49163818359375,\n",
       " 437.2437438964844,\n",
       " 464.87762451171875,\n",
       " 478.39215087890625,\n",
       " 440.32257080078125,\n",
       " 464.8826904296875,\n",
       " 437.2799072265625,\n",
       " 483.731201171875,\n",
       " 461.25787353515625,\n",
       " 465.2044372558594,\n",
       " 435.19091796875,\n",
       " 436.99517822265625,\n",
       " 463.4964599609375,\n",
       " 449.181396484375,\n",
       " 474.7587585449219,\n",
       " 467.0457763671875,\n",
       " 442.0202331542969,\n",
       " 436.186279296875,\n",
       " 430.61712646484375,\n",
       " 487.0740966796875,\n",
       " 468.3851623535156,\n",
       " 436.5722961425781,\n",
       " 451.3089599609375,\n",
       " 448.133544921875,\n",
       " 445.8319396972656,\n",
       " 440.16192626953125,\n",
       " 439.1255187988281,\n",
       " 464.385009765625,\n",
       " 458.2414855957031,\n",
       " 436.78546142578125,\n",
       " 440.2748718261719,\n",
       " 445.96673583984375,\n",
       " 438.7081604003906,\n",
       " 438.79840087890625,\n",
       " 436.4567565917969,\n",
       " 455.3785095214844,\n",
       " 461.8846435546875,\n",
       " 444.5768737792969,\n",
       " 430.97998046875,\n",
       " 438.1490478515625,\n",
       " 447.37420654296875,\n",
       " 428.2743835449219,\n",
       " 437.0899963378906,\n",
       " 489.27935791015625,\n",
       " 431.09796142578125,\n",
       " 445.7123718261719,\n",
       " 447.5312194824219,\n",
       " 447.2618408203125,\n",
       " 457.5547790527344,\n",
       " 451.277099609375,\n",
       " 485.2918395996094,\n",
       " 436.2882995605469,\n",
       " 432.4986877441406,\n",
       " 439.9658508300781,\n",
       " 450.9881286621094,\n",
       " 430.89202880859375,\n",
       " 452.7132263183594,\n",
       " 456.20159912109375,\n",
       " 473.02093505859375,\n",
       " 442.3278503417969,\n",
       " 487.1715393066406,\n",
       " 454.0896911621094,\n",
       " 440.88934326171875,\n",
       " 442.71514892578125,\n",
       " 465.80950927734375,\n",
       " 474.4184265136719,\n",
       " 463.05755615234375,\n",
       " 446.6845397949219,\n",
       " 443.63623046875,\n",
       " 471.08099365234375,\n",
       " 467.2042236328125,\n",
       " 467.0711364746094,\n",
       " 443.7771301269531,\n",
       " 456.7331848144531,\n",
       " 433.018310546875,\n",
       " 458.76422119140625,\n",
       " 460.2468566894531,\n",
       " 471.408447265625,\n",
       " 463.965087890625,\n",
       " 434.631103515625,\n",
       " 442.3247985839844,\n",
       " 442.5290222167969,\n",
       " 460.0782775878906,\n",
       " 436.78466796875,\n",
       " 453.2062683105469,\n",
       " 434.4058532714844,\n",
       " 462.3745422363281,\n",
       " 442.6050109863281,\n",
       " 472.3193054199219,\n",
       " 472.06414794921875,\n",
       " 479.00469970703125,\n",
       " 474.4628601074219,\n",
       " 470.0682373046875,\n",
       " 428.2130126953125,\n",
       " 442.2059020996094,\n",
       " 443.2525939941406,\n",
       " 446.7533874511719,\n",
       " 473.94635009765625,\n",
       " 444.4725646972656,\n",
       " 481.0581359863281,\n",
       " 441.0213928222656,\n",
       " 431.9653625488281,\n",
       " 449.46820068359375,\n",
       " 450.6466979980469,\n",
       " 464.4104309082031,\n",
       " 434.3326416015625,\n",
       " 434.46875,\n",
       " 443.4107666015625,\n",
       " 458.8370666503906,\n",
       " 475.31707763671875,\n",
       " 453.1080627441406,\n",
       " 461.33074951171875,\n",
       " 465.46148681640625,\n",
       " 436.1959533691406,\n",
       " 456.63360595703125,\n",
       " 434.4168701171875,\n",
       " 433.7519226074219,\n",
       " 442.11785888671875,\n",
       " 438.2983703613281,\n",
       " 453.3538818359375,\n",
       " 441.2892761230469,\n",
       " 448.8691101074219,\n",
       " 454.7193603515625,\n",
       " 448.6397705078125,\n",
       " 457.0993957519531,\n",
       " 436.4734802246094,\n",
       " 443.2900085449219,\n",
       " 442.536865234375,\n",
       " 443.3396301269531,\n",
       " 464.9247131347656,\n",
       " 443.16827392578125,\n",
       " 431.7399597167969,\n",
       " 436.4005432128906,\n",
       " 439.2768249511719,\n",
       " 454.17132568359375,\n",
       " 483.32257080078125,\n",
       " 438.7552185058594,\n",
       " 472.6162109375,\n",
       " 466.1705627441406,\n",
       " 456.277099609375,\n",
       " 435.6334533691406,\n",
       " 485.27130126953125,\n",
       " 468.2623291015625,\n",
       " 464.92657470703125,\n",
       " 471.4694519042969,\n",
       " 432.8165588378906,\n",
       " 483.46453857421875,\n",
       " 464.3415222167969,\n",
       " 469.2832946777344,\n",
       " 477.8341979980469,\n",
       " 455.641357421875,\n",
       " 450.8726501464844,\n",
       " 477.5219421386719,\n",
       " 435.78851318359375,\n",
       " 433.4152526855469,\n",
       " 452.5454406738281,\n",
       " 446.4159240722656,\n",
       " 429.0753173828125,\n",
       " 435.9541015625,\n",
       " 457.0341491699219,\n",
       " 454.75732421875,\n",
       " 483.5936279296875,\n",
       " 471.5456848144531,\n",
       " 428.8050842285156,\n",
       " 479.2094421386719,\n",
       " 479.9009094238281,\n",
       " 452.6554260253906,\n",
       " 476.9617919921875,\n",
       " 466.2027282714844,\n",
       " 437.2662048339844,\n",
       " 443.47174072265625,\n",
       " 472.81365966796875,\n",
       " 463.96044921875,\n",
       " 432.8939208984375,\n",
       " 443.53436279296875,\n",
       " 436.7861328125,\n",
       " 450.1160583496094,\n",
       " 437.12799072265625,\n",
       " 478.7880554199219,\n",
       " 439.8873291015625,\n",
       " 450.18402099609375,\n",
       " 440.1205139160156,\n",
       " 485.8250732421875,\n",
       " 473.759521484375,\n",
       " 439.4329528808594,\n",
       " 455.9309387207031,\n",
       " 482.0437316894531,\n",
       " 435.0604248046875,\n",
       " 437.20660400390625,\n",
       " 431.9570007324219,\n",
       " 432.75177001953125,\n",
       " 455.9129943847656,\n",
       " 432.0922546386719,\n",
       " 467.02252197265625,\n",
       " 443.24566650390625,\n",
       " 442.7251281738281,\n",
       " 429.2593688964844,\n",
       " 473.4911804199219,\n",
       " 448.3938903808594,\n",
       " 441.5330505371094,\n",
       " 435.6143493652344,\n",
       " 442.4503173828125,\n",
       " 483.8415222167969,\n",
       " 433.3896179199219,\n",
       " 437.7809143066406,\n",
       " 432.0329895019531,\n",
       " 449.00244140625,\n",
       " 434.5986328125,\n",
       " 433.2962646484375,\n",
       " 464.6941223144531,\n",
       " 442.2967529296875,\n",
       " 463.1730041503906,\n",
       " 471.7802429199219,\n",
       " 435.7868957519531,\n",
       " 430.0166015625,\n",
       " 478.18463134765625,\n",
       " 440.9898376464844,\n",
       " 444.1714172363281,\n",
       " 453.8502502441406,\n",
       " 468.0907287597656,\n",
       " 430.647705078125,\n",
       " 433.73223876953125,\n",
       " 438.7532043457031,\n",
       " 473.5578918457031,\n",
       " 481.140625,\n",
       " 475.6598205566406,\n",
       " 446.3218994140625,\n",
       " 462.3437194824219,\n",
       " 460.7869873046875,\n",
       " 447.9386901855469,\n",
       " 472.36785888671875,\n",
       " 436.0448913574219,\n",
       " 473.63519287109375,\n",
       " 460.3893737792969,\n",
       " 437.1183166503906,\n",
       " 467.6885681152344,\n",
       " 455.3481140136719,\n",
       " 444.1727294921875,\n",
       " 488.276611328125,\n",
       " 456.39862060546875,\n",
       " 455.1420593261719,\n",
       " 435.8159484863281,\n",
       " 469.917236328125,\n",
       " 447.2530517578125,\n",
       " 477.0666809082031,\n",
       " 441.92047119140625,\n",
       " 466.21881103515625,\n",
       " 463.9159240722656,\n",
       " 457.9353332519531,\n",
       " 458.29974365234375,\n",
       " 472.9313049316406,\n",
       " 468.6905517578125,\n",
       " 444.1327209472656,\n",
       " 478.95794677734375,\n",
       " 465.8721008300781,\n",
       " 488.31365966796875,\n",
       " 438.2172546386719,\n",
       " 430.4865417480469,\n",
       " 437.8919372558594,\n",
       " 445.1007385253906,\n",
       " 431.9287109375,\n",
       " 440.16558837890625,\n",
       " 431.4225769042969,\n",
       " 434.5921325683594,\n",
       " 443.0777587890625,\n",
       " 431.7040100097656,\n",
       " 476.34307861328125,\n",
       " 481.146484375,\n",
       " 432.80615234375,\n",
       " 444.15777587890625,\n",
       " 472.7831115722656,\n",
       " 475.57611083984375,\n",
       " 441.3092041015625,\n",
       " 444.29119873046875,\n",
       " 482.59002685546875,\n",
       " 442.66131591796875,\n",
       " 438.44464111328125,\n",
       " 436.9729309082031,\n",
       " 480.38372802734375,\n",
       " 464.8408508300781,\n",
       " 449.2752685546875,\n",
       " 437.0321044921875,\n",
       " 486.8318176269531,\n",
       " 474.0914001464844,\n",
       " 470.77777099609375,\n",
       " 457.1070556640625,\n",
       " 482.9095764160156,\n",
       " 468.4074401855469,\n",
       " 445.9171447753906,\n",
       " 438.37530517578125,\n",
       " 465.3214111328125,\n",
       " 462.8667907714844,\n",
       " 467.8017272949219,\n",
       " 466.71490478515625,\n",
       " 450.1279602050781,\n",
       " 473.51214599609375,\n",
       " 480.94964599609375,\n",
       " 463.2283630371094,\n",
       " 441.13250732421875,\n",
       " 436.6288757324219,\n",
       " 434.5168151855469,\n",
       " 448.22125244140625,\n",
       " 445.81341552734375,\n",
       " 432.2189636230469,\n",
       " 441.0753479003906,\n",
       " 437.6632385253906,\n",
       " 431.6598205566406,\n",
       " 437.6651611328125,\n",
       " 473.11090087890625,\n",
       " 467.7544860839844,\n",
       " 459.34466552734375,\n",
       " 435.59820556640625,\n",
       " 432.13385009765625,\n",
       " 476.3702087402344,\n",
       " 465.3844299316406,\n",
       " 471.2750244140625,\n",
       " 478.943359375,\n",
       " 467.5731506347656,\n",
       " 437.564453125,\n",
       " 445.675537109375,\n",
       " 479.19384765625,\n",
       " 480.3446960449219,\n",
       " 464.532958984375,\n",
       " 436.8218078613281,\n",
       " 480.8484802246094,\n",
       " 442.6737976074219,\n",
       " 446.9732971191406,\n",
       " 446.1494445800781,\n",
       " 469.7654113769531,\n",
       " 435.1598815917969,\n",
       " 441.1949462890625,\n",
       " 445.9742431640625,\n",
       " 446.748291015625,\n",
       " 452.171142578125,\n",
       " 436.0209045410156,\n",
       " 442.2775573730469,\n",
       " 455.2203674316406,\n",
       " 451.6733093261719,\n",
       " 477.6048278808594,\n",
       " 435.24334716796875,\n",
       " 438.06732177734375,\n",
       " 457.9268493652344,\n",
       " 439.6415710449219,\n",
       " 449.20831298828125,\n",
       " 483.6434020996094,\n",
       " 487.4550476074219,\n",
       " 430.0073547363281,\n",
       " 432.0596618652344,\n",
       " 447.52044677734375,\n",
       " 445.51153564453125,\n",
       " 441.6703186035156,\n",
       " 433.484375,\n",
       " 468.2312316894531,\n",
       " 435.95562744140625,\n",
       " 460.8009033203125,\n",
       " 437.6226806640625,\n",
       " 472.9324951171875,\n",
       " 467.1484069824219,\n",
       " 445.8124084472656,\n",
       " 464.4391174316406,\n",
       " 481.1612243652344,\n",
       " 478.56927490234375,\n",
       " 444.1517333984375,\n",
       " 446.5958251953125,\n",
       " 452.5995178222656,\n",
       " 439.7544250488281,\n",
       " 440.2250061035156,\n",
       " 447.64398193359375,\n",
       " 428.96185302734375,\n",
       " 476.5352783203125,\n",
       " 438.09783935546875,\n",
       " 439.5926818847656,\n",
       " 451.3139953613281,\n",
       " 433.1772155761719,\n",
       " 442.8570556640625,\n",
       " 431.5084533691406,\n",
       " 482.98046875,\n",
       " 458.9399719238281,\n",
       " 434.1758117675781,\n",
       " 446.28179931640625,\n",
       " 449.8034362792969,\n",
       " 459.7475891113281,\n",
       " 467.072509765625,\n",
       " 484.86676025390625,\n",
       " 444.2284851074219,\n",
       " 476.6399230957031,\n",
       " 449.5683898925781,\n",
       " 484.2261047363281,\n",
       " 438.9022521972656,\n",
       " 436.7264709472656,\n",
       " 450.7154846191406,\n",
       " 432.0683288574219,\n",
       " 459.8392639160156,\n",
       " 450.9139404296875,\n",
       " 487.7294616699219,\n",
       " 445.6885986328125,\n",
       " 449.6305236816406,\n",
       " 468.4850769042969,\n",
       " 433.2906799316406,\n",
       " 442.62042236328125,\n",
       " 436.71466064453125,\n",
       " 463.9119567871094,\n",
       " 457.7137451171875,\n",
       " 445.3670959472656,\n",
       " 475.52056884765625,\n",
       " 477.2845153808594,\n",
       " 448.66534423828125,\n",
       " 429.0010070800781,\n",
       " 444.4200744628906,\n",
       " 437.1526794433594,\n",
       " 444.6718444824219,\n",
       " 432.4175109863281,\n",
       " 443.8447570800781,\n",
       " 440.91522216796875,\n",
       " 439.7051696777344,\n",
       " 448.8489685058594,\n",
       " 448.96148681640625,\n",
       " 453.16217041015625,\n",
       " 449.90106201171875,\n",
       " 467.8306579589844,\n",
       " 468.4982604980469,\n",
       " 464.0238037109375,\n",
       " 443.6639099121094,\n",
       " 439.8546142578125,\n",
       " 439.880859375,\n",
       " 431.6078186035156,\n",
       " 470.5347900390625,\n",
       " 449.6918640136719,\n",
       " 479.5750427246094,\n",
       " 481.878662109375,\n",
       " 429.1681823730469,\n",
       " 426.9931335449219,\n",
       " 448.04705810546875,\n",
       " 438.3648376464844,\n",
       " 443.5679626464844,\n",
       " 437.3114013671875,\n",
       " 472.9858703613281,\n",
       " 446.20098876953125,\n",
       " 442.83660888671875,\n",
       " 439.16522216796875,\n",
       " 433.2416687011719,\n",
       " 445.2904968261719,\n",
       " 447.1971130371094,\n",
       " 483.6084899902344,\n",
       " 446.8578186035156,\n",
       " 462.7336120605469,\n",
       " 465.6310729980469,\n",
       " 431.20318603515625,\n",
       " 467.0946044921875,\n",
       " 460.358642578125,\n",
       " 462.20794677734375,\n",
       " 437.90869140625,\n",
       " 463.55596923828125,\n",
       " 478.89324951171875,\n",
       " 462.5230712890625,\n",
       " 463.3345947265625,\n",
       " 473.3089904785156,\n",
       " 447.3359375,\n",
       " 467.86474609375,\n",
       " 439.59979248046875,\n",
       " 444.3753356933594,\n",
       " 463.9678039550781,\n",
       " 452.1187744140625,\n",
       " 431.7345886230469,\n",
       " 433.28436279296875,\n",
       " 477.30218505859375,\n",
       " 482.99017333984375,\n",
       " 442.6624450683594,\n",
       " 440.2513427734375,\n",
       " 445.25677490234375,\n",
       " 444.1955261230469,\n",
       " 461.9812927246094,\n",
       " 477.1424865722656,\n",
       " 464.6796875,\n",
       " 441.4947814941406,\n",
       " 476.0286865234375,\n",
       " 477.7524108886719,\n",
       " 448.6050109863281,\n",
       " 441.9565124511719,\n",
       " 481.07171630859375,\n",
       " 480.21990966796875,\n",
       " 448.0890197753906,\n",
       " 459.3363952636719,\n",
       " 462.0758361816406,\n",
       " 442.9805908203125,\n",
       " 466.84466552734375,\n",
       " 472.4241943359375,\n",
       " 443.9015808105469,\n",
       " 467.30120849609375,\n",
       " 451.57208251953125,\n",
       " 483.5379333496094,\n",
       " 483.4254150390625,\n",
       " 454.2281799316406,\n",
       " 440.4347229003906,\n",
       " 440.61431884765625,\n",
       " 454.55670166015625,\n",
       " 443.4864501953125,\n",
       " 480.749755859375,\n",
       " 455.2178955078125,\n",
       " 479.4346618652344]"
      ]
     },
     "execution_count": 41,
     "metadata": {},
     "output_type": "execute_result"
    }
   ],
   "source": [
    "from array import *\n",
    "list1=t.tolist()\n",
    "list1"
   ]
  },
  {
   "cell_type": "code",
   "execution_count": null,
   "metadata": {},
   "outputs": [],
   "source": []
  }
 ],
 "metadata": {
  "kernelspec": {
   "display_name": "Python 3",
   "language": "python",
   "name": "python3"
  },
  "language_info": {
   "codemirror_mode": {
    "name": "ipython",
    "version": 3
   },
   "file_extension": ".py",
   "mimetype": "text/x-python",
   "name": "python",
   "nbconvert_exporter": "python",
   "pygments_lexer": "ipython3",
   "version": "3.8.5"
  }
 },
 "nbformat": 4,
 "nbformat_minor": 4
}
