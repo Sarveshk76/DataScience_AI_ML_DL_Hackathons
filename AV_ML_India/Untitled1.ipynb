{
 "cells": [
  {
   "cell_type": "code",
   "execution_count": 2,
   "metadata": {},
   "outputs": [],
   "source": [
    "import pandas as pd\n",
    "import numpy as np\n",
    "import matplotlib.pyplot as plt\n",
    "import seaborn as sns\n",
    "%matplotlib inline\n",
    "\n",
    "from statsmodels.stats.outliers_influence import variance_inflation_factor\n",
    "from sklearn.feature_selection import RFE, RFECV\n",
    "from sklearn.metrics import f1_score\n",
    "from sklearn.model_selection import train_test_split\n",
    "from sklearn.linear_model import LogisticRegression\n",
    "from sklearn.neighbors import NearestNeighbors\n",
    "from sklearn.tree import DecisionTreeClassifier\n",
    "from sklearn.svm import SVC\n",
    "from sklearn.ensemble import RandomForestClassifier,AdaBoostClassifier, ExtraTreesClassifier,GradientBoostingClassifier\n",
    "from sklearn.metrics import classification_report, confusion_matrix, roc_auc_score, roc_curve\n",
    "from sklearn.model_selection import cross_val_score, KFold\n",
    "from imblearn.over_sampling import SMOTE\n",
    "from sklearn.utils import resample\n",
    "from sklearn.model_selection import GridSearchCV, RandomizedSearchCV\n",
    "\n",
    "import warnings\n",
    "warnings.filterwarnings(\"ignore\")"
   ]
  },
  {
   "cell_type": "code",
   "execution_count": 3,
   "metadata": {},
   "outputs": [
    {
     "name": "stdout",
     "output_type": "stream",
     "text": [
      "(116058, 29) Index(['loan_id', 'source', 'financial_institution', 'interest_rate',\n",
      "       'unpaid_principal_bal', 'loan_term', 'origination_date',\n",
      "       'first_payment_date', 'loan_to_value', 'number_of_borrowers',\n",
      "       'debt_to_income_ratio', 'borrower_credit_score', 'loan_purpose',\n",
      "       'insurance_percent', 'co-borrower_credit_score', 'insurance_type', 'm1',\n",
      "       'm2', 'm3', 'm4', 'm5', 'm6', 'm7', 'm8', 'm9', 'm10', 'm11', 'm12',\n",
      "       'm13'],\n",
      "      dtype='object')\n"
     ]
    },
    {
     "data": {
      "text/html": [
       "<div>\n",
       "<style scoped>\n",
       "    .dataframe tbody tr th:only-of-type {\n",
       "        vertical-align: middle;\n",
       "    }\n",
       "\n",
       "    .dataframe tbody tr th {\n",
       "        vertical-align: top;\n",
       "    }\n",
       "\n",
       "    .dataframe thead th {\n",
       "        text-align: right;\n",
       "    }\n",
       "</style>\n",
       "<table border=\"1\" class=\"dataframe\">\n",
       "  <thead>\n",
       "    <tr style=\"text-align: right;\">\n",
       "      <th></th>\n",
       "      <th>loan_id</th>\n",
       "      <th>source</th>\n",
       "      <th>financial_institution</th>\n",
       "      <th>interest_rate</th>\n",
       "      <th>unpaid_principal_bal</th>\n",
       "      <th>loan_term</th>\n",
       "      <th>origination_date</th>\n",
       "      <th>first_payment_date</th>\n",
       "      <th>loan_to_value</th>\n",
       "      <th>number_of_borrowers</th>\n",
       "      <th>...</th>\n",
       "      <th>m4</th>\n",
       "      <th>m5</th>\n",
       "      <th>m6</th>\n",
       "      <th>m7</th>\n",
       "      <th>m8</th>\n",
       "      <th>m9</th>\n",
       "      <th>m10</th>\n",
       "      <th>m11</th>\n",
       "      <th>m12</th>\n",
       "      <th>m13</th>\n",
       "    </tr>\n",
       "  </thead>\n",
       "  <tbody>\n",
       "    <tr>\n",
       "      <th>0</th>\n",
       "      <td>268055008619</td>\n",
       "      <td>Z</td>\n",
       "      <td>Turner, Baldwin and Rhodes</td>\n",
       "      <td>4.250</td>\n",
       "      <td>214000</td>\n",
       "      <td>360</td>\n",
       "      <td>2012-03-01</td>\n",
       "      <td>05/2012</td>\n",
       "      <td>95</td>\n",
       "      <td>1.0</td>\n",
       "      <td>...</td>\n",
       "      <td>0</td>\n",
       "      <td>0</td>\n",
       "      <td>0</td>\n",
       "      <td>1</td>\n",
       "      <td>0</td>\n",
       "      <td>0</td>\n",
       "      <td>0</td>\n",
       "      <td>0</td>\n",
       "      <td>0</td>\n",
       "      <td>1</td>\n",
       "    </tr>\n",
       "    <tr>\n",
       "      <th>1</th>\n",
       "      <td>672831657627</td>\n",
       "      <td>Y</td>\n",
       "      <td>Swanson, Newton and Miller</td>\n",
       "      <td>4.875</td>\n",
       "      <td>144000</td>\n",
       "      <td>360</td>\n",
       "      <td>2012-01-01</td>\n",
       "      <td>03/2012</td>\n",
       "      <td>72</td>\n",
       "      <td>1.0</td>\n",
       "      <td>...</td>\n",
       "      <td>0</td>\n",
       "      <td>0</td>\n",
       "      <td>0</td>\n",
       "      <td>0</td>\n",
       "      <td>0</td>\n",
       "      <td>0</td>\n",
       "      <td>0</td>\n",
       "      <td>1</td>\n",
       "      <td>0</td>\n",
       "      <td>1</td>\n",
       "    </tr>\n",
       "    <tr>\n",
       "      <th>2</th>\n",
       "      <td>742515242108</td>\n",
       "      <td>Z</td>\n",
       "      <td>Thornton-Davis</td>\n",
       "      <td>3.250</td>\n",
       "      <td>366000</td>\n",
       "      <td>180</td>\n",
       "      <td>2012-01-01</td>\n",
       "      <td>03/2012</td>\n",
       "      <td>49</td>\n",
       "      <td>1.0</td>\n",
       "      <td>...</td>\n",
       "      <td>0</td>\n",
       "      <td>0</td>\n",
       "      <td>0</td>\n",
       "      <td>0</td>\n",
       "      <td>0</td>\n",
       "      <td>0</td>\n",
       "      <td>0</td>\n",
       "      <td>0</td>\n",
       "      <td>0</td>\n",
       "      <td>1</td>\n",
       "    </tr>\n",
       "    <tr>\n",
       "      <th>3</th>\n",
       "      <td>601385667462</td>\n",
       "      <td>X</td>\n",
       "      <td>OTHER</td>\n",
       "      <td>4.750</td>\n",
       "      <td>135000</td>\n",
       "      <td>360</td>\n",
       "      <td>2012-02-01</td>\n",
       "      <td>04/2012</td>\n",
       "      <td>46</td>\n",
       "      <td>2.0</td>\n",
       "      <td>...</td>\n",
       "      <td>0</td>\n",
       "      <td>0</td>\n",
       "      <td>0</td>\n",
       "      <td>0</td>\n",
       "      <td>0</td>\n",
       "      <td>1</td>\n",
       "      <td>1</td>\n",
       "      <td>1</td>\n",
       "      <td>1</td>\n",
       "      <td>1</td>\n",
       "    </tr>\n",
       "    <tr>\n",
       "      <th>4</th>\n",
       "      <td>273870029961</td>\n",
       "      <td>X</td>\n",
       "      <td>OTHER</td>\n",
       "      <td>4.750</td>\n",
       "      <td>124000</td>\n",
       "      <td>360</td>\n",
       "      <td>2012-02-01</td>\n",
       "      <td>04/2012</td>\n",
       "      <td>80</td>\n",
       "      <td>1.0</td>\n",
       "      <td>...</td>\n",
       "      <td>3</td>\n",
       "      <td>4</td>\n",
       "      <td>5</td>\n",
       "      <td>6</td>\n",
       "      <td>7</td>\n",
       "      <td>8</td>\n",
       "      <td>9</td>\n",
       "      <td>10</td>\n",
       "      <td>11</td>\n",
       "      <td>1</td>\n",
       "    </tr>\n",
       "  </tbody>\n",
       "</table>\n",
       "<p>5 rows × 29 columns</p>\n",
       "</div>"
      ],
      "text/plain": [
       "        loan_id source       financial_institution  interest_rate  \\\n",
       "0  268055008619      Z  Turner, Baldwin and Rhodes          4.250   \n",
       "1  672831657627      Y  Swanson, Newton and Miller          4.875   \n",
       "2  742515242108      Z              Thornton-Davis          3.250   \n",
       "3  601385667462      X                       OTHER          4.750   \n",
       "4  273870029961      X                       OTHER          4.750   \n",
       "\n",
       "   unpaid_principal_bal  loan_term origination_date first_payment_date  \\\n",
       "0                214000        360       2012-03-01            05/2012   \n",
       "1                144000        360       2012-01-01            03/2012   \n",
       "2                366000        180       2012-01-01            03/2012   \n",
       "3                135000        360       2012-02-01            04/2012   \n",
       "4                124000        360       2012-02-01            04/2012   \n",
       "\n",
       "   loan_to_value  number_of_borrowers  ...  m4  m5 m6  m7  m8  m9  m10  m11  \\\n",
       "0             95                  1.0  ...   0   0  0   1   0   0    0    0   \n",
       "1             72                  1.0  ...   0   0  0   0   0   0    0    1   \n",
       "2             49                  1.0  ...   0   0  0   0   0   0    0    0   \n",
       "3             46                  2.0  ...   0   0  0   0   0   1    1    1   \n",
       "4             80                  1.0  ...   3   4  5   6   7   8    9   10   \n",
       "\n",
       "   m12  m13  \n",
       "0    0    1  \n",
       "1    0    1  \n",
       "2    0    1  \n",
       "3    1    1  \n",
       "4   11    1  \n",
       "\n",
       "[5 rows x 29 columns]"
      ]
     },
     "execution_count": 3,
     "metadata": {},
     "output_type": "execute_result"
    }
   ],
   "source": [
    "df = pd.read_csv('train.csv')\n",
    "print(df.shape, df.columns)\n",
    "df.head()"
   ]
  },
  {
   "cell_type": "markdown",
   "metadata": {},
   "source": [
    "<h3> Exploratory Data Analysis"
   ]
  },
  {
   "cell_type": "code",
   "execution_count": 5,
   "metadata": {},
   "outputs": [
    {
     "data": {
      "text/plain": [
       "0"
      ]
     },
     "execution_count": 5,
     "metadata": {},
     "output_type": "execute_result"
    }
   ],
   "source": [
    "df.isnull().sum().sum()"
   ]
  },
  {
   "cell_type": "code",
   "execution_count": 6,
   "metadata": {},
   "outputs": [
    {
     "name": "stdout",
     "output_type": "stream",
     "text": [
      "numeric_features:  (116058, 24) Index(['loan_id', 'interest_rate', 'unpaid_principal_bal', 'loan_term',\n",
      "       'loan_to_value', 'number_of_borrowers', 'debt_to_income_ratio',\n",
      "       'borrower_credit_score', 'insurance_percent',\n",
      "       'co-borrower_credit_score', 'insurance_type', 'm1', 'm2', 'm3', 'm4',\n",
      "       'm5', 'm6', 'm7', 'm8', 'm9', 'm10', 'm11', 'm12', 'm13'],\n",
      "      dtype='object')\n",
      "categorical_features:  (116058, 5) Index(['source', 'financial_institution', 'origination_date',\n",
      "       'first_payment_date', 'loan_purpose'],\n",
      "      dtype='object')\n"
     ]
    }
   ],
   "source": [
    "numerical_features=df.select_dtypes(include=np.number)\n",
    "categorical_features=df.select_dtypes(include=np.object)\n",
    "print(\"numeric_features: \", numerical_features.shape, numerical_features.columns)\n",
    "print(\"categorical_features: \", categorical_features.shape, categorical_features.columns)"
   ]
  },
  {
   "cell_type": "markdown",
   "metadata": {},
   "source": [
    "<h5> relationship with numeric variables"
   ]
  },
  {
   "cell_type": "code",
   "execution_count": 7,
   "metadata": {},
   "outputs": [
    {
     "data": {
      "text/html": [
       "<div>\n",
       "<style scoped>\n",
       "    .dataframe tbody tr th:only-of-type {\n",
       "        vertical-align: middle;\n",
       "    }\n",
       "\n",
       "    .dataframe tbody tr th {\n",
       "        vertical-align: top;\n",
       "    }\n",
       "\n",
       "    .dataframe thead th {\n",
       "        text-align: right;\n",
       "    }\n",
       "</style>\n",
       "<table border=\"1\" class=\"dataframe\">\n",
       "  <thead>\n",
       "    <tr style=\"text-align: right;\">\n",
       "      <th></th>\n",
       "      <th>loan_id</th>\n",
       "      <th>interest_rate</th>\n",
       "      <th>unpaid_principal_bal</th>\n",
       "      <th>loan_term</th>\n",
       "      <th>loan_to_value</th>\n",
       "      <th>number_of_borrowers</th>\n",
       "      <th>debt_to_income_ratio</th>\n",
       "      <th>borrower_credit_score</th>\n",
       "      <th>insurance_percent</th>\n",
       "      <th>co-borrower_credit_score</th>\n",
       "      <th>insurance_type</th>\n",
       "    </tr>\n",
       "  </thead>\n",
       "  <tbody>\n",
       "    <tr>\n",
       "      <th>count</th>\n",
       "      <td>1.160580e+05</td>\n",
       "      <td>116058.000000</td>\n",
       "      <td>1.160580e+05</td>\n",
       "      <td>116058.000000</td>\n",
       "      <td>116058.000000</td>\n",
       "      <td>116058.000000</td>\n",
       "      <td>116058.000000</td>\n",
       "      <td>116058.000000</td>\n",
       "      <td>116058.000000</td>\n",
       "      <td>116058.000000</td>\n",
       "      <td>116058.000000</td>\n",
       "    </tr>\n",
       "    <tr>\n",
       "      <th>mean</th>\n",
       "      <td>5.494155e+11</td>\n",
       "      <td>3.868961</td>\n",
       "      <td>2.082262e+05</td>\n",
       "      <td>292.280997</td>\n",
       "      <td>67.431939</td>\n",
       "      <td>1.593186</td>\n",
       "      <td>30.742293</td>\n",
       "      <td>769.926778</td>\n",
       "      <td>2.786288</td>\n",
       "      <td>459.611565</td>\n",
       "      <td>0.003257</td>\n",
       "    </tr>\n",
       "    <tr>\n",
       "      <th>std</th>\n",
       "      <td>2.597560e+11</td>\n",
       "      <td>0.461020</td>\n",
       "      <td>1.146851e+05</td>\n",
       "      <td>89.762415</td>\n",
       "      <td>17.291719</td>\n",
       "      <td>0.491242</td>\n",
       "      <td>9.730798</td>\n",
       "      <td>42.210706</td>\n",
       "      <td>8.096464</td>\n",
       "      <td>381.946926</td>\n",
       "      <td>0.056977</td>\n",
       "    </tr>\n",
       "    <tr>\n",
       "      <th>min</th>\n",
       "      <td>1.000009e+11</td>\n",
       "      <td>2.250000</td>\n",
       "      <td>1.100000e+04</td>\n",
       "      <td>60.000000</td>\n",
       "      <td>6.000000</td>\n",
       "      <td>1.000000</td>\n",
       "      <td>1.000000</td>\n",
       "      <td>0.000000</td>\n",
       "      <td>0.000000</td>\n",
       "      <td>0.000000</td>\n",
       "      <td>0.000000</td>\n",
       "    </tr>\n",
       "    <tr>\n",
       "      <th>25%</th>\n",
       "      <td>3.244656e+11</td>\n",
       "      <td>3.500000</td>\n",
       "      <td>1.200000e+05</td>\n",
       "      <td>180.000000</td>\n",
       "      <td>57.000000</td>\n",
       "      <td>1.000000</td>\n",
       "      <td>23.000000</td>\n",
       "      <td>751.000000</td>\n",
       "      <td>0.000000</td>\n",
       "      <td>0.000000</td>\n",
       "      <td>0.000000</td>\n",
       "    </tr>\n",
       "    <tr>\n",
       "      <th>50%</th>\n",
       "      <td>5.486239e+11</td>\n",
       "      <td>3.875000</td>\n",
       "      <td>1.830000e+05</td>\n",
       "      <td>360.000000</td>\n",
       "      <td>72.000000</td>\n",
       "      <td>2.000000</td>\n",
       "      <td>31.000000</td>\n",
       "      <td>782.000000</td>\n",
       "      <td>0.000000</td>\n",
       "      <td>740.000000</td>\n",
       "      <td>0.000000</td>\n",
       "    </tr>\n",
       "    <tr>\n",
       "      <th>75%</th>\n",
       "      <td>7.743034e+11</td>\n",
       "      <td>4.125000</td>\n",
       "      <td>2.780000e+05</td>\n",
       "      <td>360.000000</td>\n",
       "      <td>80.000000</td>\n",
       "      <td>2.000000</td>\n",
       "      <td>39.000000</td>\n",
       "      <td>800.000000</td>\n",
       "      <td>0.000000</td>\n",
       "      <td>791.000000</td>\n",
       "      <td>0.000000</td>\n",
       "    </tr>\n",
       "    <tr>\n",
       "      <th>max</th>\n",
       "      <td>9.999971e+11</td>\n",
       "      <td>6.750000</td>\n",
       "      <td>1.200000e+06</td>\n",
       "      <td>360.000000</td>\n",
       "      <td>97.000000</td>\n",
       "      <td>2.000000</td>\n",
       "      <td>64.000000</td>\n",
       "      <td>840.000000</td>\n",
       "      <td>40.000000</td>\n",
       "      <td>836.000000</td>\n",
       "      <td>1.000000</td>\n",
       "    </tr>\n",
       "  </tbody>\n",
       "</table>\n",
       "</div>"
      ],
      "text/plain": [
       "            loan_id  interest_rate  unpaid_principal_bal      loan_term  \\\n",
       "count  1.160580e+05  116058.000000          1.160580e+05  116058.000000   \n",
       "mean   5.494155e+11       3.868961          2.082262e+05     292.280997   \n",
       "std    2.597560e+11       0.461020          1.146851e+05      89.762415   \n",
       "min    1.000009e+11       2.250000          1.100000e+04      60.000000   \n",
       "25%    3.244656e+11       3.500000          1.200000e+05     180.000000   \n",
       "50%    5.486239e+11       3.875000          1.830000e+05     360.000000   \n",
       "75%    7.743034e+11       4.125000          2.780000e+05     360.000000   \n",
       "max    9.999971e+11       6.750000          1.200000e+06     360.000000   \n",
       "\n",
       "       loan_to_value  number_of_borrowers  debt_to_income_ratio  \\\n",
       "count  116058.000000        116058.000000         116058.000000   \n",
       "mean       67.431939             1.593186             30.742293   \n",
       "std        17.291719             0.491242              9.730798   \n",
       "min         6.000000             1.000000              1.000000   \n",
       "25%        57.000000             1.000000             23.000000   \n",
       "50%        72.000000             2.000000             31.000000   \n",
       "75%        80.000000             2.000000             39.000000   \n",
       "max        97.000000             2.000000             64.000000   \n",
       "\n",
       "       borrower_credit_score  insurance_percent  co-borrower_credit_score  \\\n",
       "count          116058.000000      116058.000000             116058.000000   \n",
       "mean              769.926778           2.786288                459.611565   \n",
       "std                42.210706           8.096464                381.946926   \n",
       "min                 0.000000           0.000000                  0.000000   \n",
       "25%               751.000000           0.000000                  0.000000   \n",
       "50%               782.000000           0.000000                740.000000   \n",
       "75%               800.000000           0.000000                791.000000   \n",
       "max               840.000000          40.000000                836.000000   \n",
       "\n",
       "       insurance_type  \n",
       "count   116058.000000  \n",
       "mean         0.003257  \n",
       "std          0.056977  \n",
       "min          0.000000  \n",
       "25%          0.000000  \n",
       "50%          0.000000  \n",
       "75%          0.000000  \n",
       "max          1.000000  "
      ]
     },
     "execution_count": 7,
     "metadata": {},
     "output_type": "execute_result"
    }
   ],
   "source": [
    "numerical_features.iloc[:,:11].describe()"
   ]
  },
  {
   "cell_type": "code",
   "execution_count": 9,
   "metadata": {},
   "outputs": [
    {
     "data": {
      "text/html": [
       "<div>\n",
       "<style scoped>\n",
       "    .dataframe tbody tr th:only-of-type {\n",
       "        vertical-align: middle;\n",
       "    }\n",
       "\n",
       "    .dataframe tbody tr th {\n",
       "        vertical-align: top;\n",
       "    }\n",
       "\n",
       "    .dataframe thead th {\n",
       "        text-align: right;\n",
       "    }\n",
       "</style>\n",
       "<table border=\"1\" class=\"dataframe\">\n",
       "  <thead>\n",
       "    <tr style=\"text-align: right;\">\n",
       "      <th></th>\n",
       "      <th>skewness</th>\n",
       "      <th>kurtosis</th>\n",
       "    </tr>\n",
       "  </thead>\n",
       "  <tbody>\n",
       "    <tr>\n",
       "      <th>loan_id</th>\n",
       "      <td>0.004114</td>\n",
       "      <td>-1.197545</td>\n",
       "    </tr>\n",
       "    <tr>\n",
       "      <th>interest_rate</th>\n",
       "      <td>0.051326</td>\n",
       "      <td>0.169871</td>\n",
       "    </tr>\n",
       "    <tr>\n",
       "      <th>unpaid_principal_bal</th>\n",
       "      <td>0.897524</td>\n",
       "      <td>0.556988</td>\n",
       "    </tr>\n",
       "    <tr>\n",
       "      <th>loan_term</th>\n",
       "      <td>-0.692948</td>\n",
       "      <td>-1.293404</td>\n",
       "    </tr>\n",
       "    <tr>\n",
       "      <th>loan_to_value</th>\n",
       "      <td>-0.765251</td>\n",
       "      <td>0.078106</td>\n",
       "    </tr>\n",
       "    <tr>\n",
       "      <th>number_of_borrowers</th>\n",
       "      <td>-0.379397</td>\n",
       "      <td>-1.856090</td>\n",
       "    </tr>\n",
       "    <tr>\n",
       "      <th>debt_to_income_ratio</th>\n",
       "      <td>-0.194303</td>\n",
       "      <td>-0.825119</td>\n",
       "    </tr>\n",
       "    <tr>\n",
       "      <th>borrower_credit_score</th>\n",
       "      <td>-3.570945</td>\n",
       "      <td>48.502768</td>\n",
       "    </tr>\n",
       "    <tr>\n",
       "      <th>insurance_percent</th>\n",
       "      <td>2.743691</td>\n",
       "      <td>5.871008</td>\n",
       "    </tr>\n",
       "    <tr>\n",
       "      <th>co-borrower_credit_score</th>\n",
       "      <td>-0.362473</td>\n",
       "      <td>-1.849904</td>\n",
       "    </tr>\n",
       "    <tr>\n",
       "      <th>insurance_type</th>\n",
       "      <td>17.436825</td>\n",
       "      <td>302.048078</td>\n",
       "    </tr>\n",
       "    <tr>\n",
       "      <th>m1</th>\n",
       "      <td>23.399482</td>\n",
       "      <td>665.694722</td>\n",
       "    </tr>\n",
       "    <tr>\n",
       "      <th>m2</th>\n",
       "      <td>32.194304</td>\n",
       "      <td>1423.668497</td>\n",
       "    </tr>\n",
       "    <tr>\n",
       "      <th>m3</th>\n",
       "      <td>41.842040</td>\n",
       "      <td>2486.186250</td>\n",
       "    </tr>\n",
       "    <tr>\n",
       "      <th>m4</th>\n",
       "      <td>45.131291</td>\n",
       "      <td>2909.174552</td>\n",
       "    </tr>\n",
       "    <tr>\n",
       "      <th>m5</th>\n",
       "      <td>38.012865</td>\n",
       "      <td>2070.664019</td>\n",
       "    </tr>\n",
       "    <tr>\n",
       "      <th>m6</th>\n",
       "      <td>41.184750</td>\n",
       "      <td>2310.310053</td>\n",
       "    </tr>\n",
       "    <tr>\n",
       "      <th>m7</th>\n",
       "      <td>41.899434</td>\n",
       "      <td>2381.312092</td>\n",
       "    </tr>\n",
       "    <tr>\n",
       "      <th>m8</th>\n",
       "      <td>40.627494</td>\n",
       "      <td>2238.810673</td>\n",
       "    </tr>\n",
       "    <tr>\n",
       "      <th>m9</th>\n",
       "      <td>41.195572</td>\n",
       "      <td>2237.827023</td>\n",
       "    </tr>\n",
       "    <tr>\n",
       "      <th>m10</th>\n",
       "      <td>39.421632</td>\n",
       "      <td>2030.681979</td>\n",
       "    </tr>\n",
       "    <tr>\n",
       "      <th>m11</th>\n",
       "      <td>39.150505</td>\n",
       "      <td>1949.058013</td>\n",
       "    </tr>\n",
       "    <tr>\n",
       "      <th>m12</th>\n",
       "      <td>38.346412</td>\n",
       "      <td>1864.911892</td>\n",
       "    </tr>\n",
       "    <tr>\n",
       "      <th>m13</th>\n",
       "      <td>13.397436</td>\n",
       "      <td>177.494341</td>\n",
       "    </tr>\n",
       "  </tbody>\n",
       "</table>\n",
       "</div>"
      ],
      "text/plain": [
       "                           skewness     kurtosis\n",
       "loan_id                    0.004114    -1.197545\n",
       "interest_rate              0.051326     0.169871\n",
       "unpaid_principal_bal       0.897524     0.556988\n",
       "loan_term                 -0.692948    -1.293404\n",
       "loan_to_value             -0.765251     0.078106\n",
       "number_of_borrowers       -0.379397    -1.856090\n",
       "debt_to_income_ratio      -0.194303    -0.825119\n",
       "borrower_credit_score     -3.570945    48.502768\n",
       "insurance_percent          2.743691     5.871008\n",
       "co-borrower_credit_score  -0.362473    -1.849904\n",
       "insurance_type            17.436825   302.048078\n",
       "m1                        23.399482   665.694722\n",
       "m2                        32.194304  1423.668497\n",
       "m3                        41.842040  2486.186250\n",
       "m4                        45.131291  2909.174552\n",
       "m5                        38.012865  2070.664019\n",
       "m6                        41.184750  2310.310053\n",
       "m7                        41.899434  2381.312092\n",
       "m8                        40.627494  2238.810673\n",
       "m9                        41.195572  2237.827023\n",
       "m10                       39.421632  2030.681979\n",
       "m11                       39.150505  1949.058013\n",
       "m12                       38.346412  1864.911892\n",
       "m13                       13.397436   177.494341"
      ]
     },
     "execution_count": 9,
     "metadata": {},
     "output_type": "execute_result"
    }
   ],
   "source": [
    "#skewness & kurtosis\n",
    "pd.DataFrame({\"skewness\":df.skew(),\"kurtosis\":df.kurt()})"
   ]
  },
  {
   "cell_type": "markdown",
   "metadata": {},
   "source": [
    "<ul><li>If skewness is less than −1 or greater than +1, the distribution is highly skewed. If skewness is between −1 and −½ or between +½ and +1, the distribution is moderately skewed. If skewness is between −½ and +½, the distribution is approximately symmetric"
   ]
  },
  {
   "cell_type": "code",
   "execution_count": 14,
   "metadata": {
    "scrolled": true
   },
   "outputs": [
    {
     "data": {
      "image/png": "[encoded data removed]",
      "text/plain": [
       "<Figure size 1152x432 with 10 Axes>"
      ]
     },
     "metadata": {},
     "output_type": "display_data"
    }
   ],
   "source": [
    "fig, axs = plt.subplots(2,5, figsize=(16, 6), facecolor='w', edgecolor='k')\n",
    "fig.subplots_adjust(hspace = .5, wspace=.001)\n",
    "axs = axs.ravel()\n",
    "\n",
    "for i,j in zip([i for i in numerical_features.columns.to_list()[1:] if len(i) >3],range(10)):\n",
    "    axs[j].hist(numerical_features[i])\n",
    "    axs[j].set_title(i+': '+str(np.round(numerical_features[i].skew(),2)))"
   ]
  },
  {
   "cell_type": "markdown",
   "metadata": {},
   "source": [
    "<ul><li>'interest_rate': normally distributed</li>\n",
    "    <li>'unpaid_principal_bal': moderately right skewed</li>\n",
    "        <li>'loan_term': moderately left skewed</li>\n",
    "<li>'loan_to_value': moderately left skewed</li>\n",
    "<li>'number_of_borrowers': symmetric (unique data point: 2)</li>\n",
    "<li>'debt_to_income_ratio': normally distributed</li>\n",
    "<li>'borrower_credit_score': left skewed (missing datapoints if 0?)</li>\n",
    "<li>'insurance_percent': right skewed (mostly not insured)</li>\n",
    "<li>'co-borrower_credit_score': left skewed (mostly not applicable, when # borrowers = 1)</li>\n",
    "<li>'insurance_type': mostly 0 (Premium paid by borrower)</li>\n",
    "<li>'m1', 'm2', 'm3', 'm4', 'm5', 'm6', 'm7', 'm8', 'm9', 'm10', 'm11', 'm12', 'm13': Highly skewed (mostly zeros)</li>"
   ]
  },
  {
   "cell_type": "code",
   "execution_count": 18,
   "metadata": {},
   "outputs": [
    {
     "data": {
      "text/plain": [
       "0    115422\n",
       "1       636\n",
       "Name: m13, dtype: int64"
      ]
     },
     "execution_count": 18,
     "metadata": {},
     "output_type": "execute_result"
    }
   ],
   "source": [
    "numerical_features['m13'].value_counts()"
   ]
  },
  {
   "cell_type": "code",
   "execution_count": 22,
   "metadata": {},
   "outputs": [
    {
     "data": {
      "image/png": "[encoded data removed]",
      "text/plain": [
       "<Figure size 1008x1440 with 10 Axes>"
      ]
     },
     "metadata": {
      "needs_background": "light"
     },
     "output_type": "display_data"
    }
   ],
   "source": [
    "fig, ((ax1, ax2), (ax3, ax4), (ax5, ax6), (ax7, ax8), (ax9,ax10)) = plt.subplots(nrows=5, ncols=2, figsize=(14,20))\n",
    "AX = [ax1, ax2, ax3, ax4, ax5, ax6, ax7, ax8, ax9, ax10]\n",
    "for i,j in zip([i for i in numerical_features.columns.to_list()[1:] if len(i)>3],AX):\n",
    "    sns.boxplot(x='m13',y=i,data=numerical_features,ax=j)"
   ]
  },
  {
   "cell_type": "markdown",
   "metadata": {},
   "source": [
    "<ul><li>If 'borrower_credit_score is low, delinquency chances are high.</li>\n",
    "<li>If 'debt_to_income_ratio' is high, delinquency chances are high.</li>\n",
    "<li>If 'interest_rate' is high, delinquency chances are high.</li>\n",
    "<li>Other variables are not showing any significant relationship with m13 delinquency</li>"
   ]
  },
  {
   "cell_type": "code",
   "execution_count": 23,
   "metadata": {},
   "outputs": [
    {
     "name": "stdout",
     "output_type": "stream",
     "text": [
      "m13       0    1\n",
      "m1              \n",
      "0    115140  589\n",
      "1       250   43\n",
      "2        27    3\n",
      "3         5    1\n",
      "m13       0    1\n",
      "m2              \n",
      "0    115261  583\n",
      "1       153   43\n",
      "2         5    8\n",
      "3         2    1\n",
      "4         1    1\n",
      "m13       0    1\n",
      "m3              \n",
      "0    115287  581\n",
      "1       125   42\n",
      "2         6    8\n",
      "3         1    3\n",
      "4         2    1\n",
      "5         1    1\n",
      "m13       0    1\n",
      "m4              \n",
      "0    115307  553\n",
      "1       104   64\n",
      "2         6   10\n",
      "3         3    5\n",
      "4         1    2\n",
      "5         0    1\n",
      "6         1    1\n",
      "m13       0    1\n",
      "m5              \n",
      "0    115234  518\n",
      "1       169   80\n",
      "2        10   23\n",
      "3         5    7\n",
      "4         2    4\n",
      "5         1    2\n",
      "6         0    1\n",
      "7         1    1\n",
      "m13       0    1\n",
      "m6              \n",
      "0    115265  520\n",
      "1       145   69\n",
      "2         5   21\n",
      "3         4   12\n",
      "4         3    6\n",
      "5         0    4\n",
      "6         0    2\n",
      "7         0    1\n",
      "8         0    1\n",
      "m13       0    1\n",
      "m7              \n",
      "0    115236  492\n",
      "1       170   96\n",
      "2        11   17\n",
      "3         1   12\n",
      "4         2    6\n",
      "5         2    5\n",
      "6         0    4\n",
      "7         0    2\n",
      "8         0    1\n",
      "9         0    1\n",
      "m13       0    1\n",
      "m8              \n",
      "0    115221  475\n",
      "1       185   89\n",
      "2        12   37\n",
      "3         1    9\n",
      "4         0   10\n",
      "5         2    5\n",
      "6         1    5\n",
      "7         0    4\n",
      "9         0    1\n",
      "10        0    1\n",
      "m13       0    1\n",
      "m9              \n",
      "0    115244  443\n",
      "1       161  112\n",
      "2        10   31\n",
      "3         3   22\n",
      "4         1    6\n",
      "5         0    8\n",
      "6         2    4\n",
      "7         1    4\n",
      "8         0    4\n",
      "10        0    1\n",
      "11        0    1\n",
      "m13       0    1\n",
      "m10             \n",
      "0    115172  441\n",
      "1       226   99\n",
      "2        16   38\n",
      "3         4   17\n",
      "4         1   14\n",
      "5         0    6\n",
      "6         0    8\n",
      "7         2    3\n",
      "8         1    4\n",
      "9         0    4\n",
      "11        0    1\n",
      "12        0    1\n",
      "m13       0    1\n",
      "m11             \n",
      "0    115211  401\n",
      "1       197  123\n",
      "2         6   42\n",
      "3         4   22\n",
      "4         0   11\n",
      "5         1   11\n",
      "6         0    7\n",
      "7         2    7\n",
      "8         1    3\n",
      "9         0    4\n",
      "10        0    3\n",
      "11        0    1\n",
      "13        0    1\n",
      "m13       0    1\n",
      "m12             \n",
      "0    115221  336\n",
      "1       194  172\n",
      "2         4   43\n",
      "3         0   28\n",
      "4         1   14\n",
      "5         0    7\n",
      "6         1   13\n",
      "7         1    6\n",
      "8         0    5\n",
      "9         0    3\n",
      "10        0    5\n",
      "11        0    3\n",
      "14        0    1\n"
     ]
    }
   ],
   "source": [
    "cols = ['m1', 'm2', 'm3', 'm4', 'm5', 'm6', 'm7', 'm8', 'm9', 'm10', 'm11', 'm12']\n",
    "for i in cols:\n",
    "    print(pd.crosstab(numerical_features[i],numerical_features['m13']))"
   ]
  },
  {
   "cell_type": "code",
   "execution_count": 24,
   "metadata": {},
   "outputs": [
    {
     "data": {
      "text/plain": [
       "m1      3\n",
       "m2      4\n",
       "m3      5\n",
       "m4      6\n",
       "m5      7\n",
       "m6      8\n",
       "m7      9\n",
       "m8     10\n",
       "m9     11\n",
       "m10    12\n",
       "m11    13\n",
       "m12    14\n",
       "dtype: int64"
      ]
     },
     "execution_count": 24,
     "metadata": {},
     "output_type": "execute_result"
    }
   ],
   "source": [
    "df[cols].max(axis=0)"
   ]
  },
  {
   "cell_type": "markdown",
   "metadata": {},
   "source": [
    "<ul><li>m1 to m12: if delinquency is present only in later half of year, then chances of delinquency in m13 would be high</li>\n",
    "<li>m1: Few values are 3, means first payment done after 3 months of 'origination_date'</li>"
   ]
  },
  {
   "cell_type": "code",
   "execution_count": 25,
   "metadata": {},
   "outputs": [],
   "source": [
    "df['max_deliq']=df[cols].max(axis=1)"
   ]
  },
  {
   "cell_type": "code",
   "execution_count": 26,
   "metadata": {},
   "outputs": [
    {
     "name": "stdout",
     "output_type": "stream",
     "text": [
      "           max_deliq\n",
      "count  116058.000000\n",
      "mean        0.023325\n",
      "std         0.235048\n",
      "min         0.000000\n",
      "25%         0.000000\n",
      "50%         0.000000\n",
      "75%         0.000000\n",
      "max        14.000000\n",
      "m13             0    1\n",
      "max_deliq             \n",
      "0          113814  233\n",
      "1            1497  229\n",
      "2              78   66\n",
      "3              18   39\n",
      "4               8   18\n",
      "5               2   10\n",
      "6               1   13\n",
      "7               2   10\n",
      "8               2    5\n",
      "9               0    4\n",
      "10              0    4\n",
      "11              0    4\n",
      "14              0    1\n"
     ]
    },
    {
     "data": {
      "image/png": "[encoded data removed]",
      "text/plain": [
       "<Figure size 432x288 with 1 Axes>"
      ]
     },
     "metadata": {
      "needs_background": "light"
     },
     "output_type": "display_data"
    },
    {
     "data": {
      "text/plain": [
       "<AxesSubplot:xlabel='max_deliq', ylabel='m13'>"
      ]
     },
     "execution_count": 26,
     "metadata": {},
     "output_type": "execute_result"
    },
    {
     "data": {
      "image/png": "[encoded data removed]",
      "text/plain": [
       "<Figure size 432x288 with 1 Axes>"
      ]
     },
     "metadata": {
      "needs_background": "light"
     },
     "output_type": "display_data"
    }
   ],
   "source": [
    "print(df[['max_deliq']].describe())\n",
    "print(pd.crosstab(df['max_deliq'],df['m13']))\n",
    "sns.boxplot('m13','max_deliq',data=df)\n",
    "plt.show()\n",
    "sns.boxplot('max_deliq','m13',data=df)"
   ]
  },
  {
   "cell_type": "code",
   "execution_count": 27,
   "metadata": {},
   "outputs": [
    {
     "data": {
      "text/plain": [
       "<AxesSubplot:>"
      ]
     },
     "execution_count": 27,
     "metadata": {},
     "output_type": "execute_result"
    },
    {
     "data": {
      "image/png": "[encoded data removed]",
      "text/plain": [
       "<Figure size 864x648 with 2 Axes>"
      ]
     },
     "metadata": {
      "needs_background": "light"
     },
     "output_type": "display_data"
    }
   ],
   "source": [
    "f, ax = plt.subplots(figsize=(12, 9))\n",
    "sns.heatmap(numerical_features.corr())"
   ]
  },
  {
   "cell_type": "code",
   "execution_count": 28,
   "metadata": {},
   "outputs": [
    {
     "data": {
      "text/html": [
       "<div>\n",
       "<style scoped>\n",
       "    .dataframe tbody tr th:only-of-type {\n",
       "        vertical-align: middle;\n",
       "    }\n",
       "\n",
       "    .dataframe tbody tr th {\n",
       "        vertical-align: top;\n",
       "    }\n",
       "\n",
       "    .dataframe thead th {\n",
       "        text-align: right;\n",
       "    }\n",
       "</style>\n",
       "<table border=\"1\" class=\"dataframe\">\n",
       "  <thead>\n",
       "    <tr style=\"text-align: right;\">\n",
       "      <th></th>\n",
       "      <th>VIF Factor</th>\n",
       "      <th>features</th>\n",
       "    </tr>\n",
       "  </thead>\n",
       "  <tbody>\n",
       "    <tr>\n",
       "      <th>0</th>\n",
       "      <td>5.460580</td>\n",
       "      <td>loan_id</td>\n",
       "    </tr>\n",
       "    <tr>\n",
       "      <th>1</th>\n",
       "      <td>2.166196</td>\n",
       "      <td>interest_rate</td>\n",
       "    </tr>\n",
       "    <tr>\n",
       "      <th>2</th>\n",
       "      <td>1.119231</td>\n",
       "      <td>unpaid_principal_bal</td>\n",
       "    </tr>\n",
       "    <tr>\n",
       "      <th>3</th>\n",
       "      <td>2.309670</td>\n",
       "      <td>loan_term</td>\n",
       "    </tr>\n",
       "    <tr>\n",
       "      <th>4</th>\n",
       "      <td>1.423870</td>\n",
       "      <td>loan_to_value</td>\n",
       "    </tr>\n",
       "    <tr>\n",
       "      <th>5</th>\n",
       "      <td>58.742619</td>\n",
       "      <td>number_of_borrowers</td>\n",
       "    </tr>\n",
       "    <tr>\n",
       "      <th>6</th>\n",
       "      <td>1.084515</td>\n",
       "      <td>debt_to_income_ratio</td>\n",
       "    </tr>\n",
       "    <tr>\n",
       "      <th>7</th>\n",
       "      <td>0.493528</td>\n",
       "      <td>borrower_credit_score</td>\n",
       "    </tr>\n",
       "    <tr>\n",
       "      <th>8</th>\n",
       "      <td>1.344911</td>\n",
       "      <td>insurance_percent</td>\n",
       "    </tr>\n",
       "    <tr>\n",
       "      <th>9</th>\n",
       "      <td>60.138336</td>\n",
       "      <td>co-borrower_credit_score</td>\n",
       "    </tr>\n",
       "    <tr>\n",
       "      <th>10</th>\n",
       "      <td>1.025147</td>\n",
       "      <td>insurance_type</td>\n",
       "    </tr>\n",
       "    <tr>\n",
       "      <th>11</th>\n",
       "      <td>1.100272</td>\n",
       "      <td>m1</td>\n",
       "    </tr>\n",
       "    <tr>\n",
       "      <th>12</th>\n",
       "      <td>1.453429</td>\n",
       "      <td>m2</td>\n",
       "    </tr>\n",
       "    <tr>\n",
       "      <th>13</th>\n",
       "      <td>1.708287</td>\n",
       "      <td>m3</td>\n",
       "    </tr>\n",
       "    <tr>\n",
       "      <th>14</th>\n",
       "      <td>2.355277</td>\n",
       "      <td>m4</td>\n",
       "    </tr>\n",
       "    <tr>\n",
       "      <th>15</th>\n",
       "      <td>2.473963</td>\n",
       "      <td>m5</td>\n",
       "    </tr>\n",
       "    <tr>\n",
       "      <th>16</th>\n",
       "      <td>3.153181</td>\n",
       "      <td>m6</td>\n",
       "    </tr>\n",
       "    <tr>\n",
       "      <th>17</th>\n",
       "      <td>3.816377</td>\n",
       "      <td>m7</td>\n",
       "    </tr>\n",
       "    <tr>\n",
       "      <th>18</th>\n",
       "      <td>4.465042</td>\n",
       "      <td>m8</td>\n",
       "    </tr>\n",
       "    <tr>\n",
       "      <th>19</th>\n",
       "      <td>6.065714</td>\n",
       "      <td>m9</td>\n",
       "    </tr>\n",
       "    <tr>\n",
       "      <th>20</th>\n",
       "      <td>6.132504</td>\n",
       "      <td>m10</td>\n",
       "    </tr>\n",
       "    <tr>\n",
       "      <th>21</th>\n",
       "      <td>7.147112</td>\n",
       "      <td>m11</td>\n",
       "    </tr>\n",
       "    <tr>\n",
       "      <th>22</th>\n",
       "      <td>4.875887</td>\n",
       "      <td>m12</td>\n",
       "    </tr>\n",
       "    <tr>\n",
       "      <th>23</th>\n",
       "      <td>1.293868</td>\n",
       "      <td>m13</td>\n",
       "    </tr>\n",
       "  </tbody>\n",
       "</table>\n",
       "</div>"
      ],
      "text/plain": [
       "    VIF Factor                  features\n",
       "0     5.460580                   loan_id\n",
       "1     2.166196             interest_rate\n",
       "2     1.119231      unpaid_principal_bal\n",
       "3     2.309670                 loan_term\n",
       "4     1.423870             loan_to_value\n",
       "5    58.742619       number_of_borrowers\n",
       "6     1.084515      debt_to_income_ratio\n",
       "7     0.493528     borrower_credit_score\n",
       "8     1.344911         insurance_percent\n",
       "9    60.138336  co-borrower_credit_score\n",
       "10    1.025147            insurance_type\n",
       "11    1.100272                        m1\n",
       "12    1.453429                        m2\n",
       "13    1.708287                        m3\n",
       "14    2.355277                        m4\n",
       "15    2.473963                        m5\n",
       "16    3.153181                        m6\n",
       "17    3.816377                        m7\n",
       "18    4.465042                        m8\n",
       "19    6.065714                        m9\n",
       "20    6.132504                       m10\n",
       "21    7.147112                       m11\n",
       "22    4.875887                       m12\n",
       "23    1.293868                       m13"
      ]
     },
     "execution_count": 28,
     "metadata": {},
     "output_type": "execute_result"
    }
   ],
   "source": [
    "vif = pd.DataFrame()\n",
    "vif[\"VIF Factor\"] = [variance_inflation_factor(numerical_features.values, i) for i in range(numerical_features.shape[1])]\n",
    "vif[\"features\"] = numerical_features.columns\n",
    "vif"
   ]
  },
  {
   "cell_type": "markdown",
   "metadata": {},
   "source": [
    "<ul><li>Multi-collinearity between m1 to m12 variables (mostly 2nd half of year)</li>\n",
    "<li>'number_of_borrowers' & 'co-borrower_credit_score' are correlated to each other (will drop 'co-borrower_credit_score')</li>"
   ]
  },
  {
   "cell_type": "markdown",
   "metadata": {},
   "source": [
    "<h4>categorical variables"
   ]
  },
  {
   "cell_type": "code",
   "execution_count": 30,
   "metadata": {},
   "outputs": [
    {
     "data": {
      "text/plain": [
       "((116058, 5),\n",
       " Index(['source', 'financial_institution', 'origination_date',\n",
       "        'first_payment_date', 'loan_purpose'],\n",
       "       dtype='object'))"
      ]
     },
     "execution_count": 30,
     "metadata": {},
     "output_type": "execute_result"
    }
   ],
   "source": [
    "categorical_features.shape, categorical_features.columns"
   ]
  },
  {
   "cell_type": "code",
   "execution_count": 31,
   "metadata": {},
   "outputs": [
    {
     "name": "stdout",
     "output_type": "stream",
     "text": [
      "Total unique values for source 3\n",
      "Value Counts for source \n",
      " X    63858\n",
      "Y    37554\n",
      "Z    14646\n",
      "Name: source, dtype: int64 \n",
      "\n",
      "Total unique values for financial_institution 19\n",
      "Value Counts for financial_institution \n",
      " OTHER                          49699\n",
      "Browning-Hart                  31852\n",
      "Swanson, Newton and Miller      6874\n",
      "Edwards-Hoffman                 4857\n",
      "Martinez, Duffy and Bird        4715\n",
      "Miller, Mcclure and Allen       3158\n",
      "Nicholson Group                 2116\n",
      "Turner, Baldwin and Rhodes      1846\n",
      "Suarez Inc                      1790\n",
      "Cole, Brooks and Vincent        1642\n",
      "Richards-Walters                1459\n",
      "Taylor, Hunt and Rodriguez      1259\n",
      "Sanchez-Robinson                1193\n",
      "Sanchez, Hays and Wilkerson      853\n",
      "Romero, Woods and Johnson        750\n",
      "Thornton-Davis                   651\n",
      "Anderson-Taylor                  483\n",
      "Richardson Ltd                   473\n",
      "Chapman-Mcmahon                  388\n",
      "Name: financial_institution, dtype: int64 \n",
      "\n",
      "Total unique values for origination_date 3\n",
      "Value Counts for origination_date \n",
      " 2012-02-01    52334\n",
      "2012-01-01    49093\n",
      "2012-03-01    14631\n",
      "Name: origination_date, dtype: int64 \n",
      "\n",
      "Total unique values for first_payment_date 4\n",
      "Value Counts for first_payment_date \n",
      " 04/2012    52840\n",
      "03/2012    47680\n",
      "05/2012    15014\n",
      "02/2012      524\n",
      "Name: first_payment_date, dtype: int64 \n",
      "\n",
      "Total unique values for loan_purpose 3\n",
      "Value Counts for loan_purpose \n",
      " A23    58462\n",
      "B12    29383\n",
      "C86    28213\n",
      "Name: loan_purpose, dtype: int64 \n",
      "\n"
     ]
    }
   ],
   "source": [
    "for i in categorical_features.columns.to_list():\n",
    "    print(\"Total unique values for\",i,len(categorical_features[i].unique()))\n",
    "    print(\"Value Counts for\",i,'\\n',categorical_features[i].value_counts(),'\\n')"
   ]
  },
  {
   "cell_type": "code",
   "execution_count": 32,
   "metadata": {},
   "outputs": [
    {
     "data": {
      "image/png": "[encoded data removed]",
      "text/plain": [
       "<Figure size 1008x720 with 6 Axes>"
      ]
     },
     "metadata": {
      "needs_background": "light"
     },
     "output_type": "display_data"
    }
   ],
   "source": [
    "fig, ((ax1, ax2), (ax3, ax4), (ax5, ax6)) = plt.subplots(nrows=3, ncols=2, figsize=(14,10))\n",
    "AX = [ax1, ax2, ax3, ax4, ax5]\n",
    "\n",
    "for i,j in zip(categorical_features.columns.to_list(),AX):\n",
    "    temp = pd.crosstab(df[i],df['m13'])\n",
    "    temp.plot(kind='bar',stacked=True,color=['red','green'],grid=False,ax=j)"
   ]
  },
  {
   "cell_type": "code",
   "execution_count": 33,
   "metadata": {},
   "outputs": [
    {
     "name": "stdout",
     "output_type": "stream",
     "text": [
      "m13         0    1\n",
      "source            \n",
      "X       63553  305\n",
      "Y       37307  247\n",
      "Z       14562   84\n",
      "m13                              0    1\n",
      "financial_institution                  \n",
      "Anderson-Taylor                480    3\n",
      "Browning-Hart                31677  175\n",
      "Chapman-Mcmahon                388    0\n",
      "Cole, Brooks and Vincent      1630   12\n",
      "Edwards-Hoffman               4816   41\n",
      "Martinez, Duffy and Bird      4692   23\n",
      "Miller, Mcclure and Allen     3139   19\n",
      "Nicholson Group               2105   11\n",
      "OTHER                        49430  269\n",
      "Richards-Walters              1454    5\n",
      "Richardson Ltd                 472    1\n",
      "Romero, Woods and Johnson      748    2\n",
      "Sanchez, Hays and Wilkerson    851    2\n",
      "Sanchez-Robinson              1192    1\n",
      "Suarez Inc                    1785    5\n",
      "Swanson, Newton and Miller    6828   46\n",
      "Taylor, Hunt and Rodriguez    1255    4\n",
      "Thornton-Davis                 648    3\n",
      "Turner, Baldwin and Rhodes    1832   14\n",
      "m13                   0    1\n",
      "origination_date            \n",
      "2012-01-01        48789  304\n",
      "2012-02-01        52055  279\n",
      "2012-03-01        14578   53\n",
      "m13                     0    1\n",
      "first_payment_date            \n",
      "02/2012               518    6\n",
      "03/2012             47384  296\n",
      "04/2012             52560  280\n",
      "05/2012             14960   54\n",
      "m13               0    1\n",
      "loan_purpose            \n",
      "A23           58251  211\n",
      "B12           29164  219\n",
      "C86           28007  206\n"
     ]
    }
   ],
   "source": [
    "for i in categorical_features.columns.to_list():\n",
    "    print(pd.crosstab(df[i],df['m13']))"
   ]
  },
  {
   "cell_type": "markdown",
   "metadata": {},
   "source": [
    "<ul><li>Deliquency in m13 is there when;</li>\n",
    "<li>'        source' is either X or Y</li>\n",
    "<li>'         financial_institution' is either 'Browning-Hart' or 'Other'</li>\n",
    "<li>'         origination_date' is either Jan-12 or Feb-12</li>\n",
    "<li>'         first_payment_date' is either Mar-12 or Apr-12</li>\n",
    "<li>'         loan_purpose': either 'B12' or 'C86' (relatively)</li>\n",
    "<li>           Above interpretation may not be true because mostly data also lies in these categories, so as deliquency</li>"
   ]
  },
  {
   "cell_type": "markdown",
   "metadata": {},
   "source": [
    "<h3>feature engineering"
   ]
  },
  {
   "cell_type": "code",
   "execution_count": 36,
   "metadata": {},
   "outputs": [
    {
     "data": {
      "text/plain": [
       "((116058, 29), (35866, 28))"
      ]
     },
     "execution_count": 36,
     "metadata": {},
     "output_type": "execute_result"
    }
   ],
   "source": [
    "# Loading raw_data again\n",
    "\n",
    "df_train = pd.read_csv('train.csv')\n",
    "df_test = pd.read_csv('test.csv')\n",
    "#df_sample_submission = pd.read_csv('sample_submission.csv')\n",
    "\n",
    "df_train.shape, df_test.shape"
   ]
  },
  {
   "cell_type": "code",
   "execution_count": 37,
   "metadata": {},
   "outputs": [
    {
     "data": {
      "text/plain": [
       "(array(['2012-03-01', '2012-01-01', '2012-02-01'], dtype=object),\n",
       " array(['05/2012', '03/2012', '04/2012', '02/2012'], dtype=object))"
      ]
     },
     "execution_count": 37,
     "metadata": {},
     "output_type": "execute_result"
    }
   ],
   "source": [
    "df_train['origination_date'].unique(), df_train['first_payment_date'].unique()"
   ]
  },
  {
   "cell_type": "code",
   "execution_count": 38,
   "metadata": {},
   "outputs": [
    {
     "data": {
      "text/plain": [
       "(array(['01/02/12', '01/01/12', '01/03/12'], dtype=object),\n",
       " array(['Apr-12', 'Mar-12', 'May-12', 'Feb-12'], dtype=object))"
      ]
     },
     "execution_count": 38,
     "metadata": {},
     "output_type": "execute_result"
    }
   ],
   "source": [
    "\n",
    "df_test['origination_date'].unique(), df_test['first_payment_date'].unique()"
   ]
  },
  {
   "cell_type": "code",
   "execution_count": 39,
   "metadata": {},
   "outputs": [
    {
     "name": "stdout",
     "output_type": "stream",
     "text": [
      "(151924, 29)\n"
     ]
    }
   ],
   "source": [
    "df_test['m13'] = 'NA'\n",
    "df = df_train.append(df_test, ignore_index=True)\n",
    "print(df.shape)"
   ]
  },
  {
   "cell_type": "code",
   "execution_count": 40,
   "metadata": {},
   "outputs": [],
   "source": [
    "df['origination_date'] = df['origination_date'].map({\"2012-01-01\": 1, \"2012-02-01\": 2, \"2012-03-01\": 3,\n",
    "                                                     \"01/01/12\": 1, \"01/02/12\": 2, \"01/03/12\": 3})\n",
    "df['first_payment_date'] = df['first_payment_date'].map({\"02/2012\":2, \"03/2012\":3, \"04/2012\":4, \"05/2012\":5,\n",
    "                                                         \"Feb-12\":2, \"Mar-12\":3, \"Apr-12\":4, \"May-12\":5})"
   ]
  },
  {
   "cell_type": "code",
   "execution_count": 41,
   "metadata": {},
   "outputs": [
    {
     "data": {
      "text/html": [
       "<div>\n",
       "<style scoped>\n",
       "    .dataframe tbody tr th:only-of-type {\n",
       "        vertical-align: middle;\n",
       "    }\n",
       "\n",
       "    .dataframe tbody tr th {\n",
       "        vertical-align: top;\n",
       "    }\n",
       "\n",
       "    .dataframe thead th {\n",
       "        text-align: right;\n",
       "    }\n",
       "</style>\n",
       "<table border=\"1\" class=\"dataframe\">\n",
       "  <thead>\n",
       "    <tr style=\"text-align: right;\">\n",
       "      <th>m13</th>\n",
       "      <th>0</th>\n",
       "      <th>1</th>\n",
       "      <th>NA</th>\n",
       "    </tr>\n",
       "    <tr>\n",
       "      <th>first_payment_delay</th>\n",
       "      <th></th>\n",
       "      <th></th>\n",
       "      <th></th>\n",
       "    </tr>\n",
       "  </thead>\n",
       "  <tbody>\n",
       "    <tr>\n",
       "      <th>1</th>\n",
       "      <td>2976</td>\n",
       "      <td>17</td>\n",
       "      <td>884</td>\n",
       "    </tr>\n",
       "    <tr>\n",
       "      <th>2</th>\n",
       "      <td>108719</td>\n",
       "      <td>605</td>\n",
       "      <td>33878</td>\n",
       "    </tr>\n",
       "    <tr>\n",
       "      <th>3</th>\n",
       "      <td>3727</td>\n",
       "      <td>14</td>\n",
       "      <td>1104</td>\n",
       "    </tr>\n",
       "  </tbody>\n",
       "</table>\n",
       "</div>"
      ],
      "text/plain": [
       "m13                       0    1     NA\n",
       "first_payment_delay                    \n",
       "1                      2976   17    884\n",
       "2                    108719  605  33878\n",
       "3                      3727   14   1104"
      ]
     },
     "execution_count": 41,
     "metadata": {},
     "output_type": "execute_result"
    }
   ],
   "source": [
    "df['first_payment_delay'] = df['first_payment_date'] - df['origination_date']\n",
    "pd.crosstab(df['first_payment_delay'], df['m13'])"
   ]
  },
  {
   "cell_type": "code",
   "execution_count": 42,
   "metadata": {},
   "outputs": [
    {
     "data": {
      "text/plain": [
       "0"
      ]
     },
     "execution_count": 42,
     "metadata": {},
     "output_type": "execute_result"
    }
   ],
   "source": [
    "df.isnull().sum().sum()"
   ]
  },
  {
   "cell_type": "code",
   "execution_count": 44,
   "metadata": {},
   "outputs": [
    {
     "name": "stdout",
     "output_type": "stream",
     "text": [
      "1    106791\n",
      "0     45133\n",
      "Name: financial_institution_new, dtype: int64\n",
      "1    132779\n",
      "0     19145\n",
      "Name: source_new, dtype: int64\n"
     ]
    }
   ],
   "source": [
    "df['financial_institution_new'] = df['financial_institution'].apply(lambda x:1if (x=='Browning-Hart') or (x=='OTHER') else 0)\n",
    "df['source_new'] = df['source'].apply(lambda x: 1 if (x == 'X') or (x == 'Y') else 0)\n",
    "print(df['financial_institution_new'].value_counts())\n",
    "print(df['source_new'].value_counts())"
   ]
  },
  {
   "cell_type": "code",
   "execution_count": 46,
   "metadata": {},
   "outputs": [
    {
     "name": "stdout",
     "output_type": "stream",
     "text": [
      "(151924, 51)\n"
     ]
    }
   ],
   "source": [
    "temp = pd.get_dummies(df['financial_institution'])\n",
    "df = df.join(temp)\n",
    "print(df.shape)"
   ]
  },
  {
   "cell_type": "code",
   "execution_count": 47,
   "metadata": {},
   "outputs": [
    {
     "name": "stdout",
     "output_type": "stream",
     "text": [
      "(151924, 54)\n",
      "(151924, 57)\n"
     ]
    }
   ],
   "source": [
    "temp = pd.get_dummies(df['source'])\n",
    "df = df.join(temp)\n",
    "print(df.shape)\n",
    "\n",
    "temp = pd.get_dummies(df['loan_purpose'])\n",
    "df = df.join(temp)\n",
    "print(df.shape)"
   ]
  },
  {
   "cell_type": "code",
   "execution_count": 48,
   "metadata": {},
   "outputs": [],
   "source": [
    "cols = ['m1', 'm2', 'm3', 'm4', 'm5', 'm6', 'm7', 'm8', 'm9', 'm10', 'm11', 'm12']\n",
    "\n",
    "# creating new column: maximum deliquency time month\n",
    "df['max_deliq'] = df[cols].max(axis=1)"
   ]
  },
  {
   "cell_type": "code",
   "execution_count": 50,
   "metadata": {},
   "outputs": [
    {
     "name": "stdout",
     "output_type": "stream",
     "text": [
      "0    151281\n",
      "1       643\n",
      "Name: m12_new, dtype: int64\n",
      "m13           0    1     NA\n",
      "m12_new                    \n",
      "0        115221  336  35724\n",
      "1           201  300    142\n"
     ]
    }
   ],
   "source": [
    "df['m12_new'] = df['m12'].apply(lambda x: 1 if x > 0 else 0)\n",
    "print(df['m12_new'].value_counts())\n",
    "print(pd.crosstab(df['m12_new'],df['m13']))"
   ]
  },
  {
   "cell_type": "code",
   "execution_count": 51,
   "metadata": {},
   "outputs": [
    {
     "name": "stdout",
     "output_type": "stream",
     "text": [
      "0    150753\n",
      "1      1171\n",
      "Name: last3_months, dtype: int64\n"
     ]
    },
    {
     "data": {
      "text/html": [
       "<div>\n",
       "<style scoped>\n",
       "    .dataframe tbody tr th:only-of-type {\n",
       "        vertical-align: middle;\n",
       "    }\n",
       "\n",
       "    .dataframe tbody tr th {\n",
       "        vertical-align: top;\n",
       "    }\n",
       "\n",
       "    .dataframe thead th {\n",
       "        text-align: right;\n",
       "    }\n",
       "</style>\n",
       "<table border=\"1\" class=\"dataframe\">\n",
       "  <thead>\n",
       "    <tr style=\"text-align: right;\">\n",
       "      <th>m13</th>\n",
       "      <th>0</th>\n",
       "      <th>1</th>\n",
       "      <th>NA</th>\n",
       "    </tr>\n",
       "    <tr>\n",
       "      <th>last3_months</th>\n",
       "      <th></th>\n",
       "      <th></th>\n",
       "      <th></th>\n",
       "    </tr>\n",
       "  </thead>\n",
       "  <tbody>\n",
       "    <tr>\n",
       "      <th>0</th>\n",
       "      <td>114864</td>\n",
       "      <td>279</td>\n",
       "      <td>35610</td>\n",
       "    </tr>\n",
       "    <tr>\n",
       "      <th>1</th>\n",
       "      <td>558</td>\n",
       "      <td>357</td>\n",
       "      <td>256</td>\n",
       "    </tr>\n",
       "  </tbody>\n",
       "</table>\n",
       "</div>"
      ],
      "text/plain": [
       "m13                0    1     NA\n",
       "last3_months                    \n",
       "0             114864  279  35610\n",
       "1                558  357    256"
      ]
     },
     "execution_count": 51,
     "metadata": {},
     "output_type": "execute_result"
    }
   ],
   "source": [
    "df['last3_months'] = 0\n",
    "df.loc[(df['m10'] > 0) | (df['m11'] > 0) | (df['m12'] > 0),'last3_months'] = 1\n",
    "\n",
    "print(df['last3_months'].value_counts())\n",
    "pd.crosstab(df['last3_months'],df['m13'])"
   ]
  },
  {
   "cell_type": "code",
   "execution_count": 52,
   "metadata": {},
   "outputs": [],
   "source": [
    "df1 = df.drop(['loan_id','source','financial_institution','origination_date','first_payment_date','loan_purpose'],axis=1)"
   ]
  },
  {
   "cell_type": "markdown",
   "metadata": {},
   "source": [
    "<h3>recursive feature engineering(dimenstinality reduction)"
   ]
  },
  {
   "cell_type": "code",
   "execution_count": 53,
   "metadata": {},
   "outputs": [],
   "source": [
    "from sklearn.feature_selection import RFE, RFECV\n",
    "from sklearn.metrics import f1_score\n",
    "from sklearn.model_selection import train_test_split\n",
    "from sklearn.linear_model import LogisticRegression\n",
    "from sklearn.neighbors import NearestNeighbors\n",
    "from sklearn.tree import DecisionTreeClassifier\n",
    "from sklearn.svm import SVC\n",
    "from sklearn.ensemble import RandomForestClassifier,AdaBoostClassifier, ExtraTreesClassifier,GradientBoostingClassifier"
   ]
  },
  {
   "cell_type": "code",
   "execution_count": 54,
   "metadata": {},
   "outputs": [],
   "source": [
    "train = df1.iloc[:116058,:]\n",
    "xtrain, xtest, ytrain, ytest = train_test_split(train, df_train['m13'].values.ravel(), random_state=42, test_size=0.1)\n",
    "X = xtrain\n",
    "y = ytrain"
   ]
  },
  {
   "cell_type": "markdown",
   "metadata": {},
   "source": [
    "<h4>Logistic Regression"
   ]
  },
  {
   "cell_type": "code",
   "execution_count": 58,
   "metadata": {},
   "outputs": [
    {
     "name": "stdout",
     "output_type": "stream",
     "text": [
      "Top features:  8\n",
      "1.0\n",
      "1.0\n",
      "['interest_rate' 'number_of_borrowers' 'm10' 'm13' 'Edwards-Hoffman'\n",
      " 'max_deliq' 'm12_new' 'last3_months'] \n",
      "\n",
      "Top features:  10\n",
      "1.0\n",
      "1.0\n",
      "['interest_rate' 'number_of_borrowers' 'm10' 'm12' 'm13' 'Edwards-Hoffman'\n",
      " 'B12' 'max_deliq' 'm12_new' 'last3_months'] \n",
      "\n",
      "Top features:  12\n",
      "1.0\n",
      "1.0\n",
      "['interest_rate' 'number_of_borrowers' 'm10' 'm12' 'm13' 'Edwards-Hoffman'\n",
      " 'X' 'A23' 'B12' 'max_deliq' 'm12_new' 'last3_months'] \n",
      "\n",
      "Top features:  15\n",
      "1.0\n",
      "1.0\n",
      "['interest_rate' 'number_of_borrowers' 'm3' 'm10' 'm11' 'm12' 'm13'\n",
      " 'first_payment_delay' 'Edwards-Hoffman' 'X' 'A23' 'B12' 'max_deliq'\n",
      " 'm12_new' 'last3_months'] \n",
      "\n",
      "Top features:  20\n",
      "1.0\n",
      "1.0\n",
      "['interest_rate' 'number_of_borrowers' 'm3' 'm6' 'm9' 'm10' 'm11' 'm12'\n",
      " 'm13' 'first_payment_delay' 'source_new' 'Edwards-Hoffman' 'X' 'Y' 'Z'\n",
      " 'A23' 'B12' 'max_deliq' 'm12_new' 'last3_months'] \n",
      "\n"
     ]
    }
   ],
   "source": [
    "n_feat = [8,10,12,15,20]\n",
    "for n in n_feat:\n",
    "    model = LogisticRegression()\n",
    "    rfe = RFE(model, n_features_to_select = n)\n",
    "    rfe = rfe.fit(X, y)\n",
    "    cols = X.columns.tolist()\n",
    "    sel_feat = pd.DataFrame({\"cols\": cols, \"support\": rfe.support_, \"rank\": rfe.ranking_})\n",
    "    print(\"Top features: \", n)\n",
    "    print(rfe.score(X, y))\n",
    "    print(f1_score(ytest, rfe.predict(xtest)))\n",
    "    print(sel_feat[sel_feat['rank'] == 1]['cols'].unique(), '\\n')"
   ]
  },
  {
   "cell_type": "code",
   "execution_count": null,
   "metadata": {},
   "outputs": [],
   "source": []
  }
 ],
 "metadata": {
  "kernelspec": {
   "display_name": "Python 3",
   "language": "python",
   "name": "python3"
  },
  "language_info": {
   "codemirror_mode": {
    "name": "ipython",
    "version": 3
   },
   "file_extension": ".py",
   "mimetype": "text/x-python",
   "name": "python",
   "nbconvert_exporter": "python",
   "pygments_lexer": "ipython3",
   "version": "3.8.5"
  }
 },
 "nbformat": 4,
 "nbformat_minor": 4
}
