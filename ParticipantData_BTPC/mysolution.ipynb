{
 "cells": [
  {
   "cell_type": "code",
   "execution_count": 275,
   "metadata": {},
   "outputs": [],
   "source": [
    "import pandas as pd\n",
    "import numpy as np\n",
    "import matplotlib.pyplot as plt\n",
    "import seaborn as sns\n",
    "import warnings\n",
    "warnings.filterwarnings('ignore')"
   ]
  },
  {
   "cell_type": "code",
   "execution_count": 276,
   "metadata": {},
   "outputs": [],
   "source": [
    "train=pd.read_csv('train.csv')\n",
    "test=pd.read_csv('test.csv')"
   ]
  },
  {
   "cell_type": "code",
   "execution_count": 277,
   "metadata": {},
   "outputs": [],
   "source": [
    "train2=pd.read_csv('train.csv')\n",
    "test2=pd.read_csv('test.csv')"
   ]
  },
  {
   "cell_type": "markdown",
   "metadata": {},
   "source": [
    "<h3>Feature engineering"
   ]
  },
  {
   "cell_type": "code",
   "execution_count": 278,
   "metadata": {},
   "outputs": [
    {
     "data": {
      "text/html": [
       "<div>\n",
       "<style scoped>\n",
       "    .dataframe tbody tr th:only-of-type {\n",
       "        vertical-align: middle;\n",
       "    }\n",
       "\n",
       "    .dataframe tbody tr th {\n",
       "        vertical-align: top;\n",
       "    }\n",
       "\n",
       "    .dataframe thead th {\n",
       "        text-align: right;\n",
       "    }\n",
       "</style>\n",
       "<table border=\"1\" class=\"dataframe\">\n",
       "  <thead>\n",
       "    <tr style=\"text-align: right;\">\n",
       "      <th></th>\n",
       "      <th>session_id</th>\n",
       "      <th>session_number</th>\n",
       "      <th>client_agent</th>\n",
       "      <th>device_details</th>\n",
       "      <th>date</th>\n",
       "      <th>purchased</th>\n",
       "      <th>added_in_cart</th>\n",
       "      <th>checked_out</th>\n",
       "      <th>time_spent</th>\n",
       "    </tr>\n",
       "  </thead>\n",
       "  <tbody>\n",
       "    <tr>\n",
       "      <th>0</th>\n",
       "      <td>57f879e70d3c5fc2a98102d64c9fd84e</td>\n",
       "      <td>715</td>\n",
       "      <td>Mozilla/5.0 (Windows NT 6.1; WOW64) AppleWebKi...</td>\n",
       "      <td>Desktop - Chrome</td>\n",
       "      <td>2020-01-22</td>\n",
       "      <td>1</td>\n",
       "      <td>0</td>\n",
       "      <td>0</td>\n",
       "      <td>236.886</td>\n",
       "    </tr>\n",
       "    <tr>\n",
       "      <th>1</th>\n",
       "      <td>a5442b0c7c33d0a811e7661e556b2de8</td>\n",
       "      <td>55</td>\n",
       "      <td>Product/8.0 iPhone/8.1.3</td>\n",
       "      <td>iPhone - iOS</td>\n",
       "      <td>2020-02-27</td>\n",
       "      <td>1</td>\n",
       "      <td>0</td>\n",
       "      <td>0</td>\n",
       "      <td>1277.455</td>\n",
       "    </tr>\n",
       "    <tr>\n",
       "      <th>2</th>\n",
       "      <td>305cb1486ed8610c00b37007926cb2c4</td>\n",
       "      <td>11</td>\n",
       "      <td>Mozilla/5.0 (iPhone; CPU iPhone OS 7_1_2 like ...</td>\n",
       "      <td>iPhone - MobileWeb</td>\n",
       "      <td>2019-08-01</td>\n",
       "      <td>0</td>\n",
       "      <td>0</td>\n",
       "      <td>0</td>\n",
       "      <td>21.704</td>\n",
       "    </tr>\n",
       "    <tr>\n",
       "      <th>5426</th>\n",
       "      <td>109f7f9b8384e46fc88f580b328298e8</td>\n",
       "      <td>198</td>\n",
       "      <td>Mozilla/5.0 (Macintosh; Intel Mac OS X 10_9_4)...</td>\n",
       "      <td>Desktop - Chrome</td>\n",
       "      <td>2019-08-13</td>\n",
       "      <td>0</td>\n",
       "      <td>0</td>\n",
       "      <td>0</td>\n",
       "      <td>22.711</td>\n",
       "    </tr>\n",
       "    <tr>\n",
       "      <th>5427</th>\n",
       "      <td>ac6579972e89dfc78d3ee95d15764681</td>\n",
       "      <td>913</td>\n",
       "      <td>NaN</td>\n",
       "      <td>Unknown - MobileWeb</td>\n",
       "      <td>2019-06-18</td>\n",
       "      <td>0</td>\n",
       "      <td>0</td>\n",
       "      <td>0</td>\n",
       "      <td>20.844</td>\n",
       "    </tr>\n",
       "    <tr>\n",
       "      <th>5428</th>\n",
       "      <td>bd8f8239b827fc29d4e1bec91bd499b7</td>\n",
       "      <td>1254</td>\n",
       "      <td>Mozilla/5.0 (iPhone; CPU iPhone OS 7_0_4 like ...</td>\n",
       "      <td>iPhone - Web</td>\n",
       "      <td>2019-10-21</td>\n",
       "      <td>0</td>\n",
       "      <td>0</td>\n",
       "      <td>0</td>\n",
       "      <td>20.504</td>\n",
       "    </tr>\n",
       "  </tbody>\n",
       "</table>\n",
       "</div>"
      ],
      "text/plain": [
       "                            session_id  session_number  \\\n",
       "0     57f879e70d3c5fc2a98102d64c9fd84e             715   \n",
       "1     a5442b0c7c33d0a811e7661e556b2de8              55   \n",
       "2     305cb1486ed8610c00b37007926cb2c4              11   \n",
       "5426  109f7f9b8384e46fc88f580b328298e8             198   \n",
       "5427  ac6579972e89dfc78d3ee95d15764681             913   \n",
       "5428  bd8f8239b827fc29d4e1bec91bd499b7            1254   \n",
       "\n",
       "                                           client_agent       device_details  \\\n",
       "0     Mozilla/5.0 (Windows NT 6.1; WOW64) AppleWebKi...     Desktop - Chrome   \n",
       "1                              Product/8.0 iPhone/8.1.3         iPhone - iOS   \n",
       "2     Mozilla/5.0 (iPhone; CPU iPhone OS 7_1_2 like ...   iPhone - MobileWeb   \n",
       "5426  Mozilla/5.0 (Macintosh; Intel Mac OS X 10_9_4)...     Desktop - Chrome   \n",
       "5427                                                NaN  Unknown - MobileWeb   \n",
       "5428  Mozilla/5.0 (iPhone; CPU iPhone OS 7_0_4 like ...         iPhone - Web   \n",
       "\n",
       "            date  purchased  added_in_cart  checked_out  time_spent  \n",
       "0     2020-01-22          1              0            0     236.886  \n",
       "1     2020-02-27          1              0            0    1277.455  \n",
       "2     2019-08-01          0              0            0      21.704  \n",
       "5426  2019-08-13          0              0            0      22.711  \n",
       "5427  2019-06-18          0              0            0      20.844  \n",
       "5428  2019-10-21          0              0            0      20.504  "
      ]
     },
     "execution_count": 278,
     "metadata": {},
     "output_type": "execute_result"
    }
   ],
   "source": [
    "train2.head(3).append(train2.tail(3))\n"
   ]
  },
  {
   "cell_type": "code",
   "execution_count": 279,
   "metadata": {},
   "outputs": [
    {
     "name": "stdout",
     "output_type": "stream",
     "text": [
      "(5429, 9) (2327, 8)\n"
     ]
    }
   ],
   "source": [
    "print(train.shape,test.shape)"
   ]
  },
  {
   "cell_type": "code",
   "execution_count": 280,
   "metadata": {},
   "outputs": [
    {
     "name": "stdout",
     "output_type": "stream",
     "text": [
      "{'session_id': 5429} {'session_number': 610} {'clent_agent': 698} {'device_details': 17} {'date': 342}\n"
     ]
    }
   ],
   "source": [
    "print({'session_id':train['session_id'].nunique()},{'session_number':train['session_number'].nunique()},{'clent_agent':train['client_agent'].nunique()},{'device_details':train['device_details'].nunique()},{'date':train['date'].nunique()})"
   ]
  },
  {
   "cell_type": "markdown",
   "metadata": {},
   "source": [
    "<h4>Drop session_id as, it is a constant feature"
   ]
  },
  {
   "cell_type": "code",
   "execution_count": null,
   "metadata": {},
   "outputs": [],
   "source": []
  },
  {
   "cell_type": "markdown",
   "metadata": {},
   "source": [
    "<h3> here we are having client agent and device details as categorical features, now check whether there are any categories that are present in test but not in train "
   ]
  },
  {
   "cell_type": "code",
   "execution_count": 281,
   "metadata": {},
   "outputs": [],
   "source": [
    "extra=[None]*train['client_agent'].nunique()\n",
    "train['client_agent']=train['client_agent'].str.lower()\n",
    "test['client_agent']=train['client_agent'].str.lower()"
   ]
  },
  {
   "cell_type": "code",
   "execution_count": 282,
   "metadata": {},
   "outputs": [],
   "source": [
    "client_unique=train['client_agent'].unique()\n",
    "test_client_unique=test['client_agent'].unique()"
   ]
  },
  {
   "cell_type": "code",
   "execution_count": 283,
   "metadata": {},
   "outputs": [
    {
     "name": "stdout",
     "output_type": "stream",
     "text": [
      "699\n",
      "505\n"
     ]
    }
   ],
   "source": [
    "print(len(client_unique))\n",
    "print(len(test_client_unique))"
   ]
  },
  {
   "cell_type": "code",
   "execution_count": 284,
   "metadata": {},
   "outputs": [],
   "source": [
    "k=0\n",
    "for i in range(len(test_client_unique)):\n",
    "    for j in range(len(client_unique)):\n",
    "        if test_client_unique[i]==client_unique[j]:\n",
    "            extra[i]=test_client_unique[i]"
   ]
  },
  {
   "cell_type": "code",
   "execution_count": 285,
   "metadata": {},
   "outputs": [],
   "source": [
    "extra2=pd.DataFrame({'extra':extra})"
   ]
  },
  {
   "cell_type": "code",
   "execution_count": 286,
   "metadata": {},
   "outputs": [
    {
     "data": {
      "text/plain": [
       "504"
      ]
     },
     "execution_count": 286,
     "metadata": {},
     "output_type": "execute_result"
    }
   ],
   "source": [
    "extra2['extra'].nunique()"
   ]
  },
  {
   "cell_type": "markdown",
   "metadata": {},
   "source": [
    "so we are having some extra categories in test data where as they are not in train data"
   ]
  },
  {
   "cell_type": "markdown",
   "metadata": {},
   "source": [
    "so here we can use laplace smoothing or additive smoothing "
   ]
  },
  {
   "cell_type": "code",
   "execution_count": 287,
   "metadata": {},
   "outputs": [
    {
     "data": {
      "text/plain": [
       "session_id          0\n",
       "session_number      0\n",
       "client_agent      160\n",
       "device_details      0\n",
       "date                0\n",
       "purchased           0\n",
       "added_in_cart       0\n",
       "checked_out         0\n",
       "time_spent          0\n",
       "dtype: int64"
      ]
     },
     "execution_count": 287,
     "metadata": {},
     "output_type": "execute_result"
    }
   ],
   "source": [
    "train.isnull().sum()"
   ]
  },
  {
   "cell_type": "code",
   "execution_count": 288,
   "metadata": {},
   "outputs": [],
   "source": [
    "train['client_agent'].fillna('unknown',inplace=True)"
   ]
  },
  {
   "cell_type": "code",
   "execution_count": 289,
   "metadata": {},
   "outputs": [],
   "source": [
    "train['client_lenghts']=[None]*len(train['client_agent'])\n",
    "for i in range(len(train['client_agent'])):\n",
    "    train['client_lenghts'][i]=len(train['client_agent'][i])"
   ]
  },
  {
   "cell_type": "code",
   "execution_count": 290,
   "metadata": {},
   "outputs": [
    {
     "data": {
      "text/html": [
       "<div>\n",
       "<style scoped>\n",
       "    .dataframe tbody tr th:only-of-type {\n",
       "        vertical-align: middle;\n",
       "    }\n",
       "\n",
       "    .dataframe tbody tr th {\n",
       "        vertical-align: top;\n",
       "    }\n",
       "\n",
       "    .dataframe thead th {\n",
       "        text-align: right;\n",
       "    }\n",
       "</style>\n",
       "<table border=\"1\" class=\"dataframe\">\n",
       "  <thead>\n",
       "    <tr style=\"text-align: right;\">\n",
       "      <th></th>\n",
       "      <th>session_id</th>\n",
       "      <th>session_number</th>\n",
       "      <th>client_agent</th>\n",
       "      <th>device_details</th>\n",
       "      <th>date</th>\n",
       "      <th>purchased</th>\n",
       "      <th>added_in_cart</th>\n",
       "      <th>checked_out</th>\n",
       "      <th>time_spent</th>\n",
       "      <th>client_lenghts</th>\n",
       "    </tr>\n",
       "  </thead>\n",
       "  <tbody>\n",
       "    <tr>\n",
       "      <th>0</th>\n",
       "      <td>57f879e70d3c5fc2a98102d64c9fd84e</td>\n",
       "      <td>715</td>\n",
       "      <td>mozilla/5.0 (windows nt 6.1; wow64) applewebki...</td>\n",
       "      <td>Desktop - Chrome</td>\n",
       "      <td>2020-01-22</td>\n",
       "      <td>1</td>\n",
       "      <td>0</td>\n",
       "      <td>0</td>\n",
       "      <td>236.886</td>\n",
       "      <td>109</td>\n",
       "    </tr>\n",
       "    <tr>\n",
       "      <th>1</th>\n",
       "      <td>a5442b0c7c33d0a811e7661e556b2de8</td>\n",
       "      <td>55</td>\n",
       "      <td>product/8.0 iphone/8.1.3</td>\n",
       "      <td>iPhone - iOS</td>\n",
       "      <td>2020-02-27</td>\n",
       "      <td>1</td>\n",
       "      <td>0</td>\n",
       "      <td>0</td>\n",
       "      <td>1277.455</td>\n",
       "      <td>24</td>\n",
       "    </tr>\n",
       "    <tr>\n",
       "      <th>2</th>\n",
       "      <td>305cb1486ed8610c00b37007926cb2c4</td>\n",
       "      <td>11</td>\n",
       "      <td>mozilla/5.0 (iphone; cpu iphone os 7_1_2 like ...</td>\n",
       "      <td>iPhone - MobileWeb</td>\n",
       "      <td>2019-08-01</td>\n",
       "      <td>0</td>\n",
       "      <td>0</td>\n",
       "      <td>0</td>\n",
       "      <td>21.704</td>\n",
       "      <td>255</td>\n",
       "    </tr>\n",
       "    <tr>\n",
       "      <th>3</th>\n",
       "      <td>f2c1ecc9993f0071df91ba178450498c</td>\n",
       "      <td>2794</td>\n",
       "      <td>mozilla/5.0 (compatible; msie 9.0; windows nt ...</td>\n",
       "      <td>Desktop - IE</td>\n",
       "      <td>2019-12-30</td>\n",
       "      <td>0</td>\n",
       "      <td>1</td>\n",
       "      <td>0</td>\n",
       "      <td>455.201</td>\n",
       "      <td>70</td>\n",
       "    </tr>\n",
       "    <tr>\n",
       "      <th>4</th>\n",
       "      <td>e460830ae295e55d2216ebdc761ab9a6</td>\n",
       "      <td>3674</td>\n",
       "      <td>mozilla/5.0 (iphone; cpu iphone os 7_1_1 like ...</td>\n",
       "      <td>iPhone - Web</td>\n",
       "      <td>2019-09-10</td>\n",
       "      <td>0</td>\n",
       "      <td>0</td>\n",
       "      <td>0</td>\n",
       "      <td>1164.877</td>\n",
       "      <td>110</td>\n",
       "    </tr>\n",
       "  </tbody>\n",
       "</table>\n",
       "</div>"
      ],
      "text/plain": [
       "                         session_id  session_number  \\\n",
       "0  57f879e70d3c5fc2a98102d64c9fd84e             715   \n",
       "1  a5442b0c7c33d0a811e7661e556b2de8              55   \n",
       "2  305cb1486ed8610c00b37007926cb2c4              11   \n",
       "3  f2c1ecc9993f0071df91ba178450498c            2794   \n",
       "4  e460830ae295e55d2216ebdc761ab9a6            3674   \n",
       "\n",
       "                                        client_agent      device_details  \\\n",
       "0  mozilla/5.0 (windows nt 6.1; wow64) applewebki...    Desktop - Chrome   \n",
       "1                           product/8.0 iphone/8.1.3        iPhone - iOS   \n",
       "2  mozilla/5.0 (iphone; cpu iphone os 7_1_2 like ...  iPhone - MobileWeb   \n",
       "3  mozilla/5.0 (compatible; msie 9.0; windows nt ...        Desktop - IE   \n",
       "4  mozilla/5.0 (iphone; cpu iphone os 7_1_1 like ...        iPhone - Web   \n",
       "\n",
       "         date  purchased  added_in_cart  checked_out  time_spent  \\\n",
       "0  2020-01-22          1              0            0     236.886   \n",
       "1  2020-02-27          1              0            0    1277.455   \n",
       "2  2019-08-01          0              0            0      21.704   \n",
       "3  2019-12-30          0              1            0     455.201   \n",
       "4  2019-09-10          0              0            0    1164.877   \n",
       "\n",
       "  client_lenghts  \n",
       "0            109  \n",
       "1             24  \n",
       "2            255  \n",
       "3             70  \n",
       "4            110  "
      ]
     },
     "execution_count": 290,
     "metadata": {},
     "output_type": "execute_result"
    }
   ],
   "source": [
    "train.head()"
   ]
  },
  {
   "cell_type": "code",
   "execution_count": 291,
   "metadata": {},
   "outputs": [],
   "source": [
    "k=1\n",
    "N=len(train)\n",
    "train['clinet_Frecuency']=train['client_agent'].map(train['client_agent'].value_counts())\n",
    "#encode_value=(xi+k)/(N+k*d)#xi=frequency of xi,k=konstant,N=lenght of dataset,d=lenght of xi"
   ]
  },
  {
   "cell_type": "code",
   "execution_count": 292,
   "metadata": {},
   "outputs": [
    {
     "data": {
      "text/html": [
       "<div>\n",
       "<style scoped>\n",
       "    .dataframe tbody tr th:only-of-type {\n",
       "        vertical-align: middle;\n",
       "    }\n",
       "\n",
       "    .dataframe tbody tr th {\n",
       "        vertical-align: top;\n",
       "    }\n",
       "\n",
       "    .dataframe thead th {\n",
       "        text-align: right;\n",
       "    }\n",
       "</style>\n",
       "<table border=\"1\" class=\"dataframe\">\n",
       "  <thead>\n",
       "    <tr style=\"text-align: right;\">\n",
       "      <th></th>\n",
       "      <th>session_id</th>\n",
       "      <th>session_number</th>\n",
       "      <th>client_agent</th>\n",
       "      <th>device_details</th>\n",
       "      <th>date</th>\n",
       "      <th>purchased</th>\n",
       "      <th>added_in_cart</th>\n",
       "      <th>checked_out</th>\n",
       "      <th>time_spent</th>\n",
       "      <th>client_lenghts</th>\n",
       "      <th>clinet_Frecuency</th>\n",
       "    </tr>\n",
       "  </thead>\n",
       "  <tbody>\n",
       "    <tr>\n",
       "      <th>0</th>\n",
       "      <td>57f879e70d3c5fc2a98102d64c9fd84e</td>\n",
       "      <td>715</td>\n",
       "      <td>mozilla/5.0 (windows nt 6.1; wow64) applewebki...</td>\n",
       "      <td>Desktop - Chrome</td>\n",
       "      <td>2020-01-22</td>\n",
       "      <td>1</td>\n",
       "      <td>0</td>\n",
       "      <td>0</td>\n",
       "      <td>236.886</td>\n",
       "      <td>109</td>\n",
       "      <td>11</td>\n",
       "    </tr>\n",
       "    <tr>\n",
       "      <th>1</th>\n",
       "      <td>a5442b0c7c33d0a811e7661e556b2de8</td>\n",
       "      <td>55</td>\n",
       "      <td>product/8.0 iphone/8.1.3</td>\n",
       "      <td>iPhone - iOS</td>\n",
       "      <td>2020-02-27</td>\n",
       "      <td>1</td>\n",
       "      <td>0</td>\n",
       "      <td>0</td>\n",
       "      <td>1277.455</td>\n",
       "      <td>24</td>\n",
       "      <td>27</td>\n",
       "    </tr>\n",
       "    <tr>\n",
       "      <th>2</th>\n",
       "      <td>305cb1486ed8610c00b37007926cb2c4</td>\n",
       "      <td>11</td>\n",
       "      <td>mozilla/5.0 (iphone; cpu iphone os 7_1_2 like ...</td>\n",
       "      <td>iPhone - MobileWeb</td>\n",
       "      <td>2019-08-01</td>\n",
       "      <td>0</td>\n",
       "      <td>0</td>\n",
       "      <td>0</td>\n",
       "      <td>21.704</td>\n",
       "      <td>255</td>\n",
       "      <td>1</td>\n",
       "    </tr>\n",
       "    <tr>\n",
       "      <th>3</th>\n",
       "      <td>f2c1ecc9993f0071df91ba178450498c</td>\n",
       "      <td>2794</td>\n",
       "      <td>mozilla/5.0 (compatible; msie 9.0; windows nt ...</td>\n",
       "      <td>Desktop - IE</td>\n",
       "      <td>2019-12-30</td>\n",
       "      <td>0</td>\n",
       "      <td>1</td>\n",
       "      <td>0</td>\n",
       "      <td>455.201</td>\n",
       "      <td>70</td>\n",
       "      <td>68</td>\n",
       "    </tr>\n",
       "    <tr>\n",
       "      <th>4</th>\n",
       "      <td>e460830ae295e55d2216ebdc761ab9a6</td>\n",
       "      <td>3674</td>\n",
       "      <td>mozilla/5.0 (iphone; cpu iphone os 7_1_1 like ...</td>\n",
       "      <td>iPhone - Web</td>\n",
       "      <td>2019-09-10</td>\n",
       "      <td>0</td>\n",
       "      <td>0</td>\n",
       "      <td>0</td>\n",
       "      <td>1164.877</td>\n",
       "      <td>110</td>\n",
       "      <td>209</td>\n",
       "    </tr>\n",
       "  </tbody>\n",
       "</table>\n",
       "</div>"
      ],
      "text/plain": [
       "                         session_id  session_number  \\\n",
       "0  57f879e70d3c5fc2a98102d64c9fd84e             715   \n",
       "1  a5442b0c7c33d0a811e7661e556b2de8              55   \n",
       "2  305cb1486ed8610c00b37007926cb2c4              11   \n",
       "3  f2c1ecc9993f0071df91ba178450498c            2794   \n",
       "4  e460830ae295e55d2216ebdc761ab9a6            3674   \n",
       "\n",
       "                                        client_agent      device_details  \\\n",
       "0  mozilla/5.0 (windows nt 6.1; wow64) applewebki...    Desktop - Chrome   \n",
       "1                           product/8.0 iphone/8.1.3        iPhone - iOS   \n",
       "2  mozilla/5.0 (iphone; cpu iphone os 7_1_2 like ...  iPhone - MobileWeb   \n",
       "3  mozilla/5.0 (compatible; msie 9.0; windows nt ...        Desktop - IE   \n",
       "4  mozilla/5.0 (iphone; cpu iphone os 7_1_1 like ...        iPhone - Web   \n",
       "\n",
       "         date  purchased  added_in_cart  checked_out  time_spent  \\\n",
       "0  2020-01-22          1              0            0     236.886   \n",
       "1  2020-02-27          1              0            0    1277.455   \n",
       "2  2019-08-01          0              0            0      21.704   \n",
       "3  2019-12-30          0              1            0     455.201   \n",
       "4  2019-09-10          0              0            0    1164.877   \n",
       "\n",
       "  client_lenghts  clinet_Frecuency  \n",
       "0            109                11  \n",
       "1             24                27  \n",
       "2            255                 1  \n",
       "3             70                68  \n",
       "4            110               209  "
      ]
     },
     "execution_count": 292,
     "metadata": {},
     "output_type": "execute_result"
    }
   ],
   "source": [
    "train.head()"
   ]
  },
  {
   "cell_type": "code",
   "execution_count": 293,
   "metadata": {},
   "outputs": [],
   "source": [
    "train['client_encode']=[None]*len(train['client_agent'])\n",
    "for i in range(len(train['client_agent'])):\n",
    "    train['client_encode'][i]=((train['clinet_Frecuency'][i])+k)/(N+k*train['client_lenghts'][i])"
   ]
  },
  {
   "cell_type": "code",
   "execution_count": 294,
   "metadata": {},
   "outputs": [
    {
     "data": {
      "text/html": [
       "<div>\n",
       "<style scoped>\n",
       "    .dataframe tbody tr th:only-of-type {\n",
       "        vertical-align: middle;\n",
       "    }\n",
       "\n",
       "    .dataframe tbody tr th {\n",
       "        vertical-align: top;\n",
       "    }\n",
       "\n",
       "    .dataframe thead th {\n",
       "        text-align: right;\n",
       "    }\n",
       "</style>\n",
       "<table border=\"1\" class=\"dataframe\">\n",
       "  <thead>\n",
       "    <tr style=\"text-align: right;\">\n",
       "      <th></th>\n",
       "      <th>session_id</th>\n",
       "      <th>session_number</th>\n",
       "      <th>client_agent</th>\n",
       "      <th>device_details</th>\n",
       "      <th>date</th>\n",
       "      <th>purchased</th>\n",
       "      <th>added_in_cart</th>\n",
       "      <th>checked_out</th>\n",
       "      <th>time_spent</th>\n",
       "      <th>client_lenghts</th>\n",
       "      <th>clinet_Frecuency</th>\n",
       "      <th>client_encode</th>\n",
       "    </tr>\n",
       "  </thead>\n",
       "  <tbody>\n",
       "    <tr>\n",
       "      <th>0</th>\n",
       "      <td>57f879e70d3c5fc2a98102d64c9fd84e</td>\n",
       "      <td>715</td>\n",
       "      <td>mozilla/5.0 (windows nt 6.1; wow64) applewebki...</td>\n",
       "      <td>Desktop - Chrome</td>\n",
       "      <td>2020-01-22</td>\n",
       "      <td>1</td>\n",
       "      <td>0</td>\n",
       "      <td>0</td>\n",
       "      <td>236.886</td>\n",
       "      <td>109</td>\n",
       "      <td>11</td>\n",
       "      <td>0.00216685</td>\n",
       "    </tr>\n",
       "    <tr>\n",
       "      <th>1</th>\n",
       "      <td>a5442b0c7c33d0a811e7661e556b2de8</td>\n",
       "      <td>55</td>\n",
       "      <td>product/8.0 iphone/8.1.3</td>\n",
       "      <td>iPhone - iOS</td>\n",
       "      <td>2020-02-27</td>\n",
       "      <td>1</td>\n",
       "      <td>0</td>\n",
       "      <td>0</td>\n",
       "      <td>1277.455</td>\n",
       "      <td>24</td>\n",
       "      <td>27</td>\n",
       "      <td>0.00513479</td>\n",
       "    </tr>\n",
       "    <tr>\n",
       "      <th>2</th>\n",
       "      <td>305cb1486ed8610c00b37007926cb2c4</td>\n",
       "      <td>11</td>\n",
       "      <td>mozilla/5.0 (iphone; cpu iphone os 7_1_2 like ...</td>\n",
       "      <td>iPhone - MobileWeb</td>\n",
       "      <td>2019-08-01</td>\n",
       "      <td>0</td>\n",
       "      <td>0</td>\n",
       "      <td>0</td>\n",
       "      <td>21.704</td>\n",
       "      <td>255</td>\n",
       "      <td>1</td>\n",
       "      <td>0.000351865</td>\n",
       "    </tr>\n",
       "    <tr>\n",
       "      <th>3</th>\n",
       "      <td>f2c1ecc9993f0071df91ba178450498c</td>\n",
       "      <td>2794</td>\n",
       "      <td>mozilla/5.0 (compatible; msie 9.0; windows nt ...</td>\n",
       "      <td>Desktop - IE</td>\n",
       "      <td>2019-12-30</td>\n",
       "      <td>0</td>\n",
       "      <td>1</td>\n",
       "      <td>0</td>\n",
       "      <td>455.201</td>\n",
       "      <td>70</td>\n",
       "      <td>68</td>\n",
       "      <td>0.0125477</td>\n",
       "    </tr>\n",
       "    <tr>\n",
       "      <th>4</th>\n",
       "      <td>e460830ae295e55d2216ebdc761ab9a6</td>\n",
       "      <td>3674</td>\n",
       "      <td>mozilla/5.0 (iphone; cpu iphone os 7_1_1 like ...</td>\n",
       "      <td>iPhone - Web</td>\n",
       "      <td>2019-09-10</td>\n",
       "      <td>0</td>\n",
       "      <td>0</td>\n",
       "      <td>0</td>\n",
       "      <td>1164.877</td>\n",
       "      <td>110</td>\n",
       "      <td>209</td>\n",
       "      <td>0.037913</td>\n",
       "    </tr>\n",
       "  </tbody>\n",
       "</table>\n",
       "</div>"
      ],
      "text/plain": [
       "                         session_id  session_number  \\\n",
       "0  57f879e70d3c5fc2a98102d64c9fd84e             715   \n",
       "1  a5442b0c7c33d0a811e7661e556b2de8              55   \n",
       "2  305cb1486ed8610c00b37007926cb2c4              11   \n",
       "3  f2c1ecc9993f0071df91ba178450498c            2794   \n",
       "4  e460830ae295e55d2216ebdc761ab9a6            3674   \n",
       "\n",
       "                                        client_agent      device_details  \\\n",
       "0  mozilla/5.0 (windows nt 6.1; wow64) applewebki...    Desktop - Chrome   \n",
       "1                           product/8.0 iphone/8.1.3        iPhone - iOS   \n",
       "2  mozilla/5.0 (iphone; cpu iphone os 7_1_2 like ...  iPhone - MobileWeb   \n",
       "3  mozilla/5.0 (compatible; msie 9.0; windows nt ...        Desktop - IE   \n",
       "4  mozilla/5.0 (iphone; cpu iphone os 7_1_1 like ...        iPhone - Web   \n",
       "\n",
       "         date  purchased  added_in_cart  checked_out  time_spent  \\\n",
       "0  2020-01-22          1              0            0     236.886   \n",
       "1  2020-02-27          1              0            0    1277.455   \n",
       "2  2019-08-01          0              0            0      21.704   \n",
       "3  2019-12-30          0              1            0     455.201   \n",
       "4  2019-09-10          0              0            0    1164.877   \n",
       "\n",
       "  client_lenghts  clinet_Frecuency client_encode  \n",
       "0            109                11    0.00216685  \n",
       "1             24                27    0.00513479  \n",
       "2            255                 1   0.000351865  \n",
       "3             70                68     0.0125477  \n",
       "4            110               209      0.037913  "
      ]
     },
     "execution_count": 294,
     "metadata": {},
     "output_type": "execute_result"
    }
   ],
   "source": [
    "train.head()"
   ]
  },
  {
   "cell_type": "code",
   "execution_count": 295,
   "metadata": {},
   "outputs": [
    {
     "data": {
      "text/plain": [
       "session_id         0\n",
       "session_number     0\n",
       "client_agent      63\n",
       "device_details     0\n",
       "date               0\n",
       "purchased          0\n",
       "added_in_cart      0\n",
       "checked_out        0\n",
       "dtype: int64"
      ]
     },
     "execution_count": 295,
     "metadata": {},
     "output_type": "execute_result"
    }
   ],
   "source": [
    "test.isnull().sum()"
   ]
  },
  {
   "cell_type": "code",
   "execution_count": 296,
   "metadata": {},
   "outputs": [],
   "source": [
    "test['client_agent'].fillna('unknown',inplace=True)"
   ]
  },
  {
   "cell_type": "code",
   "execution_count": 297,
   "metadata": {},
   "outputs": [],
   "source": [
    "test['client_lenghts']=[None]*len(test['client_agent'])\n",
    "for i in range(len(test['client_agent'])):\n",
    "    test['client_lenghts'][i]=len(test['client_agent'][i])"
   ]
  },
  {
   "cell_type": "code",
   "execution_count": 298,
   "metadata": {},
   "outputs": [],
   "source": [
    "k=1\n",
    "N=len(train)\n",
    "test['clinet_Frecuency']=test['client_agent'].map(test['client_agent'].value_counts())"
   ]
  },
  {
   "cell_type": "code",
   "execution_count": 299,
   "metadata": {},
   "outputs": [],
   "source": [
    "test['client_encode']=[None]*len(test['client_agent'])\n",
    "for i in range(len(test['client_agent'])):\n",
    "    test['client_encode'][i]=((test['clinet_Frecuency'][i])+k)/(N+k*test['client_lenghts'][i])"
   ]
  },
  {
   "cell_type": "code",
   "execution_count": 300,
   "metadata": {},
   "outputs": [
    {
     "data": {
      "text/html": [
       "<div>\n",
       "<style scoped>\n",
       "    .dataframe tbody tr th:only-of-type {\n",
       "        vertical-align: middle;\n",
       "    }\n",
       "\n",
       "    .dataframe tbody tr th {\n",
       "        vertical-align: top;\n",
       "    }\n",
       "\n",
       "    .dataframe thead th {\n",
       "        text-align: right;\n",
       "    }\n",
       "</style>\n",
       "<table border=\"1\" class=\"dataframe\">\n",
       "  <thead>\n",
       "    <tr style=\"text-align: right;\">\n",
       "      <th></th>\n",
       "      <th>session_id</th>\n",
       "      <th>session_number</th>\n",
       "      <th>client_agent</th>\n",
       "      <th>device_details</th>\n",
       "      <th>date</th>\n",
       "      <th>purchased</th>\n",
       "      <th>added_in_cart</th>\n",
       "      <th>checked_out</th>\n",
       "      <th>client_lenghts</th>\n",
       "      <th>clinet_Frecuency</th>\n",
       "      <th>client_encode</th>\n",
       "    </tr>\n",
       "  </thead>\n",
       "  <tbody>\n",
       "    <tr>\n",
       "      <th>0</th>\n",
       "      <td>0bf72b05b2cf70dc5e28c3c09f9c4f97</td>\n",
       "      <td>99</td>\n",
       "      <td>mozilla/5.0 (windows nt 6.1; wow64) applewebki...</td>\n",
       "      <td>Desktop - IE</td>\n",
       "      <td>2020-01-07</td>\n",
       "      <td>1</td>\n",
       "      <td>0</td>\n",
       "      <td>0</td>\n",
       "      <td>109</td>\n",
       "      <td>2</td>\n",
       "      <td>0.000541712</td>\n",
       "    </tr>\n",
       "    <tr>\n",
       "      <th>1</th>\n",
       "      <td>6bc696d99954e4f1367e845465186aef</td>\n",
       "      <td>935</td>\n",
       "      <td>product/8.0 iphone/8.1.3</td>\n",
       "      <td>Android Phone - Android</td>\n",
       "      <td>2020-02-13</td>\n",
       "      <td>0</td>\n",
       "      <td>0</td>\n",
       "      <td>0</td>\n",
       "      <td>24</td>\n",
       "      <td>7</td>\n",
       "      <td>0.00146708</td>\n",
       "    </tr>\n",
       "    <tr>\n",
       "      <th>2</th>\n",
       "      <td>3d8611a5ea0f621d205b67f09f663a89</td>\n",
       "      <td>902</td>\n",
       "      <td>mozilla/5.0 (iphone; cpu iphone os 7_1_2 like ...</td>\n",
       "      <td>iPhone - iOS</td>\n",
       "      <td>2019-10-14</td>\n",
       "      <td>1</td>\n",
       "      <td>0</td>\n",
       "      <td>0</td>\n",
       "      <td>255</td>\n",
       "      <td>1</td>\n",
       "      <td>0.000351865</td>\n",
       "    </tr>\n",
       "    <tr>\n",
       "      <th>3</th>\n",
       "      <td>a0351545c032fd0da36289410c6c3354</td>\n",
       "      <td>3223</td>\n",
       "      <td>mozilla/5.0 (compatible; msie 9.0; windows nt ...</td>\n",
       "      <td>Desktop - IE</td>\n",
       "      <td>2020-01-26</td>\n",
       "      <td>0</td>\n",
       "      <td>0</td>\n",
       "      <td>0</td>\n",
       "      <td>70</td>\n",
       "      <td>25</td>\n",
       "      <td>0.00472813</td>\n",
       "    </tr>\n",
       "    <tr>\n",
       "      <th>4</th>\n",
       "      <td>dd8999772b0ab27225fb05e5df2f1da6</td>\n",
       "      <td>231</td>\n",
       "      <td>mozilla/5.0 (iphone; cpu iphone os 7_1_1 like ...</td>\n",
       "      <td>Desktop - Chrome</td>\n",
       "      <td>2020-01-29</td>\n",
       "      <td>0</td>\n",
       "      <td>0</td>\n",
       "      <td>0</td>\n",
       "      <td>110</td>\n",
       "      <td>86</td>\n",
       "      <td>0.0157068</td>\n",
       "    </tr>\n",
       "  </tbody>\n",
       "</table>\n",
       "</div>"
      ],
      "text/plain": [
       "                         session_id  session_number  \\\n",
       "0  0bf72b05b2cf70dc5e28c3c09f9c4f97              99   \n",
       "1  6bc696d99954e4f1367e845465186aef             935   \n",
       "2  3d8611a5ea0f621d205b67f09f663a89             902   \n",
       "3  a0351545c032fd0da36289410c6c3354            3223   \n",
       "4  dd8999772b0ab27225fb05e5df2f1da6             231   \n",
       "\n",
       "                                        client_agent           device_details  \\\n",
       "0  mozilla/5.0 (windows nt 6.1; wow64) applewebki...             Desktop - IE   \n",
       "1                           product/8.0 iphone/8.1.3  Android Phone - Android   \n",
       "2  mozilla/5.0 (iphone; cpu iphone os 7_1_2 like ...             iPhone - iOS   \n",
       "3  mozilla/5.0 (compatible; msie 9.0; windows nt ...             Desktop - IE   \n",
       "4  mozilla/5.0 (iphone; cpu iphone os 7_1_1 like ...         Desktop - Chrome   \n",
       "\n",
       "         date  purchased  added_in_cart  checked_out client_lenghts  \\\n",
       "0  2020-01-07          1              0            0            109   \n",
       "1  2020-02-13          0              0            0             24   \n",
       "2  2019-10-14          1              0            0            255   \n",
       "3  2020-01-26          0              0            0             70   \n",
       "4  2020-01-29          0              0            0            110   \n",
       "\n",
       "   clinet_Frecuency client_encode  \n",
       "0                 2   0.000541712  \n",
       "1                 7    0.00146708  \n",
       "2                 1   0.000351865  \n",
       "3                25    0.00472813  \n",
       "4                86     0.0157068  "
      ]
     },
     "execution_count": 300,
     "metadata": {},
     "output_type": "execute_result"
    }
   ],
   "source": [
    "test.head()"
   ]
  },
  {
   "cell_type": "code",
   "execution_count": 301,
   "metadata": {},
   "outputs": [],
   "source": [
    "train.drop(['session_id','client_agent'],axis=1,inplace=True)\n",
    "test.drop(['session_id','client_agent'],axis=1,inplace=True)"
   ]
  },
  {
   "cell_type": "code",
   "execution_count": 302,
   "metadata": {},
   "outputs": [
    {
     "data": {
      "text/html": [
       "<div>\n",
       "<style scoped>\n",
       "    .dataframe tbody tr th:only-of-type {\n",
       "        vertical-align: middle;\n",
       "    }\n",
       "\n",
       "    .dataframe tbody tr th {\n",
       "        vertical-align: top;\n",
       "    }\n",
       "\n",
       "    .dataframe thead th {\n",
       "        text-align: right;\n",
       "    }\n",
       "</style>\n",
       "<table border=\"1\" class=\"dataframe\">\n",
       "  <thead>\n",
       "    <tr style=\"text-align: right;\">\n",
       "      <th></th>\n",
       "      <th>session_number</th>\n",
       "      <th>device_details</th>\n",
       "      <th>date</th>\n",
       "      <th>purchased</th>\n",
       "      <th>added_in_cart</th>\n",
       "      <th>checked_out</th>\n",
       "      <th>time_spent</th>\n",
       "      <th>client_lenghts</th>\n",
       "      <th>clinet_Frecuency</th>\n",
       "      <th>client_encode</th>\n",
       "    </tr>\n",
       "  </thead>\n",
       "  <tbody>\n",
       "    <tr>\n",
       "      <th>0</th>\n",
       "      <td>715</td>\n",
       "      <td>Desktop - Chrome</td>\n",
       "      <td>2020-01-22</td>\n",
       "      <td>1</td>\n",
       "      <td>0</td>\n",
       "      <td>0</td>\n",
       "      <td>236.886</td>\n",
       "      <td>109</td>\n",
       "      <td>11</td>\n",
       "      <td>0.00216685</td>\n",
       "    </tr>\n",
       "    <tr>\n",
       "      <th>1</th>\n",
       "      <td>55</td>\n",
       "      <td>iPhone - iOS</td>\n",
       "      <td>2020-02-27</td>\n",
       "      <td>1</td>\n",
       "      <td>0</td>\n",
       "      <td>0</td>\n",
       "      <td>1277.455</td>\n",
       "      <td>24</td>\n",
       "      <td>27</td>\n",
       "      <td>0.00513479</td>\n",
       "    </tr>\n",
       "    <tr>\n",
       "      <th>2</th>\n",
       "      <td>11</td>\n",
       "      <td>iPhone - MobileWeb</td>\n",
       "      <td>2019-08-01</td>\n",
       "      <td>0</td>\n",
       "      <td>0</td>\n",
       "      <td>0</td>\n",
       "      <td>21.704</td>\n",
       "      <td>255</td>\n",
       "      <td>1</td>\n",
       "      <td>0.000351865</td>\n",
       "    </tr>\n",
       "    <tr>\n",
       "      <th>3</th>\n",
       "      <td>2794</td>\n",
       "      <td>Desktop - IE</td>\n",
       "      <td>2019-12-30</td>\n",
       "      <td>0</td>\n",
       "      <td>1</td>\n",
       "      <td>0</td>\n",
       "      <td>455.201</td>\n",
       "      <td>70</td>\n",
       "      <td>68</td>\n",
       "      <td>0.0125477</td>\n",
       "    </tr>\n",
       "    <tr>\n",
       "      <th>4</th>\n",
       "      <td>3674</td>\n",
       "      <td>iPhone - Web</td>\n",
       "      <td>2019-09-10</td>\n",
       "      <td>0</td>\n",
       "      <td>0</td>\n",
       "      <td>0</td>\n",
       "      <td>1164.877</td>\n",
       "      <td>110</td>\n",
       "      <td>209</td>\n",
       "      <td>0.037913</td>\n",
       "    </tr>\n",
       "  </tbody>\n",
       "</table>\n",
       "</div>"
      ],
      "text/plain": [
       "   session_number      device_details        date  purchased  added_in_cart  \\\n",
       "0             715    Desktop - Chrome  2020-01-22          1              0   \n",
       "1              55        iPhone - iOS  2020-02-27          1              0   \n",
       "2              11  iPhone - MobileWeb  2019-08-01          0              0   \n",
       "3            2794        Desktop - IE  2019-12-30          0              1   \n",
       "4            3674        iPhone - Web  2019-09-10          0              0   \n",
       "\n",
       "   checked_out  time_spent client_lenghts  clinet_Frecuency client_encode  \n",
       "0            0     236.886            109                11    0.00216685  \n",
       "1            0    1277.455             24                27    0.00513479  \n",
       "2            0      21.704            255                 1   0.000351865  \n",
       "3            0     455.201             70                68     0.0125477  \n",
       "4            0    1164.877            110               209      0.037913  "
      ]
     },
     "execution_count": 302,
     "metadata": {},
     "output_type": "execute_result"
    }
   ],
   "source": [
    "train.head()"
   ]
  },
  {
   "cell_type": "code",
   "execution_count": 303,
   "metadata": {},
   "outputs": [],
   "source": [
    "train['client_encode']=train['client_encode'].astype('float64')"
   ]
  },
  {
   "cell_type": "code",
   "execution_count": 304,
   "metadata": {},
   "outputs": [
    {
     "data": {
      "text/plain": [
       "session_number        int64\n",
       "device_details       object\n",
       "date                 object\n",
       "purchased             int64\n",
       "added_in_cart         int64\n",
       "checked_out           int64\n",
       "time_spent          float64\n",
       "client_lenghts       object\n",
       "clinet_Frecuency      int64\n",
       "client_encode       float64\n",
       "dtype: object"
      ]
     },
     "execution_count": 304,
     "metadata": {},
     "output_type": "execute_result"
    }
   ],
   "source": [
    "train.dtypes"
   ]
  },
  {
   "cell_type": "code",
   "execution_count": null,
   "metadata": {},
   "outputs": [],
   "source": []
  },
  {
   "cell_type": "code",
   "execution_count": 305,
   "metadata": {},
   "outputs": [],
   "source": [
    "train['ca_isna'] = np.where(train2['client_agent'].isnull(), 1, 0)"
   ]
  },
  {
   "cell_type": "code",
   "execution_count": 306,
   "metadata": {},
   "outputs": [
    {
     "data": {
      "text/html": [
       "<div>\n",
       "<style scoped>\n",
       "    .dataframe tbody tr th:only-of-type {\n",
       "        vertical-align: middle;\n",
       "    }\n",
       "\n",
       "    .dataframe tbody tr th {\n",
       "        vertical-align: top;\n",
       "    }\n",
       "\n",
       "    .dataframe thead th {\n",
       "        text-align: right;\n",
       "    }\n",
       "</style>\n",
       "<table border=\"1\" class=\"dataframe\">\n",
       "  <thead>\n",
       "    <tr style=\"text-align: right;\">\n",
       "      <th></th>\n",
       "      <th>session_number</th>\n",
       "      <th>device_details</th>\n",
       "      <th>date</th>\n",
       "      <th>purchased</th>\n",
       "      <th>added_in_cart</th>\n",
       "      <th>checked_out</th>\n",
       "      <th>time_spent</th>\n",
       "      <th>client_lenghts</th>\n",
       "      <th>clinet_Frecuency</th>\n",
       "      <th>client_encode</th>\n",
       "      <th>ca_isna</th>\n",
       "    </tr>\n",
       "  </thead>\n",
       "  <tbody>\n",
       "    <tr>\n",
       "      <th>0</th>\n",
       "      <td>715</td>\n",
       "      <td>Desktop - Chrome</td>\n",
       "      <td>2020-01-22</td>\n",
       "      <td>1</td>\n",
       "      <td>0</td>\n",
       "      <td>0</td>\n",
       "      <td>236.886</td>\n",
       "      <td>109</td>\n",
       "      <td>11</td>\n",
       "      <td>0.002167</td>\n",
       "      <td>0</td>\n",
       "    </tr>\n",
       "    <tr>\n",
       "      <th>1</th>\n",
       "      <td>55</td>\n",
       "      <td>iPhone - iOS</td>\n",
       "      <td>2020-02-27</td>\n",
       "      <td>1</td>\n",
       "      <td>0</td>\n",
       "      <td>0</td>\n",
       "      <td>1277.455</td>\n",
       "      <td>24</td>\n",
       "      <td>27</td>\n",
       "      <td>0.005135</td>\n",
       "      <td>0</td>\n",
       "    </tr>\n",
       "    <tr>\n",
       "      <th>2</th>\n",
       "      <td>11</td>\n",
       "      <td>iPhone - MobileWeb</td>\n",
       "      <td>2019-08-01</td>\n",
       "      <td>0</td>\n",
       "      <td>0</td>\n",
       "      <td>0</td>\n",
       "      <td>21.704</td>\n",
       "      <td>255</td>\n",
       "      <td>1</td>\n",
       "      <td>0.000352</td>\n",
       "      <td>0</td>\n",
       "    </tr>\n",
       "    <tr>\n",
       "      <th>3</th>\n",
       "      <td>2794</td>\n",
       "      <td>Desktop - IE</td>\n",
       "      <td>2019-12-30</td>\n",
       "      <td>0</td>\n",
       "      <td>1</td>\n",
       "      <td>0</td>\n",
       "      <td>455.201</td>\n",
       "      <td>70</td>\n",
       "      <td>68</td>\n",
       "      <td>0.012548</td>\n",
       "      <td>0</td>\n",
       "    </tr>\n",
       "    <tr>\n",
       "      <th>4</th>\n",
       "      <td>3674</td>\n",
       "      <td>iPhone - Web</td>\n",
       "      <td>2019-09-10</td>\n",
       "      <td>0</td>\n",
       "      <td>0</td>\n",
       "      <td>0</td>\n",
       "      <td>1164.877</td>\n",
       "      <td>110</td>\n",
       "      <td>209</td>\n",
       "      <td>0.037913</td>\n",
       "      <td>0</td>\n",
       "    </tr>\n",
       "  </tbody>\n",
       "</table>\n",
       "</div>"
      ],
      "text/plain": [
       "   session_number      device_details        date  purchased  added_in_cart  \\\n",
       "0             715    Desktop - Chrome  2020-01-22          1              0   \n",
       "1              55        iPhone - iOS  2020-02-27          1              0   \n",
       "2              11  iPhone - MobileWeb  2019-08-01          0              0   \n",
       "3            2794        Desktop - IE  2019-12-30          0              1   \n",
       "4            3674        iPhone - Web  2019-09-10          0              0   \n",
       "\n",
       "   checked_out  time_spent client_lenghts  clinet_Frecuency  client_encode  \\\n",
       "0            0     236.886            109                11       0.002167   \n",
       "1            0    1277.455             24                27       0.005135   \n",
       "2            0      21.704            255                 1       0.000352   \n",
       "3            0     455.201             70                68       0.012548   \n",
       "4            0    1164.877            110               209       0.037913   \n",
       "\n",
       "   ca_isna  \n",
       "0        0  \n",
       "1        0  \n",
       "2        0  \n",
       "3        0  \n",
       "4        0  "
      ]
     },
     "execution_count": 306,
     "metadata": {},
     "output_type": "execute_result"
    }
   ],
   "source": [
    "train.head()"
   ]
  },
  {
   "cell_type": "code",
   "execution_count": 307,
   "metadata": {},
   "outputs": [],
   "source": [
    "test['ca_isna'] = np.where(test2['client_agent'].isnull(), 1, 0)"
   ]
  },
  {
   "cell_type": "code",
   "execution_count": 308,
   "metadata": {},
   "outputs": [
    {
     "name": "stdout",
     "output_type": "stream",
     "text": [
      "(5429, 11) (2327, 10)\n"
     ]
    }
   ],
   "source": [
    "print(train.shape,test.shape)"
   ]
  },
  {
   "cell_type": "code",
   "execution_count": 309,
   "metadata": {},
   "outputs": [
    {
     "data": {
      "text/plain": [
       "array(['Desktop - Chrome', 'iPhone - iOS', 'iPhone - MobileWeb',\n",
       "       'Desktop - IE', 'iPhone - Web', 'Android Phone - Android',\n",
       "       'Desktop - Firefox', 'Android Tablet - Web', 'iPad - Web',\n",
       "       'Other - Other', 'Desktop - Safari', 'Android Phone - Web',\n",
       "       'iPad - iOS', 'Android Phone - MobileWeb', 'Unknown - MobileWeb',\n",
       "       'Android Tablet - Android', 'Android Tablet - MobileWeb'],\n",
       "      dtype=object)"
      ]
     },
     "execution_count": 309,
     "metadata": {},
     "output_type": "execute_result"
    }
   ],
   "source": [
    "train['device_details'].unique()"
   ]
  },
  {
   "cell_type": "code",
   "execution_count": 310,
   "metadata": {},
   "outputs": [],
   "source": [
    "device={'Desktop - Chrome':0, 'iPhone - iOS':1, 'iPhone - MobileWeb':2,\n",
    "       'Desktop - IE':3, 'iPhone - Web':4, 'Android Phone - Android':5,\n",
    "       'Desktop - Firefox':6, 'Android Tablet - Web':7, 'iPad - Web':8,\n",
    "       'Other - Other':9, 'Desktop - Safari':10, 'Android Phone - Web':11,\n",
    "       'iPad - iOS':12, 'Android Phone - MobileWeb':13, 'Unknown - MobileWeb':14,\n",
    "       'Android Tablet - Android':15, 'Android Tablet - MobileWeb':16}"
   ]
  },
  {
   "cell_type": "code",
   "execution_count": 311,
   "metadata": {},
   "outputs": [],
   "source": [
    "train['device_details']=train['device_details'].replace(device)\n",
    "test['device_details']=test['device_details'].replace(device)"
   ]
  },
  {
   "cell_type": "code",
   "execution_count": 312,
   "metadata": {},
   "outputs": [],
   "source": [
    "train['year'] = pd.to_datetime(train['date']).dt.year\n",
    "train['quarter'] = pd.to_datetime(train['date']).dt.quarter\n",
    "train['weekofyear'] = pd.to_datetime(train['date']).dt.weekofyear\n",
    "train['month'] = pd.to_datetime(train['date']).dt.month\n",
    "train['day'] = pd.to_datetime(train['date']).dt.day\n",
    "train['hour'] = pd.to_datetime(train['date']).dt.hour\n",
    "train['minute'] = pd.to_datetime(train['date']).dt.minute\n",
    "train['dayofyear'] = pd.to_datetime(train['date']).dt.dayofyear\n",
    "train['dayofweek'] = pd.to_datetime(train['date']).dt.dayofweek\n",
    "train['is_weekend'] = np.where(train['dayofweek'].isin([6, 0]), 1, 0)\n",
    "train['season'] = ((train['month'] % 12 + 3) // 3)"
   ]
  },
  {
   "cell_type": "code",
   "execution_count": 313,
   "metadata": {},
   "outputs": [
    {
     "data": {
      "text/html": [
       "<div>\n",
       "<style scoped>\n",
       "    .dataframe tbody tr th:only-of-type {\n",
       "        vertical-align: middle;\n",
       "    }\n",
       "\n",
       "    .dataframe tbody tr th {\n",
       "        vertical-align: top;\n",
       "    }\n",
       "\n",
       "    .dataframe thead th {\n",
       "        text-align: right;\n",
       "    }\n",
       "</style>\n",
       "<table border=\"1\" class=\"dataframe\">\n",
       "  <thead>\n",
       "    <tr style=\"text-align: right;\">\n",
       "      <th></th>\n",
       "      <th>session_number</th>\n",
       "      <th>device_details</th>\n",
       "      <th>date</th>\n",
       "      <th>purchased</th>\n",
       "      <th>added_in_cart</th>\n",
       "      <th>checked_out</th>\n",
       "      <th>time_spent</th>\n",
       "      <th>client_lenghts</th>\n",
       "      <th>clinet_Frecuency</th>\n",
       "      <th>client_encode</th>\n",
       "      <th>...</th>\n",
       "      <th>quarter</th>\n",
       "      <th>weekofyear</th>\n",
       "      <th>month</th>\n",
       "      <th>day</th>\n",
       "      <th>hour</th>\n",
       "      <th>minute</th>\n",
       "      <th>dayofyear</th>\n",
       "      <th>dayofweek</th>\n",
       "      <th>is_weekend</th>\n",
       "      <th>season</th>\n",
       "    </tr>\n",
       "  </thead>\n",
       "  <tbody>\n",
       "    <tr>\n",
       "      <th>0</th>\n",
       "      <td>715</td>\n",
       "      <td>0</td>\n",
       "      <td>2020-01-22</td>\n",
       "      <td>1</td>\n",
       "      <td>0</td>\n",
       "      <td>0</td>\n",
       "      <td>236.886</td>\n",
       "      <td>109</td>\n",
       "      <td>11</td>\n",
       "      <td>0.002167</td>\n",
       "      <td>...</td>\n",
       "      <td>1</td>\n",
       "      <td>4</td>\n",
       "      <td>1</td>\n",
       "      <td>22</td>\n",
       "      <td>0</td>\n",
       "      <td>0</td>\n",
       "      <td>22</td>\n",
       "      <td>2</td>\n",
       "      <td>0</td>\n",
       "      <td>1</td>\n",
       "    </tr>\n",
       "    <tr>\n",
       "      <th>1</th>\n",
       "      <td>55</td>\n",
       "      <td>1</td>\n",
       "      <td>2020-02-27</td>\n",
       "      <td>1</td>\n",
       "      <td>0</td>\n",
       "      <td>0</td>\n",
       "      <td>1277.455</td>\n",
       "      <td>24</td>\n",
       "      <td>27</td>\n",
       "      <td>0.005135</td>\n",
       "      <td>...</td>\n",
       "      <td>1</td>\n",
       "      <td>9</td>\n",
       "      <td>2</td>\n",
       "      <td>27</td>\n",
       "      <td>0</td>\n",
       "      <td>0</td>\n",
       "      <td>58</td>\n",
       "      <td>3</td>\n",
       "      <td>0</td>\n",
       "      <td>1</td>\n",
       "    </tr>\n",
       "    <tr>\n",
       "      <th>2</th>\n",
       "      <td>11</td>\n",
       "      <td>2</td>\n",
       "      <td>2019-08-01</td>\n",
       "      <td>0</td>\n",
       "      <td>0</td>\n",
       "      <td>0</td>\n",
       "      <td>21.704</td>\n",
       "      <td>255</td>\n",
       "      <td>1</td>\n",
       "      <td>0.000352</td>\n",
       "      <td>...</td>\n",
       "      <td>3</td>\n",
       "      <td>31</td>\n",
       "      <td>8</td>\n",
       "      <td>1</td>\n",
       "      <td>0</td>\n",
       "      <td>0</td>\n",
       "      <td>213</td>\n",
       "      <td>3</td>\n",
       "      <td>0</td>\n",
       "      <td>3</td>\n",
       "    </tr>\n",
       "    <tr>\n",
       "      <th>3</th>\n",
       "      <td>2794</td>\n",
       "      <td>3</td>\n",
       "      <td>2019-12-30</td>\n",
       "      <td>0</td>\n",
       "      <td>1</td>\n",
       "      <td>0</td>\n",
       "      <td>455.201</td>\n",
       "      <td>70</td>\n",
       "      <td>68</td>\n",
       "      <td>0.012548</td>\n",
       "      <td>...</td>\n",
       "      <td>4</td>\n",
       "      <td>1</td>\n",
       "      <td>12</td>\n",
       "      <td>30</td>\n",
       "      <td>0</td>\n",
       "      <td>0</td>\n",
       "      <td>364</td>\n",
       "      <td>0</td>\n",
       "      <td>1</td>\n",
       "      <td>1</td>\n",
       "    </tr>\n",
       "    <tr>\n",
       "      <th>4</th>\n",
       "      <td>3674</td>\n",
       "      <td>4</td>\n",
       "      <td>2019-09-10</td>\n",
       "      <td>0</td>\n",
       "      <td>0</td>\n",
       "      <td>0</td>\n",
       "      <td>1164.877</td>\n",
       "      <td>110</td>\n",
       "      <td>209</td>\n",
       "      <td>0.037913</td>\n",
       "      <td>...</td>\n",
       "      <td>3</td>\n",
       "      <td>37</td>\n",
       "      <td>9</td>\n",
       "      <td>10</td>\n",
       "      <td>0</td>\n",
       "      <td>0</td>\n",
       "      <td>253</td>\n",
       "      <td>1</td>\n",
       "      <td>0</td>\n",
       "      <td>4</td>\n",
       "    </tr>\n",
       "  </tbody>\n",
       "</table>\n",
       "<p>5 rows × 22 columns</p>\n",
       "</div>"
      ],
      "text/plain": [
       "   session_number  device_details        date  purchased  added_in_cart  \\\n",
       "0             715               0  2020-01-22          1              0   \n",
       "1              55               1  2020-02-27          1              0   \n",
       "2              11               2  2019-08-01          0              0   \n",
       "3            2794               3  2019-12-30          0              1   \n",
       "4            3674               4  2019-09-10          0              0   \n",
       "\n",
       "   checked_out  time_spent client_lenghts  clinet_Frecuency  client_encode  \\\n",
       "0            0     236.886            109                11       0.002167   \n",
       "1            0    1277.455             24                27       0.005135   \n",
       "2            0      21.704            255                 1       0.000352   \n",
       "3            0     455.201             70                68       0.012548   \n",
       "4            0    1164.877            110               209       0.037913   \n",
       "\n",
       "   ...  quarter  weekofyear  month  day  hour  minute  dayofyear  dayofweek  \\\n",
       "0  ...        1           4      1   22     0       0         22          2   \n",
       "1  ...        1           9      2   27     0       0         58          3   \n",
       "2  ...        3          31      8    1     0       0        213          3   \n",
       "3  ...        4           1     12   30     0       0        364          0   \n",
       "4  ...        3          37      9   10     0       0        253          1   \n",
       "\n",
       "   is_weekend  season  \n",
       "0           0       1  \n",
       "1           0       1  \n",
       "2           0       3  \n",
       "3           1       1  \n",
       "4           0       4  \n",
       "\n",
       "[5 rows x 22 columns]"
      ]
     },
     "execution_count": 313,
     "metadata": {},
     "output_type": "execute_result"
    }
   ],
   "source": [
    "train.head()"
   ]
  },
  {
   "cell_type": "code",
   "execution_count": null,
   "metadata": {},
   "outputs": [],
   "source": []
  },
  {
   "cell_type": "code",
   "execution_count": 314,
   "metadata": {},
   "outputs": [],
   "source": [
    "test['year'] = pd.to_datetime(test['date']).dt.year\n",
    "test['quarter'] = pd.to_datetime(test['date']).dt.quarter\n",
    "test['weekofyear'] = pd.to_datetime(test['date']).dt.weekofyear\n",
    "test['month'] = pd.to_datetime(test['date']).dt.month\n",
    "test['day'] = pd.to_datetime(test['date']).dt.day\n",
    "test['hour'] = pd.to_datetime(test['date']).dt.hour\n",
    "test['minute'] = pd.to_datetime(test['date']).dt.minute\n",
    "test['dayofyear'] = pd.to_datetime(test['date']).dt.dayofyear\n",
    "test['dayofweek'] = pd.to_datetime(test['date']).dt.dayofweek\n",
    "test['is_weekend'] = np.where(test['dayofweek'].isin([6, 0]), 1, 0)\n",
    "test['season'] = ((test['month'] % 12 + 3) // 3)"
   ]
  },
  {
   "cell_type": "code",
   "execution_count": 315,
   "metadata": {},
   "outputs": [],
   "source": [
    "train.drop(['date'],axis=1,inplace=True)\n",
    "test.drop(['date'],axis=1,inplace=True)"
   ]
  },
  {
   "cell_type": "code",
   "execution_count": 316,
   "metadata": {},
   "outputs": [
    {
     "data": {
      "text/html": [
       "<div>\n",
       "<style scoped>\n",
       "    .dataframe tbody tr th:only-of-type {\n",
       "        vertical-align: middle;\n",
       "    }\n",
       "\n",
       "    .dataframe tbody tr th {\n",
       "        vertical-align: top;\n",
       "    }\n",
       "\n",
       "    .dataframe thead th {\n",
       "        text-align: right;\n",
       "    }\n",
       "</style>\n",
       "<table border=\"1\" class=\"dataframe\">\n",
       "  <thead>\n",
       "    <tr style=\"text-align: right;\">\n",
       "      <th></th>\n",
       "      <th>session_number</th>\n",
       "      <th>device_details</th>\n",
       "      <th>purchased</th>\n",
       "      <th>added_in_cart</th>\n",
       "      <th>checked_out</th>\n",
       "      <th>client_lenghts</th>\n",
       "      <th>clinet_Frecuency</th>\n",
       "      <th>client_encode</th>\n",
       "      <th>ca_isna</th>\n",
       "      <th>year</th>\n",
       "      <th>quarter</th>\n",
       "      <th>weekofyear</th>\n",
       "      <th>month</th>\n",
       "      <th>day</th>\n",
       "      <th>hour</th>\n",
       "      <th>minute</th>\n",
       "      <th>dayofyear</th>\n",
       "      <th>dayofweek</th>\n",
       "      <th>is_weekend</th>\n",
       "      <th>season</th>\n",
       "    </tr>\n",
       "  </thead>\n",
       "  <tbody>\n",
       "    <tr>\n",
       "      <th>0</th>\n",
       "      <td>99</td>\n",
       "      <td>3</td>\n",
       "      <td>1</td>\n",
       "      <td>0</td>\n",
       "      <td>0</td>\n",
       "      <td>109</td>\n",
       "      <td>2</td>\n",
       "      <td>0.000541712</td>\n",
       "      <td>0</td>\n",
       "      <td>2020</td>\n",
       "      <td>1</td>\n",
       "      <td>2</td>\n",
       "      <td>1</td>\n",
       "      <td>7</td>\n",
       "      <td>0</td>\n",
       "      <td>0</td>\n",
       "      <td>7</td>\n",
       "      <td>1</td>\n",
       "      <td>0</td>\n",
       "      <td>1</td>\n",
       "    </tr>\n",
       "    <tr>\n",
       "      <th>1</th>\n",
       "      <td>935</td>\n",
       "      <td>5</td>\n",
       "      <td>0</td>\n",
       "      <td>0</td>\n",
       "      <td>0</td>\n",
       "      <td>24</td>\n",
       "      <td>7</td>\n",
       "      <td>0.00146708</td>\n",
       "      <td>0</td>\n",
       "      <td>2020</td>\n",
       "      <td>1</td>\n",
       "      <td>7</td>\n",
       "      <td>2</td>\n",
       "      <td>13</td>\n",
       "      <td>0</td>\n",
       "      <td>0</td>\n",
       "      <td>44</td>\n",
       "      <td>3</td>\n",
       "      <td>0</td>\n",
       "      <td>1</td>\n",
       "    </tr>\n",
       "    <tr>\n",
       "      <th>2</th>\n",
       "      <td>902</td>\n",
       "      <td>1</td>\n",
       "      <td>1</td>\n",
       "      <td>0</td>\n",
       "      <td>0</td>\n",
       "      <td>255</td>\n",
       "      <td>1</td>\n",
       "      <td>0.000351865</td>\n",
       "      <td>0</td>\n",
       "      <td>2019</td>\n",
       "      <td>4</td>\n",
       "      <td>42</td>\n",
       "      <td>10</td>\n",
       "      <td>14</td>\n",
       "      <td>0</td>\n",
       "      <td>0</td>\n",
       "      <td>287</td>\n",
       "      <td>0</td>\n",
       "      <td>1</td>\n",
       "      <td>4</td>\n",
       "    </tr>\n",
       "    <tr>\n",
       "      <th>3</th>\n",
       "      <td>3223</td>\n",
       "      <td>3</td>\n",
       "      <td>0</td>\n",
       "      <td>0</td>\n",
       "      <td>0</td>\n",
       "      <td>70</td>\n",
       "      <td>25</td>\n",
       "      <td>0.00472813</td>\n",
       "      <td>0</td>\n",
       "      <td>2020</td>\n",
       "      <td>1</td>\n",
       "      <td>4</td>\n",
       "      <td>1</td>\n",
       "      <td>26</td>\n",
       "      <td>0</td>\n",
       "      <td>0</td>\n",
       "      <td>26</td>\n",
       "      <td>6</td>\n",
       "      <td>1</td>\n",
       "      <td>1</td>\n",
       "    </tr>\n",
       "    <tr>\n",
       "      <th>4</th>\n",
       "      <td>231</td>\n",
       "      <td>0</td>\n",
       "      <td>0</td>\n",
       "      <td>0</td>\n",
       "      <td>0</td>\n",
       "      <td>110</td>\n",
       "      <td>86</td>\n",
       "      <td>0.0157068</td>\n",
       "      <td>0</td>\n",
       "      <td>2020</td>\n",
       "      <td>1</td>\n",
       "      <td>5</td>\n",
       "      <td>1</td>\n",
       "      <td>29</td>\n",
       "      <td>0</td>\n",
       "      <td>0</td>\n",
       "      <td>29</td>\n",
       "      <td>2</td>\n",
       "      <td>0</td>\n",
       "      <td>1</td>\n",
       "    </tr>\n",
       "  </tbody>\n",
       "</table>\n",
       "</div>"
      ],
      "text/plain": [
       "   session_number  device_details  purchased  added_in_cart  checked_out  \\\n",
       "0              99               3          1              0            0   \n",
       "1             935               5          0              0            0   \n",
       "2             902               1          1              0            0   \n",
       "3            3223               3          0              0            0   \n",
       "4             231               0          0              0            0   \n",
       "\n",
       "  client_lenghts  clinet_Frecuency client_encode  ca_isna  year  quarter  \\\n",
       "0            109                 2   0.000541712        0  2020        1   \n",
       "1             24                 7    0.00146708        0  2020        1   \n",
       "2            255                 1   0.000351865        0  2019        4   \n",
       "3             70                25    0.00472813        0  2020        1   \n",
       "4            110                86     0.0157068        0  2020        1   \n",
       "\n",
       "   weekofyear  month  day  hour  minute  dayofyear  dayofweek  is_weekend  \\\n",
       "0           2      1    7     0       0          7          1           0   \n",
       "1           7      2   13     0       0         44          3           0   \n",
       "2          42     10   14     0       0        287          0           1   \n",
       "3           4      1   26     0       0         26          6           1   \n",
       "4           5      1   29     0       0         29          2           0   \n",
       "\n",
       "   season  \n",
       "0       1  \n",
       "1       1  \n",
       "2       4  \n",
       "3       1  \n",
       "4       1  "
      ]
     },
     "execution_count": 316,
     "metadata": {},
     "output_type": "execute_result"
    }
   ],
   "source": [
    "test.head()"
   ]
  },
  {
   "cell_type": "code",
   "execution_count": 317,
   "metadata": {},
   "outputs": [
    {
     "name": "stdout",
     "output_type": "stream",
     "text": [
      "(5429, 21) (2327, 20)\n"
     ]
    }
   ],
   "source": [
    "print(train.shape,test.shape)"
   ]
  },
  {
   "cell_type": "code",
   "execution_count": 318,
   "metadata": {},
   "outputs": [],
   "source": [
    "test['client_encode']=test['client_encode'].astype('float64')"
   ]
  },
  {
   "cell_type": "code",
   "execution_count": 319,
   "metadata": {},
   "outputs": [],
   "source": [
    "train['client_device_mean']=train.groupby(['device_details'])['client_encode'].transform('mean')\n",
    "train['client_device_min']=train.groupby(['device_details'])['client_encode'].transform('min')\n",
    "train['client_device_max']=train.groupby(['device_details'])['client_encode'].transform('max')\n",
    "train['client_device_sum']=train.groupby(['device_details'])['client_encode'].transform('sum')"
   ]
  },
  {
   "cell_type": "code",
   "execution_count": 320,
   "metadata": {},
   "outputs": [],
   "source": [
    "test['client_device_mean']=test.groupby(['device_details'])['client_encode'].transform('mean')\n",
    "test['client_device_min']=test.groupby(['device_details'])['client_encode'].transform('min')\n",
    "test['client_device_max']=test.groupby(['device_details'])['client_encode'].transform('max')\n",
    "test['client_device_sum']=test.groupby(['device_details'])['client_encode'].transform('sum')"
   ]
  },
  {
   "cell_type": "code",
   "execution_count": 321,
   "metadata": {},
   "outputs": [],
   "source": [
    "train['session_client_device_mean']=train.groupby(['device_details','session_number'])['client_encode'].transform('mean')\n",
    "train['session_client_device_min']=train.groupby(['device_details','session_number'])['client_encode'].transform('min')\n",
    "train['session_client_device_max']=train.groupby(['device_details','session_number'])['client_encode'].transform('max')\n",
    "train['session_client_device_sum']=train.groupby(['device_details','session_number'])['client_encode'].transform('sum')\n",
    "train['session_client_device_mean']=train.groupby(['device_details','session_number'])['client_encode'].transform('count')"
   ]
  },
  {
   "cell_type": "code",
   "execution_count": 322,
   "metadata": {},
   "outputs": [],
   "source": [
    "test['session_client_device_mean']=test.groupby(['device_details','session_number'])['client_encode'].transform('mean')\n",
    "test['session_client_device_min']=test.groupby(['device_details','session_number'])['client_encode'].transform('min')\n",
    "test['session_client_device_max']=test.groupby(['device_details','session_number'])['client_encode'].transform('max')\n",
    "test['session_client_device_sum']=test.groupby(['device_details','session_number'])['client_encode'].transform('sum')\n",
    "test['session_client_device_mean']=test.groupby(['device_details','session_number'])['client_encode'].transform('count')"
   ]
  },
  {
   "cell_type": "code",
   "execution_count": 323,
   "metadata": {},
   "outputs": [],
   "source": [
    "X=train.drop(['time_spent'],axis=1)\n",
    "y=train['time_spent']\n",
    "from sklearn.model_selection import train_test_split\n",
    "xtrain,xtest,ytrain,ytest=train_test_split(X,y,random_state=42,test_size=0.2)"
   ]
  },
  {
   "cell_type": "markdown",
   "metadata": {},
   "source": [
    "<h3>Feature selection"
   ]
  },
  {
   "cell_type": "code",
   "execution_count": 174,
   "metadata": {},
   "outputs": [
    {
     "name": "stdout",
     "output_type": "stream",
     "text": [
      "[ True  True  True  True  True  True  True  True  True  True  True  True\n",
      "  True  True False False  True  True  True  True  True  True  True  True\n",
      "  True  True  True  True]\n"
     ]
    }
   ],
   "source": [
    "from sklearn.feature_selection import VarianceThreshold\n",
    "selector=VarianceThreshold(0)\n",
    "selector.fit(xtrain)\n",
    "print(selector.get_support())"
   ]
  },
  {
   "cell_type": "code",
   "execution_count": 177,
   "metadata": {},
   "outputs": [
    {
     "name": "stdout",
     "output_type": "stream",
     "text": [
      "['hour', 'minute']\n"
     ]
    }
   ],
   "source": [
    "constant_columns=[column for column in xtrain.columns if column not in xtrain.columns[selector.get_support()]]\n",
    "print(constant_columns)"
   ]
  },
  {
   "cell_type": "code",
   "execution_count": 178,
   "metadata": {},
   "outputs": [],
   "source": [
    "xtrain.drop(constant_columns,axis=1,inplace=True)\n",
    "xtest.drop(constant_columns,axis=1,inplace=True)\n",
    "test.drop(constant_columns,axis=1,inplace=True)"
   ]
  },
  {
   "cell_type": "markdown",
   "metadata": {},
   "source": [
    "<h3>Using pearson correlation"
   ]
  },
  {
   "cell_type": "code",
   "execution_count": 180,
   "metadata": {},
   "outputs": [
    {
     "data": {
      "image/png": "[encoded data removed]",
      "text/plain": [
       "<Figure size 864x720 with 2 Axes>"
      ]
     },
     "metadata": {
      "needs_background": "light"
     },
     "output_type": "display_data"
    }
   ],
   "source": [
    "import seaborn as sns\n",
    "#Using Pearson Correlation\n",
    "plt.figure(figsize=(12,10))\n",
    "cor = xtrain.corr()\n",
    "sns.heatmap(cor, annot=True, cmap=plt.cm.CMRmap_r)\n",
    "plt.show()"
   ]
  },
  {
   "cell_type": "code",
   "execution_count": 181,
   "metadata": {},
   "outputs": [],
   "source": [
    "def correlation(dataset, threshold):\n",
    "    col_corr = set()  # Set of all the names of correlated columns\n",
    "    corr_matrix = dataset.corr()\n",
    "    for i in range(len(corr_matrix.columns)):\n",
    "        for j in range(i):\n",
    "            if abs(corr_matrix.iloc[i, j]) > threshold: # we are interested in absolute coeff value\n",
    "                colname = corr_matrix.columns[i]  # getting the name of column\n",
    "                col_corr.add(colname)\n",
    "    return col_corr"
   ]
  },
  {
   "cell_type": "code",
   "execution_count": 183,
   "metadata": {},
   "outputs": [
    {
     "data": {
      "text/plain": [
       "4"
      ]
     },
     "execution_count": 183,
     "metadata": {},
     "output_type": "execute_result"
    }
   ],
   "source": [
    "cols=correlation(xtrain,0.9)\n",
    "len(set(cols))"
   ]
  },
  {
   "cell_type": "code",
   "execution_count": 184,
   "metadata": {},
   "outputs": [
    {
     "data": {
      "text/plain": [
       "{'client_encode', 'dayofyear', 'month', 'weekofyear'}"
      ]
     },
     "execution_count": 184,
     "metadata": {},
     "output_type": "execute_result"
    }
   ],
   "source": [
    "cols"
   ]
  },
  {
   "cell_type": "code",
   "execution_count": 185,
   "metadata": {},
   "outputs": [],
   "source": [
    "xtrain.drop(cols,axis=1,inplace=True)\n",
    "xtest.drop(cols,axis=1,inplace=True)\n",
    "test.drop(cols,axis=1,inplace=True)"
   ]
  },
  {
   "cell_type": "code",
   "execution_count": 188,
   "metadata": {},
   "outputs": [],
   "source": [
    "from sklearn.feature_selection import chi2"
   ]
  },
  {
   "cell_type": "code",
   "execution_count": 196,
   "metadata": {},
   "outputs": [
    {
     "name": "stdout",
     "output_type": "stream",
     "text": [
      "Top features:  8\n",
      "0.8626875917863612\n",
      "['session_number' 'client_encode' 'day' 'dayofyear' 'dayofweek'\n",
      " 'client_device_sum' 'session_client_device_min'\n",
      " 'session_client_device_sum'] \n",
      "\n",
      "Top features:  10\n",
      "0.8763064187048244\n",
      "['session_number' 'purchased' 'added_in_cart' 'client_encode' 'day'\n",
      " 'dayofyear' 'dayofweek' 'client_device_sum' 'session_client_device_min'\n",
      " 'session_client_device_sum'] \n",
      "\n",
      "Top features:  12\n",
      "0.880679668854334\n",
      "['session_number' 'purchased' 'added_in_cart' 'client_lenghts'\n",
      " 'clinet_Frecuency' 'client_encode' 'day' 'dayofyear' 'dayofweek'\n",
      " 'client_device_sum' 'session_client_device_min'\n",
      " 'session_client_device_sum'] \n",
      "\n"
     ]
    }
   ],
   "source": [
    "from sklearn.feature_selection import RFE, RFECV\n",
    "from sklearn.ensemble import RandomForestRegressor\n",
    "n_feat = [8,10,12]\n",
    "for n in n_feat:\n",
    "    model = RandomForestRegressor()\n",
    "    rfe = RFE(model, n_features_to_select = n)\n",
    "    rfe = rfe.fit(X, y)\n",
    "    cols = X.columns.tolist()\n",
    "    sel_feat = pd.DataFrame({\"cols\": cols, \"support\": rfe.support_, \"rank\": rfe.ranking_})\n",
    "    print(\"Top features: \", n)\n",
    "    print(rfe.score(X, y))\n",
    "    #print(f1_score(y_test, rfe.predict(x_test)))\n",
    "    print(sel_feat[sel_feat['rank'] == 1]['cols'].unique(), '\\n')"
   ]
  },
  {
   "cell_type": "code",
   "execution_count": 193,
   "metadata": {},
   "outputs": [
    {
     "name": "stdout",
     "output_type": "stream",
     "text": [
      "Top features:  8\n",
      "-0.07428581131790901\n",
      "['session_number' 'purchased' 'added_in_cart' 'client_encode' 'dayofyear'\n",
      " 'dayofweek' 'client_device_sum' 'session_client_device_min'] \n",
      "\n",
      "Top features:  10\n",
      "0.025998444249278774\n",
      "['session_number' 'purchased' 'added_in_cart' 'client_encode' 'day'\n",
      " 'dayofyear' 'dayofweek' 'client_device_min' 'client_device_sum'\n",
      " 'session_client_device_min'] \n",
      "\n",
      "Top features:  12\n",
      "-0.33380512187275335\n",
      "['session_number' 'device_details' 'purchased' 'added_in_cart'\n",
      " 'client_encode' 'day' 'dayofyear' 'dayofweek' 'is_weekend' 'season'\n",
      " 'client_device_sum' 'session_client_device_min'] \n",
      "\n"
     ]
    }
   ],
   "source": [
    "from sklearn.ensemble import RandomForestRegressor,AdaBoostRegressor, ExtraTreesRegressor,GradientBoostingRegressor\n",
    "n_feat = [8,10,12]\n",
    "for n in n_feat:\n",
    "    model = AdaBoostRegressor()\n",
    "    rfe = RFE(model, n_features_to_select = n)\n",
    "    rfe = rfe.fit(X, y)\n",
    "    cols = X.columns.tolist()\n",
    "    sel_feat = pd.DataFrame({\"cols\": cols, \"support\": rfe.support_, \"rank\": rfe.ranking_})\n",
    "    print(\"Top features: \", n)\n",
    "    print(rfe.score(X, y))\n",
    "    #print(f1_score(y_test, rfe.predict(x_test)))\n",
    "    print(sel_feat[sel_feat['rank'] == 1]['cols'].unique(), '\\n')"
   ]
  },
  {
   "cell_type": "code",
   "execution_count": 194,
   "metadata": {},
   "outputs": [
    {
     "name": "stdout",
     "output_type": "stream",
     "text": [
      "Top features:  8\n",
      "0.47986918450084437\n",
      "['session_number' 'purchased' 'added_in_cart' 'clinet_Frecuency'\n",
      " 'client_encode' 'dayofyear' 'season' 'client_device_max'] \n",
      "\n",
      "Top features:  10\n",
      "0.5047630462143515\n",
      "['session_number' 'purchased' 'added_in_cart' 'checked_out'\n",
      " 'client_lenghts' 'clinet_Frecuency' 'client_encode' 'dayofyear' 'season'\n",
      " 'client_device_max'] \n",
      "\n",
      "Top features:  12\n",
      "0.5008219662932597\n",
      "['session_number' 'purchased' 'added_in_cart' 'checked_out'\n",
      " 'client_lenghts' 'clinet_Frecuency' 'client_encode' 'dayofyear' 'season'\n",
      " 'client_device_mean' 'client_device_max' 'client_device_sum'] \n",
      "\n"
     ]
    }
   ],
   "source": [
    "n_feat = [8,10,12]\n",
    "for n in n_feat:\n",
    "    model = GradientBoostingRegressor()\n",
    "    rfe = RFE(model, n_features_to_select = n)\n",
    "    rfe = rfe.fit(X, y)\n",
    "    cols = X.columns.tolist()\n",
    "    sel_feat = pd.DataFrame({\"cols\": cols, \"support\": rfe.support_, \"rank\": rfe.ranking_})\n",
    "    print(\"Top features: \", n)\n",
    "    print(rfe.score(X, y))\n",
    "    #print(f1_score(y_test, rfe.predict(x_test)))\n",
    "    print(sel_feat[sel_feat['rank'] == 1]['cols'].unique(), '\\n')"
   ]
  },
  {
   "cell_type": "code",
   "execution_count": 195,
   "metadata": {},
   "outputs": [
    {
     "name": "stdout",
     "output_type": "stream",
     "text": [
      "Top features:  8\n",
      "0.9995982124117744\n",
      "['session_number' 'clinet_Frecuency' 'day' 'dayofyear' 'dayofweek'\n",
      " 'client_device_sum' 'session_client_device_min'\n",
      " 'session_client_device_sum'] \n",
      "\n",
      "Top features:  10\n",
      "0.9998865899242481\n",
      "['session_number' 'purchased' 'clinet_Frecuency' 'weekofyear' 'day'\n",
      " 'dayofyear' 'dayofweek' 'client_device_sum' 'session_client_device_min'\n",
      " 'session_client_device_sum'] \n",
      "\n",
      "Top features:  12\n",
      "0.9999788744271597\n",
      "['session_number' 'purchased' 'added_in_cart' 'client_encode' 'weekofyear'\n",
      " 'day' 'dayofyear' 'dayofweek' 'season' 'client_device_sum'\n",
      " 'session_client_device_min' 'session_client_device_sum'] \n",
      "\n"
     ]
    }
   ],
   "source": [
    "n_feat = [8,10,12]\n",
    "for n in n_feat:\n",
    "    model = ExtraTreesRegressor()\n",
    "    rfe = RFE(model, n_features_to_select = n)\n",
    "    rfe = rfe.fit(X, y)\n",
    "    cols = X.columns.tolist()\n",
    "    sel_feat = pd.DataFrame({\"cols\": cols, \"support\": rfe.support_, \"rank\": rfe.ranking_})\n",
    "    print(\"Top features: \", n)\n",
    "    print(rfe.score(X, y))\n",
    "    #print(f1_score(y_test, rfe.predict(x_test)))\n",
    "    print(sel_feat[sel_feat['rank'] == 1]['cols'].unique(), '\\n')"
   ]
  },
  {
   "cell_type": "code",
   "execution_count": 200,
   "metadata": {},
   "outputs": [],
   "source": [
    "feats=['session_number', 'purchased', 'added_in_cart' ,'client_encode' ,'weekofyear',\n",
    " 'day', 'dayofyear' ,'dayofweek' ,'season', 'client_device_sum',\n",
    " 'session_client_device_min', 'session_client_device_sum']"
   ]
  },
  {
   "cell_type": "code",
   "execution_count": 201,
   "metadata": {},
   "outputs": [],
   "source": [
    "X2=train[feats]"
   ]
  },
  {
   "cell_type": "code",
   "execution_count": 202,
   "metadata": {},
   "outputs": [
    {
     "data": {
      "text/plain": [
       "ExtraTreesRegressor()"
      ]
     },
     "execution_count": 202,
     "metadata": {},
     "output_type": "execute_result"
    }
   ],
   "source": [
    "bmodel = ExtraTreesRegressor()\n",
    "bmodel.fit(X2,y)"
   ]
  },
  {
   "cell_type": "code",
   "execution_count": 223,
   "metadata": {},
   "outputs": [],
   "source": [
    "test_out=test[feats]"
   ]
  },
  {
   "cell_type": "code",
   "execution_count": 225,
   "metadata": {},
   "outputs": [],
   "source": [
    "preds=bmodel.predict(test_out)"
   ]
  },
  {
   "cell_type": "code",
   "execution_count": 226,
   "metadata": {},
   "outputs": [
    {
     "data": {
      "text/plain": [
       "array([2282.16729,  174.74489,  744.93411,  234.05731,  341.41452])"
      ]
     },
     "execution_count": 226,
     "metadata": {},
     "output_type": "execute_result"
    }
   ],
   "source": [
    "preds[0:5]"
   ]
  },
  {
   "cell_type": "code",
   "execution_count": 227,
   "metadata": {},
   "outputs": [
    {
     "data": {
      "text/html": [
       "<div>\n",
       "<style scoped>\n",
       "    .dataframe tbody tr th:only-of-type {\n",
       "        vertical-align: middle;\n",
       "    }\n",
       "\n",
       "    .dataframe tbody tr th {\n",
       "        vertical-align: top;\n",
       "    }\n",
       "\n",
       "    .dataframe thead th {\n",
       "        text-align: right;\n",
       "    }\n",
       "</style>\n",
       "<table border=\"1\" class=\"dataframe\">\n",
       "  <thead>\n",
       "    <tr style=\"text-align: right;\">\n",
       "      <th></th>\n",
       "      <th>time_spent</th>\n",
       "    </tr>\n",
       "  </thead>\n",
       "  <tbody>\n",
       "    <tr>\n",
       "      <th>0</th>\n",
       "      <td>0</td>\n",
       "    </tr>\n",
       "    <tr>\n",
       "      <th>1</th>\n",
       "      <td>0</td>\n",
       "    </tr>\n",
       "    <tr>\n",
       "      <th>2</th>\n",
       "      <td>0</td>\n",
       "    </tr>\n",
       "    <tr>\n",
       "      <th>3</th>\n",
       "      <td>0</td>\n",
       "    </tr>\n",
       "    <tr>\n",
       "      <th>4</th>\n",
       "      <td>0</td>\n",
       "    </tr>\n",
       "  </tbody>\n",
       "</table>\n",
       "</div>"
      ],
      "text/plain": [
       "   time_spent\n",
       "0           0\n",
       "1           0\n",
       "2           0\n",
       "3           0\n",
       "4           0"
      ]
     },
     "execution_count": 227,
     "metadata": {},
     "output_type": "execute_result"
    }
   ],
   "source": [
    "sub=pd.read_csv('Sample Submission.csv')\n",
    "sub.head()"
   ]
  },
  {
   "cell_type": "code",
   "execution_count": 228,
   "metadata": {},
   "outputs": [],
   "source": [
    "sub['time_spent']=preds"
   ]
  },
  {
   "cell_type": "code",
   "execution_count": 229,
   "metadata": {},
   "outputs": [
    {
     "data": {
      "text/html": [
       "<div>\n",
       "<style scoped>\n",
       "    .dataframe tbody tr th:only-of-type {\n",
       "        vertical-align: middle;\n",
       "    }\n",
       "\n",
       "    .dataframe tbody tr th {\n",
       "        vertical-align: top;\n",
       "    }\n",
       "\n",
       "    .dataframe thead th {\n",
       "        text-align: right;\n",
       "    }\n",
       "</style>\n",
       "<table border=\"1\" class=\"dataframe\">\n",
       "  <thead>\n",
       "    <tr style=\"text-align: right;\">\n",
       "      <th></th>\n",
       "      <th>time_spent</th>\n",
       "    </tr>\n",
       "  </thead>\n",
       "  <tbody>\n",
       "    <tr>\n",
       "      <th>0</th>\n",
       "      <td>2282.16729</td>\n",
       "    </tr>\n",
       "    <tr>\n",
       "      <th>1</th>\n",
       "      <td>174.74489</td>\n",
       "    </tr>\n",
       "    <tr>\n",
       "      <th>2</th>\n",
       "      <td>744.93411</td>\n",
       "    </tr>\n",
       "    <tr>\n",
       "      <th>3</th>\n",
       "      <td>234.05731</td>\n",
       "    </tr>\n",
       "    <tr>\n",
       "      <th>4</th>\n",
       "      <td>341.41452</td>\n",
       "    </tr>\n",
       "  </tbody>\n",
       "</table>\n",
       "</div>"
      ],
      "text/plain": [
       "   time_spent\n",
       "0  2282.16729\n",
       "1   174.74489\n",
       "2   744.93411\n",
       "3   234.05731\n",
       "4   341.41452"
      ]
     },
     "execution_count": 229,
     "metadata": {},
     "output_type": "execute_result"
    }
   ],
   "source": [
    "sub.head()"
   ]
  },
  {
   "cell_type": "code",
   "execution_count": 232,
   "metadata": {},
   "outputs": [],
   "source": [
    "sub.to_csv('Sample_Submission.csv')"
   ]
  },
  {
   "cell_type": "code",
   "execution_count": 231,
   "metadata": {},
   "outputs": [
    {
     "data": {
      "text/plain": [
       "2327"
      ]
     },
     "execution_count": 231,
     "metadata": {},
     "output_type": "execute_result"
    }
   ],
   "source": [
    "len(test)"
   ]
  },
  {
   "cell_type": "code",
   "execution_count": 324,
   "metadata": {},
   "outputs": [],
   "source": [
    "feats2=['session_number', 'purchased', 'added_in_cart', 'client_lenghts',\n",
    " 'clinet_Frecuency', 'client_encode', 'day', 'dayofyear', 'dayofweek',\n",
    " 'client_device_sum' ,'session_client_device_min',\n",
    " 'session_client_device_sum']\n",
    "X3=train[feats2]\n",
    "t_out=test[feats2]"
   ]
  },
  {
   "cell_type": "code",
   "execution_count": 328,
   "metadata": {},
   "outputs": [
    {
     "data": {
      "text/plain": [
       "session_number                 int64\n",
       "purchased                      int64\n",
       "added_in_cart                  int64\n",
       "client_lenghts                object\n",
       "clinet_Frecuency               int64\n",
       "client_encode                float64\n",
       "day                            int64\n",
       "dayofyear                      int64\n",
       "dayofweek                      int64\n",
       "client_device_sum            float64\n",
       "session_client_device_min    float64\n",
       "session_client_device_sum    float64\n",
       "dtype: object"
      ]
     },
     "execution_count": 328,
     "metadata": {},
     "output_type": "execute_result"
    }
   ],
   "source": [
    "X3.dtypes"
   ]
  },
  {
   "cell_type": "code",
   "execution_count": 330,
   "metadata": {},
   "outputs": [
    {
     "data": {
      "text/plain": [
       "RandomForestRegressor()"
      ]
     },
     "execution_count": 330,
     "metadata": {},
     "output_type": "execute_result"
    }
   ],
   "source": [
    "cmodel=RandomForestRegressor()\n",
    "cmodel.fit(X3,y)"
   ]
  },
  {
   "cell_type": "code",
   "execution_count": 331,
   "metadata": {},
   "outputs": [],
   "source": [
    "pred2=cmodel.predict(t_out)"
   ]
  },
  {
   "cell_type": "code",
   "execution_count": 332,
   "metadata": {},
   "outputs": [
    {
     "ename": "NameError",
     "evalue": "name 'preds2' is not defined",
     "output_type": "error",
     "traceback": [
      "\u001b[1;31m---------------------------------------------------------------------------\u001b[0m",
      "\u001b[1;31mNameError\u001b[0m                                 Traceback (most recent call last)",
      "\u001b[1;32m<ipython-input-332-7246c40d5679>\u001b[0m in \u001b[0;36m<module>\u001b[1;34m\u001b[0m\n\u001b[1;32m----> 1\u001b[1;33m \u001b[0mpreds2\u001b[0m\u001b[1;33m[\u001b[0m\u001b[1;36m0\u001b[0m\u001b[1;33m:\u001b[0m\u001b[1;36m5\u001b[0m\u001b[1;33m]\u001b[0m\u001b[1;33m\u001b[0m\u001b[1;33m\u001b[0m\u001b[0m\n\u001b[0m",
      "\u001b[1;31mNameError\u001b[0m: name 'preds2' is not defined"
     ]
    }
   ],
   "source": [
    "preds2[0:5]"
   ]
  },
  {
   "cell_type": "code",
   "execution_count": null,
   "metadata": {},
   "outputs": [],
   "source": []
  }
 ],
 "metadata": {
  "kernelspec": {
   "display_name": "Python 3",
   "language": "python",
   "name": "python3"
  },
  "language_info": {
   "codemirror_mode": {
    "name": "ipython",
    "version": 3
   },
   "file_extension": ".py",
   "mimetype": "text/x-python",
   "name": "python",
   "nbconvert_exporter": "python",
   "pygments_lexer": "ipython3",
   "version": "3.8.5"
  }
 },
 "nbformat": 4,
 "nbformat_minor": 4
}
