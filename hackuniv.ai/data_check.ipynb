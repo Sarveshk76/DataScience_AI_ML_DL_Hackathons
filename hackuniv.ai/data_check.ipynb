{
 "cells": [
  {
   "cell_type": "code",
   "execution_count": 1,
   "id": "comprehensive-appeal",
   "metadata": {},
   "outputs": [],
   "source": [
    "import pandas as pd\n",
    "train=pd.read_csv('Training Data.csv')\n",
    "test=pd.read_csv('Test Data.csv')\n",
    "test6=pd.read_csv('Test Data.csv')"
   ]
  },
  {
   "cell_type": "code",
   "execution_count": 4,
   "id": "pursuant-angola",
   "metadata": {},
   "outputs": [],
   "source": [
    "train['state']=train['state'].str.replace(\"_\",\" \")"
   ]
  },
  {
   "cell_type": "code",
   "execution_count": 6,
   "id": "ancient-helping",
   "metadata": {},
   "outputs": [
    {
     "data": {
      "text/plain": [
       "29"
      ]
     },
     "execution_count": 6,
     "metadata": {},
     "output_type": "execute_result"
    }
   ],
   "source": [
    "train['state'].nunique()"
   ]
  },
  {
   "cell_type": "code",
   "execution_count": 7,
   "id": "metallic-hometown",
   "metadata": {},
   "outputs": [
    {
     "data": {
      "text/plain": [
       "29"
      ]
     },
     "execution_count": 7,
     "metadata": {},
     "output_type": "execute_result"
    }
   ],
   "source": [
    "test['state'].nunique()"
   ]
  },
  {
   "cell_type": "code",
   "execution_count": 10,
   "id": "exact-chemical",
   "metadata": {},
   "outputs": [],
   "source": [
    "train['city']=train['city'].str.replace(\"_\",\" \")"
   ]
  },
  {
   "cell_type": "code",
   "execution_count": 12,
   "id": "enhanced-vision",
   "metadata": {},
   "outputs": [
    {
     "data": {
      "text/plain": [
       "array(['Rewa', 'Parbhani', 'Alappuzha', 'Bhubaneswar',\n",
       "       'Tiruchirappalli[10]', 'Jalgaon', 'Tiruppur', 'Jamnagar',\n",
       "       'Kota[6]', 'Karimnagar', 'Hajipur[31]', 'Adoni', 'Erode[17]',\n",
       "       'Kollam', 'Madurai', 'Anantapuram[24]', 'Kamarhati', 'Bhusawal',\n",
       "       'Sirsa', 'Amaravati', 'Secunderabad', 'Ahmedabad', 'Ajmer',\n",
       "       'Ongole', 'Miryalaguda', 'Ambattur', 'Indore', 'Pondicherry',\n",
       "       'Shimoga', 'Chennai', 'Gulbarga', 'Khammam', 'Saharanpur',\n",
       "       'Gopalpur', 'Amravati', 'Udupi', 'Howrah', 'Aurangabad[39]',\n",
       "       'Hospet', 'Shimla', 'Khandwa', 'Bidhannagar', 'Bellary', 'Danapur',\n",
       "       'Purnia[26]', 'Bijapur', 'Patiala', 'Malda', 'Sagar', 'Durgapur',\n",
       "       'Junagadh', 'Singrauli', 'Agartala', 'Thanjavur', 'Hindupur',\n",
       "       'Naihati', 'North Dumdum', 'Panchkula', 'Anantapur', 'Serampore',\n",
       "       'Bathinda', 'Nadiad', 'Kanpur', 'Haridwar', 'Berhampur',\n",
       "       'Jamshedpur', 'Hyderabad', 'Bidar', 'Kottayam', 'Solapur',\n",
       "       'Suryapet', 'Aizawl', 'Asansol', 'Deoghar', 'Eluru[25]',\n",
       "       'Ulhasnagar', 'Aligarh', 'South Dumdum', 'Berhampore',\n",
       "       'Gandhinagar', 'Sonipat', 'Muzaffarpur', 'Raichur',\n",
       "       'Rajpur Sonarpur', 'Ambarnath', 'Katihar', 'Kozhikode', 'Vellore',\n",
       "       'Malegaon', 'Kochi', 'Nagaon', 'Nagpur', 'Srinagar', 'Davanagere',\n",
       "       'Bhagalpur', 'Siwan[32]', 'Meerut', 'Dindigul', 'Bhatpara',\n",
       "       'Ghaziabad', 'Kulti', 'Chapra', 'Dibrugarh', 'Panihati',\n",
       "       'Bhiwandi', 'Morbi', 'Kalyan-Dombivli', 'Gorakhpur', 'Panvel',\n",
       "       'Siliguri', 'Bongaigaon', 'Patna', 'Ramgarh', 'Ozhukarai',\n",
       "       'Mirzapur', 'Akola', 'Satna', 'Motihari[34]', 'Jalna', 'Jalandhar',\n",
       "       'Unnao', 'Karnal', 'Cuttack', 'Proddatur', 'Ichalkaranji',\n",
       "       'Warangal[11][12]', 'Jhansi', 'Bulandshahr', 'Narasaraopet',\n",
       "       'Chinsurah', 'Jehanabad[38]', 'Dhanbad', 'Gudivada', 'Gandhidham',\n",
       "       'Raiganj', 'Kishanganj[35]', 'Varanasi', 'Belgaum',\n",
       "       'Tirupati[21][22]', 'Tumkur', 'Coimbatore', 'Kurnool[18]',\n",
       "       'Gurgaon', 'Muzaffarnagar', 'Aurangabad', 'Bhavnagar', 'Arrah',\n",
       "       'Munger', 'Tirunelveli', 'Mumbai', 'Mango', 'Nashik', 'Kadapa[23]',\n",
       "       'Amritsar', 'Khora, Ghaziabad', 'Ambala', 'Agra', 'Ratlam',\n",
       "       'Surendranagar Dudhrej', 'Delhi city', 'Bhopal', 'Hapur', 'Rohtak',\n",
       "       'Durg', 'Korba', 'Bangalore', 'Shivpuri', 'Thrissur',\n",
       "       'Vijayanagaram', 'Farrukhabad', 'Nangloi Jat', 'Madanapalle',\n",
       "       'Thoothukudi', 'Nagercoil', 'Gaya', 'Chandigarh city', 'Jammu[16]',\n",
       "       'Kakinada', 'Dewas', 'Bhalswa Jahangir Pur', 'Baranagar',\n",
       "       'Firozabad', 'Phusro', 'Allahabad', 'Guna', 'Thane', 'Etawah',\n",
       "       'Vasai-Virar', 'Pallavaram', 'Morena', 'Ballia', 'Surat',\n",
       "       'Burhanpur', 'Phagwara', 'Mau', 'Mangalore', 'Alwar',\n",
       "       'Mahbubnagar', 'Maheshtala', 'Hazaribagh', 'Bihar Sharif',\n",
       "       'Faridabad', 'Lucknow', 'Tenali', 'Barasat', 'Amroha', 'Giridih',\n",
       "       'Begusarai', 'Medininagar', 'Rajahmundry[19][20]', 'Saharsa[29]',\n",
       "       'New Delhi', 'Bhilai', 'Moradabad', 'Machilipatnam',\n",
       "       'Mira-Bhayandar', 'Pali', 'Navi Mumbai', 'Mehsana', 'Imphal',\n",
       "       'Kolkata', 'Sambalpur', 'Ujjain', 'Madhyamgram', 'Jabalpur',\n",
       "       'Jamalpur[36]', 'Ludhiana', 'Bareilly', 'Gangtok', 'Anand',\n",
       "       'Dehradun', 'Pune', 'Satara', 'Srikakulam', 'Raipur', 'Jodhpur',\n",
       "       'Darbhanga', 'Nizamabad', 'Nandyal', 'Dehri[30]', 'Jorhat',\n",
       "       'Ranchi', 'Kumbakonam', 'Guntakal', 'Haldia', 'Loni',\n",
       "       'Pimpri-Chinchwad', 'Rajkot', 'Nanded', 'Noida',\n",
       "       'Kirari Suleman Nagar', 'Jaunpur', 'Bilaspur', 'Sambhal', 'Dhule',\n",
       "       'Rourkela', 'Thiruvananthapuram', 'Dharmavaram', 'Nellore[14][15]',\n",
       "       'Visakhapatnam[4]', 'Karawal Nagar', 'Jaipur', 'Avadi',\n",
       "       'Bhimavaram', 'Bardhaman', 'Silchar', 'Buxar[37]', 'Kavali',\n",
       "       'Tezpur', 'Ramagundam[27]', 'Yamunanagar', 'Sri Ganganagar',\n",
       "       'Sasaram[30]', 'Sikar', 'Bally', 'Bhiwani', 'Rampur', 'Uluberia',\n",
       "       'Sangli-Miraj & Kupwad', 'Hosur', 'Bikaner', 'Shahjahanpur',\n",
       "       'Sultan Pur Majra', 'Vijayawada', 'Bharatpur', 'Tadepalligudem',\n",
       "       'Tinsukia', 'Salem', 'Mathura', 'Guntur[13]', 'Hubliâ€“Dharwad',\n",
       "       'Guwahati', 'Chittoor[28]', 'Tiruvottiyur', 'Vadodara',\n",
       "       'Ahmednagar', 'Fatehpur', 'Bhilwara', 'Kharagpur', 'Bettiah[33]',\n",
       "       'Bhind', 'Bokaro', 'Karaikudi', 'Raebareli', 'Pudukkottai',\n",
       "       'Udaipur', 'Mysore[7][8][9]', 'Panipat', 'Latur', 'Tadipatri',\n",
       "       'Bahraich', 'Orai', 'Raurkela Industrial Township', 'Gwalior',\n",
       "       'Katni', 'Chandrapur', 'Kolhapur'], dtype=object)"
      ]
     },
     "execution_count": 12,
     "metadata": {},
     "output_type": "execute_result"
    }
   ],
   "source": [
    "train['city'].unique()"
   ]
  },
  {
   "cell_type": "code",
   "execution_count": 13,
   "id": "pleased-hardware",
   "metadata": {},
   "outputs": [
    {
     "data": {
      "text/plain": [
       "array(['Malda', 'Jalna', 'Thane', 'Latur', 'Berhampore', 'Ramgarh',\n",
       "       'Pallavaram', 'Yamunanagar', 'Anand', 'Nandyal', 'Bihar Sharif',\n",
       "       'Shivpuri', 'Bhilai', 'Bhavnagar', 'Tiruppur', 'Bongaigaon',\n",
       "       'Hapur', 'Bulandshahr', 'Pimpri-Chinchwad', 'Kurnool[18]',\n",
       "       'Kakinada', 'Tadepalligudem', 'Bidhannagar', 'Hospet',\n",
       "       'Jamshedpur', 'Sri Ganganagar', 'Udaipur', 'Sikar', 'Suryapet',\n",
       "       'Kavali', 'Erode[17]', 'Chittoor[28]', 'Gwalior', 'Allahabad',\n",
       "       'Pudukkottai', 'Srinagar', 'Jamalpur[36]', 'Fatehpur',\n",
       "       'Coimbatore', 'Berhampur', 'Thanjavur', 'Bahraich', 'Deoghar',\n",
       "       'Nagaon', 'Anantapuram[24]', 'Gulbarga', 'Visakhapatnam[4]',\n",
       "       'Morbi', 'Tirupati[21][22]', 'Karnal', 'Raichur', 'Haridwar',\n",
       "       'Giridih', 'Nagercoil', 'Rohtak', 'Katni', 'Rewa', 'Siliguri',\n",
       "       'Buxar[37]', 'Mangalore', 'Shimoga', 'Guwahati', 'Katihar',\n",
       "       'Farrukhabad', 'Etawah', 'Kharagpur', 'Jalandhar',\n",
       "       'Khora, Ghaziabad', 'Jammu[16]', 'Aurangabad[39]', 'Pondicherry',\n",
       "       'Durg', 'Miryalaguda', 'Avadi', 'Chennai', 'Tirunelveli',\n",
       "       'Gandhidham', 'Shimla', 'Eluru[25]', 'Bharatpur', 'Bally',\n",
       "       'Vadodara', 'Nashik', 'Pali', 'Kolkata', 'Akola',\n",
       "       'Chandigarh_city', 'Vijayanagaram', 'Mau', 'Aizawl', 'Saharanpur',\n",
       "       'Jehanabad[38]', 'Thoothukudi', 'Serampore', 'Kulti', 'Sambhal',\n",
       "       'Morena', 'Sambalpur', 'Alwar', 'Chandrapur', 'Bhiwani', 'Sirsa',\n",
       "       'Tenali', 'Bidar', 'Kalyan-Dombivli', 'Amravati', 'Madanapalle',\n",
       "       'Jaunpur', 'Warangal[11][12]', 'Amritsar', 'Satna', 'Ozhukarai',\n",
       "       'Raebareli', 'Bhiwandi', 'Adoni', 'Rajkot', 'Kadapa[23]',\n",
       "       'Varanasi', 'Meerut', 'Salem', 'Medininagar', 'Madurai',\n",
       "       'Ghaziabad', 'Panipat', 'Tumkur', 'Machilipatnam', 'Hindupur',\n",
       "       'Kumbakonam', 'Solapur', 'Amroha', 'Davanagere', 'Howrah',\n",
       "       'Vijayawada', 'Dehri[30]', 'Ambattur', 'Jaipur', 'Aurangabad',\n",
       "       'Ulhasnagar', 'Bathinda', 'Singrauli', 'Dehradun', 'Udupi',\n",
       "       'Indore', 'Agartala', 'Darbhanga', 'Junagadh', 'Guna', 'Kota[6]',\n",
       "       'Korba', 'Ratlam', 'Gurgaon', 'Bilaspur', 'New Delhi', 'Kollam',\n",
       "       'Karimnagar', 'Silchar', 'Nizamabad', 'Vellore', 'Pune',\n",
       "       'Durgapur', 'Thrissur', 'Kirari Suleman Nagar', 'Mysore[7][8][9]',\n",
       "       'Nagpur', 'Kochi', 'Bettiah[33]', 'Alappuzha', 'Khandwa',\n",
       "       'Hyderabad', 'Khammam', 'Rajahmundry[19][20]', 'Muzaffarnagar',\n",
       "       'Hajipur[31]', 'Kishanganj[35]', 'Arrah', 'Sagar', 'Jodhpur',\n",
       "       'Tezpur', 'Begusarai', 'Mira-Bhayandar', 'Nellore[14][15]',\n",
       "       'Saharsa[29]', 'Gopalpur', 'Sonipat', 'Noida', 'Secunderabad',\n",
       "       'Ahmedabad', 'Aligarh', 'Rourkela', 'Jamnagar', 'Hosur', 'Jhansi',\n",
       "       'Jabalpur', 'Motihari[34]', 'Delhi_city', 'Vasai-Virar',\n",
       "       'Moradabad', 'Jorhat', 'Parbhani', 'Proddatur', 'Bhubaneswar',\n",
       "       'Gorakhpur', 'Tinsukia', 'Rampur', 'Mehsana', 'Sultan Pur Majra',\n",
       "       'Amaravati', 'Asansol', 'Rajpur Sonarpur', 'Dhule', 'Ajmer',\n",
       "       'Raiganj', 'Nangloi Jat', 'Agra', 'Surat', 'Sasaram[30]', 'Ballia',\n",
       "       'Bhind', 'North Dumdum', 'Raipur', 'Cuttack', 'Hubliâ€“Dharwad',\n",
       "       'Bangalore', 'Tadipatri', 'Hazaribagh', 'Purnia[26]', 'Bhimavaram',\n",
       "       'Phusro', 'Faridabad', 'Barasat', 'Chinsurah', 'Panvel',\n",
       "       'Guntur[13]', 'Gandhinagar', 'Ambarnath', 'South Dumdum', 'Munger',\n",
       "       'Jalgaon', 'Chapra', 'Malegaon', 'Nanded', 'Maheshtala', 'Orai',\n",
       "       'Ongole', 'Ludhiana', 'Navi Mumbai', 'Haldia', 'Mirzapur',\n",
       "       'Muzaffarpur', 'Guntakal', 'Raurkela Industrial Township',\n",
       "       'Ahmednagar', 'Uluberia', 'Dindigul', 'Gangtok', 'Burhanpur',\n",
       "       'Patna', 'Thiruvananthapuram', 'Surendranagar Dudhrej', 'Panihati',\n",
       "       'Madhyamgram', 'Satara', 'Bhalswa Jahangir Pur', 'Lucknow', 'Loni',\n",
       "       'Mumbai', 'Bhatpara', 'Tiruvottiyur', 'Bhopal', 'Srikakulam',\n",
       "       'Dharmavaram', 'Imphal', 'Bhilwara', 'Karawal Nagar', 'Kottayam',\n",
       "       'Phagwara', 'Shahjahanpur', 'Baranagar', 'Dhanbad', 'Mango',\n",
       "       'Belgaum', 'Bareilly', 'Narasaraopet', 'Ranchi', 'Kolhapur',\n",
       "       'Bikaner', 'Gudivada', 'Dibrugarh', 'Mathura', 'Unnao', 'Patiala',\n",
       "       'Bhagalpur', 'Danapur', 'Naihati', 'Ichalkaranji', 'Gaya',\n",
       "       'Ujjain', 'Nadiad', 'Bijapur', 'Mahbubnagar', 'Dewas', 'Bokaro',\n",
       "       'Tiruchirappalli[10]', 'Ambala', 'Panchkula', 'Karaikudi',\n",
       "       'Bellary', 'Siwan[32]', 'Firozabad', 'Ramagundam[27]', 'Bardhaman',\n",
       "       'Kozhikode', 'Sangli-Miraj & Kupwad', 'Anantapur', 'Kamarhati',\n",
       "       'Kanpur', 'Bhusawal'], dtype=object)"
      ]
     },
     "execution_count": 13,
     "metadata": {},
     "output_type": "execute_result"
    }
   ],
   "source": [
    "test['city'].unique()"
   ]
  },
  {
   "cell_type": "code",
   "execution_count": null,
   "id": "improved-cattle",
   "metadata": {},
   "outputs": [],
   "source": []
  }
 ],
 "metadata": {
  "kernelspec": {
   "display_name": "Python 3",
   "language": "python",
   "name": "python3"
  },
  "language_info": {
   "codemirror_mode": {
    "name": "ipython",
    "version": 3
   },
   "file_extension": ".py",
   "mimetype": "text/x-python",
   "name": "python",
   "nbconvert_exporter": "python",
   "pygments_lexer": "ipython3",
   "version": "3.8.5"
  }
 },
 "nbformat": 4,
 "nbformat_minor": 5
}
