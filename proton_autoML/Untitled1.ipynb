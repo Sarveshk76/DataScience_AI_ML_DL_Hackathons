{
 "cells": [
  {
   "cell_type": "code",
   "execution_count": 1,
   "id": "functional-stake",
   "metadata": {},
   "outputs": [],
   "source": [
    "import pandas as pd\n",
    "import numpy as np\n",
    "from sklearn.model_selection import train_test_split"
   ]
  },
  {
   "cell_type": "code",
   "execution_count": 2,
   "id": "apparent-cause",
   "metadata": {},
   "outputs": [],
   "source": [
    "dataset=pd.read_csv('tough_dataset.csv')\n",
    "dataset.reset_index(drop=True,inplace=True)\n",
    "xtrain1=dataset.drop(columns=['Target A','Target B'],axis=1)\n",
    "ytrain1=dataset[['Target A','Target B']]"
   ]
  },
  {
   "cell_type": "code",
   "execution_count": 3,
   "id": "mathematical-carol",
   "metadata": {},
   "outputs": [],
   "source": [
    "xtrain,xtest,ytrain,ytest=train_test_split(xtrain1,ytrain1,test_size=0.2,random_state=121)"
   ]
  },
  {
   "cell_type": "code",
   "execution_count": 4,
   "id": "detailed-attribute",
   "metadata": {},
   "outputs": [],
   "source": [
    "train_df=pd.concat([xtrain,ytrain],axis=1)\n",
    "test_df=pd.concat([xtest,ytest],axis=1)"
   ]
  },
  {
   "cell_type": "code",
   "execution_count": 5,
   "id": "dynamic-showcase",
   "metadata": {},
   "outputs": [],
   "source": [
    "train_df.reset_index(drop=True,inplace=True)\n",
    "test_df.reset_index(drop=True,inplace=True)"
   ]
  },
  {
   "cell_type": "code",
   "execution_count": 6,
   "id": "extra-serial",
   "metadata": {},
   "outputs": [
    {
     "data": {
      "text/html": [
       "<div>\n",
       "<style scoped>\n",
       "    .dataframe tbody tr th:only-of-type {\n",
       "        vertical-align: middle;\n",
       "    }\n",
       "\n",
       "    .dataframe tbody tr th {\n",
       "        vertical-align: top;\n",
       "    }\n",
       "\n",
       "    .dataframe thead th {\n",
       "        text-align: right;\n",
       "    }\n",
       "</style>\n",
       "<table border=\"1\" class=\"dataframe\">\n",
       "  <thead>\n",
       "    <tr style=\"text-align: right;\">\n",
       "      <th></th>\n",
       "      <th>id</th>\n",
       "      <th>LOAN_AMT</th>\n",
       "      <th>Business Title</th>\n",
       "      <th>Civil Service Title</th>\n",
       "      <th>Division/Work Unit</th>\n",
       "      <th>Job Description</th>\n",
       "      <th>Minimum Qual Requirements</th>\n",
       "      <th>Preferred Skills</th>\n",
       "      <th>Additional Information</th>\n",
       "      <th>To Apply</th>\n",
       "      <th>...</th>\n",
       "      <th>zip_code</th>\n",
       "      <th>addr_state</th>\n",
       "      <th>dti</th>\n",
       "      <th>earliest_cr_line</th>\n",
       "      <th>last_pymnt_d</th>\n",
       "      <th>last_pymnt_amnt</th>\n",
       "      <th>next_pymnt_d</th>\n",
       "      <th>last_credit_pull_d</th>\n",
       "      <th>Target A</th>\n",
       "      <th>Target B</th>\n",
       "    </tr>\n",
       "  </thead>\n",
       "  <tbody>\n",
       "    <tr>\n",
       "      <th>0</th>\n",
       "      <td>68385901</td>\n",
       "      <td>20000</td>\n",
       "      <td>Executive Program Director</td>\n",
       "      <td>ADMINISTRATIVE CONSTRUCTION PR</td>\n",
       "      <td>Infra-Executive</td>\n",
       "      <td>The NYC Department of Design and Construction,...</td>\n",
       "      <td>At least six years of full-time satisfactory e...</td>\n",
       "      <td>Candidates should possess at least 10 years of...</td>\n",
       "      <td>NaN</td>\n",
       "      <td>For City Employees, please go to Employee Self...</td>\n",
       "      <td>...</td>\n",
       "      <td>151xx</td>\n",
       "      <td>PA</td>\n",
       "      <td>24.78</td>\n",
       "      <td>Jul-99</td>\n",
       "      <td>16-May</td>\n",
       "      <td>19915.18</td>\n",
       "      <td>NaN</td>\n",
       "      <td>19-Mar</td>\n",
       "      <td>69940.0</td>\n",
       "      <td>0</td>\n",
       "    </tr>\n",
       "    <tr>\n",
       "      <th>1</th>\n",
       "      <td>68356094</td>\n",
       "      <td>28000</td>\n",
       "      <td>Investigator</td>\n",
       "      <td>CONFIDENTIAL INVESTIGATOR</td>\n",
       "      <td>Background Investigation</td>\n",
       "      <td>The New York City Department of Investigation ...</td>\n",
       "      <td>1. A four-year high school diploma or its educ...</td>\n",
       "      <td>·\\tStrong writing and editing skills, includin...</td>\n",
       "      <td>NaN</td>\n",
       "      <td>The City of New York is an equal opportunity e...</td>\n",
       "      <td>...</td>\n",
       "      <td>672xx</td>\n",
       "      <td>KS</td>\n",
       "      <td>11.36</td>\n",
       "      <td>Sep-98</td>\n",
       "      <td>18-Aug</td>\n",
       "      <td>850.42</td>\n",
       "      <td>NaN</td>\n",
       "      <td>18-Oct</td>\n",
       "      <td>43799.0</td>\n",
       "      <td>1</td>\n",
       "    </tr>\n",
       "    <tr>\n",
       "      <th>2</th>\n",
       "      <td>68338594</td>\n",
       "      <td>24000</td>\n",
       "      <td>CONTRACT ADMINISTRATOR</td>\n",
       "      <td>PROCUREMENT ANALYST</td>\n",
       "      <td>Administration/Procurement</td>\n",
       "      <td>Only those applicants with permanent civil ser...</td>\n",
       "      <td>1. A baccalaureate degree from an accredited c...</td>\n",
       "      <td>The selected candidate must have working knowl...</td>\n",
       "      <td>DEP is an equal opportunity employer with a st...</td>\n",
       "      <td>Click on the \"Apply Now\" Button</td>\n",
       "      <td>...</td>\n",
       "      <td>773xx</td>\n",
       "      <td>TX</td>\n",
       "      <td>35.70</td>\n",
       "      <td>Jul-98</td>\n",
       "      <td>16-Sep</td>\n",
       "      <td>417.35</td>\n",
       "      <td>NaN</td>\n",
       "      <td>18-Jul</td>\n",
       "      <td>47450.0</td>\n",
       "      <td>0</td>\n",
       "    </tr>\n",
       "    <tr>\n",
       "      <th>3</th>\n",
       "      <td>67890239</td>\n",
       "      <td>28000</td>\n",
       "      <td>Forensic Mortuary Technician I</td>\n",
       "      <td>FORENSIC MORTUARY TECHNICIAN</td>\n",
       "      <td>OCME-Operations</td>\n",
       "      <td>The Office of Chief Medical Examiner investiga...</td>\n",
       "      <td>1. A four year high school diploma or its educ...</td>\n",
       "      <td>NaN</td>\n",
       "      <td>LICENSE REQUIREMENT 1.\\tA motor vehicle driver...</td>\n",
       "      <td>TO APPLY, PLEASE SUBMIT RESUME AND COVER LETTE...</td>\n",
       "      <td>...</td>\n",
       "      <td>760xx</td>\n",
       "      <td>TX</td>\n",
       "      <td>19.60</td>\n",
       "      <td>3-Dec</td>\n",
       "      <td>17-May</td>\n",
       "      <td>574.33</td>\n",
       "      <td>NaN</td>\n",
       "      <td>17-Sep</td>\n",
       "      <td>40899.0</td>\n",
       "      <td>0</td>\n",
       "    </tr>\n",
       "    <tr>\n",
       "      <th>4</th>\n",
       "      <td>67326377</td>\n",
       "      <td>16000</td>\n",
       "      <td>Principal Administrative Associate II</td>\n",
       "      <td>PRINCIPAL ADMINISTRATIVE ASSOC</td>\n",
       "      <td>Human Resources</td>\n",
       "      <td>New York City is home to approximately 1.64 mi...</td>\n",
       "      <td>1. A baccalaureate degree from an accredited c...</td>\n",
       "      <td>Knowledge of PMS, NYCAPS, CHRMS, City Time and...</td>\n",
       "      <td>In order to be considered for the position can...</td>\n",
       "      <td>Please be sure to submit a resume &amp; cover lett...</td>\n",
       "      <td>...</td>\n",
       "      <td>554xx</td>\n",
       "      <td>MN</td>\n",
       "      <td>10.32</td>\n",
       "      <td>May-96</td>\n",
       "      <td>17-May</td>\n",
       "      <td>9860.36</td>\n",
       "      <td>NaN</td>\n",
       "      <td>19-Mar</td>\n",
       "      <td>49390.0</td>\n",
       "      <td>1</td>\n",
       "    </tr>\n",
       "  </tbody>\n",
       "</table>\n",
       "<p>5 rows × 69 columns</p>\n",
       "</div>"
      ],
      "text/plain": [
       "         id  LOAN_AMT                         Business Title  \\\n",
       "0  68385901     20000             Executive Program Director   \n",
       "1  68356094     28000                           Investigator   \n",
       "2  68338594     24000                 CONTRACT ADMINISTRATOR   \n",
       "3  67890239     28000         Forensic Mortuary Technician I   \n",
       "4  67326377     16000  Principal Administrative Associate II   \n",
       "\n",
       "              Civil Service Title          Division/Work Unit  \\\n",
       "0  ADMINISTRATIVE CONSTRUCTION PR             Infra-Executive   \n",
       "1       CONFIDENTIAL INVESTIGATOR    Background Investigation   \n",
       "2             PROCUREMENT ANALYST  Administration/Procurement   \n",
       "3    FORENSIC MORTUARY TECHNICIAN             OCME-Operations   \n",
       "4  PRINCIPAL ADMINISTRATIVE ASSOC             Human Resources   \n",
       "\n",
       "                                     Job Description  \\\n",
       "0  The NYC Department of Design and Construction,...   \n",
       "1  The New York City Department of Investigation ...   \n",
       "2  Only those applicants with permanent civil ser...   \n",
       "3  The Office of Chief Medical Examiner investiga...   \n",
       "4  New York City is home to approximately 1.64 mi...   \n",
       "\n",
       "                           Minimum Qual Requirements  \\\n",
       "0  At least six years of full-time satisfactory e...   \n",
       "1  1. A four-year high school diploma or its educ...   \n",
       "2  1. A baccalaureate degree from an accredited c...   \n",
       "3  1. A four year high school diploma or its educ...   \n",
       "4  1. A baccalaureate degree from an accredited c...   \n",
       "\n",
       "                                    Preferred Skills  \\\n",
       "0  Candidates should possess at least 10 years of...   \n",
       "1  ·\\tStrong writing and editing skills, includin...   \n",
       "2  The selected candidate must have working knowl...   \n",
       "3                                                NaN   \n",
       "4  Knowledge of PMS, NYCAPS, CHRMS, City Time and...   \n",
       "\n",
       "                              Additional Information  \\\n",
       "0                                                NaN   \n",
       "1                                                NaN   \n",
       "2  DEP is an equal opportunity employer with a st...   \n",
       "3  LICENSE REQUIREMENT 1.\\tA motor vehicle driver...   \n",
       "4  In order to be considered for the position can...   \n",
       "\n",
       "                                            To Apply  ... zip_code addr_state  \\\n",
       "0  For City Employees, please go to Employee Self...  ...    151xx         PA   \n",
       "1  The City of New York is an equal opportunity e...  ...    672xx         KS   \n",
       "2                    Click on the \"Apply Now\" Button  ...    773xx         TX   \n",
       "3  TO APPLY, PLEASE SUBMIT RESUME AND COVER LETTE...  ...    760xx         TX   \n",
       "4  Please be sure to submit a resume & cover lett...  ...    554xx         MN   \n",
       "\n",
       "     dti earliest_cr_line last_pymnt_d last_pymnt_amnt next_pymnt_d  \\\n",
       "0  24.78           Jul-99       16-May        19915.18          NaN   \n",
       "1  11.36           Sep-98       18-Aug          850.42          NaN   \n",
       "2  35.70           Jul-98       16-Sep          417.35          NaN   \n",
       "3  19.60            3-Dec       17-May          574.33          NaN   \n",
       "4  10.32           May-96       17-May         9860.36          NaN   \n",
       "\n",
       "  last_credit_pull_d Target A Target B  \n",
       "0             19-Mar  69940.0        0  \n",
       "1             18-Oct  43799.0        1  \n",
       "2             18-Jul  47450.0        0  \n",
       "3             17-Sep  40899.0        0  \n",
       "4             19-Mar  49390.0        1  \n",
       "\n",
       "[5 rows x 69 columns]"
      ]
     },
     "execution_count": 6,
     "metadata": {},
     "output_type": "execute_result"
    }
   ],
   "source": [
    "train_df.head()"
   ]
  },
  {
   "cell_type": "markdown",
   "id": "tropical-reliance",
   "metadata": {},
   "source": [
    "<h1>EDA and Preprocessing"
   ]
  },
  {
   "cell_type": "code",
   "execution_count": 7,
   "id": "public-fancy",
   "metadata": {},
   "outputs": [
    {
     "data": {
      "text/plain": [
       "28802"
      ]
     },
     "execution_count": 7,
     "metadata": {},
     "output_type": "execute_result"
    }
   ],
   "source": [
    "train_df.isnull().sum().sum()"
   ]
  },
  {
   "cell_type": "markdown",
   "id": "crazy-cameroon",
   "metadata": {},
   "source": [
    "<H3>Remove feature with more than 80% of missing data"
   ]
  },
  {
   "cell_type": "code",
   "execution_count": 8,
   "id": "entire-macintosh",
   "metadata": {},
   "outputs": [],
   "source": [
    "train_df=train_df.drop(columns=['next_pymnt_d','TimeAfterBootcamp','HackathonReasons'],axis=1)\n",
    "test_df=test_df.drop(columns=['next_pymnt_d','TimeAfterBootcamp','HackathonReasons'],axis=1)"
   ]
  },
  {
   "cell_type": "code",
   "execution_count": 9,
   "id": "automatic-respondent",
   "metadata": {},
   "outputs": [
    {
     "name": "stdout",
     "output_type": "stream",
     "text": [
      "numeric_features:  (2356, 6) Index(['id', 'LOAN_AMT', 'dti', 'last_pymnt_amnt', 'Target A', 'Target B'], dtype='object')\n",
      "categorical_features:  (2356, 60) Index(['Business Title', 'Civil Service Title', 'Division/Work Unit',\n",
      "       'Job Description', 'Minimum Qual Requirements', 'Preferred Skills',\n",
      "       'Additional Information', 'To Apply', 'Hours/Shift',\n",
      "       'Residency Requirement', 'Posting Date', 'Posting Updated',\n",
      "       'Process Date', 'FormalEducation', 'UndergradMajor', 'CompanySize',\n",
      "       'DevType', 'YearsCoding', 'YearsCodingProf', 'HopeFiveYears',\n",
      "       'JobSearchStatus', 'LastNewJob', 'UpdateCV', 'CommunicationTools',\n",
      "       'TimeFullyProductive', 'EducationTypes', 'SelfTaughtTypes',\n",
      "       'AgreeDisagree1', 'AgreeDisagree2', 'AgreeDisagree3',\n",
      "       'LanguageWorkedWith', 'LanguageDesireNextYear', 'DatabaseWorkedWith',\n",
      "       'DatabaseDesireNextYear', 'PlatformWorkedWith',\n",
      "       'PlatformDesireNextYear', 'FrameworkWorkedWith',\n",
      "       'FrameworkDesireNextYear', 'IDE', 'OperatingSystem', 'Methodology',\n",
      "       'VersionControl', 'CheckInCode', 'AIDangerous', 'AIInteresting',\n",
      "       'AIResponsible', 'AIFuture', 'Age', 'term', 'emp_length', 'loan_status',\n",
      "       'pymnt_plan', 'url', 'purpose', 'title', 'zip_code', 'addr_state',\n",
      "       'earliest_cr_line', 'last_pymnt_d', 'last_credit_pull_d'],\n",
      "      dtype='object')\n"
     ]
    }
   ],
   "source": [
    "numerical_features=train_df.select_dtypes(include=np.number)\n",
    "categorical_features=train_df.select_dtypes(include=np.object)\n",
    "print(\"numeric_features: \", numerical_features.shape, numerical_features.columns)\n",
    "print(\"categorical_features: \", categorical_features.shape, categorical_features.columns)"
   ]
  },
  {
   "cell_type": "code",
   "execution_count": 10,
   "id": "appreciated-mystery",
   "metadata": {},
   "outputs": [],
   "source": [
    "df_train=train_df.copy()\n",
    "df_test=test_df.copy()"
   ]
  },
  {
   "cell_type": "code",
   "execution_count": null,
   "id": "invisible-institution",
   "metadata": {},
   "outputs": [],
   "source": []
  },
  {
   "cell_type": "code",
   "execution_count": 11,
   "id": "excellent-moore",
   "metadata": {},
   "outputs": [],
   "source": [
    "df_train['Posting Date']=pd.to_datetime(df_train['Posting Date'])\n",
    "df_train['Posting Updated']=pd.to_datetime(df_train['Posting Updated'])\n",
    "df_train['Process Date']=pd.to_datetime(df_train['Process Date'])"
   ]
  },
  {
   "cell_type": "code",
   "execution_count": 12,
   "id": "solar-physics",
   "metadata": {},
   "outputs": [],
   "source": [
    "df_test['Posting Date']=pd.to_datetime(df_test['Posting Date'])\n",
    "df_test['Posting Updated']=pd.to_datetime(df_test['Posting Updated'])\n",
    "df_test['Process Date']=pd.to_datetime(df_test['Process Date'])"
   ]
  },
  {
   "cell_type": "code",
   "execution_count": 13,
   "id": "mineral-leonard",
   "metadata": {},
   "outputs": [
    {
     "data": {
      "text/plain": [
       "1"
      ]
     },
     "execution_count": 13,
     "metadata": {},
     "output_type": "execute_result"
    }
   ],
   "source": [
    "df_train['pymnt_plan'].nunique()"
   ]
  },
  {
   "cell_type": "markdown",
   "id": "subtle-religion",
   "metadata": {},
   "source": [
    "<h3>we can remove pymnt_plan because it is a constant feature"
   ]
  },
  {
   "cell_type": "code",
   "execution_count": 14,
   "id": "running-chamber",
   "metadata": {},
   "outputs": [
    {
     "data": {
      "text/plain": [
       "((2356, 65), (590, 65))"
      ]
     },
     "execution_count": 14,
     "metadata": {},
     "output_type": "execute_result"
    }
   ],
   "source": [
    "df_train=df_train.drop(['pymnt_plan'],axis=1)\n",
    "df_test=df_test.drop(['pymnt_plan'],axis=1)\n",
    "\n",
    "df_train.shape,df_test.shape"
   ]
  },
  {
   "cell_type": "code",
   "execution_count": 15,
   "id": "constant-proportion",
   "metadata": {},
   "outputs": [
    {
     "name": "stdout",
     "output_type": "stream",
     "text": [
      "https://lendingclub.com/browse/loanDetail.action?loan_id=68385901\n",
      "https://lendingclub.com/browse/loanDetail.action\n",
      "1\n"
     ]
    }
   ],
   "source": [
    "print(df_train['url'][0])\n",
    "qcut=df_train['url'].str.split('?').str.get(0)\n",
    "print(qcut[0])\n",
    "print(qcut.nunique())"
   ]
  },
  {
   "cell_type": "markdown",
   "id": "potential-reviewer",
   "metadata": {},
   "source": [
    "<h3>Since Url is a constant featurewe can  remove it"
   ]
  },
  {
   "cell_type": "code",
   "execution_count": 16,
   "id": "excellent-waterproof",
   "metadata": {},
   "outputs": [
    {
     "data": {
      "text/plain": [
       "((2356, 64), (590, 64))"
      ]
     },
     "execution_count": 16,
     "metadata": {},
     "output_type": "execute_result"
    }
   ],
   "source": [
    "df_train=df_train.drop(['url'],axis=1)\n",
    "df_test=df_test.drop(['url'],axis=1)\n",
    "\n",
    "df_train.shape,df_test.shape"
   ]
  },
  {
   "cell_type": "markdown",
   "id": "regulation-emperor",
   "metadata": {},
   "source": [
    "<h3>here we will divide categorical features into two part one set is of features containing categories and second set is text based feature"
   ]
  },
  {
   "cell_type": "code",
   "execution_count": 17,
   "id": "useful-testimony",
   "metadata": {},
   "outputs": [
    {
     "name": "stdout",
     "output_type": "stream",
     "text": [
      "Total unique values for Business Title 1158\n",
      "Value Counts for Business Title \n",
      " Assistant Civil Engineer                         26\n",
      "Project Manager                                  23\n",
      "College Aide                                     21\n",
      "Construction Project Manager                     16\n",
      "Investigator                                     15\n",
      "                                                 ..\n",
      "Risk Management Supervisor                        1\n",
      "Plant Chief                                       1\n",
      "Payroll Supervisor                                1\n",
      "Senior Developer, MO for Economic Opportunity     1\n",
      "Dynamics Developer                                1\n",
      "Name: Business Title, Length: 1158, dtype: int64 \n",
      "\n",
      "Total unique values for Civil Service Title 301\n",
      "Value Counts for Civil Service Title \n",
      " COMMUNITY COORDINATOR             147\n",
      "AGENCY ATTORNEY                    92\n",
      "CIVIL ENGINEER                     67\n",
      "CITY RESEARCH SCIENTIST            63\n",
      "CLERICAL ASSOCIATE                 59\n",
      "                                 ... \n",
      "CONFIDENTIAL ASST OFFICE            1\n",
      "CRIMINALIST ASSISTANT DIRECTOR      1\n",
      "RADIO REPAIR MECHANIC               1\n",
      "INSPECTOR (CONSTRUCTION)            1\n",
      "OIL BURNER SPECIALIST               1\n",
      "Name: Civil Service Title, Length: 301, dtype: int64 \n",
      "\n",
      "Total unique values for Division/Work Unit 636\n",
      "Value Counts for Division/Work Unit \n",
      " Executive Management              47\n",
      "Law Department                    30\n",
      "Central Brookly City Operation    28\n",
      "Default                           25\n",
      "Citywide Cybersecurity            24\n",
      "                                  ..\n",
      "MIRH Nurse Family Partnership      1\n",
      "Procurement Department             1\n",
      "Union Services                     1\n",
      "Brooklyn Business Center           1\n",
      "Bronx Zone B (DCP)                 1\n",
      "Name: Division/Work Unit, Length: 636, dtype: int64 \n",
      "\n",
      "Total unique values for Job Description 1488\n",
      "Value Counts for Job Description \n",
      " The New York City Taxi and Limousine Commission (TLC) is the agency responsible for regulating New York City's taxicab and for-hire vehicle industry.  TLC licenses and regulates over 130,000 vehicles and more than  175,000 drivers, making it the most active taxi and limousine regulatory agency in the United States.  Aside from vehicles and drivers, TLC also regulates taxicab agents and for-hire vehicle bases, including popular app-based transportation services. The TLC plays a pivotal role in furthering public safety within New York City and is a lead agency in a citywide effort to reduce traffic-related injuries.  One of the largest components of TLC’s operations is the enforcement of agency and administrative code regulations.    The Prosecution Division investigates and prosecutes all summonses issued by TLC which consist of administrative, field and consumer-initiated complaints. Our division prosecutes a wide range of violations including reckless driving, unlicensed operation, illegal street pickups, harassment and leaving the scene of an accident.  Prosecuting Attorneys represent TLC on cases heard before the Hearings Division of the Office of Administrative Trials and Hearings and will gain robust hands-on litigation experience as they rotate through various prosecutorial assignments, including Consumer Intake, Settlements, Hearings and Appeals.    Duties and responsibilities will include, but are not limited to:  •             Managing a daily caseload and independently representing the Taxi and Limousine Commission at administrative hearings, including preparing and presenting witnesses and evidence at trial.  •             Evaluating case strengths and weaknesses to effectively negotiate plea and settlement agreements with respondents and/or their attorneys or representatives.  •             Interviewing consumer complainants to obtain complaint details and determine appropriate charging violations and settlement offers.  •             Reviewing hearing dispositions for summonses dismissed at OATH; drafting appeals and Chair petitions when appropriate.                                                                                                                                                                                                                                                                                                                                                                                                                                                                                                                                                                                                                                                                                                                                                                                                                                                                                                                                                                                                                                                                                                                                                                                                                                                                                                                                                                                                                                                                                                                                                                                                                                                                                                                                                                                                                                                                                                                                                                                                                                                                                                                                                                                                                                                                                                                                                                                                                                                                                                                                                                                                                                                                                                                                                                                                                                                                                                                                                                                                                                                                           10\n",
      "The New York City Taxi and Limousine Commission (TLC) is the City agency responsible for oversight of the for-hire vehicle industries in New York City, which Include yellow medallion taxis, green Boro taxis, community car services and livery cars, black cars services, luxury limousines, commuter vans and Para-transit services.  Combined, TLC regulates Industries that are responsible for over 800,000 daily trips.   Our role is to ensure that each passenger's riding experience is safe comfortable and convenient and that TLC drivers are driving safely.  Under direction of the Executive leadership of the TLC Uniformed Services Bureau, the Enforcement Deputy Chief will: •\\tOversee enforcement squads assigned to the overnight shift that conduct patrol and other enforcement operations citywide. •\\tProvide training and mentoring for all rank levels. •\\tPartner with other law enforcement agencies and industry stakeholders when developing \\tenforcement strategies. •\\tDevelop and manage a unified approach to addressing illegal for-hire activity, utilizing \\tenforcement statistics to determine performance measures. •\\tUtilize enforcement statistics and for-hire trip data to identify trends that will inform staff \\tdeployment and enforcement strategies. •\\tPresent at internal and external meetings/briefing on Enforcement Division performance.     •\\tDeputy Chief will make changes to deployment strategies and squad assignments ensuring the \\tEnforcement Division capability to carry out its mission and responsibilities in an exemplary \\tmanner. •\\tDeputy Chief will be responsible for other management projects and responsibilities as \\tdetermined by Uniformed Services Bureau Leadership. •\\tAuthor Division memos related to disciplinary action and unusual incidents; tactical plans and \\treview all written documentation drafted by junior supervisory staff. •\\tConduct initial internal investigations regarding the behavior of staff in violation of agency policy \\twhich may impact employee’s Special Patrolmen status with the NYPD. •\\tAttend community meeting (i.e. precinct community council meetings, town halls, inter-agency \\toperation meetings, etc.). •\\tInform staff of current directives and orders •\\tResponsible for serviceability, proper care and use of equipment, patrol and administrative \\trecord keeping. •\\tResponsible for conducting annual and probationary performance evaluations. •\\tInstruct and frequently test the knowledge of staff regarding their duties and responsibilities. •\\tBe available via agency mobile device 24/7 to senior leadership and direct reports. •\\tConduct frequent uniform inspections of staff including equipment and general appearance in \\tthe field while on patrol. •\\tReview activity of squads assigned daily, monthly, quarterly and annually. •\\tProvide formal orientation for newly promoted and assigned Captains and Lieutenants. •\\tDotted line oversight over Division Radio Command Operations Desk (aka Central). •\\tInitiate disciplinary process as needed.                                                                                                                                                                                                                                                                                                                                                                                                                                                                                                                                                                                                                                                                                                                                                                                                                                                                                                                                                                                                                                                                                                                                                                                                                                                                                                                                                                                                                                                                                                                                                                                                                                                                                                                                                                                                                                                                                                                                                                                                                                                                                                                        5\n",
      "New York City is home to approximately 1.64 million older adults, and the Department for the Aging (DFTA) is committed to helping them age in their homes and communities.  The mission of DFTA is to eliminate ageism and ensure the dignity and quality of life of diverse older adults. DFTA also works to support caregivers through service, advocacy, and education.  DFTA seeks a dynamic, motivated and detail-oriented individual to serve as a College Aide, to work in the Office of Information & Technology.   The Office of Information & Technology is tasked to lead DFTA’s efforts to ensure that databases are up and running and provide a seamless flow of information throughout the agency considering both back-end data structure and front-end accessibility for end users. The Office of Information & Technology also ensures that DFTA’s computer systems are on par with the advanced technology therefore agency staff can provide services to caregivers and DFTA funded programs.  Agency staff computer equipment is always functional and maintained due to Help Desk support which is provided within the agency and throughout DFTA funded programs. In this role, the College Aide will:  •\\tProvide in field technical support and assistance for DFTA’s applications to end-users. •\\tProvide in field technical support in a courteous and professional manner. •\\tProvide knowledgeable support for agency developed and third party software. •\\tFully understand the functional and operational features of agency developed software. •\\tUnderstanding of the basic functions and features of applications.  •\\tPerform the initial setup and/or upgrades to microcomputer equipment and software, and assure their proper operation and connectivity to local area network and Internet. •\\tTroubleshoot issues with hand held bar code scanners and agency printing issues. •\\tInstall and update of agency developed and third party software and update virus scan and windows updates as needed. •\\tDiagnose problems on site and provide resolutions.  •\\tAssist with training DFTA users with agency software’s.                                                                                                                                                                                                                                                                                                                                                                                                                                                                                                                                                                                                                                                                                                                                                                                                                                                                                                                                                                                                                                                                                                                                                                                                                                                                                                                                                                                                                                                                                                                                                                                                                                                                                                                                                                                                                                                                                                                                                                                                                                                                                                                                                                                                                                                                                                                                                                                                                                                                                                                                                                                                                                                                                                                                                                                                                                                                                                                                                                                                                                                                                            4\n",
      "The NYC Department of Environmental Protection (DEP) enriches the environment and protects public health for all New Yorkers by providing 1.1 billion gallons of high quality drinking water, managing wastewater and stormwater, and reducing air, noise, and hazardous materials pollution.  DEP is the largest combined municipal water and wastewater utility in the country, with nearly 6,000 employees.  DEP's water supply system is comprised of 19 reservoirs and 3 controlled lakes throughout the system’s 2,000 square mile watershed that extends 125 miles north and west of the City.  DEP is in partnership with various City agencies to construct systems of Green infrastructure (GI) Rain Gardens, for the purposes of stormwater capture and improved water quality in NYC’s waterways. The majority of Rain Gardens are sited in Brooklyn, Queens and the Bronx.  DEP is responsible for the maintenance and upkeep of these assets.  GI Rain Gardens combine engineered stormwater capture with natural elements of soil and plants, and require particular and specialized care and maintenance.  The Green Infrastructure Maintenance Unit is seeking to employ an experienced Gardener I to join their team of Green Infrastructure professionals.  Under the direction of the supervising Gardener II, the Gardener I will be responsible for supervising seasonal and full time City Park Workers in the daily maintenance of rain gardens, storm water greenstreets, enhanced tree pits and pump stations.  The daily tasks include but are not limited to litter removal, sediment removal and leaf raking.  The Gardener I will observe and note deficiencies in each green infrastructure asset and report to supervision as necessary.  Under the direction of the supervising gardener, the selected candidates will condition or replace soil and gravel; correct uneven soil, slumping and fill in seepage holes in green infrastructure assets; remove weeds, plants and transplants trees, shrubs and ground cover plantings in rain gardens, stormwater greenstreets and enhanced tree pits.  The Gardener I will maintain a daily record of activities, and may record data on a handheld electronic device.     This position requires the performance of arduous labor in varying weather conditions and physical labor, bending, pulling, pushing, stooping, and standing for long periods.   Must wear PPE dust masks, safety glasses, and protective gear.                                                                                                                                                                                                                                                                                                                                                                                                                                                                                                                                                                                                                                                                                                                                                                                                                                                                                                                                                                                                                                                                                                                                                                                                                                                                                                                                                                                                                                                                                                                                                                                                                                                                                                                                                                                                                                                                                                                                                                                                                                                                                                                                                                                                                                                                                                                                                                                                                                                                                                                                                                                                                                                                                                                                                       4\n",
      "The New York City Taxi and Limousine Commission (TLC) establishes and enforces professional and uniform standards of for-hire transportation service and ensures public safety. TLC licenses and regulates all aspects of New York City’s medallion (yellow) taxicabs, for-hire vehicles (Boro Taxis, community-based liveries, black cars, including app-based services, and luxury limousines), commuter vans, and paratransit vehicles. With over 115,000 licensed vehicles and approximately 170,000 drivers, TLC is the most active taxi and limousine licensing regulatory agency in the United States. To learn more about the TLC, please visit: www.nyc.gov/taxi.  Under the leadership of the Director of Programs, this position will manage quantitative, data projects for the agency’s programs. This position will interface across all internal divisions, including Information Technology (IT), Legal, Fiscal/Accounting, Licensing and Policy, as well as with partner agencies, TLC licensees, and vendors. A successful candidate has a strategic lens and an ability to anticipate oncoming program and data challenges. The candidate must have a background in using large data sets to manage public funds. Responsibilities may include but are not limited to:   •\\tProject planning and implementation: develop work plans and timelines for data projects, identify milestones, complete tasks, and manage projects to completion, working closely with program managers and project analysts. •\\tReview and analyze taxi and for-hire vehicle trip data to inform policy decisions, create reports, and generate policy recommendations using SQL, Python, R, Excel, Access, and GIS software. •\\tNew project development: work with the Director of Programs to develop a programs data agenda, identify new research topics, and explore opportunities for collaboration on data and reporting. •\\tPrograms policy research: design and perform quantitative and qualitative research projects using program data, which may include financial modeling, industry trend analysis, literature review, and conducting outreach and focus groups with driver and owner communities. •\\tPrograms policy development: participate in planning and problem-solving sessions, work with key staff and stakeholders to seek feedback on policy ideas, and develop requirements. •\\tOverall support: writing reports and policy memos, researching initiatives, preparing PowerPoint presentations, giving presentations to the Commission, licensees, and members of the general public, meeting planning and management, managing day-to-day relationships and communications with industry stakeholders, and taking an active role in supporting the activities of the agency. Respond to telephone and correspondence requests for information.                                                                                                                                                                                                                                                                                                                                                                                                                                                                                                                                                                                                                                                                                                                                                                                                                                                                                                                                                                                                                                                                                                                                                                                                                                                                                                                                                                                                                                                                                                                                                                                                                                                                                                                                                                                                                                                                                                                                                                                                                                                                                                                                                                                                                                                                                                                                                                                     4\n",
      "                                                                                                                                                                                                                                                                                                                                                                                                                                                                                                                                                                                                                                                                                                                                                                                                                                                                                                                                                                                                                                                                                                                                                                                                                                                                                                                                                                                                                                                                                                                                                                                                                                                                                                                                                                                                                                                                                                                                                                                                                                                                                                                                                                                                                                                                                                                                                                                                                                                                                                                                                                                                                                                                                                                                                                                                                                                                                                                                                                                                                                                                                                                                                                                                                                                                                                                                                                                                                                                                                                                                                                                                                                                                                                                                                                                                                                                                                                                                                                                                                                                                                                                                                                                                                                                                                                                                                                                                                                                                                                                                                                                                                                                                                                                                                                                                                                                                                                                                                                                                                                                                                                                                                                                                                                                              ..\n",
      "The Department of Design & Construction’s Agency Chief Contracting Office seeks to hire a Vendor Integrity Analyst. The selected candidate will be responsible for vetting proposed construction contractors, consultants, small purchase contract vendors, and not-for-profits pending award of discretionary funds; conducting vendor integrity checks to determine the responsibility of a vendor in accordance with the NYC Procurement Policy Board (PPB) rules.  The Vender Integrity Analyst will conduct background investigations utilizing various city databases, government websites/databases, and public websites; analyze and develop comprehensive narratives outlining the result of an investigation. In addition, the selected candidate will assign vendor performance evaluations to program units and review the completed evaluations for accuracy and final determination and may be assign additional tasks that are deemed appropriate for the function of the Vendor Integrity Unit.                                                                                                                                                                                                                                                                                                                                                                                                                                                                                                                                                                                                                                                                                                                                                                                                                                                                                                                                                                                                                                                                                                                                                                                                                                                                                                                                                                                                                                                                                                                                                                                                                                                                                                                                                                                                                                                                                                                                                                                                                                                                                                                                                                                                                                                                                                                                                                                                                                                                                                                                                                                                                                                                                                                                                                                                                                                                                                                                                                                                                                                                                                                                                                                                                                                                                                                                                                                                                                                                                                                                                                                                                                                                                                                                                                                                                                                                                                                                                                                                                                                                                                                                                                                                                                                1\n",
      "The New York City Department of Small Business Services (SBS) is a vibrant, client-centered agency whose mission is to serve New York’s small businesses, jobseekers and commercial districts.  SBS makes it easier for companies in New York City to start, operate, and expand by providing direct assistance to business owners, supporting commercial districts, promoting financial and economic opportunity among minority- and women-owned businesses, preparing New Yorkers for jobs, and linking employers with a skilled and qualified workforce.  SBS continues to reach for higher professional standards through innovative systems, new approaches to government, and a strong focus on its employees.    NYC Business Solutions is a set of services offered by the NYC Department of Small Business Services to help businesses start, operate, and expand in New York City.  All services are offered at no cost and are available to businesses of any size and at any stage.  Services can be accessed through the city’s 7 NYC Business Solutions Centers, 6 Career Centers, and 3 Sector Centers located throughout the 5 boroughs.  In 2010, NYC Business Solutions provided services to over 10,000 business customers located throughout the five boroughs.    The Executive Director of Business Development will lead agency efforts to acquire new business customers and to increase the number of NYC Business Solutions services utilized by existing customers. The Executive Director is responsible for developing the business development strategy for all NYC Business Solutions services and ensuring effective implementation through the management of internal and external sales resources. The Executive Director will provide direct supervision to 3 Senior Account Managers and will oversee 16 sales teams in the field (70 total field staff).  The Executive Director will also lead the professional development program for all staff engaging directly with business customers and is responsible for collaborating with the NYC Business Solutions marketing team to improve brand recognition throughout the five boroughs.    Specific responsibilities include:     Develop and execute the Agency’s business development strategy for all NYC Business Solutions services    Identify business targets and coordinate sales efforts across sales teams to ensure efficient usage of system-wide resources    Manage sales teams to meet their quarterly and annual sales goals through quarterly business development planning meetings and regular check-ins    Directly supervise three Senior Account Managers and oversee approximately 70 field staff located at the city’s 7 NYC Business Solutions Centers, 6 Career Centers, and 3 Sector Centers    Track and analyze system sales activities using Oracle CRM On Demand    Collaborate with NYC Business Solutions and Workforce1 program management teams to link sales activity and service delivery    Identify and create sales tools that enable sales teams to more effectively sell NYC Business Solutions services    Design and implement the professional development program for all business facing staff   Develop curriculum and lead sales training sessions for new and existing staff  Organize and lead industry knowledge sessions with sector experts to deepen sales teams’ understanding of business prospects   Lead sector focused working groups to build industry expertise and  disseminate best practices across sales teams  Increase awareness of NYC Business Solutions Services throughout the five boroughs of New York City  Assist the marketing team to develop brochures, flyers, and advertisements to promote NYC Business Solutions services and events  Participate in panel discussions and deliver public presentations at events  Establish partnerships with non-profit organizations, government agencies, and the private sector to generate referrals for NYC Business Solutions services      Preferred Skills:  The ideal candidate will have demonstrated success developing and implementing business driven programs and will have exhibited:     Strong management and leadership skills   Experience planning, implementing and managing projects involving diverse stakeholders   Extensive private or public sector experience in business development and sales  The ability to organize and drive projects to timely completion   The ability to actively listen and synthesize disparate viewpoints into a shared vision   The ability to handle complexity in fast-paced entrepreneurial environments   The ability to communicate effectively with a diverse array of internal and external stakeholders   The ability to combine attention to detail with a clear understanding of the big picture   Outstanding presentation, writing, and communications skills   Outstanding analytical, problem solving, presentation and creative thinking abilities   Excellent MS Excel, Word and Power Point skills   Experience with Oracle CRM On Demand, SalesForce, or other customer relationship management tool preferred but not required  Foreign language skills a plus     1\n",
      "The New York City Department of Environmental Protection (DEP) protects public health and the environment by supplying clean drinking water, collecting and treating wastewater, and reducing air, noise, and hazardous materials pollution. DEP is the largest combined municipal water and wastewater utility in the country, with nearly 6,000 employees. We deliver 1.1 billion gallons of high quality drinking water per day to 8.5 million New York City residents and more than 1 million people in Upstate New York, and we collect and treat an average of 1.3 billion gallons of wastewater per day.  New York City has approximately 140,000 catch basins, 114,000 hydrants, 90,000 valves, 14 gatehouses, 3 reservoirs, 68 groundwater wells, a 100-million-gallon underground storage tank and 7,000 miles each of both sanitary sewers and water mains. The responsibility of maintaining these vast networks falls under the Department of Environmental Protection’s Bureau of Water and Sewer Operations (BWSO).  The Contract Support Unit is a part of the CMOM Compliance Section which is involved in the continuous effort of maintaining NYC collection system infrastructure within the standards imposed by federal, state and local authorities and adhering to the strategies and procedures outlined in the EPA’s Guide for Evaluating Capacity Management Operation and Maintenance (CMOM) at Collections Systems.  The selected candidate will assist the unit chief in directing a group of civil engineers and technicians involved in investigations of the NYC sewer system with a goal to identify the system deficiencies and recommend remedial measures.  A candidate shall have extensive experience in civil engineering and possess a good knowledge and understanding of operations related to municipal wastewater systems and contract management. Preferable experience is in civil or environmental engineering with emphasis on operational aspects of sewer facilities and infrastructure. Knowledge of the contract management, including procurement and budget control is an important aspect of this position. At least 2 years of overall experience shall be verifiable experience in a supervisory capacity.   The responsibility of this position include, but not limited to: direct engineers and technicians supervising city vendors who perform sewer inspections under sewer CCTV and cleaning contracts. These inspections are prompted by various adverse conditions, such as: sewer backups, sewer overflow or requests by various parties, public or private, to accommodate development or utility projects; prepare and review various reports, summarizing the above activities, including recommendations for corrective actions; supervise and review processing of payments; develop, review and revise contracts’ specifications; oversee and track contracts procurement process; maintain CMOM Management Information System to capture and analyze the data collected during CMOM operations and processing of payments; properly manage the contracts’ budgets; cooperate with other bureaus within DEP and other agencies and organizations to ensure steady and uninterrupted progress of work, etc. Driving a city vehicle to the field sites will be required.                                                                                                                                                                                                                                                                                                                                                                                                                                                                                                                                                                                                                                                                                                                                                                                                                                                                                                                                                                                                                                                                                                                                                                                                                                                                                                                                                                                                                                                                                                                                                                                                                                                                                                                                                                                                                                                                                                               1\n",
      "About the Office:  \\t The Mayor’s Office of Operations oversees the daily operations of City agencies, coordinates City initiatives and assists agencies in improving service quality and in measuring performance to provide greater accountability. The Performance Management Team within the Office monitors and reports on the performance of all City agencies and gives guidance to agencies and staff on performance reporting and performance management focused on improving public access and use of performance data.  The Performance Management Team is recruiting for one (1) Community Coordinator to function as a Performance Reporting Analyst who will provide analytical and technical assistance for reporting, coordinating and implementing special projects. These projects represent critical initiatives designed to improve agency performance and meant to ultimately improve the efficiency, effectiveness, coordination, and accessibility of key City services in a measurable way. The job responsibilities for the Policy Analyst in the following areas include, but are not limited to:  Performance Reporting • \\tSupport all aspects of the production process for the Mayor’s Management Report, including: • \\tData collection, analysis and visualization, • \\tData layout and design for web and print publication using Adobe InDesign, • \\tCoordination of performance related content from agency partners. • \\tEngage select agencies to develop and refine performance reports for publication.  Analytical Support and Data Visualization •\\tIdentify and catalogue agency performance data and develop a deep understanding of the operational realities that the data represent. •\\tAnalyze performance data, identify patterns and synthesize findings for senior management in the form of ad hoc reports. •\\tCollaborate with a multidisciplinary team of policy advisors, designers and other Operations staff to forge connections between disparate streams of data and effectively visualize information in order to facilitate decision-making. •\\tSupport Operations staff on select engagements with City agencies to improve performance outcomes, streamline business processes and/or implement operational best practices. •\\tResearch trends and best practices in data-driven performance management, data visualization and operational dashboards.                                                                                                                                                                                                                                                                                                                                                                                                                                                                                                                                                                                                                                                                                                                                                                                                                                                                                                                                                                                                                                                                                                                                                                                                                                                                                                                                                                                                                                                                                                                                                                                                                                                                                                                                                                                                                                                                                                                                                                                                                                                                                                                                                                                                                                                                                                                                                                                                                                                                                                                                                                                                                                                                                                                                                                                                                                         1\n",
      "The Department of Citywide Administrative Services’ (“DCAS”) Division of Energy Management (“DEM”) serves as the hub for energy management for City government operations. Today, we develop the City’s annual Heat, Light, and Power Budget; manage the City’s electricity, natural gas, and steam accounts; help our agency partners identify and pursue energy-saving opportunities at their buildings; do energy efficiency and clean power generation projects across the City’s portfolio; and implement operations and maintenance (O&M) best practices.  DEM is tasked with leading the City’s efforts to reduce greenhouse gas emissions (“GHG”) by 80 percent by 2050 from a 2005 baseline (“80 x 50”). The City also has set a near-term goal to reduce GHG emissions from City government operations 40 percent by 2025 and 50 percent by 2030 from a Fiscal Year 2006 baseline. To meet these goals, DEM is committed to collaborating very closely with our agency partners to help them achieve major emissions reductions in their buildings. We are actively working to provide them with the energy efficiency and clean energy project funding, project delivery vehicles, technical expertise, staff resources, strategic planning support, and data analytics that they need to succeed.  DEM seeks to hire an Assistant/Associate Engineer #1, Load Management (“LM”) (based on qualifications) to work on the LM Team within our Energy Supply Unit. The person in this position will help support the expansion of the City’s LM Program, which is intended to achieve energy savings, cost savings, and emissions reductions by having City staff use real-time data visualization and analysis to implement ongoing operational improvements.  The Assistant/Associate Engineer #1 will report to the Engineer, LM and work in close collaboration with a second Assistant/Associate Engineer (#2) to be hired as a peer. S/he will help plan and manage the LM Program’s technical aspects, including working with LM and agency staff to implement LM projects on the ground in City buildings. Specifically, with significant latitude for the exercise of independent judgment and initiative, the Assistant/Associate Engineer will be charged with the following responsibilities:  •\\tManaging a portfolio of LM projects at City buildings: The LM Team will work together to ensure that this portfolio matches overall City targets for the total number of facilities to be enrolled in LM and the total energy usage and cost savings to be realized.  •\\tWorking with facilities staff at target City buildings to implement LM: The Assistant/Associate Engineer #1, LM will work with facility staff at target City buildings to evaluate energy loads and identify and implement LM measures to reduce loads.   •\\tIdentifying effective LM measures: The Assistant/Associate Engineer #1, LM will use available tools and resources to identify effective LM measures that can be implemented across the City’s portfolio to reduce monthly energy usage, costs, and emissions. These tools and resources include historical billing data, real-time interval data, and Building Management System (“BMS”) trend data. The Assistant/Associate Engineer #1, LM also will remain current with industry best practices for LM.  •\\tIdentifying opportunities for BMS upgrades to support LM implementation: The Assistant/Associate Engineer #1, LM will identify opportunities to perform BMS upgrades to support LM implementation. S/he will help agencies take advantage of existing DEM funding mechanisms to put in place these measures.  •\\tCreating agency-wide LM plans: The Assistant/Associate Engineer #1, LM will build on efforts currently underway at DEM to work with agencies to create agency-wide LM plans. S/he will help inventory and evaluate work done to date by agencies.  •\\tSupporting the development and delivery of LM training: The Assistant/Associate Engineer #1, LM will help develop LM Program training materials. S/he also will assist with the delivery of field training to empower behavioral change among City building operators.  •\\tSupporting performance reporting for the LM Program: The Assistant/Associate Engineer #1, LM will help track and report on project- and program-level progress and manage data collection. S/he will ensure that planned LM measures have been implemented at facilities.  •\\tAs needed, providing technical and analytical support to other DEM programs. These programs include, but are not limited to, the Demand Response and Real-Time Metering Programs.                                                                                                                                                                                                                                                                                                                                                                                                                                                                                                                                                                  1\n",
      "Name: Job Description, Length: 1488, dtype: int64 \n",
      "\n",
      "Total unique values for Minimum Qual Requirements 326\n",
      "Value Counts for Minimum Qual Requirements \n",
      " 1. A baccalaureate degree from an accredited college and two years of experience in community work or community centered activities in an area related to the duties described above; or  2. High school graduation or equivalent and six years of experience in community work or community centered activities in an area related to the duties as described above; or  3. Education and/or experience which is equivalent to \"1\" or \"2\" above. However, all candidates must have at least one year of experience as described in \"1\" above.                                                                                                                                                                                                                                                                                                                                                                                                                                                                                                                                                                                                                                                                                                                                                                                                                                                                                                                                                                                                                                                                                                                                                                                                                                                                                                                                                                                                                                                                                                                                                                                                                                                                                                                                                                        147\n",
      "1. Admission to the New York State Bar; and either \"2\" or \"3\" below.  2. One year of satisfactory United States legal experience subsequent to admission to any state bar; or   3. Six months of satisfactory service as an Agency Attorney Interne (30086).    Incumbents must remain Members of the New York State Bar in good standing for the duration of this employment.  In addition to meeting the minimum Qualification Requirements:  To be assigned to Assignment Level (AL) II, candidates must have one year of experience at Assignment Level I or two years of comparable legal experience subsequent to admission to the bar, in the areas of law related to the assignment. To be assigned to AL III candidates must have two years of experience in Assignment Levels I and/or II or three years of comparable legal experience subsequent to admission to the bar, in the areas of law related to the assignment.                                                                                                                                                                                                                                                                                                                                                                                                                                                                                                                                                                                                                                                                                                                                                                                                                                                                                                                                                                                                                                                                                                                                                                                                                                                                                                                                                                                   92\n",
      "(1) Four (4) years of full-time, satisfactory experience in civil engineering work; and   (2) A valid New York State Professional Engineer’s License. Current New York State registration as a Professional Engineer must be maintained for the duration of your employment.    A masters degree in civil engineering from an accredited college or university, accredited by regional, national, professional or specialized agencies recognized as accrediting bodies by the U.S. Secretary of Education and by the Council for Higher Education Accreditation (CHEA) may be substituted for one year of the civil engineering experience required in “1\" above.  Special Note:  In addition to above qualification requirements, to be eligible for placement in Assignment Levels II and III, individuals must have at least one year within the last three years of experience as a major contributor or a project leader on a complex project requiring additional and specific expertise in the disciplines needed to design or construct the project.                                                                                                                                                                                                                                                                                                                                                                                                                                                                                                                                                                                                                                                                                                                                                                                                                                                                                                                                                                                                                                                                                                                                                                                                                                                          67\n",
      "1.  For Assignment Level I (only physical, biological and environmental sciences and public health) A master's degree from an accredited college or university with a specialization in an appropriate field of physical, biological or environmental science or in public health.  To be appointed to Assignment Level II and above, candidates must have:  1. A doctorate degree from an accredited college or university with specialization in an appropriate field of physical, biological, environmental or social science and one year of full-time experience in a responsible supervisory, administrative or research capacity in the appropriate field of specialization; or  2. A master's degree from an accredited college or university with specialization in an appropriate field of physical, biological, environmental or social science and three years of responsible full-time research experience in the appropriate field of specialization; or  3. Education and/or experience which is equivalent to \"1\" or \"2\" above. However, all candidates must have at least a master's degree in an appropriate field of specialization and at least two years of experience described in \"2\" above. Two years as a City Research Scientist Level I can be substituted for the experience required in \"1\" and \"2\" above.    NOTE:  Probationary Period  Appointments to this position are subject to a minimum probationary period of one year.                                                                                                                                                                                                                                                                                                                                                                                                                                                                                                                                                                                                                                                                                                                                                                                                                                                         63\n",
      "Qualification Requirements  A four-year high school diploma or its educational equivalent approved by a State's department of education or a recognized accrediting organization and one year of satisfactory clerical experience.  Skills Requirement  Keyboard familiarity with the ability to type at a minimum of 100 key strokes (20 words) per minute.                                                                                                                                                                                                                                                                                                                                                                                                                                                                                                                                                                                                                                                                                                                                                                                                                                                                                                                                                                                                                                                                                                                                                                                                                                                                                                                                                                                                                                                                                                                                                                                                                                                                                                                                                                                                                                                                                                                                                           59\n",
      "                                                                                                                                                                                                                                                                                                                                                                                                                                                                                                                                                                                                                                                                                                                                                                                                                                                                                                                                                                                                                                                                                                                                                                                                                                                                                                                                                                                                                                                                                                                                                                                                                                                                                                                                                                                                                                                                                                                                                                                                                                                                                                                                                                                                                                                                                                                     ... \n",
      "1. A master's degree from an accredited college in business or public administration, economics, labor or industrial relations, statistics, operations research or a closely related field; or  2. A baccalaureate degree from an accredited college and two years of satisfactory full-time professional experience in labor research and analysis, employee benefit design and evaluation, compensation analysis, labor economics, economic planning, or a related area; or  3. Education and/or experience equivalent to \"1\" or \"2\" above. However, all candidates must possess a baccalaureate degree from an accredited college.  SPECIAL NOTE:  To be eligible for placement in Assignment Level II, individuals must have, after meeting the minimum requirements, one year of additional professional experience as described in \"2\" above.                                                                                                                                                                                                                                                                                                                                                                                                                                                                                                                                                                                                                                                                                                                                                                                                                                                                                                                                                                                                                                                                                                                                                                                                                                                                                                                                                                                                                                                                     1\n",
      "1. A master's degree from an accredited college in economics, finance, accounting, business or public administration, human resources management, management science, operations research, organizational behavior, industrial psychology, statistics, personnel administration, labor relations, psychology, sociology, human resources development, political science, urban studies or a closely related field, and two years of satisfactory full-time professional experience in one or a combination of the following: working with the budget of a large public or private concern in budget administration, accounting, economic or financial administration, or fiscal or economic research; in management or methods analysis, operations research, organizational research or program evaluation; in personnel or public administration, recruitment, position classification, personnel relations, employee benefits, staff development, employment program planning/administration, labor market research, economic planning, social services program planning/evaluation, or fiscal management; or in a related area. 18 months of this experience must have been in an executive, managerial, administrative or supervisory capacity. Supervision must have included supervising staff performing professional work in the areas described above; or 2. A baccalaureate degree from an accredited college and four years of professional experience in the areas described in \"1\" above, including the 18 months of executive, managerial, administrative or supervisory experience, as described in \"1\" above                                                                                                                                                                                                                                                                                                                                                                                                                                                                                                                                                                                                                                                                                           1\n",
      "1.\\tA baccalaureate degree from an accredited college and two years of experience in community work or community centered activities in an area related to the duties described above; or  2.\\tHigh school graduation or equivalent and six years of experience in community work or community centered activities in an area related to the duties as described above; or  3.\\tEducation and/or experience which is equivalent to \"1\" or \"2\" above. However, all candidates must have at least one year of experience as described in \"1\" above.                                                                                                                                                                                                                                                                                                                                                                                                                                                                                                                                                                                                                                                                                                                                                                                                                                                                                                                                                                                                                                                                                                                                                                                                                                                                                                                                                                                                                                                                                                                                                                                                                                                                                                                                                                       1\n",
      "1. Three years of full-time satisfactory experience in general maintenance/construction work involving carpentry, painting, plastering, and/or plumbing.    Driver's License Requirement  Before you can be appointed to this position, you must have a motor vehicle driver's license valid in the State of New York.  This license must be maintained for the duration of your employment.                                                                                                                                                                                                                                                                                                                                                                                                                                                                                                                                                                                                                                                                                                                                                                                                                                                                                                                                                                                                                                                                                                                                                                                                                                                                                                                                                                                                                                                                                                                                                                                                                                                                                                                                                                                                                                                                                                                            1\n",
      "1. A four-year high school diploma or its educational equivalent approved by a State's Department of Education or a recognized accrediting organization and three years of full-time satisfactory experience acquired within the last ten years in any one or a combination of the following: industrial construction activities; the repair or installation of commercial, industrial, or large residential machinery, piping, or electrical equipment; the operation of machine tools; the repair and overhaul of engines; residential or industrial plumbing; or the operation or repair of wastewater treatment plants or associated facilities (Note: handyman and janitorial experience is not acceptable); or    2. A four-year high school diploma or its educational equivalent approved by a State's Department of Education or a recognized accrediting organization and at least one and one-half years of full-time satisfactory experience acquired within the last five years as described in “1” above, plus sufficient relevant education acquired in an approved trade, technical or vocational school to make the equivalent of three years of acceptable experience. Education can be substituted for experience on the basis of one year of education at an approved trade, technical or vocational school for six months of acceptable experience; or    3. An associate degree or higher degree with a major in Environmental Health, Environmental Technology, Electrical Technology, Mechanical Technology, Chemical Technology, or a related field from an accredited college or university, accredited by regional, national, professional or specialized agencies recognized as accrediting bodies by the U.S. Secretary of Education and by the Council for Higher Education Accreditation (CHEA), and one year of the experience described in “1” above acquired within the last five years.    Commercial Driver License Requirement: At the time of appointment you must possess a New York State Class A or Class B Commercial Driver License (\"CDL\") or a valid CDL Learner's Permit. Appointees hired with a Learner's Permit must obtain the Class A or Class B CDL within six months of appointment. The CDL must be maintained for the duration of employment in this title.      1\n",
      "Name: Minimum Qual Requirements, Length: 325, dtype: int64 \n",
      "\n",
      "Total unique values for Preferred Skills 1198\n",
      "Value Counts for Preferred Skills \n",
      " ERROR: #NAME?                                                                                                                                                                                                                                                                                                                                                                                                                                                                                                                                                                                                                                                                                                                                                                                                                                                                                                                                                                                                                                                                                                                                                                                                                                                                                                                                          28\n",
      "Interested candidates should have excellent written and verbal communication skills, effective problem-solving skills, and the ability to prioritize, manage time, and engage in multiple tasks in a fast-paced environment. Although not required, the successful applicant will likely have one or more of the following academic or professional experiences: litigation, and/or customer relations.  Bilingual proficiency preferred.                                                                                                                                                                                                                                                                                                                                                                                                                                                                                                                                                                                                                                                                                                                                                                                                                                                                                                              13\n",
      "Ability to communicate effectively in verbal and written form.                                                                                                                                                                                                                                                                                                                                                                                                                                                                                                                                                                                                                                                                                                                                                                                                                                                                                                                                                                                                                                                                                                                                                                                                                                                                                         12\n",
      "1.\\tKnowledge of Microsoft Word, Excel, Outlook, Access and PowerPoint.   2.\\tOffice experience as well as demonstrable background dealing with members of the public. 3.\\tExcellent oral and written communication skills. 4.\\tHistory of volunteerism, such as service in the AmericCorps or Peace Corps, is viewed favorably.                                                                                                                                                                                                                                                                                                                                                                                                                                                                                                                                                                                                                                                                                                                                                                                                                                                                                                                                                                                                                        9\n",
      "A valid NYS Driver's License is required for this position.                                                                                                                                                                                                                                                                                                                                                                                                                                                                                                                                                                                                                                                                                                                                                                                                                                                                                                                                                                                                                                                                                                                                                                                                                                                                                             7\n",
      "                                                                                                                                                                                                                                                                                                                                                                                                                                                                                                                                                                                                                                                                                                                                                                                                                                                                                                                                                                                                                                                                                                                                                                                                                                                                                                                                                       ..\n",
      "•\\tGood written and verbal communication skills •\\tStrong organizational and time management skills  •\\tFlexibility and willingness to perform a variety of tasks in a dynamic environment •\\tProfessional presentation •\\tFamiliarity with Word, Excel, Power Point, Outlook                                                                                                                                                                                                                                                                                                                                                                                                                                                                                                                                                                                                                                                                                                                                                                                                                                                                                                                                                                                                                                                                           1\n",
      "Preference will be given to candidates with advanced knowledge of the following:  NYC DOT Highway Rules and Regulations, Standard Details of Construction, backfill and compaction on protected streets, ASTM and AASHTO Standard Specifications for Local Law 14 backfills, capital projects, protected street openings and excavation, permits and OCMC stipulations, administrative codes, building operations, paving, coring, re-digs, nuclear gauge testing, concrete roadways, base and wearing course.   Candidates must also be highly experienced in the DASH System, able to complete demos in DASH, able to prepare manuals/documents, and experienced in field and tablet training; candidates must have strong communication skills (both verbal and written).                                                                                                                                                                                                                                                                                                                                                                                                                                                                                                                                                                            1\n",
      "•  2+ years of experience in computer training and in developing technical training curriculums.  •  2+ years of experience working for a technical help desk.  •  Proficiency with the MS Office suite (including Visio, Access and InfoPath) and Adobe tools    (including Captivate and Robo Help).  •  Ability to work well, develop and maintain productive working relationships and communicate    effectively with staff at all levels.                                                                                                                                                                                                                                                                                                                                                                                                                                                                                                                                                                                                                                                                                                                                                                                                                                                                                                         1\n",
      "Knowledge of NYC water and sewer systems and DEP Water & Sewer standards and specifications. • 5 or more years of Construction and contract management experience. • Minimum 2-3 years supervising engineers and inspectors. • Knowledge of billing practices. • Evaluate and handle multiple projects and priorities.  • Proficiency in Microsoft Office programs including Excel, Word, Outlook and Project. • Ability to be on call 24/7  License Requirements Possess and maintain a valid New York State driver’s license.                                                                                                                                                                                                                                                                                                                                                                                                                                                                                                                                                                                                                                                                                                                                                                                                                         1\n",
      "•\\tMinimum of three years of responsible full-time research experience in an appropriate field of physical, biological, environmental or social science. •\\tProficiency using SAS or another programming language (Stata, R, SPSS or others). •\\tExceptional analytical and quantitative skills. •\\tExperience using relational databases, data mining and extracting data using SQL. •\\tExperience with statistical sampling, econometric data modeling techniques and regression analyses. •\\tExperience using ArcGIS or other geographic information systems software. •\\tProficiency in MS Word, Excel, Access, and PowerPoint. •\\tWillingness to learn new software on their own. •\\tAbility to follow instructions and interact with people at all levels. Must be able to work well in a team environment as well as work individually with minimal supervision. •\\tAbility to solve problems creatively. •\\tOutstanding written and spoken communication skills. Be able to communicate clearly and effectively and present the materials in concise manners. •\\tMust be able to prioritize tasks and meet deadlines without compromising the integrity of the work/products. •\\tAbility to learn the complex property tax system and exemption programs and related business rules. •\\tProfessionalism, integrity and positive work ethic.     1\n",
      "Name: Preferred Skills, Length: 1197, dtype: int64 \n",
      "\n",
      "Total unique values for Additional Information 633\n",
      "Value Counts for Additional Information \n",
      " Appointments are subject to OMB approval. For additional information about DEP, visit www.nyc.gov/dep  DEP is an equal opportunity employer with a strong commitment to the diversity of our organization and workforce. Your voluntary response to the NYCAPS on-line application section for referral information will assist us tremendously in our ability to track the success of our outreach and recruitment efforts. Please be sure to indicate your source of referral to this job.  NOTE: This position is open to qualified persons with a disability who are eligible for the 55-a Program and also meet the education and experience requirements as listed in the job posting notice. Please indicate on your resume or cover letter that you would like to be considered for the position under the 55-a Program. This position is also open to non 55-a Program candidates who meet the education and experience requirements as listed in the job posting notice.                                                                                                                                                                                                                                                                                                                                                                                                                                                                                                                                                                                                                                                                                                                                                                                                                                                                                                                                                                   69\n",
      "NYCHA employees applying for promotional, title or level change opportunities must have served a period of one year in their current title and level (if applicable).                                                                                                                                                                                                                                                                                                                                                                                                                                                                                                                                                                                                                                                                                                                                                                                                                                                                                                                                                                                                                                                                                                                                                                                                                                                                                                                                                                                                                                                                                                                                                                                                                                                                                                                                                                                44\n",
      "**IMPORTANT NOTES TO ALL CANDIDATES:  Please note:  If you are called for an interview you will be required to bring to your interview copies of original documentation, such as: • A document that establishes identity for employment eligibility, such as: A Valid U.S. Passport, Permanent Resident Card/Green Card, or Driver’s license.    • Proof of Education according to the education requirements of the civil service title.    • Current Resume     • Proof of Address/NYC Residency dated within the last 60 days, such as: Recent Utility Bill (i.e. Telephone, Cable, Mobile Phone)   Additional documentation may be required to evaluate your qualification as outlined in this posting’s “Minimum Qualification Requirements” section. Examples of additional documentation may be, but not limited to: college transcript, experience verification or professional trade licenses.  If after your interview you are the selected candidate you will be contacted to schedule an on-boarding appointment.   By the time of this appointment you will be asked to produce the originals of the above documents along with your original Social Security card.   **LOAN FORGIVENESS  The federal government provides student loan forgiveness through its Public Service Loan Forgiveness Program (PSLF) to all qualifying public service employees. Working with the DOHMH qualifies you as a public service employee and you may be able to take advantage of this program while working full-time and meeting the program’s other requirements.    Please visit the Public Service Loan Forgiveness Program site to view the eligibility requirements:   https://studentaid.ed.gov/sa/repay-loans/forgiveness-cancellation/public-service    \"FINAL APPOINTMENTS ARE SUBJECT TO OFFICE OF MANAGEMENT & BUDGET APPROVAL”                                                                                                         39\n",
      "Note: This position is open to qualified persons with a disability who are eligible for the 55-a program.  Please indicate in your resume or cover letter that you would like to be considered for the position under the 55-a program.                                                                                                                                                                                                                                                                                                                                                                                                                                                                                                                                                                                                                                                                                                                                                                                                                                                                                                                                                                                                                                                                                                                                                                                                                                                                                                                                                                                                                                                                                                                                                                                                                                                                                                              30\n",
      "**IMPORTANT NOTES TO ALL CANDIDATES:  Please note:  If you are called for an interview you will be required to bring to your interview copies of original documentation, such as: • A document that establishes identity for employment eligibility, such as: A Valid U.S. Passport, Permanent Resident Card/Green Card, or Driver’s license.    • Proof of Education according to the education requirements of the civil service title.    • Current Resume     • Proof of Address/NYC Residency dated within the last 60 days, such as: Recent Utility Bill (i.e. Telephone, Cable, Mobile Phone)   Additional documentation may be required to evaluate your qualification as outlined in this posting’s “Minimum Qualification Requirements” section. Examples of additional documentation may be, but not limited to: college transcript, experience verification or professional trade licenses.  If after your interview you are the selected candidate you will be contacted to schedule an on-boarding appointment.   By the time of this appointment you will be asked to produce the originals of the above documents along with your original Social Security card.   **LOAN FORGIVENESS  The federal government provides student loan forgiveness through its Public Service Loan Forgiveness Program (PSLF) to all qualifying public service employees. Working with the DOHMH qualifies you as a public service employee and you may be able to take advantage of this program while working full-time and meeting the program’s other requirements.    Please visit the Public Service Loan Forgiveness Program site to view the eligibility requirements:   https://studentaid.ed.gov/sa/repay-loans/forgiveness-cancellation/public-service                                                                                                                                                                                       28\n",
      "                                                                                                                                                                                                                                                                                                                                                                                                                                                                                                                                                                                                                                                                                                                                                                                                                                                                                                                                                                                                                                                                                                                                                                                                                                                                                                                                                                                                                                                                                                                                                                                                                                                                                                                                                                                                                                                                                                                                                     ..\n",
      "1.  A Motor Vehicle Driver’s License valid in the State of New York is required for these positions. This license must be maintained for the duration of the assignment.     2.  A Certificate of Fitness to Operate Air Compressors (A-35), issued by the New York City Fire Department is required for these positions. This certificate must be maintained for the duration of assignment.    3.  A Certificate of Fitness for Low Pressure Oil Boilers (P-99), issued by the New York City Fire Department, is required for these positions and must be obtained within six months of appointment. This certificate must be maintained thereafter for the duration of employment.                                                                                                                                                                                                                                                                                                                                                                                                                                                                                                                                                                                                                                                                                                                                                                                                                                                                                                                                                                                                                                                                                                                                                                                                                                                                 1\n",
      "REQUIREMENTS:  Analyst ($58,162+): Bachelor’s degree in Economics with sufficient course work in Macroeconomics, Econometrics, and Statistics, in addition to a minimum of two years of full-time experience in economic/financial analysis or forecasting, or an awarded Master’s degree in Economics, Business, Mathematics/Statistics or Public Policy with course work in Macroeconomics, Econometrics, Time Series Analysis, and Statistics.  Senior Analyst ($65,433): Bachelor's degree in Economics with sufficient course work in Macroeconomics, Econometrics, and Statistics, in addition to a minimum of three years of full-time experience in economic/financial analysis or forecasting, or an awarded Master’s degree in Business, Public Policy Administration, Finance, Economics or related field, with one year of experience in economic/financial analysis or forecasting.                                                                                                                                                                                                                                                                                                                                                                                                                                                                                                                                                                                                                                                                                                                                                                                                                                                                                                                                                                                                                                                      1\n",
      "**LOAN FORGIVENESS   The federal government provides student loan forgiveness through its Public Service Loan Forgiveness Program (PSLF) to all qualifying public service employees. Working with the DSS/HRA/DHS qualifies you as a public service employee and you may be able to take advantage of this program while working full-time and meeting the programs other requirements.   Please visit the Public Service Loan Forgiveness Program site to view the eligibility requirements: https://studentaid.ed.gov/sa/repay-loans/forgiveness-cancellation/public-service. In addition, the Human Resources Administration/Department of Social Services offers competitive salaries and the following benefits: Generous Pension Plans (The New York Employees' Retirement System);  401(k) and 457(k) Retirement Savings Programs; U.S. Savings Bonds Flexible Spending Program; Health Benefits, Dental, Vision Coverage, Prescription Drug Program; Training and Professional Development; Opportunity for Scholarship; College Savings Program; Paid Holidays and Generous Annual Leave                                                                                                                                                                                                                                                                                                                                                                                                                                                                                                                                                                                                                                                                                                                                                                                                                                                     1\n",
      "***PLEASE NOTE ONLY APPLICANTS PERMANENT IN THE TITLE ADMINISTRATIVE PUBLIC INFORMATION SPECIALIST WILL BE CONSIDERED***  DEP is an equal opportunity employer with a strong commitment to the diversity of our organization and workforce. Your voluntary response to the NYCAPS on-line application section for referral information will assist us tremendously in our ability to track the success of our outreach recruitment efforts. Please be sure to indicate your source of referral to this job.  For more information about NYCDEP, visit us at: www.nyc.gov/dep     **LOAN FORGIVENESS**  The federal government provides student loan forgiveness through its Public Service Loan Forgiveness Program (PSLF) to all qualifying public service employees. Working with the Mayors’ Office of Climate Policy and Programs qualifies you as a public service employee and you may be able to take advantage of this program while working full-time and meeting the program’s other requirements.    Please visit the Public Service Loan Forgiveness Program site to view the eligibility requirements:  https://studentaid.ed.gov/sa/repay-loans/forgiveness-cancellation/public-service  NOTE: This position is open to qualified persons with a disability who are eligible for the 55-a Program and also meet the education and experience requirements as listed in the job posting notice. Please indicate on your resume or cover letter that you would like to be considered for the position under the 55-a Program. This position is also open to non 55-a Program candidates who meet the education and experience requirements as listed in the job posting notice.  55A candidates are encouraged to apply.  We appreciate your interest and thank all applicants who apply, but only candidates under consideration will be contacted.  All appointments are subject to Office of Management and Budget (OMB) approval.     1\n",
      "**LOAN FORGIVENESS  The federal government provides student loan forgiveness through its Public Service Loan Forgiveness Program (PSLF) to all qualifying public service employees. Working with the DSS/HRA/DHS qualifies you as a public service employee and you may be able to take advantage of this program while working full-time and meeting the program’s other requirements.    Please visit the Public Service Loan Forgiveness Program site to view the eligibility requirements:  https://studentaid.ed.gov/sa/repay-loans/forgiveness-cancellation/public-service   In addition, the Human Resources Administration/Department of Social Services offers competitive salaries and the following benefits: Generous Pension Plans (The New York Employees' Retirement System);  401(k) and Roth 457 Retirement Savings Programs; U.S. Savings Bonds Flexible Spending Program; Health Benefits, Dental, Vision Coverage, Prescription Drug Program; Training and Professional Development; Opportunity for Scholarship; College Savings Program; Paid Holidays and Generous Annual Leave.                                                                                                                                                                                                                                                                                                                                                                                                                                                                                                                                                                                                                                                                                                                                                                                                                                               1\n",
      "Name: Additional Information, Length: 632, dtype: int64 \n",
      "\n",
      "Total unique values for To Apply 828\n",
      "Value Counts for To Apply \n",
      " Click the \"Apply Now\" button.                                                                                                                                                                                                                                                                                                                                                                                                                                                                                                                                                                                                                                                                                                                                                                                                                 243\n",
      "Click, \"APPLY NOW\" Current city employees must apply via Employee Self-Service (ESS)                                                                                                                                                                                                                                                                                                                                                                                                                                                                                                                                                                                                                                                                                                                                                           91\n",
      "Click the \"Apply Now\" button                                                                                                                                                                                                                                                                                                                                                                                                                                                                                                                                                                                                                                                                                                                                                                                                                   82\n",
      "To apply click \"Apply Now\"                                                                                                                                                                                                                                                                                                                                                                                                                                                                                                                                                                                                                                                                                                                                                                                                                     76\n",
      "Click \"Apply Now\" button                                                                                                                                                                                                                                                                                                                                                                                                                                                                                                                                                                                                                                                                                                                                                                                                                       46\n",
      "                                                                                                                                                                                                                                                                                                                                                                                                                                                                                                                                                                                                                                                                                                                                                                                                                                             ... \n",
      "Click on \"Apply now\" button                                                                                                                                                                                                                                                                                                                                                                                                                                                                                                                                                                                                                                                                                                                                                                                                                     1\n",
      "Apply online with a cover letter to https://a127-jobs.nyc.gov/.  In the Job ID search bar, enter: job ID number # 398298  We appreciate the interest and thank all applicants who apply, but only those candidates under consideration will be contacted.  The NYC Health Department is committed to recruiting and retaining a diverse and culturally responsive workforce. We strongly encourage people of color, people with disabilities, veterans, women, and lesbian, gay, bisexual, and transgender and gender non-conforming persons to apply.  All applicants will be considered without regard to actual or perceived race, color, national origin, religion, sexual orientation, marital or parental status, disability, sex, gender identity or expression, age, prior record of arrest; or any other basis prohibited by law.      1\n",
      "Please be sure to submit a resume & cover letter when applying. All current City Employees may apply by going to Employee Self Service (ESS) http://cityshare.nycnet/ess Click on Recruiting Activities/Careers and Search for Job ID #415326 All other applicants, please go to www.nyc.gov/careers/search  and search for Job ID#415326 Please do not email, mail or fax your resume to DFTA directly.                                                                                                                                                                                                                                                                                                                                                                                                                                        1\n",
      "Current NYC employees may apply to Job ID: 422035 via Employee Self Service (ESS): www.nyc.gov/ess. While all complete applications will be given consideration, only candidates selected for an interview will be contacted.                                                                                                                                                                                                                                                                                                                                                                                                                                                                                                                                                                                                                   1\n",
      "Parks Employees:   1.\\t  From a Parks computer: Access Employee Self Service (ESS) from the Parks Intranet under Applications or use this link: https://hrb.nycaps.nycnet/. Once in ESS, go to Recruiting then Careers and search for Job ID# 424966. Do not access ESS using nyc.gov/ess from a Parks computer.  2.\\t  From a Non-Parks computer: Access Employee Self Service (ESS) by going to nyc.gov/ess or use this link: https://a127-ess.nyc.gov/. Once in ESS, go to Recruiting then Careers and search for Job ID# 424966.  Include your ERN and Job ID# 424966 on your cover letter and resume.                                                                                                                                                                                                                                      1\n",
      "Name: To Apply, Length: 827, dtype: int64 \n",
      "\n",
      "Total unique values for Hours/Shift 176\n",
      "Value Counts for Hours/Shift \n",
      " 35 Hours                                                                                                                                                                                                   112\n",
      "35 hours per week                                                                                                                                                                                           40\n",
      "Day - Due to the necessary technical support duties of this position in a 24/7 operation, candidate may be required to work various shifts such as weekends and/or nights/evenings.                         29\n",
      "35hrs                                                                                                                                                                                                       26\n",
      "35 hours per week / day                                                                                                                                                                                     23\n",
      "                                                                                                                                                                                                          ... \n",
      "Monday - Friday, 9am  to 5pm.                                                                                                                                                                                1\n",
      "35 Hours/ Shift To Be Determined                                                                                                                                                                             1\n",
      "Marine Engineers (Uniformed-Fire Department) may be required to work shifts including nights, Saturdays, Sundays, and holidays.                                                                              1\n",
      "40 Hours per week / Shift TBD                                                                                                                                                                                1\n",
      "Day - Due to the necessary technical management duties of this position in a 24/7 operation, candidate may be required to be on call and/or work various shifts such as weekends and/or nights/evenings      1\n",
      "Name: Hours/Shift, Length: 175, dtype: int64 \n",
      "\n",
      "Total unique values for Residency Requirement 50\n",
      "Value Counts for Residency Requirement \n",
      " New York City residency is generally required within 90 days of appointment. However, City Employees in certain titles who have worked for the City for 2 continuous years may also be eligible to reside in Nassau, Suffolk, Putnam, Westchester, Rockland, or Orange County. To determine if the residency requirement applies to you, please discuss with the agency representative at the time of interview.                                                                                                                                                                                                                                                                                                                                                                                                             1359\n",
      "New York City Residency is not required for this position                                                                                                                                                                                                                                                                                                                                                                                                                                                                                                                                                                                                                                                                                                                                                                     493\n",
      "NYCHA has no residency requirements.                                                                                                                                                                                                                                                                                                                                                                                                                                                                                                                                                                                                                                                                                                                                                                                          183\n",
      "New York City Residency is not required for this position.                                                                                                                                                                                                                                                                                                                                                                                                                                                                                                                                                                                                                                                                                                                                                                    180\n",
      "New York City residency is not required for this position.                                                                                                                                                                                                                                                                                                                                                                                                                                                                                                                                                                                                                                                                                                                                                                     15\n",
      "This position is exempt from NYC residency requirements.                                                                                                                                                                                                                                                                                                                                                                                                                                                                                                                                                                                                                                                                                                                                                                       15\n",
      "Residency in New York City, Nassau, Orange, Rockland, Suffolk, Putnam or Westchester counties required for employees with over two years of city service.  New York City residency required within 90 days of hire for all other candidates.                                                                                                                                                                                                                                                                                                                                                                                                                                                                                                                                                                                   11\n",
      "Residency in New York City, Nassau, Orange, Rockland, Suffolk, Putnam or Westchester counties required for employees with over two years of city service.  New York City residency required within 90 days of hiring for all other candidates.                                                                                                                                                                                                                                                                                                                                                                                                                                                                                                                                                                                  9\n",
      "City Residency is not required for this position                                                                                                                                                                                                                                                                                                                                                                                                                                                                                                                                                                                                                                                                                                                                                                                6\n",
      "New York City Residency is not required for this position; however, you must reside in New York State.                                                                                                                                                                                                                                                                                                                                                                                                                                                                                                                                                                                                                                                                                                                          5\n",
      "NYCHA has no residency requirement.                                                                                                                                                                                                                                                                                                                                                                                                                                                                                                                                                                                                                                                                                                                                                                                             4\n",
      "NYC residency is required within 90 days of appointment                                                                                                                                                                                                                                                                                                                                                                                                                                                                                                                                                                                                                                                                                                                                                                         4\n",
      "New York City residency is required within 90 days of appointment.                                                                                                                                                                                                                                                                                                                                                                                                                                                                                                                                                                                                                                                                                                                                                              4\n",
      "Residency in New York City, Nassau, Orange, Rockland, Suffolk, Putnam or Westchester counties required for employees with over two years of city service. New York City residency required within 90 days of hire for all other candidates.                                                                                                                                                                                                                                                                                                                                                                                                                                                                                                                                                                                     3\n",
      "New York City residency is not required for this position.  However, you must reside in New York State.                                                                                                                                                                                                                                                                                                                                                                                                                                                                                                                                                                                                                                                                                                                         3\n",
      "New York City residency is generally required within 90 days of appointment. However, City Employees in certain titles who have worked for the City for 2 continuous years may also be eligible to reside in Nassau, Suffolk, Putnam, Westchester, Rockland, or Orange County. To determine if the residency requirement applies to you, please discuss with the agency representative at the time of interview.   EEPC is an equal opportunity employer with a strong commitment to the diversity of our organization and workforce. Your voluntary response to the NYCAPS on-line application section for demographic and referral information will assist us tremendously in our ability to track the success of our outreach and recruitment efforts. Please be sure to indicate your source of referral to this job.       2\n",
      ": New York City residency is generally required within 90 days of appointment.                                                                                                                                                                                                                                                                                                                                                                                                                                                                                                                                                                                                                                                                                                                                                  2\n",
      "New York City Residency is not required for this position      DEP is an equal opportunity employer with a strong commitment to the diversity of our organization and workforce. Your voluntary response to the NYCAPS on-line application section for referral information will assist us tremendously in our ability to track the success of our outreach and recruitment efforts. Please be sure to indicate your source of referral to this job.                                                                                                                                                                                                                                                                                                                                                                            2\n",
      "New York City Residency is not required for this position.            DEP is an equal opportunity employer with a strong commitment to the diversity of our organization and workforce. Your voluntary response to the NYCAPS on-line application section for referral information will assist us tremendously in our ability to track the success of our outreach and recruitment efforts. Please be sure to indicate your source of referral to this job.                                                                                                                                                                                                                                                                                                                                                                     2\n",
      "The candidate selected for this position must be a resident of the City of New York or become a resident within 90 days of appointment.  Authorization to work in the United States is required for this position.   Sponsorship is not available for this position.  THE RICHMOND COUNTY DISTIRCT ATTORNEY IS AN EQUAL OPPORTUNITY EMPLOYER AND A COPY OF THE EQUAL OPPORTUNITY PROGRAMS IS AVAILABLE IN THE HUMAN CAPITAL DIVISION. THE DEPARTMENT MAKES AVAILABLE ACCOMMODATIONS FOR DISABLED APPLICANTS                                                                                                                                                                                                                                                                                                                     2\n",
      "New York City Residency is not required for this position, however, you must reside in New York State.                                                                                                                                                                                                                                                                                                                                                                                                                                                                                                                                                                                                                                                                                                                          2\n",
      "New York City residency is generally required within 90 days of appointment. However, City Employees in certain titles who have worked for the City for 2 continuous years may also be eligible to reside in Nassau, Suffolk, Putnam, Westchester, Rockland, or Orange County. To determine if the residency requirement applies to you, please discuss with the agency representative at the time of interview. To determine if the residency requirement applies to you, please discuss with the agency representative at the time of interview.                                                                                                                                                                                                                                                                              2\n",
      "NYC Residency is required for this position within 90 days of appointment.                                                                                                                                                                                                                                                                                                                                                                                                                                                                                                                                                                                                                                                                                                                                                      2\n",
      "New York City residency is not required for this position. However, you must reside in New York State.                                                                                                                                                                                                                                                                                                                                                                                                                                                                                                                                                                                                                                                                                                                          2\n",
      "Applicant must be a City resident within 90 days of appointment.                                                                                                                                                                                                                                                                                                                                                                                                                                                                                                                                                                                                                                                                                                                                                                2\n",
      "019New York City Residency is not required for this position                                                                                                                                                                                                                                                                                                                                                                                                                                                                                                                                                                                                                                                                                                                                                                    2\n",
      "**A person serving in a mayoral agency in any of the following civil service titles shall be a resident of the city on the date that he or she assumes such title or shall establish City Residence within ninety days after such date and shall thereafter maintain City residency for as long as he or she serves in such title: agency heads,  including but not limited to Commissioner, First Deputy Commissioner, Executive Deputy Commissioner, Deputy Commissioner, General Counsel, Assistant Deputy Commissioner, Associate Commissioner, Assistant Commissioner.                                                                                                                                                                                                                                                     2\n",
      "New York City residency is generally required within 90 days of appointment. However, City Employees in certain titles who have worked for the City for 2 continuous years may also be eligible to reside in Nassau, Suffolk, Putnam, Westchester, Rockland, or Orange County. To determine if the residency requirement applies to you, please discuss with the agency representative at the time of interview.  PLEASE NOTE;  ******IN ORDER TO BE CONSIDERED FOR AN INTERVIEW YOU MUST HAVE FILED FOR THE WATERSHED MAINTAINER EXAM 8032***** FILING PERIOD ENDED MARCH 27TH, 2018********************                                                                                                                                                                                                                       2\n",
      "New York Residency requirement is not required for this position.  However, you must reside in New York State.                                                                                                                                                                                                                                                                                                                                                                                                                                                                                                                                                                                                                                                                                                                  2\n",
      "New York City Residency is not required for this position  NYCERS is an Equal Opportunity Employer  M/F/H/V                                                                                                                                                                                                                                                                                                                                                                                                                                                                                                                                                                                                                                                                                                                     2\n",
      "NYC RESIDENCY IS NOT REQUIRED FOR THIS TITLE.                                                                                                                                                                                                                                                                                                                                                                                                                                                                                                                                                                                                                                                                                                                                                                                   2\n",
      "Must be a resident of New York State.                                                                                                                                                                                                                                                                                                                                                                                                                                                                                                                                                                                                                                                                                                                                                                                           2\n",
      "New York City residency required within 90 days of appointment.                                                                                                                                                                                                                                                                                                                                                                                                                                                                                                                                                                                                                                                                                                                                                                 2\n",
      "NYCHA has no Residency requirements.                                                                                                                                                                                                                                                                                                                                                                                                                                                                                                                                                                                                                                                                                                                                                                                            2\n",
      "Note:  New York City Residency is not required for this position; however, you must reside in New York State.  *Funded position subject to annual renewal.                                                                                                                                                                                                                                                                                                                                                                                                                                                                                                                                                                                                                                                                      2\n",
      "New York City Residency is not required for this position.       DEP is an equal opportunity employer with a strong commitment to the diversity of our organization and workforce. Your voluntary response to the NYCAPS on-line application section for referral information will assist us tremendously in our ability to track the success of our outreach and recruitment efforts. Please be sure to indicate your source of referral to this job.                                                                                                                                                                                                                                                                                                                                                                          2\n",
      "The is no residency requirement for the position.                                                                                                                                                                                                                                                                                                                                                                                                                                                                                                                                                                                                                                                                                                                                                                               2\n",
      "NEW YORK CITY RESIDENCY IS REQUIRED WITHIN 90 DAYS OF APPOINTMENT Candidates with two (2) years of City service may reside in New York City, Nassau, Orange, Rockland, Suffolk, Putnam or Westchester counties.                                                                                                                                                                                                                                                                                                                                                                                                                                                                                                                                                                                                                 2\n",
      "NYCHA has no Residency Requirements.                                                                                                                                                                                                                                                                                                                                                                                                                                                                                                                                                                                                                                                                                                                                                                                            2\n",
      "New York City residency is generally required within 90 days of appointment. However, City Employees in certain titles who have worked for the City for 2 continuous years may also be eligible to reside in Nassau, Suffolk, Putnam, Westchester, Rockland, or Orange County. To determine if the residency requirement applies to you, please discuss with the agency representative at the time of the interview.                                                                                                                                                                                                                                                                                                                                                                                                            1\n",
      "New York City residency required within 90 days of appointment                                                                                                                                                                                                                                                                                                                                                                                                                                                                                                                                                                                                                                                                                                                                                                  1\n",
      "PLEASE NOTE: New York City residency is generally required within 90 days of appointment. However, City Employees in certain titles who have worked for the City for 2 continuous years may also be eligible to reside in Nassau, Suffolk, Putnam, Westchester, Rockland, or Orange County.                                                                                                                                                                                                                                                                                                                                                                                                                                                                                                                                     1\n",
      "New York City residency is generally required within 90 days of appointment, however, New York City residency is NOT required for this position. Candidate may reside in Nassau, Suffolk, Putnam, Westchester, Rockland, or Orange County. To determine if the residency requirement applies to you, please discuss with the agency representative at the time of interview.                                                                                                                                                                                                                                                                                                                                                                                                                                                    1\n",
      "New York City residency is generally required within 90 days of appointment. To determine if the residency requirement applies to you, please discuss with the agency representative at the time of interview.                                                                                                                                                                                                                                                                                                                                                                                                                                                                                                                                                                                                                  1\n",
      "New York City residency is not required for this position. However, you must reside in New York State                                                                                                                                                                                                                                                                                                                                                                                                                                                                                                                                                                                                                                                                                                                           1\n",
      "NYCHA has residency requirements.                                                                                                                                                                                                                                                                                                                                                                                                                                                                                                                                                                                                                                                                                                                                                                                               1\n",
      "New York City Residency is not required for this position. However, you must reside in New York State                                                                                                                                                                                                                                                                                                                                                                                                                                                                                                                                                                                                                                                                                                                           1\n",
      "The candidate selected for this position must be a resident of the City of New York or become a resident within 90 days of appointment.                                                                                                                                                                                                                                                                                                                                                                                                                                                                                                                                                                                                                                                                                         1\n",
      "New York City residency is not required for the position.                                                                                                                                                                                                                                                                                                                                                                                                                                                                                                                                                                                                                                                                                                                                                                       1\n",
      "Name: Residency Requirement, dtype: int64 \n",
      "\n",
      "Total unique values for Posting Date 469\n",
      "Value Counts for Posting Date \n",
      " 2019-11-26T00:00:00.000    49\n",
      "2019-11-01T00:00:00.000    49\n",
      "2019-12-10T00:00:00.000    46\n",
      "2019-09-30T00:00:00.000    45\n",
      "2019-11-27T00:00:00.000    45\n",
      "                           ..\n",
      "2017-02-06T00:00:00.000     1\n",
      "2017-08-15T00:00:00.000     1\n",
      "2015-10-30T00:00:00.000     1\n",
      "2019-02-15T00:00:00.000     1\n",
      "2019-11-30T00:00:00.000     1\n",
      "Name: Posting Date, Length: 468, dtype: int64 \n",
      "\n",
      "Total unique values for Posting Updated 462\n",
      "Value Counts for Posting Updated \n",
      " 2019-12-13T00:00:00.000    72\n",
      "2019-12-16T00:00:00.000    59\n",
      "2019-11-26T00:00:00.000    56\n",
      "2019-11-27T00:00:00.000    56\n",
      "2019-12-10T00:00:00.000    54\n",
      "                           ..\n",
      "2019-01-07T00:00:00.000     1\n",
      "2018-09-13T00:00:00.000     1\n",
      "2015-12-17T00:00:00.000     1\n",
      "2018-11-26T00:00:00.000     1\n",
      "2018-05-18T00:00:00.000     1\n",
      "Name: Posting Updated, Length: 461, dtype: int64 \n",
      "\n",
      "Total unique values for Process Date 2\n",
      "Value Counts for Process Date \n",
      " 2019-12-17T00:00:00.000    2352\n",
      "Name: Process Date, dtype: int64 \n",
      "\n",
      "Total unique values for FormalEducation 10\n",
      "Value Counts for FormalEducation \n",
      " Bachelor�s degree (BA, BS, B.Eng., etc.)                                              1160\n",
      "Master�s degree (MA, MS, M.Eng., MBA, etc.)                                            578\n",
      "Some college/university study without earning a degree                                 247\n",
      "Secondary school (e.g. American high school, German Realschule or Gymnasium, etc.)     143\n",
      "Associate degree                                                                        69\n",
      "Other doctoral degree (Ph.D, Ed.D., etc.)                                               62\n",
      "Professional degree (JD, MD, etc.)                                                      34\n",
      "Primary/elementary school                                                               12\n",
      "I never completed any formal education                                                   8\n",
      "Name: FormalEducation, dtype: int64 \n",
      "\n",
      "Total unique values for UndergradMajor 13\n",
      "Value Counts for UndergradMajor \n",
      " Computer science, computer engineering, or software engineering          1364\n",
      "Information systems, information technology, or system administration     193\n",
      "Another engineering discipline (ex. civil, electrical, mechanical)        161\n",
      "A natural science (ex. biology, chemistry, physics)                        93\n",
      "Mathematics or statistics                                                  65\n",
      "A business discipline (ex. accounting, finance, marketing)                 54\n",
      "Web development or web design                                              52\n",
      "A humanities discipline (ex. literature, history, philosophy)              34\n",
      "A social science (ex. anthropology, psychology, political science)         31\n",
      "Fine arts or performing arts (ex. graphic design, music, studio art)       31\n",
      "I never declared a major                                                   17\n",
      "A health science (ex. nursing, pharmacy, radiology)                         3\n",
      "Name: UndergradMajor, dtype: int64 \n",
      "\n",
      "Total unique values for CompanySize 8\n",
      "Value Counts for CompanySize \n",
      " 20 to 99 employees          576\n",
      "100 to 499 employees        462\n",
      "10,000 or more employees    308\n",
      "10 to 19 employees          260\n",
      "1,000 to 4,999 employees    258\n",
      "Fewer than 10 employees     250\n",
      "500 to 999 employees        166\n",
      "5,000 to 9,999 employees     76\n",
      "Name: CompanySize, dtype: int64 \n",
      "\n",
      "Total unique values for DevType 696\n",
      "Value Counts for DevType \n",
      " Full-stack developer                                                                                                                                                                                        183\n",
      "Back-end developer                                                                                                                                                                                          178\n",
      "Back-end developer;Front-end developer;Full-stack developer                                                                                                                                                 138\n",
      "Mobile developer                                                                                                                                                                                            112\n",
      "Back-end developer;Full-stack developer                                                                                                                                                                     100\n",
      "                                                                                                                                                                                                           ... \n",
      "Back-end developer;Database administrator;Desktop or enterprise applications developer;DevOps specialist;Front-end developer;Full-stack developer                                                             1\n",
      "Back-end developer;Database administrator;DevOps specialist;Engineering manager;Full-stack developer;System administrator                                                                                     1\n",
      "Back-end developer;C-suite executive (CEO, CTO, etc.);Data or business analyst;Database administrator;DevOps specialist;Engineering manager;Full-stack developer;System administrator                         1\n",
      "Back-end developer;Data scientist or machine learning specialist;Database administrator;Designer;Desktop or enterprise applications developer;DevOps specialist;Front-end developer;Full-stack developer      1\n",
      "Back-end developer;Data or business analyst;Desktop or enterprise applications developer;DevOps specialist;Engineering manager;Front-end developer;Full-stack developer;Product manager                       1\n",
      "Name: DevType, Length: 695, dtype: int64 \n",
      "\n",
      "Total unique values for YearsCoding 12\n",
      "Value Counts for YearsCoding \n",
      " 3-5 years           572\n",
      "6-8 years           493\n",
      "9-11 years          351\n",
      "12-14 years         219\n",
      "0-2 years           200\n",
      "15-17 years         164\n",
      "18-20 years         140\n",
      "30 or more years     82\n",
      "21-23 years          65\n",
      "24-26 years          41\n",
      "27-29 years          26\n",
      "Name: YearsCoding, dtype: int64 \n",
      "\n",
      "Total unique values for YearsCodingProf 12\n",
      "Value Counts for YearsCodingProf \n",
      " 3-5 years           636\n",
      "0-2 years           520\n",
      "6-8 years           314\n",
      "9-11 years          202\n",
      "12-14 years         115\n",
      "15-17 years          80\n",
      "18-20 years          68\n",
      "21-23 years          35\n",
      "30 or more years     34\n",
      "24-26 years          17\n",
      "27-29 years          10\n",
      "Name: YearsCodingProf, dtype: int64 \n",
      "\n",
      "Total unique values for HopeFiveYears 8\n",
      "Value Counts for HopeFiveYears \n",
      " Working in a different or more specialized technical role than the one I'm in now    678\n",
      "Working as a founder or co-founder of my own company                                 488\n",
      "Doing the same work                                                                  401\n",
      "Working as an engineering manager or other functional manager                        211\n",
      "Working as a product manager or project manager                                      129\n",
      "Working in a career completely unrelated to software development                      47\n",
      "Retirement                                                                            27\n",
      "Name: HopeFiveYears, dtype: int64 \n",
      "\n",
      "Total unique values for JobSearchStatus 4\n",
      "Value Counts for JobSearchStatus \n",
      " I�m not actively looking, but I am open to new opportunities    1225\n",
      "I am not interested in new job opportunities                     517\n",
      "I am actively looking for a job                                  262\n",
      "Name: JobSearchStatus, dtype: int64 \n",
      "\n",
      "Total unique values for LastNewJob 6\n",
      "Value Counts for LastNewJob \n",
      " Less than a year ago         723\n",
      "Between 1 and 2 years ago    466\n",
      "Between 2 and 4 years ago    410\n",
      "More than 4 years ago        394\n",
      "I've never had a job           1\n",
      "Name: LastNewJob, dtype: int64 \n",
      "\n",
      "Total unique values for UpdateCV 9\n",
      "Value Counts for UpdateCV \n",
      " My job status or other personal status changed                      656\n",
      "A recruiter contacted me                                            236\n",
      "I had a negative experience or interaction at work                  228\n",
      "A friend told me about a job opportunity                            182\n",
      "I saw an employer�s advertisement                                   151\n",
      "I did not receive an expected change in compensation                118\n",
      "I received bad news about the future of my company or department     89\n",
      "I received negative feedback on my job performance                    7\n",
      "Name: UpdateCV, dtype: int64 \n",
      "\n",
      "Total unique values for CommunicationTools 313\n",
      "Value Counts for CommunicationTools \n",
      " Office / productivity suite (Microsoft Office, Google Suite, etc.)                                                                                                                                                     110\n",
      "Slack                                                                                                                                                                                                                   93\n",
      "Confluence;Jira;Slack                                                                                                                                                                                                   66\n",
      "Other chat system (IRC, proprietary software, etc.)                                                                                                                                                                     37\n",
      "Office / productivity suite (Microsoft Office, Google Suite, etc.);Slack                                                                                                                                                36\n",
      "                                                                                                                                                                                                                      ... \n",
      "Facebook;Google Hangouts/Chat;Slack;Trello                                                                                                                                                                               1\n",
      "Google Hangouts/Chat;Jira;Office / productivity suite (Microsoft Office, Google Suite, etc.);Slack;Trello;Other chat system (IRC, proprietary software, etc.)                                                            1\n",
      "Facebook;Jira;Office / productivity suite (Microsoft Office, Google Suite, etc.);Other chat system (IRC, proprietary software, etc.);Other wiki tool (Github, Google Sites, proprietary software, etc.)                  1\n",
      "Office / productivity suite (Microsoft Office, Google Suite, etc.);Stack Overflow Enterprise;Other chat system (IRC, proprietary software, etc.);Other wiki tool (Github, Google Sites, proprietary software, etc.)      1\n",
      "Confluence;Google Hangouts/Chat;Slack;Trello;Other chat system (IRC, proprietary software, etc.);Other wiki tool (Github, Google Sites, proprietary software, etc.)                                                      1\n",
      "Name: CommunicationTools, Length: 312, dtype: int64 \n",
      "\n",
      "Total unique values for TimeFullyProductive 7\n",
      "Value Counts for TimeFullyProductive \n",
      " One to three months      729\n",
      "Less than a month        532\n",
      "Three to six months      254\n",
      "Six to nine months        91\n",
      "Nine months to a year     17\n",
      "More than a year          14\n",
      "Name: TimeFullyProductive, dtype: int64 \n",
      "\n",
      "Total unique values for EducationTypes 250\n",
      "Value Counts for EducationTypes \n",
      " Taught yourself a new language, framework, or tool without taking a formal course                                                                                                                                                                                                                                                                                                                                                        148\n",
      "Taken an online course in programming or software development (e.g. a MOOC);Taught yourself a new language, framework, or tool without taking a formal course                                                                                                                                                                                                                                                                            112\n",
      "Taught yourself a new language, framework, or tool without taking a formal course;Contributed to open source software                                                                                                                                                                                                                                                                                                                     97\n",
      "Received on-the-job training in software development;Taught yourself a new language, framework, or tool without taking a formal course                                                                                                                                                                                                                                                                                                    60\n",
      "Taken an online course in programming or software development (e.g. a MOOC);Received on-the-job training in software development;Taught yourself a new language, framework, or tool without taking a formal course                                                                                                                                                                                                                        52\n",
      "                                                                                                                                                                                                                                                                                                                                                                                                                                        ... \n",
      "Taken an online course in programming or software development (e.g. a MOOC);Taken a part-time in-person course in programming or software development;Completed an industry certification program (e.g. MCPD);Received on-the-job training in software development;Taught yourself a new language, framework, or tool without taking a formal course;Participated in online coding competitions (e.g. HackerRank, CodeChef, TopCoder)      1\n",
      "Taken a part-time in-person course in programming or software development;Taught yourself a new language, framework, or tool without taking a formal course;Participated in online coding competitions (e.g. HackerRank, CodeChef, TopCoder);Participated in a hackathon                                                                                                                                                                   1\n",
      "Taken an online course in programming or software development (e.g. a MOOC);Participated in a full-time developer training program or bootcamp;Completed an industry certification program (e.g. MCPD);Received on-the-job training in software development;Taught yourself a new language, framework, or tool without taking a formal course;Participated in a hackathon;Contributed to open source software                              1\n",
      "Taken an online course in programming or software development (e.g. a MOOC);Participated in a full-time developer training program or bootcamp;Taught yourself a new language, framework, or tool without taking a formal course;Participated in online coding competitions (e.g. HackerRank, CodeChef, TopCoder);Contributed to open source software                                                                                      1\n",
      "Completed an industry certification program (e.g. MCPD);Taught yourself a new language, framework, or tool without taking a formal course;Participated in online coding competitions (e.g. HackerRank, CodeChef, TopCoder);Contributed to open source software                                                                                                                                                                             1\n",
      "Name: EducationTypes, Length: 249, dtype: int64 \n",
      "\n",
      "Total unique values for SelfTaughtTypes 200\n",
      "Value Counts for SelfTaughtTypes \n",
      " The official documentation and/or standards for the technology;A book or e-book from O�Reilly, Apress, or a similar publisher;Questions & answers on Stack Overflow                                                                                                                                                                                                                                                                                                                                                                  97\n",
      "The official documentation and/or standards for the technology;Questions & answers on Stack Overflow;Online developer communities other than Stack Overflow (ex. forums, listservs, IRC channels, etc.)                                                                                                                                                                                                                                                                                                                              86\n",
      "The official documentation and/or standards for the technology;Questions & answers on Stack Overflow                                                                                                                                                                                                                                                                                                                                                                                                                                 84\n",
      "The official documentation and/or standards for the technology;Questions & answers on Stack Overflow;Online developer communities other than Stack Overflow (ex. forums, listservs, IRC channels, etc.);The technology�s online help system                                                                                                                                                                                                                                                                                          75\n",
      "The official documentation and/or standards for the technology;Questions & answers on Stack Overflow;The technology�s online help system                                                                                                                                                                                                                                                                                                                                                                                             70\n",
      "                                                                                                                                                                                                                                                                                                                                                                                                                                                                                                                                     ..\n",
      "A book or e-book from O�Reilly, Apress, or a similar publisher;A college/university computer science or software engineering book;Online developer communities other than Stack Overflow (ex. forums, listservs, IRC channels, etc.);Internal Wikis, chat rooms, or documentation set up by my company for employees;The technology�s online help system                                                                                                                                                                              1\n",
      "The official documentation and/or standards for the technology;Online developer communities other than Stack Overflow (ex. forums, listservs, IRC channels, etc.);Tapping your network of friends, family, and peers versed in the technology;The technology�s online help system                                                                                                                                                                                                                                                     1\n",
      "A book or e-book from O�Reilly, Apress, or a similar publisher;A college/university computer science or software engineering book;Questions & answers on Stack Overflow;Online developer communities other than Stack Overflow (ex. forums, listservs, IRC channels, etc.);Tapping your network of friends, family, and peers versed in the technology                                                                                                                                                                                1\n",
      "The official documentation and/or standards for the technology;A book or e-book from O�Reilly, Apress, or a similar publisher;Questions & answers on Stack Overflow;Internal Wikis, chat rooms, or documentation set up by my company for employees;Pre-scheduled tutoring or mentoring sessions with a friend or colleague;Tapping your network of friends, family, and peers versed in the technology                                                                                                                               1\n",
      "The official documentation and/or standards for the technology;A book or e-book from O�Reilly, Apress, or a similar publisher;A college/university computer science or software engineering book;Questions & answers on Stack Overflow;Online developer communities other than Stack Overflow (ex. forums, listservs, IRC channels, etc.);Pre-scheduled tutoring or mentoring sessions with a friend or colleague;Tapping your network of friends, family, and peers versed in the technology;The technology�s online help system     1\n",
      "Name: SelfTaughtTypes, Length: 199, dtype: int64 \n",
      "\n",
      "Total unique values for AgreeDisagree1 6\n",
      "Value Counts for AgreeDisagree1 \n",
      " Agree                         928\n",
      "Neither Agree nor Disagree    341\n",
      "Strongly agree                294\n",
      "Disagree                      101\n",
      "Strongly disagree              33\n",
      "Name: AgreeDisagree1, dtype: int64 \n",
      "\n",
      "Total unique values for AgreeDisagree2 6\n",
      "Value Counts for AgreeDisagree2 \n",
      " Neither Agree nor Disagree    471\n",
      "Agree                         459\n",
      "Disagree                      438\n",
      "Strongly disagree             206\n",
      "Strongly agree                123\n",
      "Name: AgreeDisagree2, dtype: int64 \n",
      "\n",
      "Total unique values for AgreeDisagree3 6\n",
      "Value Counts for AgreeDisagree3 \n",
      " Disagree                      595\n",
      "Neither Agree nor Disagree    410\n",
      "Strongly disagree             407\n",
      "Agree                         236\n",
      "Strongly agree                 53\n",
      "Name: AgreeDisagree3, dtype: int64 \n",
      "\n",
      "Total unique values for LanguageWorkedWith 1298\n",
      "Value Counts for LanguageWorkedWith \n",
      " C#;JavaScript;SQL;HTML;CSS                                               45\n",
      "JavaScript;PHP;SQL;HTML;CSS                                              36\n",
      "C#;JavaScript;SQL;TypeScript;HTML;CSS                                    27\n",
      "JavaScript;PHP;HTML;CSS                                                  24\n",
      "Java                                                                     23\n",
      "                                                                         ..\n",
      "Java;Python;SQL;HTML;CSS;Bash/Shell                                       1\n",
      "C#;Java;JavaScript;Objective-C;PHP;SQL;VB.NET;Visual Basic 6;HTML;CSS     1\n",
      "C;C++;JavaScript;Objective-C;PHP;Python;SQL;HTML;CSS;Bash/Shell           1\n",
      "Groovy;Java;TypeScript;Kotlin                                             1\n",
      "Assembly;PHP;Python;HTML;CSS;Bash/Shell                                   1\n",
      "Name: LanguageWorkedWith, Length: 1297, dtype: int64 \n",
      "\n",
      "Total unique values for LanguageDesireNextYear 1327\n",
      "Value Counts for LanguageDesireNextYear \n",
      " Python                                                                              22\n",
      "C#                                                                                  22\n",
      "C#;JavaScript;SQL;TypeScript;HTML;CSS                                               19\n",
      "C#;JavaScript;SQL;HTML;CSS                                                          17\n",
      "JavaScript;TypeScript;HTML;CSS                                                      15\n",
      "                                                                                    ..\n",
      "Assembly;Python                                                                      1\n",
      "C;C#;Java;JavaScript;Objective-C;PHP;Python;SQL;Swift;Kotlin;HTML;CSS;Bash/Shell     1\n",
      "JavaScript;Swift;Kotlin;HTML;Bash/Shell                                              1\n",
      "Go;PHP;Python;Rust;Scala                                                             1\n",
      "Java;JavaScript;Python;R;Scala;SQL;Bash/Shell                                        1\n",
      "Name: LanguageDesireNextYear, Length: 1326, dtype: int64 \n",
      "\n",
      "Total unique values for DatabaseWorkedWith 585\n",
      "Value Counts for DatabaseWorkedWith \n",
      " SQL Server                                                                     159\n",
      "MySQL                                                                          126\n",
      "SQL Server;MySQL                                                                72\n",
      "PostgreSQL                                                                      59\n",
      "MySQL;PostgreSQL                                                                39\n",
      "                                                                              ... \n",
      "MongoDB;PostgreSQL;Elasticsearch                                                 1\n",
      "MySQL;Amazon DynamoDB;Amazon RDS/Aurora;Elasticsearch                            1\n",
      "Cassandra;MySQL;PostgreSQL;MariaDB;Elasticsearch                                 1\n",
      "SQL Server;MySQL;SQLite;Oracle;Microsoft Azure (Tables, CosmosDB, SQL, etc)      1\n",
      "MongoDB;MySQL;Oracle;IBM Db2                                                     1\n",
      "Name: DatabaseWorkedWith, Length: 584, dtype: int64 \n",
      "\n",
      "Total unique values for DatabaseDesireNextYear 683\n",
      "Value Counts for DatabaseDesireNextYear \n",
      " SQL Server                                                                    74\n",
      "MongoDB                                                                       58\n",
      "PostgreSQL                                                                    55\n",
      "MySQL                                                                         52\n",
      "MongoDB;MySQL                                                                 24\n",
      "                                                                              ..\n",
      "Cassandra;Apache Hive                                                          1\n",
      "MySQL;PostgreSQL;MariaDB;Microsoft Azure (Tables, CosmosDB, SQL, etc)          1\n",
      "Cassandra;MongoDB;Oracle;Amazon DynamoDB;Amazon Redshift;Amazon RDS/Aurora     1\n",
      "Redis;Memcached;Elasticsearch                                                  1\n",
      "MongoDB;SQL Server;Memcached                                                   1\n",
      "Name: DatabaseDesireNextYear, Length: 682, dtype: int64 \n",
      "\n",
      "Total unique values for PlatformWorkedWith 652\n",
      "Value Counts for PlatformWorkedWith \n",
      " Windows Desktop or Server                                                                                  127\n",
      "Linux                                                                                                      110\n",
      "Linux;Windows Desktop or Server                                                                             64\n",
      "AWS                                                                                                         49\n",
      "Android                                                                                                     36\n",
      "                                                                                                          ... \n",
      "Android;AWS;Linux;Mac OS;Raspberry Pi                                                                        1\n",
      "Android;AWS;iOS;Linux;Mac OS;Raspberry Pi                                                                    1\n",
      "Android;Arduino;Azure;ESP8266;IBM Cloud or Watson;Linux;Raspberry Pi;Windows Desktop or Server;Firebase      1\n",
      "Linux;Raspberry Pi;WordPress;Firebase                                                                        1\n",
      "Android;Arduino;ESP8266;Windows Desktop or Server;WordPress                                                  1\n",
      "Name: PlatformWorkedWith, Length: 651, dtype: int64 \n",
      "\n",
      "Total unique values for PlatformDesireNextYear 788\n",
      "Value Counts for PlatformDesireNextYear \n",
      " Linux                                                                                                                                                                    89\n",
      "Windows Desktop or Server                                                                                                                                                42\n",
      "Linux;Windows Desktop or Server                                                                                                                                          37\n",
      "AWS                                                                                                                                                                      36\n",
      "Android                                                                                                                                                                  36\n",
      "                                                                                                                                                                         ..\n",
      "Android;Google Cloud Platform/App Engine;Mac OS;WordPress;Firebase                                                                                                        1\n",
      "Amazon Echo;Android;Arduino;AWS;Azure;Google Cloud Platform/App Engine;Google Home;Heroku;iOS;Linux;Mac OS;Raspberry Pi;Serverless;Windows Desktop or Server;Firebase     1\n",
      "AWS;Heroku;Linux;Mac OS;Raspberry Pi;Serverless                                                                                                                           1\n",
      "AWS;Drupal;Google Cloud Platform/App Engine;Heroku;Raspberry Pi;Windows Desktop or Server                                                                                 1\n",
      "Android;Arduino;AWS;Azure;Google Home;Linux;Serverless;Windows Desktop or Server                                                                                          1\n",
      "Name: PlatformDesireNextYear, Length: 787, dtype: int64 \n",
      "\n",
      "Total unique values for FrameworkWorkedWith 190\n",
      "Value Counts for FrameworkWorkedWith \n",
      " .NET Core                                             114\n",
      "Spring                                                 90\n",
      "Node.js                                                89\n",
      "Node.js;React                                          82\n",
      "Angular                                                76\n",
      "                                                     ... \n",
      ".NET Core;Node.js;Spark                                 1\n",
      ".NET Core;Node.js;React;Cordova;Xamarin;TensorFlow      1\n",
      "Angular;.NET Core;Xamarin;TensorFlow                    1\n",
      "Angular;.NET Core;Node.js;React;Spring                  1\n",
      "Angular;Node.js;Spring;TensorFlow                       1\n",
      "Name: FrameworkWorkedWith, Length: 189, dtype: int64 \n",
      "\n",
      "Total unique values for FrameworkDesireNextYear 321\n",
      "Value Counts for FrameworkDesireNextYear \n",
      " Node.js;React                                                        93\n",
      ".NET Core                                                            71\n",
      "Node.js                                                              59\n",
      "TensorFlow                                                           57\n",
      "React                                                                56\n",
      "                                                                     ..\n",
      "Django;Node.js;TensorFlow;Torch/PyTorch                               1\n",
      ".NET Core;Node.js;Spring                                              1\n",
      "Angular;.NET Core;Hadoop;Node.js;Spark;TensorFlow                     1\n",
      "Django;Hadoop;Node.js;React;Spark;Spring;TensorFlow;Torch/PyTorch     1\n",
      ".NET Core;Django;Node.js                                              1\n",
      "Name: FrameworkDesireNextYear, Length: 320, dtype: int64 \n",
      "\n",
      "Total unique values for IDE 730\n",
      "Value Counts for IDE \n",
      " Visual Studio;Visual Studio Code                                     65\n",
      "Notepad++;Visual Studio;Visual Studio Code                           61\n",
      "Notepad++;Visual Studio                                              58\n",
      "Visual Studio Code                                                   53\n",
      "Visual Studio                                                        52\n",
      "                                                                     ..\n",
      "Android Studio;Atom;Eclipse;IntelliJ;NetBeans;Notepad++;Vim;Xcode     1\n",
      "Android Studio;Atom;NetBeans;Notepad++;PHPStorm;Sublime Text          1\n",
      "Emacs;IPython / Jupyter;Xcode                                         1\n",
      "Emacs;RStudio;Sublime Text                                            1\n",
      "Emacs;Notepad++;PyCharm;Visual Studio                                 1\n",
      "Name: IDE, Length: 729, dtype: int64 \n",
      "\n",
      "Total unique values for OperatingSystem 5\n",
      "Value Counts for OperatingSystem \n",
      " Windows        905\n",
      "MacOS          557\n",
      "Linux-based    428\n",
      "BSD/Unix         4\n",
      "Name: OperatingSystem, dtype: int64 \n",
      "\n",
      "Total unique values for Methodology 140\n",
      "Value Counts for Methodology \n",
      " Agile;Scrum                                                                                                                                                     268\n",
      "Agile                                                                                                                                                           226\n",
      "Agile;Kanban;Scrum                                                                                                                                              163\n",
      "Agile;Kanban;Pair programming;Scrum                                                                                                                              70\n",
      "Agile;Pair programming;Scrum                                                                                                                                     66\n",
      "                                                                                                                                                               ... \n",
      "Lean;Pair programming                                                                                                                                             1\n",
      "Agile;Extreme programming (XP);Kanban;Pair programming;PRINCE2;Scrum                                                                                              1\n",
      "Agile;Formal standard such as ISO 9001 or IEEE 12207 (aka �waterfall� methodologies);Kanban;Lean                                                                  1\n",
      "Agile;Formal standard such as ISO 9001 or IEEE 12207 (aka �waterfall� methodologies);Lean;Scrum                                                                   1\n",
      "Evidence-based software engineering;Extreme programming (XP);Formal standard such as ISO 9001 or IEEE 12207 (aka �waterfall� methodologies);Pair programming      1\n",
      "Name: Methodology, Length: 139, dtype: int64 \n",
      "\n",
      "Total unique values for VersionControl 45\n",
      "Value Counts for VersionControl \n",
      " Git                                                                                                             1102\n",
      "Git;Subversion                                                                                                   180\n",
      "Git;Team Foundation Version Control                                                                              129\n",
      "Subversion                                                                                                        66\n",
      "Team Foundation Version Control                                                                                   52\n",
      "I don't use version control                                                                                       43\n",
      "Git;Mercurial                                                                                                     42\n",
      "Git;Copying and pasting files to network shares                                                                   34\n",
      "Git;Zip file back-ups                                                                                             31\n",
      "Git;Subversion;Team Foundation Version Control                                                                    26\n",
      "Git;Copying and pasting files to network shares;Zip file back-ups                                                 25\n",
      "Copying and pasting files to network shares                                                                       15\n",
      "Git;Subversion;Zip file back-ups                                                                                  14\n",
      "Zip file back-ups                                                                                                 11\n",
      "Mercurial                                                                                                          9\n",
      "Copying and pasting files to network shares;Zip file back-ups                                                      9\n",
      "Git;Subversion;Copying and pasting files to network shares                                                         8\n",
      "Git;Subversion;Copying and pasting files to network shares;Zip file back-ups                                       8\n",
      "Team Foundation Version Control;Copying and pasting files to network shares                                        8\n",
      "Git;Mercurial;Subversion                                                                                           7\n",
      "Subversion;Copying and pasting files to network shares                                                             4\n",
      "Git;Team Foundation Version Control;Copying and pasting files to network shares;Zip file back-ups                  4\n",
      "Subversion;Team Foundation Version Control                                                                         3\n",
      "Git;Mercurial;Team Foundation Version Control                                                                      3\n",
      "Copying and pasting files to network shares;I don't use version control                                            3\n",
      "Git;Team Foundation Version Control;Copying and pasting files to network shares                                    3\n",
      "Team Foundation Version Control;Copying and pasting files to network shares;Zip file back-ups                      2\n",
      "Team Foundation Version Control;Zip file back-ups                                                                  2\n",
      "Git;Subversion;Team Foundation Version Control;Copying and pasting files to network shares                         2\n",
      "Git;Team Foundation Version Control;Zip file back-ups                                                              2\n",
      "Git;Mercurial;Copying and pasting files to network shares;Zip file back-ups                                        2\n",
      "Git;Mercurial;Subversion;Copying and pasting files to network shares;Zip file back-ups                             1\n",
      "Git;Mercurial;I don't use version control                                                                          1\n",
      "Git;Mercurial;Team Foundation Version Control;Copying and pasting files to network shares;Zip file back-ups        1\n",
      "Git;Mercurial;Copying and pasting files to network shares                                                          1\n",
      "Git;Zip file back-ups;I don't use version control                                                                  1\n",
      "Subversion;Copying and pasting files to network shares;Zip file back-ups                                           1\n",
      "Subversion;Zip file back-ups                                                                                       1\n",
      "Git;Subversion;Team Foundation Version Control;Copying and pasting files to network shares;Zip file back-ups       1\n",
      "Copying and pasting files to network shares;Zip file back-ups;I don't use version control                          1\n",
      "Subversion;Team Foundation Version Control;Zip file back-ups                                                       1\n",
      "Zip file back-ups;I don't use version control                                                                      1\n",
      "Git;I don't use version control                                                                                    1\n",
      "Git;Mercurial;Subversion;Team Foundation Version Control;Zip file back-ups                                         1\n",
      "Name: VersionControl, dtype: int64 \n",
      "\n",
      "Total unique values for CheckInCode 7\n",
      "Value Counts for CheckInCode \n",
      " Multiple times per day             1184\n",
      "A few times per week                323\n",
      "Once a day                          171\n",
      "Weekly or a few times per month     107\n",
      "Less than once per month             41\n",
      "Never                                24\n",
      "Name: CheckInCode, dtype: int64 \n",
      "\n",
      "Total unique values for AIDangerous 5\n",
      "Value Counts for AIDangerous \n",
      " Algorithms making important decisions                                        483\n",
      "Artificial intelligence surpassing human intelligence (\"the singularity\")    408\n",
      "Evolving definitions of \"fairness\" in algorithmic versus human decisions     390\n",
      "Increasing automation of jobs                                                316\n",
      "Name: AIDangerous, dtype: int64 \n",
      "\n",
      "Total unique values for AIInteresting 5\n",
      "Value Counts for AIInteresting \n",
      " Increasing automation of jobs                                                698\n",
      "Artificial intelligence surpassing human intelligence (\"the singularity\")    380\n",
      "Algorithms making important decisions                                        364\n",
      "Evolving definitions of \"fairness\" in algorithmic versus human decisions     206\n",
      "Name: AIInteresting, dtype: int64 \n"
     ]
    },
    {
     "name": "stdout",
     "output_type": "stream",
     "text": [
      "\n",
      "Total unique values for AIResponsible 5\n",
      "Value Counts for AIResponsible \n",
      " The developers or the people creating the AI    798\n",
      "A governmental or other regulatory body         476\n",
      "Prominent industry leaders                      253\n",
      "Nobody                                          126\n",
      "Name: AIResponsible, dtype: int64 \n",
      "\n",
      "Total unique values for AIFuture 4\n",
      "Value Counts for AIFuture \n",
      " I'm excited about the possibilities more than worried about the dangers.        1280\n",
      "I'm worried about the dangers more than I'm excited about the possibilities.     317\n",
      "I don't care about it, or I haven't thought about it.                            153\n",
      "Name: AIFuture, dtype: int64 \n",
      "\n",
      "Total unique values for Age 7\n",
      "Value Counts for Age \n",
      " 25 - 34 years old     890\n",
      "18 - 24 years old     327\n",
      "35 - 44 years old     286\n",
      "45 - 54 years old      80\n",
      "55 - 64 years old      19\n",
      "Under 18 years old      7\n",
      "Name: Age, dtype: int64 \n",
      "\n",
      "Total unique values for term 2\n",
      "Value Counts for term \n",
      "  36 months    1638\n",
      " 60 months     718\n",
      "Name: term, dtype: int64 \n",
      "\n",
      "Total unique values for emp_length 12\n",
      "Value Counts for emp_length \n",
      " 10+ years    824\n",
      "< 1 year     212\n",
      "2 years      211\n",
      "3 years      207\n",
      "1 year       152\n",
      "5 years      142\n",
      "4 years      137\n",
      "8 years      117\n",
      "6 years       95\n",
      "7 years       79\n",
      "9 years       75\n",
      "Name: emp_length, dtype: int64 \n",
      "\n",
      "Total unique values for loan_status 6\n",
      "Value Counts for loan_status \n",
      " Fully Paid            1717\n",
      "Charged Off            370\n",
      "Current                256\n",
      "Late (31-120 days)      10\n",
      "In Grace Period          2\n",
      "Late (16-30 days)        1\n",
      "Name: loan_status, dtype: int64 \n",
      "\n",
      "Total unique values for pymnt_plan 1\n",
      "Value Counts for pymnt_plan \n",
      " n    2356\n",
      "Name: pymnt_plan, dtype: int64 \n",
      "\n",
      "Total unique values for url 2356\n",
      "Value Counts for url \n",
      " https://lendingclub.com/browse/loanDetail.action?loan_id=67999685    1\n",
      "https://lendingclub.com/browse/loanDetail.action?loan_id=67969170    1\n",
      "https://lendingclub.com/browse/loanDetail.action?loan_id=68365320    1\n",
      "https://lendingclub.com/browse/loanDetail.action?loan_id=68282543    1\n",
      "https://lendingclub.com/browse/loanDetail.action?loan_id=68566614    1\n",
      "                                                                    ..\n",
      "https://lendingclub.com/browse/loanDetail.action?loan_id=68586445    1\n",
      "https://lendingclub.com/browse/loanDetail.action?loan_id=68386156    1\n",
      "https://lendingclub.com/browse/loanDetail.action?loan_id=68465006    1\n",
      "https://lendingclub.com/browse/loanDetail.action?loan_id=68062648    1\n",
      "https://lendingclub.com/browse/loanDetail.action?loan_id=68356423    1\n",
      "Name: url, Length: 2356, dtype: int64 \n",
      "\n",
      "Total unique values for purpose 11\n",
      "Value Counts for purpose \n",
      " debt_consolidation    1378\n",
      "credit_card            568\n",
      "home_improvement       138\n",
      "other                  122\n",
      "major_purchase          43\n",
      "small_business          26\n",
      "car                     25\n",
      "medical                 17\n",
      "house                   15\n",
      "vacation                13\n",
      "moving                  11\n",
      "Name: purpose, dtype: int64 \n",
      "\n",
      "Total unique values for title 12\n",
      "Value Counts for title \n",
      " Debt consolidation         1353\n",
      "Credit card refinancing     555\n",
      "Home improvement            136\n",
      "Other                       116\n",
      "Major purchase               43\n",
      "Business                     26\n",
      "Car financing                25\n",
      "Medical expenses             17\n",
      "Home buying                  15\n",
      "Vacation                     13\n",
      "Moving and relocation        11\n",
      "Name: title, dtype: int64 \n",
      "\n",
      "Total unique values for zip_code 601\n",
      "Value Counts for zip_code \n",
      " 300xx    29\n",
      "770xx    26\n",
      "606xx    25\n",
      "945xx    23\n",
      "750xx    23\n",
      "         ..\n",
      "562xx     1\n",
      "264xx     1\n",
      "246xx     1\n",
      "645xx     1\n",
      "195xx     1\n",
      "Name: zip_code, Length: 601, dtype: int64 \n",
      "\n",
      "Total unique values for addr_state 48\n",
      "Value Counts for addr_state \n",
      " CA    278\n",
      "TX    197\n",
      "NY    184\n",
      "FL    156\n",
      "OH     92\n",
      "IL     85\n",
      "MD     83\n",
      "GA     79\n",
      "NJ     78\n",
      "PA     78\n",
      "VA     78\n",
      "MA     69\n",
      "NC     67\n",
      "MI     65\n",
      "AZ     53\n",
      "WA     51\n",
      "CO     49\n",
      "MO     47\n",
      "MN     44\n",
      "TN     43\n",
      "CT     40\n",
      "IN     38\n",
      "AL     37\n",
      "SC     32\n",
      "NV     31\n",
      "OR     30\n",
      "LA     29\n",
      "WI     25\n",
      "AR     24\n",
      "KY     23\n",
      "KS     23\n",
      "MS     16\n",
      "HI     15\n",
      "OK     15\n",
      "RI     13\n",
      "ME     11\n",
      "WV     11\n",
      "DE     10\n",
      "NM      9\n",
      "NE      9\n",
      "NH      8\n",
      "VT      8\n",
      "MT      5\n",
      "UT      5\n",
      "SD      4\n",
      "DC      4\n",
      "AK      3\n",
      "ND      2\n",
      "Name: addr_state, dtype: int64 \n",
      "\n",
      "Total unique values for earliest_cr_line 415\n",
      "Value Counts for earliest_cr_line \n",
      " Nov-99    26\n",
      "2-Sep     22\n",
      "3-Aug     22\n",
      "4-Sep     20\n",
      "2-Oct     19\n",
      "          ..\n",
      "Mar-87     1\n",
      "Sep-81     1\n",
      "Oct-83     1\n",
      "12-Sep     1\n",
      "9-Oct      1\n",
      "Name: earliest_cr_line, Length: 415, dtype: int64 \n",
      "\n",
      "Total unique values for last_pymnt_d 39\n",
      "Value Counts for last_pymnt_d \n",
      " 19-Jan    341\n",
      "19-Feb    240\n",
      "19-Mar     92\n",
      "18-Dec     91\n",
      "18-Mar     65\n",
      "17-Sep     59\n",
      "17-Mar     58\n",
      "17-Nov     57\n",
      "17-Aug     56\n",
      "17-Feb     56\n",
      "17-May     56\n",
      "17-Jan     55\n",
      "17-Apr     54\n",
      "18-Jan     54\n",
      "16-Dec     53\n",
      "18-Jul     52\n",
      "17-Jun     52\n",
      "16-Oct     50\n",
      "18-Apr     49\n",
      "17-Dec     49\n",
      "18-Feb     47\n",
      "18-May     47\n",
      "17-Oct     47\n",
      "18-Sep     46\n",
      "18-Jun     46\n",
      "17-Jul     45\n",
      "16-Jul     41\n",
      "16-Aug     41\n",
      "18-Aug     41\n",
      "18-Nov     39\n",
      "16-Nov     38\n",
      "16-Jun     37\n",
      "16-Sep     37\n",
      "18-Oct     37\n",
      "16-May     36\n",
      "16-Mar     33\n",
      "16-Apr     30\n",
      "16-Feb     22\n",
      "16-Jan      7\n",
      "Name: last_pymnt_d, dtype: int64 \n",
      "\n",
      "Total unique values for last_credit_pull_d 40\n",
      "Value Counts for last_credit_pull_d \n",
      " 19-Mar    1028\n",
      "18-Dec     191\n",
      "19-Jan     129\n",
      "19-Feb     121\n",
      "18-Jul      81\n",
      "18-Oct      60\n",
      "18-Nov      55\n",
      "18-Mar      50\n",
      "18-Sep      43\n",
      "18-Aug      42\n",
      "18-Jan      40\n",
      "17-Nov      37\n",
      "17-Oct      37\n",
      "17-Sep      35\n",
      "18-May      33\n",
      "17-Aug      33\n",
      "18-Apr      32\n",
      "17-Feb      31\n",
      "17-Jun      30\n",
      "17-Jul      27\n",
      "17-Dec      25\n",
      "17-Apr      24\n",
      "18-Feb      24\n",
      "17-Jan      19\n",
      "17-Mar      19\n",
      "17-May      19\n",
      "16-Oct      17\n",
      "16-Dec      15\n",
      "16-Jul       8\n",
      "16-Apr       7\n",
      "16-Jun       7\n",
      "18-Jun       7\n",
      "16-Jan       6\n",
      "16-Feb       6\n",
      "16-Aug       5\n",
      "16-Sep       3\n",
      "16-Nov       3\n",
      "16-May       3\n",
      "15-Dec       2\n",
      "16-Mar       2\n",
      "Name: last_credit_pull_d, dtype: int64 \n",
      "\n"
     ]
    }
   ],
   "source": [
    "for i in categorical_features.columns.to_list():\n",
    "    print(\"Total unique values for\",i,len(categorical_features[i].unique()))\n",
    "    print(\"Value Counts for\",i,'\\n',categorical_features[i].value_counts(),'\\n')"
   ]
  },
  {
   "cell_type": "markdown",
   "id": "perceived-winter",
   "metadata": {},
   "source": [
    "<h1>Before here finish the preprocessing that is after td-idf"
   ]
  },
  {
   "cell_type": "code",
   "execution_count": null,
   "id": "informed-falls",
   "metadata": {},
   "outputs": [],
   "source": []
  },
  {
   "cell_type": "code",
   "execution_count": null,
   "id": "verbal-appearance",
   "metadata": {},
   "outputs": [],
   "source": []
  },
  {
   "cell_type": "markdown",
   "id": "dutch-theory",
   "metadata": {},
   "source": [
    "<h3>We can build a quick classifier like knn and fill the missing values but Since we are having a lot of features and a lot missing values better we fill them with n/a"
   ]
  },
  {
   "cell_type": "markdown",
   "id": "corrected-tourism",
   "metadata": {},
   "source": [
    "<h3>Business Title"
   ]
  },
  {
   "cell_type": "code",
   "execution_count": 18,
   "id": "hybrid-seafood",
   "metadata": {},
   "outputs": [
    {
     "name": "stdout",
     "output_type": "stream",
     "text": [
      "84\n"
     ]
    }
   ],
   "source": [
    "df_train['Business Title']=df_train['Business Title'].str.lower()\n",
    "df_test['Business Title']=df_test['Business Title'].str.lower()\n",
    "yyyy=df_train['Business Title'].unique()\n",
    "xxx=df_test['Business Title'].unique()\n",
    "diff=[]\n",
    "a=False\n",
    "count=0\n",
    "for i in range(len(xxx)):\n",
    "    for j in range(len(yyyy)):\n",
    "        if xxx[i]==yyyy[j]:\n",
    "            a=True\n",
    "    if a==False:\n",
    "        diff.append(xxx[i])\n",
    "        count+=1\n",
    "    a=False\n",
    "print(count)    "
   ]
  },
  {
   "cell_type": "markdown",
   "id": "minimal-chemical",
   "metadata": {},
   "source": [
    "<h3>since the unique categories in train and are different we can remove those columns or else we can use Laplace smoothing or additive smoothing"
   ]
  },
  {
   "cell_type": "code",
   "execution_count": 19,
   "id": "center-leadership",
   "metadata": {},
   "outputs": [],
   "source": [
    "df_frequency_map=(((df_train['Business Title'].value_counts())+1)/(len(df_train)+len(df_train['Business Title']))).to_dict()\n",
    "df_frequency_map2=(((df_test['Business Title'].value_counts())+1)/(len(df_test)+len(df_test['Business Title']))).to_dict()\n",
    "\n",
    "df_train['Business Title'] = df_train['Business Title'].map(df_frequency_map)\n",
    "df_test['Business Title'] = df_test['Business Title'].map(df_frequency_map2)"
   ]
  },
  {
   "cell_type": "markdown",
   "id": "monetary-george",
   "metadata": {},
   "source": [
    "<h3>Civil service title"
   ]
  },
  {
   "cell_type": "code",
   "execution_count": 20,
   "id": "together-buffer",
   "metadata": {},
   "outputs": [
    {
     "name": "stdout",
     "output_type": "stream",
     "text": [
      "11\n"
     ]
    }
   ],
   "source": [
    "df_train['Civil Service Title']=df_train['Civil Service Title'].str.lower()\n",
    "df_test['Civil Service Title']=df_test['Civil Service Title'].str.lower()\n",
    "yyyy=df_train['Civil Service Title'].unique()\n",
    "xxx=df_test['Civil Service Title'].unique()\n",
    "diff=[]\n",
    "a=False\n",
    "count=0\n",
    "for i in range(len(xxx)):\n",
    "    for j in range(len(yyyy)):\n",
    "        if xxx[i]==yyyy[j]:\n",
    "            a=True\n",
    "    if a==False:\n",
    "        diff.append(xxx[i])\n",
    "        count+=1\n",
    "    a=False\n",
    "print(count)    "
   ]
  },
  {
   "cell_type": "code",
   "execution_count": 21,
   "id": "institutional-transcription",
   "metadata": {},
   "outputs": [],
   "source": [
    "df_frequency_map=(((df_train['Civil Service Title'].value_counts())+1)/(len(df_train)+len(df_train['Civil Service Title']))).to_dict()\n",
    "df_frequency_map2=(((df_test['Civil Service Title'].value_counts())+1)/(len(df_test)+len(df_test['Civil Service Title']))).to_dict()\n",
    "\n",
    "df_train['Civil Service Title'] = df_train['Civil Service Title'].map(df_frequency_map)\n",
    "df_test['Civil Service Title'] = df_test['Civil Service Title'].map(df_frequency_map2)"
   ]
  },
  {
   "cell_type": "markdown",
   "id": "durable-donor",
   "metadata": {},
   "source": [
    "<h3>Division/Work Unit"
   ]
  },
  {
   "cell_type": "code",
   "execution_count": 22,
   "id": "therapeutic-dialogue",
   "metadata": {},
   "outputs": [
    {
     "name": "stdout",
     "output_type": "stream",
     "text": [
      "42\n"
     ]
    }
   ],
   "source": [
    "df_train['Division/Work Unit']=df_train['Division/Work Unit'].str.lower()\n",
    "df_test['Division/Work Unit']=df_test['Division/Work Unit'].str.lower()\n",
    "yyyy=df_train['Division/Work Unit'].unique()\n",
    "xxx=df_test['Division/Work Unit'].unique()\n",
    "diff=[]\n",
    "a=False\n",
    "count=0\n",
    "for i in range(len(xxx)):\n",
    "    for j in range(len(yyyy)):\n",
    "        if xxx[i]==yyyy[j]:\n",
    "            a=True\n",
    "    if a==False:\n",
    "        diff.append(xxx[i])\n",
    "        count+=1\n",
    "    a=False\n",
    "print(count)    "
   ]
  },
  {
   "cell_type": "code",
   "execution_count": 23,
   "id": "illegal-future",
   "metadata": {},
   "outputs": [],
   "source": [
    "df_frequency_map=(((df_train['Division/Work Unit'].value_counts())+1)/(len(df_train)+len(df_train['Division/Work Unit']))).to_dict()\n",
    "df_frequency_map2=(((df_test['Division/Work Unit'].value_counts())+1)/(len(df_test)+len(df_test['Division/Work Unit']))).to_dict()\n",
    "\n",
    "df_train['Division/Work Unit'] = df_train['Division/Work Unit'].map(df_frequency_map)\n",
    "df_test['Division/Work Unit'] = df_test['Division/Work Unit'].map(df_frequency_map2)"
   ]
  },
  {
   "cell_type": "code",
   "execution_count": null,
   "id": "original-executive",
   "metadata": {},
   "outputs": [],
   "source": []
  },
  {
   "cell_type": "code",
   "execution_count": null,
   "id": "racial-ending",
   "metadata": {},
   "outputs": [],
   "source": []
  },
  {
   "cell_type": "markdown",
   "id": "stuck-rendering",
   "metadata": {},
   "source": [
    "<h3>Formal education,undergradmajor,companysize,yearscoding,yearscodingprof"
   ]
  },
  {
   "cell_type": "code",
   "execution_count": 24,
   "id": "incident-pencil",
   "metadata": {},
   "outputs": [],
   "source": [
    "mapper1={'Bachelor�s degree (BA, BS, B.Eng., etc.)':'BD',\n",
    "       'Master�s degree (MA, MS, M.Eng., MBA, etc.)':'MD',\n",
    "       'Some college/university study without earning a degree':'CU',\n",
    "       'Professional degree (JD, MD, etc.)':'PD',\n",
    "       'Secondary school (e.g. American high school, German Realschule or Gymnasium, etc.)':'SS',\n",
    "       'Other doctoral degree (Ph.D, Ed.D., etc.)':'DD', \n",
    "       'Associate degree':'AD', 'I never completed any formal education':'NO',\n",
    "       'Primary/elementary school':'PE'}\n",
    "df_train['FormalEducation']=df_train['FormalEducation'].map(mapper1)\n",
    "df_test['FormalEducation']=df_test['FormalEducation'].map(mapper1)\n",
    "mapper2={'Computer science, computer engineering, or software engineering':'computers',\n",
    "       'Information systems, information technology, or system administration':'IT',\n",
    "       'Another engineering discipline (ex. civil, electrical, mechanical)':'other',\n",
    "       'A social science (ex. anthropology, psychology, political science)':'social',\n",
    "       'A business discipline (ex. accounting, finance, marketing)':'business',\n",
    "       'Mathematics or statistics':'maths',\n",
    "       'A humanities discipline (ex. literature, history, philosophy)':'humanities',\n",
    "       'Fine arts or performing arts (ex. graphic design, music, studio art)':'arts',\n",
    "       'Web development or web design':'computers',\n",
    "       'A natural science (ex. biology, chemistry, physics)':'science',\n",
    "       'I never declared a major':'others',\n",
    "       'A health science (ex. nursing, pharmacy, radiology)':'science'}\n",
    "df_train['UndergradMajor']=df_train['UndergradMajor'].map(mapper2)\n",
    "df_test['UndergradMajor']=df_test['UndergradMajor'].map(mapper2)\n",
    "mapper3={'500 to 999 employees':500, '100 to 499 employees':100,\n",
    "       'Fewer than 10 employees':0, '20 to 99 employees':20,\n",
    "       '1,000 to 4,999 employees':1000, '10,000 or more employees':10000,\n",
    "       '10 to 19 employees':10, '5,000 to 9,999 employees':5000}\n",
    "df_train['CompanySize']=df_train['CompanySize'].map(mapper3)\n",
    "df_test['CompanySize']=df_test['CompanySize'].map(mapper3)\n",
    "mapper4={'6-8 years':6, '9-11 years':9, '0-2 years':0, '12-14 years':12,\n",
    "       '15-17 years':15, '3-5 years':3, '18-20 years':18, '30 or more years':30,\n",
    "       '24-26 years':24, '21-23 years':21, '27-29 years':27}\n",
    "df_train['YearsCoding']=df_train['YearsCoding'].map(mapper4)\n",
    "df_test['YearsCoding']=df_test['YearsCoding'].map(mapper4)\n",
    "mapper5={'3-5 years':3, '0-2 years':0, '6-8 years':6, '18-20 years':18,\n",
    "       '12-14 years':12,'9-11 years':9, '24-26 years':24, '15-17 years':15,\n",
    "       '30 or more years':30, '21-23 years':21, '27-29 years':27}\n",
    "df_train['YearsCodingProf']=df_train['YearsCodingProf'].map(mapper5)\n",
    "df_test['YearsCodingProf']=df_test['YearsCodingProf'].map(mapper5)\n",
    "mapper6={}"
   ]
  },
  {
   "cell_type": "code",
   "execution_count": 25,
   "id": "assisted-excellence",
   "metadata": {},
   "outputs": [],
   "source": [
    "df_train['FormalEducation'].fillna('n/a',inplace=True)\n",
    "df_train['UndergradMajor'].fillna('n/a',inplace=True)\n",
    "df_train['CompanySize'].fillna((df_train['CompanySize'].median()),inplace=True)\n",
    "df_train['YearsCoding'].fillna((df_train['YearsCoding'].median()),inplace=True)\n",
    "df_train['YearsCodingProf'].fillna((df_train['YearsCodingProf'].median()),inplace=True)\n",
    "\n",
    "df_test['FormalEducation'].fillna('n/a',inplace=True)\n",
    "df_test['UndergradMajor'].fillna('n/a',inplace=True)\n",
    "df_test['CompanySize'].fillna((df_test['CompanySize'].median()),inplace=True)\n",
    "df_test['YearsCoding'].fillna((df_test['YearsCoding'].median()),inplace=True)\n",
    "df_test['YearsCodingProf'].fillna((df_test['YearsCodingProf'].median()),inplace=True)"
   ]
  },
  {
   "cell_type": "markdown",
   "id": "interested-estimate",
   "metadata": {},
   "source": [
    "<h3>date time features"
   ]
  },
  {
   "cell_type": "code",
   "execution_count": 26,
   "id": "bound-jacksonville",
   "metadata": {},
   "outputs": [],
   "source": [
    "df_train['Posting year']=df_train['Posting Date'].dt.year\n",
    "df_train['Posting month']=df_train['Posting Date'].dt.month\n",
    "df_train['Posting day']=df_train['Posting Date'].dt.day\n",
    "df_train.drop(['Posting Date'],axis=1,inplace=True)\n",
    "\n",
    "df_train['updated year']=df_train['Posting Updated'].dt.year\n",
    "df_train['updated month']=df_train['Posting Updated'].dt.month\n",
    "df_train['updated day']=df_train['Posting Updated'].dt.day\n",
    "df_train.drop(['Posting Updated'],axis=1,inplace=True)\n",
    "\n",
    "df_train['process year']=df_train['Process Date'].dt.year\n",
    "df_train['process month']=df_train['Process Date'].dt.month\n",
    "df_train['process day']=df_train['Process Date'].dt.day\n",
    "df_train.drop(['Process Date'],axis=1,inplace=True)\n",
    "\n",
    "\n",
    "df_test['Posting year']=df_test['Posting Date'].dt.year\n",
    "df_test['Posting month']=df_test['Posting Date'].dt.month\n",
    "df_test['Posting day']=df_test['Posting Date'].dt.day\n",
    "df_test.drop(['Posting Date'],axis=1,inplace=True)\n",
    "\n",
    "df_test['updated year']=df_test['Posting Updated'].dt.year\n",
    "df_test['updated month']=df_test['Posting Updated'].dt.month\n",
    "df_test['updated day']=df_test['Posting Updated'].dt.day\n",
    "df_test.drop(['Posting Updated'],axis=1,inplace=True)\n",
    "\n",
    "df_test['process year']=df_test['Process Date'].dt.year\n",
    "df_test['process month']=df_test['Process Date'].dt.month\n",
    "df_test['process day']=df_test['Process Date'].dt.day\n",
    "df_test.drop(['Process Date'],axis=1,inplace=True)"
   ]
  },
  {
   "cell_type": "code",
   "execution_count": 27,
   "id": "hungarian-mirror",
   "metadata": {},
   "outputs": [],
   "source": [
    "df_train['Posting year'].fillna((df_train['Posting year'].median()),inplace=True)\n",
    "df_train['Posting month'].fillna((df_train['Posting month'].median()),inplace=True)\n",
    "df_train['Posting day'].fillna((df_train['Posting day'].median()),inplace=True)\n",
    "\n",
    "df_train['updated year'].fillna((df_train['updated year'].median()),inplace=True)\n",
    "df_train['updated month'].fillna((df_train['updated month'].median()),inplace=True)\n",
    "df_train['updated day'].fillna((df_train['updated day'].median()),inplace=True)\n",
    "\n",
    "df_train['process year'].fillna((df_train['process year'].median()),inplace=True)\n",
    "df_train['process month'].fillna((df_train['process month'].median()),inplace=True)\n",
    "df_train['process day'].fillna((df_train['process day'].median()),inplace=True)\n",
    "\n",
    "\n",
    "\n",
    "df_test['Posting year'].fillna((df_test['Posting year'].median()),inplace=True)\n",
    "df_test['Posting month'].fillna((df_test['Posting month'].median()),inplace=True)\n",
    "df_test['Posting day'].fillna((df_test['Posting day'].median()),inplace=True)\n",
    "\n",
    "df_test['updated year'].fillna((df_test['updated year'].median()),inplace=True)\n",
    "df_test['updated month'].fillna((df_test['updated month'].median()),inplace=True)\n",
    "df_test['updated day'].fillna((df_test['updated day'].median()),inplace=True)\n",
    "\n",
    "df_test['process year'].fillna((df_test['process year'].median()),inplace=True)\n",
    "df_test['process month'].fillna((df_test['process month'].median()),inplace=True)\n",
    "df_test['process day'].fillna((df_test['process day'].median()),inplace=True)"
   ]
  },
  {
   "cell_type": "markdown",
   "id": "conservative-gilbert",
   "metadata": {},
   "source": [
    "<h3>title,Purpose,emp_length"
   ]
  },
  {
   "cell_type": "code",
   "execution_count": 28,
   "id": "freelance-mystery",
   "metadata": {},
   "outputs": [
    {
     "data": {
      "text/plain": [
       "array(['8 years', nan, '6 years', '5 years', '2 years', '10+ years',\n",
       "       '3 years', '7 years', '1 year', '4 years', '9 years', '< 1 year'],\n",
       "      dtype=object)"
      ]
     },
     "execution_count": 28,
     "metadata": {},
     "output_type": "execute_result"
    }
   ],
   "source": [
    "df_train['title'].fillna(method='ffill',inplace=True)\n",
    "df_test['title'].fillna(method='ffill',inplace=True)\n",
    "df_train['emp_length'].unique()"
   ]
  },
  {
   "cell_type": "code",
   "execution_count": 29,
   "id": "exceptional-trial",
   "metadata": {},
   "outputs": [],
   "source": [
    "mapper7={'10+ years':10, '3 years':3, '2 years':2, '7 years':7, '4 years':4,\n",
    "       '6 years':6, '5 years':5, '< 1 year':1, '8 years':8, '1 year':1, '9 years':9}\n",
    "df_train['emp_length']=df_train['emp_length'].map(mapper7)\n",
    "df_test['emp_length']=df_test['emp_length'].map(mapper7)\n",
    "\n",
    "df_train['emp_length'].fillna((df_train['emp_length'].median()),inplace=True)\n",
    "df_test['emp_length'].fillna((df_test['emp_length'].median()),inplace=True)"
   ]
  },
  {
   "cell_type": "markdown",
   "id": "hungry-coordinate",
   "metadata": {},
   "source": [
    "<h3>zip code,last_pymnt_d,last_credit_pull_d"
   ]
  },
  {
   "cell_type": "code",
   "execution_count": 30,
   "id": "average-lightning",
   "metadata": {},
   "outputs": [],
   "source": [
    "df_train['zip_code']=df_train['zip_code'].str.split('xx').str.get(0)\n",
    "df_train['last_pymnt_d_mon']=df_train['last_pymnt_d'].str.split('-').str.get(1)\n",
    "df_train['last_pymnt_d_day']=df_train['last_pymnt_d'].str.split('-').str.get(0)\n",
    "df_train['last_credit_pull_d_day']=df_train['last_credit_pull_d'].str.split('-').str.get(0)\n",
    "df_train['last_credit_pull_d_mon']=df_train['last_credit_pull_d'].str.split('-').str.get(1)\n",
    "\n",
    "df_train.drop(['last_pymnt_d','last_credit_pull_d'],axis=1,inplace=True)"
   ]
  },
  {
   "cell_type": "code",
   "execution_count": 31,
   "id": "respected-recruitment",
   "metadata": {},
   "outputs": [],
   "source": [
    "df_test['zip_code']=df_test['zip_code'].str.split('xx').str.get(0)\n",
    "df_test['last_pymnt_d_mon']=df_test['last_pymnt_d'].str.split('-').str.get(1)\n",
    "df_test['last_pymnt_d_day']=df_test['last_pymnt_d'].str.split('-').str.get(0)\n",
    "df_test['last_credit_pull_d_day']=df_test['last_credit_pull_d'].str.split('-').str.get(0)\n",
    "df_test['last_credit_pull_d_mon']=df_test['last_credit_pull_d'].str.split('-').str.get(1)\n",
    "\n",
    "df_test.drop(['last_pymnt_d','last_credit_pull_d'],axis=1,inplace=True)"
   ]
  },
  {
   "cell_type": "markdown",
   "id": "mobile-survey",
   "metadata": {},
   "source": [
    "<h3>JobSearchStatus"
   ]
  },
  {
   "cell_type": "code",
   "execution_count": 32,
   "id": "extensive-crystal",
   "metadata": {},
   "outputs": [],
   "source": [
    "mapper8={'I am actively looking for a job':'active',\n",
    "       'I am not interested in new job opportunities':'No',\n",
    "       'I�m not actively looking, but I am open to new opportunities':'deactive'}\n",
    "df_train['JobSearchStatus']=df_train['JobSearchStatus'].map(mapper8)\n",
    "df_test['JobSearchStatus']=df_test['JobSearchStatus'].map(mapper8)\n",
    "\n",
    "df_train['JobSearchStatus'].fillna(method='ffill',inplace=True)\n",
    "df_test['JobSearchStatus'].fillna(method='ffill',inplace=True)"
   ]
  },
  {
   "cell_type": "markdown",
   "id": "quantitative-polyester",
   "metadata": {},
   "source": [
    "<h3>'LastNewJob'"
   ]
  },
  {
   "cell_type": "code",
   "execution_count": 33,
   "id": "compact-explorer",
   "metadata": {},
   "outputs": [
    {
     "data": {
      "text/plain": [
       "array(['Between 1 and 2 years ago', 'Less than a year ago',\n",
       "       'More than 4 years ago', 'Between 2 and 4 years ago', nan,\n",
       "       \"I've never had a job\"], dtype=object)"
      ]
     },
     "execution_count": 33,
     "metadata": {},
     "output_type": "execute_result"
    }
   ],
   "source": [
    "df_train['LastNewJob'].unique()"
   ]
  },
  {
   "cell_type": "code",
   "execution_count": 34,
   "id": "radio-solomon",
   "metadata": {},
   "outputs": [],
   "source": [
    "mapper9={'Between 1 and 2 years ago':1, 'Less than a year ago':0.5,\n",
    "       'More than 4 years ago':4, 'Between 2 and 4 years ago':2,\n",
    "       \"I've never had a job\":0}\n",
    "df_train['LastNewJob']=df_train['LastNewJob'].map(mapper9)\n",
    "df_test['LastNewJob']=df_test['LastNewJob'].map(mapper9)\n",
    "df_train['LastNewJob'].fillna((df_train['LastNewJob'].median()),inplace=True)\n",
    "df_test['LastNewJob'].fillna((df_test['LastNewJob'].median()),inplace=True)"
   ]
  },
  {
   "cell_type": "markdown",
   "id": "rational-handbook",
   "metadata": {},
   "source": [
    "<h3>CommunicationTools"
   ]
  },
  {
   "cell_type": "code",
   "execution_count": 35,
   "id": "objective-newport",
   "metadata": {},
   "outputs": [
    {
     "data": {
      "text/plain": [
       "11"
      ]
     },
     "execution_count": 35,
     "metadata": {},
     "output_type": "execute_result"
    }
   ],
   "source": [
    "df_train['CommunicationTools']=df_train['CommunicationTools'].str.split('/').str.get(0)\n",
    "df_train['CommunicationTools']=df_train['CommunicationTools'].str.split(';').str.get(0)\n",
    "df_train['CommunicationTools'].nunique()"
   ]
  },
  {
   "cell_type": "code",
   "execution_count": 36,
   "id": "interim-shark",
   "metadata": {},
   "outputs": [
    {
     "data": {
      "text/plain": [
       "11"
      ]
     },
     "execution_count": 36,
     "metadata": {},
     "output_type": "execute_result"
    }
   ],
   "source": [
    "df_test['CommunicationTools']=df_test['CommunicationTools'].str.split('/').str.get(0)\n",
    "df_test['CommunicationTools']=df_test['CommunicationTools'].str.split(';').str.get(0)\n",
    "df_test['CommunicationTools'].nunique()"
   ]
  },
  {
   "cell_type": "code",
   "execution_count": 37,
   "id": "supposed-summit",
   "metadata": {},
   "outputs": [
    {
     "data": {
      "text/plain": [
       "array([nan, 'Confluence', 'Google Hangouts', 'Jira', 'Facebook', 'Slack',\n",
       "       'Office ',\n",
       "       'Other wiki tool (Github, Google Sites, proprietary software, etc.)',\n",
       "       'HipChat', 'Trello',\n",
       "       'Other chat system (IRC, proprietary software, etc.)',\n",
       "       'Stack Overflow Enterprise'], dtype=object)"
      ]
     },
     "execution_count": 37,
     "metadata": {},
     "output_type": "execute_result"
    }
   ],
   "source": [
    "df_train['CommunicationTools'].fillna(method='ffill',inplace=True)\n",
    "df_test['CommunicationTools'].fillna(method='ffill',inplace=True)\n",
    "\n",
    "df_train['CommunicationTools'].unique()"
   ]
  },
  {
   "cell_type": "markdown",
   "id": "mobile-double",
   "metadata": {},
   "source": [
    "<h3>TimeFullyProductive"
   ]
  },
  {
   "cell_type": "code",
   "execution_count": 38,
   "id": "abroad-blake",
   "metadata": {},
   "outputs": [
    {
     "data": {
      "text/plain": [
       "array(['One to three months', 'Less than a month', nan,\n",
       "       'Six to nine months', 'Three to six months', 'More than a year',\n",
       "       'Nine months to a year'], dtype=object)"
      ]
     },
     "execution_count": 38,
     "metadata": {},
     "output_type": "execute_result"
    }
   ],
   "source": [
    "df_train['TimeFullyProductive'].unique()"
   ]
  },
  {
   "cell_type": "code",
   "execution_count": 39,
   "id": "atmospheric-skill",
   "metadata": {},
   "outputs": [],
   "source": [
    "mapper10={'One to three months':1, 'Less than a month':0, 'Three to six months':3,\n",
    "        'Six to nine months':6, 'More than a year':12,\n",
    "       'Nine months to a year':9}\n",
    "df_train['TimeFullyProductive']=df_train['TimeFullyProductive'].map(mapper10)\n",
    "df_test['TimeFullyProductive']=df_test['TimeFullyProductive'].map(mapper10)\n",
    "df_train['TimeFullyProductive'].fillna((df_train['TimeFullyProductive'].median()),inplace=True)\n",
    "df_test['TimeFullyProductive'].fillna((df_train['TimeFullyProductive'].median()),inplace=True)"
   ]
  },
  {
   "cell_type": "markdown",
   "id": "quiet-assets",
   "metadata": {},
   "source": [
    "<h3>AgreeDisagree1,2,3"
   ]
  },
  {
   "cell_type": "code",
   "execution_count": 40,
   "id": "mathematical-spray",
   "metadata": {},
   "outputs": [],
   "source": [
    "df_train['AgreeDisagree1'].fillna(method='ffill',inplace=True)\n",
    "df_train['AgreeDisagree2'].fillna(method='ffill',inplace=True)\n",
    "df_train['AgreeDisagree3'].fillna(method='ffill',inplace=True)\n",
    "\n",
    "df_test['AgreeDisagree1'].fillna(method='ffill',inplace=True)\n",
    "df_test['AgreeDisagree2'].fillna(method='ffill',inplace=True)\n",
    "df_test['AgreeDisagree3'].fillna(method='ffill',inplace=True)"
   ]
  },
  {
   "cell_type": "markdown",
   "id": "coupled-receptor",
   "metadata": {},
   "source": [
    "<h3>LanguageWorkedWith"
   ]
  },
  {
   "cell_type": "code",
   "execution_count": 41,
   "id": "binary-horse",
   "metadata": {},
   "outputs": [],
   "source": [
    "df_frequency_map=(((df_train['LanguageWorkedWith'].value_counts())+1)/(len(df_train)+len(df_train['LanguageWorkedWith']))).to_dict()\n",
    "df_frequency_map2=(((df_test['LanguageWorkedWith'].value_counts())+1)/(len(df_test)+len(df_test['LanguageWorkedWith']))).to_dict()\n",
    "\n",
    "df_train['LanguageWorkedWith'] = df_train['LanguageWorkedWith'].map(df_frequency_map)\n",
    "df_test['LanguageWorkedWith'] = df_test['LanguageWorkedWith'].map(df_frequency_map2)\n",
    "\n",
    "df_train['LanguageWorkedWith'].fillna(method='ffill',inplace=True)\n",
    "df_test['LanguageWorkedWith'].fillna(method='ffill',inplace=True)"
   ]
  },
  {
   "cell_type": "markdown",
   "id": "alternative-ability",
   "metadata": {},
   "source": [
    "<h3>LanguageDesireNextYear"
   ]
  },
  {
   "cell_type": "code",
   "execution_count": 42,
   "id": "constant-coverage",
   "metadata": {},
   "outputs": [],
   "source": [
    "df_train['LanguageDesireNextYear'].fillna(method='ffill',inplace=True)\n",
    "df_test['LanguageDesireNextYear'].fillna(method='ffill',inplace=True)\n",
    "\n",
    "df_frequency_map=(((df_train['LanguageDesireNextYear'].value_counts())+1)/(len(df_train)+len(df_train['LanguageDesireNextYear']))).to_dict()\n",
    "df_frequency_map2=(((df_test['LanguageDesireNextYear'].value_counts())+1)/(len(df_test)+len(df_test['LanguageDesireNextYear']))).to_dict()\n",
    "\n",
    "df_train['LanguageDesireNextYear'] = df_train['LanguageDesireNextYear'].map(df_frequency_map)\n",
    "df_test['LanguageDesireNextYear'] = df_test['LanguageDesireNextYear'].map(df_frequency_map2)"
   ]
  },
  {
   "cell_type": "markdown",
   "id": "color-oregon",
   "metadata": {},
   "source": [
    "<h3>DatabaseWorkedWith"
   ]
  },
  {
   "cell_type": "code",
   "execution_count": 43,
   "id": "finished-relaxation",
   "metadata": {},
   "outputs": [],
   "source": [
    "df_train['DatabaseWorkedWith'].fillna(method='ffill',inplace=True)\n",
    "df_test['DatabaseWorkedWith'].fillna(method='ffill',inplace=True)\n",
    "\n",
    "df_frequency_map=(((df_train['DatabaseWorkedWith'].value_counts())+1)/(len(df_train)+len(df_train['DatabaseWorkedWith']))).to_dict()\n",
    "df_frequency_map2=(((df_test['DatabaseWorkedWith'].value_counts())+1)/(len(df_test)+len(df_test['DatabaseWorkedWith']))).to_dict()\n",
    "\n",
    "df_train['DatabaseWorkedWith'] = df_train['DatabaseWorkedWith'].map(df_frequency_map)\n",
    "df_test['DatabaseWorkedWith'] = df_test['DatabaseWorkedWith'].map(df_frequency_map2)"
   ]
  },
  {
   "cell_type": "markdown",
   "id": "deluxe-queen",
   "metadata": {},
   "source": [
    "<h3>DatabaseDesireNextYear"
   ]
  },
  {
   "cell_type": "code",
   "execution_count": 44,
   "id": "incorporate-cabinet",
   "metadata": {},
   "outputs": [],
   "source": [
    "df_train['DatabaseDesireNextYear'].fillna(method='ffill',inplace=True)\n",
    "df_test['DatabaseDesireNextYear'].fillna(method='ffill',inplace=True)\n",
    "\n",
    "df_frequency_map=(((df_train['DatabaseDesireNextYear'].value_counts())+1)/(len(df_train)+len(df_train['DatabaseDesireNextYear']))).to_dict()\n",
    "df_frequency_map2=(((df_test['DatabaseDesireNextYear'].value_counts())+1)/(len(df_test)+len(df_test['DatabaseDesireNextYear']))).to_dict()\n",
    "\n",
    "df_train['DatabaseDesireNextYear'] = df_train['DatabaseDesireNextYear'].map(df_frequency_map)\n",
    "df_test['DatabaseDesireNextYear'] = df_test['DatabaseDesireNextYear'].map(df_frequency_map2)"
   ]
  },
  {
   "cell_type": "markdown",
   "id": "quiet-junction",
   "metadata": {},
   "source": [
    "<h3>PlatformWorkedWith"
   ]
  },
  {
   "cell_type": "code",
   "execution_count": 45,
   "id": "continuing-banking",
   "metadata": {},
   "outputs": [],
   "source": [
    "df_train['PlatformWorkedWith'].fillna(method='ffill',inplace=True)\n",
    "df_test['PlatformWorkedWith'].fillna(method='ffill',inplace=True)\n",
    "\n",
    "df_frequency_map=(((df_train['PlatformWorkedWith'].value_counts())+1)/(len(df_train)+len(df_train['PlatformWorkedWith']))).to_dict()\n",
    "df_frequency_map2=(((df_test['PlatformWorkedWith'].value_counts())+1)/(len(df_test)+len(df_test['PlatformWorkedWith']))).to_dict()\n",
    "\n",
    "df_train['PlatformWorkedWith'] = df_train['PlatformWorkedWith'].map(df_frequency_map)\n",
    "df_test['PlatformWorkedWith'] = df_test['PlatformWorkedWith'].map(df_frequency_map2)"
   ]
  },
  {
   "cell_type": "markdown",
   "id": "incorrect-manor",
   "metadata": {},
   "source": [
    "<h3>PlatformDesireNextYear"
   ]
  },
  {
   "cell_type": "code",
   "execution_count": 46,
   "id": "alpine-toddler",
   "metadata": {},
   "outputs": [],
   "source": [
    "df_train['PlatformDesireNextYear'].fillna(method='ffill',inplace=True)\n",
    "df_test['PlatformDesireNextYear'].fillna(method='ffill',inplace=True)\n",
    "\n",
    "df_frequency_map=(((df_train['PlatformDesireNextYear'].value_counts())+1)/(len(df_train)+len(df_train['PlatformDesireNextYear']))).to_dict()\n",
    "df_frequency_map2=(((df_test['PlatformDesireNextYear'].value_counts())+1)/(len(df_test)+len(df_test['PlatformDesireNextYear']))).to_dict()\n",
    "\n",
    "df_train['PlatformDesireNextYear'] = df_train['PlatformDesireNextYear'].map(df_frequency_map)\n",
    "df_test['PlatformDesireNextYear'] = df_test['PlatformDesireNextYear'].map(df_frequency_map2)"
   ]
  },
  {
   "cell_type": "markdown",
   "id": "unsigned-sewing",
   "metadata": {},
   "source": [
    "<h3>FrameworkWorkedWith"
   ]
  },
  {
   "cell_type": "code",
   "execution_count": 47,
   "id": "defined-article",
   "metadata": {},
   "outputs": [
    {
     "data": {
      "text/plain": [
       "189"
      ]
     },
     "execution_count": 47,
     "metadata": {},
     "output_type": "execute_result"
    }
   ],
   "source": [
    "df_train['FrameworkWorkedWith'].nunique()"
   ]
  },
  {
   "cell_type": "code",
   "execution_count": 48,
   "id": "negative-accuracy",
   "metadata": {},
   "outputs": [],
   "source": [
    "mapper11={'Angular;Node.js;Spring':'web', 'TensorFlow':'ML', 'Node.js;React':'web',\n",
    "       '.NET Core;Node.js;Xamarin':'web',\n",
    "       'Angular;.NET Core;Django;Node.js;React;TensorFlow':'web and ML', 'Django':'web',\n",
    "       'Hadoop;Spring':'big data', 'Angular;Node.js':'web', 'Angular':'web',\n",
    "       'Angular;Node.js;React':'web', 'Spring':'web', 'Angular;Spark;Cordova':'web',\n",
    "       '.NET Core':'web', 'Node.js;Spring':'web', 'Angular;.NET Core;Node.js':'web',\n",
    "       '.NET Core;Spring':'web', 'Node.js;React;TensorFlow':'web and ML',\n",
    "       'Django;Node.js;React;Cordova':'web', 'Node.js':'web', 'Django;Node.js':'web',\n",
    "       'React':'web', 'Angular;Node.js;React;Spark;TensorFlow':'web and ML', 'Cordova':'web',\n",
    "       'Angular;Node.js;Cordova':'web', '.NET Core;React;Spring':'web',\n",
    "       '.NET Core;Node.js':'web', 'Xamarin':'web',\n",
    "       'Angular;Node.js;Cordova;TensorFlow;Torch/PyTorch':'web and ML', 'Django;React':'web',\n",
    "       'Angular;Node.js;React;Cordova;Spring':'web', 'Angular;.NET Core;Spring':'web',\n",
    "       'Spark;TensorFlow;Torch/PyTorch':'data science', '.NET Core;Xamarin':'web',\n",
    "       'Angular;Django;Node.js;TensorFlow':'web and ML',\n",
    "       'Angular;React;Cordova;Xamarin;Spring':'web', '.NET Core;Node.js;React':'web',\n",
    "       'Django;TensorFlow':'web and ML', '.NET Core;TensorFlow':'web and ML', 'Angular;Spring':'web',\n",
    "       'Angular;Django;Node.js;React;TensorFlow':'web and ML', 'Django;Node.js;React':'web',\n",
    "       'Angular;.NET Core;Node.js;TensorFlow':'web and ML',\n",
    "       'Angular;.NET Core;Node.js;Spark;Cordova;Spring':'web and bgi data', 'Angular;React':'web',\n",
    "       'Angular;.NET Core':'web', 'Hadoop':'big data', 'Node.js;Cordova;Spring':'web',\n",
    "       'Angular;.NET Core;Django;Node.js;React;Spring;TensorFlow':'web and ML',\n",
    "       'Node.js;Cordova;Xamarin':'web', 'Angular;Django;Xamarin':'web',\n",
    "       '.NET Core;React':'web', 'Cordova;Xamarin':'web',\n",
    "       'Angular;.NET Core;Node.js;React;Xamarin':'web',\n",
    "       '.NET Core;Node.js;React;Spark':'web and big data', 'Hadoop;Node.js;React;Spark':'web and big data',\n",
    "       'Spark;Spring':'web and big data', 'Angular;Cordova':'web', 'Xamarin;Spring':'web',\n",
    "       'Angular;.NET Core;Node.js;React':'web', 'Angular;Node.js;React;Spring':'web',\n",
    "       'Spark':'big data', 'Angular;.NET Core;Node.js;Xamarin':'web', 'Hadoop;React;Spark':'web and big data',\n",
    "       'Django;Node.js;Spark':'web and big data', 'Hadoop;Spark':'big data',\n",
    "       'Angular;Node.js;React;Cordova':'web and big data', 'Angular;Node.js;Cordova;Spring':'web',\n",
    "       'Django;Hadoop;TensorFlow;Torch/PyTorch':'full', 'Angular;Xamarin':'web',\n",
    "       'Node.js;React;Cordova':'web', 'Angular;Django;Spring':'web',\n",
    "       'Hadoop;Spark;TensorFlow;Torch/PyTorch':'ML and big data',\n",
    "       'Angular;Django;Node.js;React':'web', '.NET Core;Hadoop':'web and big data',\n",
    "       'Angular;Node.js;TensorFlow':'web and ML', 'Angular;.NET Core;Node.js;Spring':'web',\n",
    "       '.NET Core;Node.js;React;Xamarin':'web', 'Node.js;TensorFlow':'web and ML',\n",
    "       'Angular;Node.js;Spring;TensorFlow':'web and ML', 'Angular;Node.js;Xamarin':'web',\n",
    "       'Angular;.NET Core;Node.js;React;Cordova':'web', 'Angular;Django':'web',\n",
    "       'Angular;.NET Core;Node.js;React;Spring':'web', 'Angular;Django;Node.js':'web',\n",
    "       'Angular;.NET Core;Django;Node.js;Xamarin;Spring;TensorFlow;Torch/PyTorch':'web and ML',\n",
    "       'Angular;Spark;TensorFlow':'full',\n",
    "       'Angular;Hadoop;Node.js;Xamarin;Spring;TensorFlow':'full',\n",
    "       'Angular;.NET Core;React':'web', 'Angular;Node.js;React;Spark;Spring':'web and big data',\n",
    "       'Node.js;React;Spring':'web', 'Angular;.NET Core;Node.js;Cordova':'web',\n",
    "       'Angular;.NET Core;Django;Node.js;React':'web', 'Torch/PyTorch':'ML',\n",
    "       'Angular;Django;Node.js;React;Cordova':'web', 'Node.js;Cordova':'web',\n",
    "       'Node.js;React;Cordova;Spring':'web',\n",
    "       'Angular;.NET Core;Node.js;Spring;TensorFlow':'web and ML',\n",
    "       'Hadoop;Node.js;React;Spring;TensorFlow':'full', 'Angular;Node.js;Spark':'web and big data',\n",
    "       '.NET Core;Django;Node.js':'web', 'Angular;Hadoop;Node.js;React':'web and big data',\n",
    "       'React;Spring':'web', 'Angular;Node.js;React;Xamarin':'web',\n",
    "       'Hadoop;Node.js;Spark;Spring':'web and big data', 'Angular;Hadoop;Node.js;Cordova':'web and big data',\n",
    "       'Django;TensorFlow;Torch/PyTorch':'web and ML', '.NET Core;Xamarin;TensorFlow':'web and ML',\n",
    "       'React;Cordova':'web', 'Node.js;Xamarin':'web', '.NET Core;Hadoop;Xamarin':'web and big data',\n",
    "       'React;Xamarin;Spring':'web', 'Django;React;TensorFlow':'web and ML',\n",
    "       'Angular;.NET Core;Node.js;React;Xamarin;TensorFlow':'web and ML',\n",
    "       'Angular;Django;Cordova;TensorFlow':'web and ML',\n",
    "       'Angular;.NET Core;Xamarin;TensorFlow':'web and ML',\n",
    "       'Angular;Spring;TensorFlow':'web and ML', 'Angular;React;Spring':'web',\n",
    "       'Angular;Django;Hadoop;Node.js;React;Spark':'web and big data', 'React;TensorFlow':'web and ML',\n",
    "       'Angular;Hadoop;Spring':'web and big data', 'TensorFlow;Torch/PyTorch':'ML',\n",
    "       'Django;Hadoop':'web and big data', '.NET Core;Django':'web',\n",
    "       'Angular;Hadoop;Node.js;Spark;Xamarin':'web and big data', 'Angular;Django;React':'web',\n",
    "       'Angular;.NET Core;Cordova':'web',\n",
    "       'Angular;.NET Core;Django;Node.js;Cordova;Spring':'web',\n",
    "       'Angular;.NET Core;Node.js;Cordova;TensorFlow':'wen and ML',\n",
    "       'Angular;.NET Core;Django;Node.js;Xamarin':'web',\n",
    "       'Angular;.NET Core;Node.js;React;Cordova;Xamarin;TensorFlow':'web and ML',\n",
    "       '.NET Core;Node.js;Spark':'web and big data',\n",
    "       'Angular;Hadoop;Node.js;React;Spark;Cordova;Spring':'web and big data',\n",
    "       '.NET Core;Hadoop;Spark':'web and big data', 'Spark;TensorFlow':'ML and big data', 'Node.js;Spark':'web and big data',\n",
    "       'Node.js;React;Xamarin':'web', 'Django;Spark':'web and big data',\n",
    "       'Angular;Node.js;React;TensorFlow':'web and ML',\n",
    "       '.NET Core;Node.js;Cordova;TensorFlow':'web and ML', '.NET Core;Django;Spring':'web and ML',\n",
    "       'Django;Hadoop;Cordova':'web and big data',\n",
    "       'Angular;.NET Core;Django;React;Spark;Cordova':'web and big data',\n",
    "       'Angular;Hadoop;Spark':'web and big data', 'Django;React;Spark':'web and big data',\n",
    "       'Angular;.NET Core;React;Cordova':'web', 'Django;Spring':'web',\n",
    "       'Angular;Django;Cordova;TensorFlow;Torch/PyTorch':'web and ML',\n",
    "       'Angular;Cordova;Xamarin':'web',\n",
    "       'Angular;Node.js;React;Spring;TensorFlow':'web and ML',\n",
    "       '.NET Core;Django;React;Xamarin;TensorFlow':'web and ML',\n",
    "       'React;Spark;TensorFlow':'full',\n",
    "       '.NET Core;Node.js;Xamarin;TensorFlow;Torch/PyTorch':'web and ML',\n",
    "       'Django;Hadoop;Spark':'web and big data',\n",
    "       'Angular;.NET Core;Node.js;React;Cordova;Xamarin':'web',\n",
    "       '.NET Core;Hadoop;TensorFlow':'full', 'Angular;.NET Core;Django':'web',\n",
    "       'Angular;Node.js;Cordova;TensorFlow':'web and ML',\n",
    "       'Angular;Spark;Spring;TensorFlow':'full', 'Angular;.NET Core;Xamarin':'web',\n",
    "       'Angular;Cordova;Spring':'web', 'Angular;Django;React;Cordova':'web',\n",
    "       'Angular;.NET Core;Node.js;Cordova;Xamarin':'web',\n",
    "       '.NET Core;Django;Spark':'web and big data', 'Hadoop;Spark;TensorFlow':'ML and big data',\n",
    "       'Django;Node.js;Spark;Cordova':'web and big data', 'Django;Spring;TensorFlow':'web and ML',\n",
    "       'Hadoop;Spark;Torch/PyTorch':'ML aand big data', '.NET Core;Node.js;Cordova':'web',\n",
    "       '.NET Core;Django;Node.js;Torch/PyTorch':'web and ML',\n",
    "       'Angular;Node.js;Spring;TensorFlow;Torch/PyTorch':'web and ML',\n",
    "       'Hadoop;Spark;Spring;TensorFlow':'ML and big data', 'Angular;Hadoop;Spark;Spring':'web and big data',\n",
    "       'Hadoop;Spark;Spring':'web and big data', 'Angular;Node.js;Spark;Spring':'web and big data',\n",
    "       'Angular;React;Cordova':'web', 'Angular;Spark;Spring':'web and big data',\n",
    "       'Angular;.NET Core;Hadoop;Node.js;Spark;Xamarin':'web and big data',\n",
    "       'Angular;Xamarin;Spring':'web', 'React;Cordova;Xamarin':'web',\n",
    "       '.NET Core;Hadoop;Node.js;React':'web and big data',\n",
    "       'Node.js;React;Spring;TensorFlow':'web and ML', 'Angular;Spark':'web and big data',\n",
    "       'Angular;Node.js;Cordova;Xamarin;Spring':'web',\n",
    "       '.NET Core;Node.js;React;Cordova;Xamarin;TensorFlow':'web and ML',\n",
    "       'Angular;Node.js;React;Spark':'web and big data',\n",
    "       'Angular;.NET Core;Hadoop;Node.js;React;Spark;Spring':'web and big data',\n",
    "       'Angular;Hadoop;Node.js;Spark;TensorFlow;Torch/PyTorch':'full',\n",
    "       'Django;Xamarin':'web', '.NET Core;Hadoop;Spark;Spring':'web and big data',\n",
    "       '.NET Core;Node.js;React;Cordova;Xamarin':'web'}\n",
    "df_train['FrameworkWorkedWith']=df_train['FrameworkWorkedWith'].map(mapper11)\n",
    "df_test['FrameworkWorkedWith']=df_test['FrameworkWorkedWith'].map(mapper11)\n"
   ]
  },
  {
   "cell_type": "code",
   "execution_count": 49,
   "id": "pressing-vancouver",
   "metadata": {},
   "outputs": [],
   "source": [
    "df_train['FrameworkWorkedWith'].fillna(method='ffill',inplace=True)\n",
    "df_test['FrameworkWorkedWith'].fillna(method='ffill',inplace=True)"
   ]
  },
  {
   "cell_type": "markdown",
   "id": "large-organization",
   "metadata": {},
   "source": [
    "<H3>FrameworkDesireNextYear"
   ]
  },
  {
   "cell_type": "code",
   "execution_count": 50,
   "id": "earned-duncan",
   "metadata": {},
   "outputs": [],
   "source": [
    "df_train['FrameworkDesireNextYear'].fillna(method='ffill',inplace=True)\n",
    "df_test['FrameworkDesireNextYear'].fillna(method='ffill',inplace=True)\n",
    "\n",
    "df_frequency_map=(((df_train['FrameworkDesireNextYear'].value_counts())+1)/(len(df_train)+len(df_train['FrameworkDesireNextYear']))).to_dict()\n",
    "df_frequency_map2=(((df_test['FrameworkDesireNextYear'].value_counts())+1)/(len(df_test)+len(df_test['FrameworkDesireNextYear']))).to_dict()\n",
    "\n",
    "df_train['FrameworkDesireNextYear'] = df_train['FrameworkDesireNextYear'].map(df_frequency_map)\n",
    "df_test['FrameworkDesireNextYear'] = df_test['FrameworkDesireNextYear'].map(df_frequency_map2)"
   ]
  },
  {
   "cell_type": "markdown",
   "id": "binding-contribution",
   "metadata": {},
   "source": [
    "<h3>IDE"
   ]
  },
  {
   "cell_type": "code",
   "execution_count": 51,
   "id": "coral-distinction",
   "metadata": {},
   "outputs": [],
   "source": [
    "df_train['IDE'].fillna(method='ffill',inplace=True)\n",
    "df_test['IDE'].fillna(method='ffill',inplace=True)\n",
    "\n",
    "df_frequency_map=(((df_train['IDE'].value_counts())+1)/(len(df_train)+len(df_train['IDE']))).to_dict()\n",
    "df_frequency_map2=(((df_test['IDE'].value_counts())+1)/(len(df_test)+len(df_test['IDE']))).to_dict()\n",
    "\n",
    "df_train['IDE'] = df_train['IDE'].map(df_frequency_map)\n",
    "df_test['IDE'] = df_test['IDE'].map(df_frequency_map2)"
   ]
  },
  {
   "cell_type": "markdown",
   "id": "burning-lexington",
   "metadata": {},
   "source": [
    "<h3>OperatingSystem"
   ]
  },
  {
   "cell_type": "code",
   "execution_count": 52,
   "id": "certain-reproduction",
   "metadata": {},
   "outputs": [],
   "source": [
    "df_train['OperatingSystem'].fillna(method='ffill',inplace=True)\n",
    "#df_train['OperatingSystem'].unique()\n",
    "\n",
    "df_test['OperatingSystem'].fillna(method='ffill',inplace=True)"
   ]
  },
  {
   "cell_type": "markdown",
   "id": "crude-indian",
   "metadata": {},
   "source": [
    "<h3>VersionControl"
   ]
  },
  {
   "cell_type": "code",
   "execution_count": 53,
   "id": "outdoor-balloon",
   "metadata": {},
   "outputs": [],
   "source": [
    "df_train['VersionControl']=df_train['VersionControl'].str.split(';').str.get(0)\n",
    "df_train['VersionControl'].fillna(method='ffill',inplace=True)\n",
    "\n",
    "df_test['VersionControl']=df_test['VersionControl'].str.split(';').str.get(0)\n",
    "df_test['VersionControl'].fillna(method='ffill',inplace=True)"
   ]
  },
  {
   "cell_type": "markdown",
   "id": "stupid-exposure",
   "metadata": {},
   "source": [
    "<h3>CheckInCode"
   ]
  },
  {
   "cell_type": "code",
   "execution_count": 54,
   "id": "subtle-crystal",
   "metadata": {},
   "outputs": [],
   "source": [
    "df_train['CheckInCode'].unique()\n",
    "df_train['CheckInCode'].fillna(method='ffill',inplace=True)\n",
    "df_test['CheckInCode'].fillna(method='ffill',inplace=True)"
   ]
  },
  {
   "cell_type": "markdown",
   "id": "dimensional-association",
   "metadata": {},
   "source": [
    "<H3>AIDangerous"
   ]
  },
  {
   "cell_type": "code",
   "execution_count": 55,
   "id": "polyphonic-might",
   "metadata": {},
   "outputs": [],
   "source": [
    "df_train['AIDangerous'].fillna(method='ffill',inplace=True)\n",
    "df_test['AIDangerous'].fillna(method='ffill',inplace=True)"
   ]
  },
  {
   "cell_type": "markdown",
   "id": "sound-three",
   "metadata": {},
   "source": [
    "<h3>AIInteresting"
   ]
  },
  {
   "cell_type": "code",
   "execution_count": 56,
   "id": "norman-victor",
   "metadata": {},
   "outputs": [],
   "source": [
    "df_train['AIInteresting'].fillna(method='ffill',inplace=True)\n",
    "df_test['AIInteresting'].fillna(method='ffill',inplace=True)"
   ]
  },
  {
   "cell_type": "markdown",
   "id": "raised-certificate",
   "metadata": {},
   "source": [
    "<h3>AIResponsible"
   ]
  },
  {
   "cell_type": "code",
   "execution_count": 57,
   "id": "universal-novel",
   "metadata": {},
   "outputs": [],
   "source": [
    "df_train['AIResponsible'].fillna(method='ffill',inplace=True)\n",
    "df_test['AIResponsible'].fillna(method='ffill',inplace=True)"
   ]
  },
  {
   "cell_type": "markdown",
   "id": "frequent-morris",
   "metadata": {},
   "source": [
    "<h3>AIFuture"
   ]
  },
  {
   "cell_type": "code",
   "execution_count": 58,
   "id": "becoming-nickel",
   "metadata": {},
   "outputs": [],
   "source": [
    "df_train['AIFuture'].fillna(method='ffill',inplace=True)\n",
    "df_test['AIFuture'].fillna(method='ffill',inplace=True)"
   ]
  },
  {
   "cell_type": "markdown",
   "id": "front-defeat",
   "metadata": {},
   "source": [
    "<h3>Age"
   ]
  },
  {
   "cell_type": "code",
   "execution_count": 59,
   "id": "south-regulation",
   "metadata": {},
   "outputs": [
    {
     "data": {
      "text/plain": [
       "array(['18 - 24 years old', '25 - 34 years old', nan, '35 - 44 years old',\n",
       "       '45 - 54 years old', 'Under 18 years old', '55 - 64 years old'],\n",
       "      dtype=object)"
      ]
     },
     "execution_count": 59,
     "metadata": {},
     "output_type": "execute_result"
    }
   ],
   "source": [
    "df_train['Age'].unique()"
   ]
  },
  {
   "cell_type": "code",
   "execution_count": 60,
   "id": "better-creativity",
   "metadata": {},
   "outputs": [],
   "source": [
    "mapper12={'25 - 34 years old':34, '18 - 24 years old':24, '35 - 44 years old':44,\n",
    "       '45 - 54 years old':54, '55 - 64 years old':64, 'Under 18 years old':18}\n",
    "df_train['Age']=df_train['Age'].map(mapper12)\n",
    "df_test['Age']=df_test['Age'].map(mapper12)"
   ]
  },
  {
   "cell_type": "code",
   "execution_count": 61,
   "id": "damaged-casting",
   "metadata": {},
   "outputs": [],
   "source": [
    "df_train['Age'].fillna((df_train['Age'].median()),inplace=True)\n",
    "df_test['Age'].fillna((df_test['Age'].median()),inplace=True)"
   ]
  },
  {
   "cell_type": "markdown",
   "id": "therapeutic-efficiency",
   "metadata": {},
   "source": [
    "<h3>term"
   ]
  },
  {
   "cell_type": "code",
   "execution_count": 62,
   "id": "reported-palmer",
   "metadata": {},
   "outputs": [],
   "source": [
    "df_train['term']=df_train['term'].str.split(' ').str.get(1)\n",
    "df_test['term']=df_test['term'].str.split(' ').str.get(1)"
   ]
  },
  {
   "cell_type": "code",
   "execution_count": 63,
   "id": "comprehensive-terrorist",
   "metadata": {},
   "outputs": [],
   "source": [
    "df_train['last_pymnt_d_day']=df_train['last_pymnt_d_day'].astype('int64')\n",
    "df_train['last_credit_pull_d_day']=df_train['last_credit_pull_d_day'].astype('int64')\n",
    "df_train['zip_code']=df_train['zip_code'].astype('int64')\n",
    "df_train['term']=df_train['term'].astype('int64')"
   ]
  },
  {
   "cell_type": "code",
   "execution_count": 64,
   "id": "tired-incident",
   "metadata": {},
   "outputs": [],
   "source": [
    "df_test['last_pymnt_d_day']=df_test['last_pymnt_d_day'].astype('int64')\n",
    "df_test['last_credit_pull_d_day']=df_test['last_credit_pull_d_day'].astype('int64')\n",
    "df_test['zip_code']=df_test['zip_code'].astype('int64')\n",
    "df_test['term']=df_test['term'].astype('int64')"
   ]
  },
  {
   "cell_type": "code",
   "execution_count": null,
   "id": "convenient-springer",
   "metadata": {},
   "outputs": [],
   "source": []
  },
  {
   "cell_type": "code",
   "execution_count": 65,
   "id": "arbitrary-representative",
   "metadata": {},
   "outputs": [],
   "source": [
    "set=['Job Description','Minimum Qual Requirements','Preferred Skills','Additional Information','To Apply','Residency Requirement','DevType','EducationTypes','SelfTaughtTypes','Methodology','UpdateCV','HopeFiveYears']\n",
    "for i in range(12):\n",
    "    df_train[set[i]] = df_train[set[i]].fillna('n/a')\n",
    "    df_test[set[i]] = df_test[set[i]].fillna('n/a')"
   ]
  },
  {
   "cell_type": "code",
   "execution_count": 66,
   "id": "marine-adaptation",
   "metadata": {},
   "outputs": [],
   "source": [
    "df_train.drop(columns=['Hours/Shift'],axis=1,inplace=True)\n",
    "df_test.drop(columns=['Hours/Shift'],axis=1,inplace=True)"
   ]
  },
  {
   "cell_type": "code",
   "execution_count": 67,
   "id": "specific-things",
   "metadata": {},
   "outputs": [
    {
     "data": {
      "text/plain": [
       "3"
      ]
     },
     "execution_count": 67,
     "metadata": {},
     "output_type": "execute_result"
    }
   ],
   "source": [
    "df_train.isnull().sum().sum()"
   ]
  },
  {
   "cell_type": "code",
   "execution_count": 68,
   "id": "mediterranean-uganda",
   "metadata": {},
   "outputs": [],
   "source": [
    "df_train.dropna(inplace=True)"
   ]
  },
  {
   "cell_type": "code",
   "execution_count": 69,
   "id": "frequent-death",
   "metadata": {},
   "outputs": [],
   "source": [
    "df_test.dropna(inplace=True)"
   ]
  },
  {
   "cell_type": "code",
   "execution_count": 70,
   "id": "weighted-prize",
   "metadata": {},
   "outputs": [
    {
     "data": {
      "text/plain": [
       "(0, 0)"
      ]
     },
     "execution_count": 70,
     "metadata": {},
     "output_type": "execute_result"
    }
   ],
   "source": [
    "df_train.isnull().sum().sum(),df_test.isnull().sum().sum()"
   ]
  },
  {
   "cell_type": "code",
   "execution_count": 71,
   "id": "perfect-likelihood",
   "metadata": {},
   "outputs": [
    {
     "data": {
      "text/plain": [
       "((2355, 71), (588, 71))"
      ]
     },
     "execution_count": 71,
     "metadata": {},
     "output_type": "execute_result"
    }
   ],
   "source": [
    "df_train.shape,df_test.shape"
   ]
  },
  {
   "cell_type": "markdown",
   "id": "distributed-logging",
   "metadata": {},
   "source": [
    "<h1>Now go back to tf-idf"
   ]
  },
  {
   "cell_type": "markdown",
   "id": "median-stuart",
   "metadata": {},
   "source": [
    "<h2>Using TF-IDF word vectorizer"
   ]
  },
  {
   "cell_type": "code",
   "execution_count": 72,
   "id": "convertible-violation",
   "metadata": {},
   "outputs": [
    {
     "data": {
      "text/plain": [
       "((2355, 12), (588, 12))"
      ]
     },
     "execution_count": 72,
     "metadata": {},
     "output_type": "execute_result"
    }
   ],
   "source": [
    "text_based=['Job Description','Minimum Qual Requirements','Preferred Skills','Additional Information','To Apply','Residency Requirement','DevType','EducationTypes','SelfTaughtTypes','Methodology','UpdateCV','HopeFiveYears']\n",
    "text_feats_train=df_train[text_based]\n",
    "text_feats_test=df_test[text_based]\n",
    "text_feats_train.shape,text_feats_test.shape"
   ]
  },
  {
   "cell_type": "code",
   "execution_count": 73,
   "id": "exotic-tragedy",
   "metadata": {},
   "outputs": [],
   "source": [
    "import matplotlib.pyplot as plt\n",
    "import seaborn as sns\n",
    "from sklearn.feature_extraction.text import CountVectorizer,TfidfVectorizer\n",
    "import scipy\n",
    "from scipy.sparse import csr_matrix\n",
    "from scipy import sparse\n",
    "from wordcloud import WordCloud, STOPWORDS\n",
    "#stopwords1 = set(STOPWORDS)\n",
    "\n",
    "def show_wordcloud(data, title = None):\n",
    "    wordcloud = WordCloud(\n",
    "        background_color='black',\n",
    "        #stopwords=stopwords1,\n",
    "        max_words=200,\n",
    "        max_font_size=40, \n",
    "        scale=3,\n",
    "        random_state=1 \n",
    "        ).generate(str(data))\n",
    "\n",
    "    fig = plt.figure(1, figsize=(15, 15))\n",
    "    plt.axis('off')\n",
    "    if title: \n",
    "        fig.suptitle(title, fontsize=20)\n",
    "        fig.subplots_adjust(top=2.3)\n",
    "\n",
    "    plt.imshow(wordcloud)\n",
    "    plt.show()"
   ]
  },
  {
   "cell_type": "code",
   "execution_count": 74,
   "id": "straight-recruitment",
   "metadata": {},
   "outputs": [
    {
     "data": {
      "image/png": "[encoded data removed]",
      "text/plain": [
       "<Figure size 1080x1080 with 1 Axes>"
      ]
     },
     "metadata": {
      "needs_background": "light"
     },
     "output_type": "display_data"
    }
   ],
   "source": [
    "show_wordcloud(text_feats_train['Methodology'])"
   ]
  },
  {
   "cell_type": "markdown",
   "id": "nutritional-interest",
   "metadata": {},
   "source": [
    "<h3>Job Description"
   ]
  },
  {
   "cell_type": "code",
   "execution_count": 75,
   "id": "fresh-radical",
   "metadata": {},
   "outputs": [],
   "source": [
    "v_1 = TfidfVectorizer(ngram_range=(1,3),stop_words=\"english\", analyzer='word')\n",
    "ty_jb=v_1.fit_transform(text_feats_train['Job Description'])\n",
    "ty_jbs =v_1.transform(text_feats_test['Job Description'])\n",
    "\n",
    "v_1c = TfidfVectorizer(ngram_range=(2,6),stop_words=\"english\", analyzer='char')\n",
    "ty_jbc=v_1c.fit_transform(text_feats_train['Job Description'])\n",
    "ty_jbcs =v_1c.transform(text_feats_test['Job Description'])"
   ]
  },
  {
   "cell_type": "markdown",
   "id": "cognitive-constitution",
   "metadata": {},
   "source": [
    "<h3>Minimum Qual Requirements"
   ]
  },
  {
   "cell_type": "code",
   "execution_count": 76,
   "id": "suffering-pendant",
   "metadata": {},
   "outputs": [],
   "source": [
    "v_1 = TfidfVectorizer(ngram_range=(1,3),stop_words=\"english\", analyzer='word')\n",
    "ty_mqr=v_1.fit_transform(text_feats_train['Minimum Qual Requirements'])\n",
    "ty_mqrs =v_1.transform(text_feats_test['Minimum Qual Requirements'])\n",
    "\n",
    "v_1c = TfidfVectorizer(ngram_range=(2,6),stop_words=\"english\", analyzer='char')\n",
    "ty_mqrc=v_1c.fit_transform(text_feats_train['Minimum Qual Requirements'])\n",
    "ty_mqrcs =v_1c.transform(text_feats_test['Minimum Qual Requirements'])"
   ]
  },
  {
   "cell_type": "markdown",
   "id": "numerous-closer",
   "metadata": {},
   "source": [
    "<h3>Preferred Skills"
   ]
  },
  {
   "cell_type": "code",
   "execution_count": 77,
   "id": "clinical-button",
   "metadata": {},
   "outputs": [],
   "source": [
    "v_1 = TfidfVectorizer(ngram_range=(1,3),stop_words=\"english\", analyzer='word')\n",
    "ty_ps=v_1.fit_transform(text_feats_train['Preferred Skills'])\n",
    "ty_pss =v_1.transform(text_feats_test['Preferred Skills'])\n",
    "\n",
    "v_1c = TfidfVectorizer(ngram_range=(2,6),stop_words=\"english\", analyzer='char')\n",
    "ty_psc=v_1c.fit_transform(text_feats_train['Preferred Skills'])\n",
    "ty_pscs =v_1c.transform(text_feats_test['Preferred Skills'])"
   ]
  },
  {
   "cell_type": "markdown",
   "id": "lucky-captain",
   "metadata": {},
   "source": [
    "<h3>Additional Information"
   ]
  },
  {
   "cell_type": "code",
   "execution_count": 78,
   "id": "municipal-crawford",
   "metadata": {},
   "outputs": [],
   "source": [
    "v_1 = TfidfVectorizer(ngram_range=(1,3),stop_words=\"english\", analyzer='word')\n",
    "ty_ai=v_1.fit_transform(text_feats_train['Additional Information'])\n",
    "ty_ais =v_1.transform(text_feats_test['Additional Information'])\n",
    "\n",
    "v_1c = TfidfVectorizer(ngram_range=(2,6),stop_words=\"english\", analyzer='char')\n",
    "ty_aic=v_1c.fit_transform(text_feats_train['Additional Information'])\n",
    "ty_aics =v_1c.transform(text_feats_test['Additional Information'])"
   ]
  },
  {
   "cell_type": "markdown",
   "id": "married-launch",
   "metadata": {},
   "source": [
    "<h3>DevType"
   ]
  },
  {
   "cell_type": "code",
   "execution_count": 79,
   "id": "ranging-antique",
   "metadata": {},
   "outputs": [],
   "source": [
    "v_1 = TfidfVectorizer(ngram_range=(1,3),stop_words=\"english\", analyzer='word')\n",
    "ty_dt=v_1.fit_transform(text_feats_train['DevType'])\n",
    "ty_dts =v_1.transform(text_feats_test['DevType'])\n",
    "\n",
    "v_1c = TfidfVectorizer(ngram_range=(2,6),stop_words=\"english\", analyzer='char')\n",
    "ty_dtc=v_1c.fit_transform(text_feats_train['DevType'])\n",
    "ty_dtcs =v_1c.transform(text_feats_test['DevType'])"
   ]
  },
  {
   "cell_type": "markdown",
   "id": "adequate-poker",
   "metadata": {},
   "source": [
    "<h3>EducationTypes"
   ]
  },
  {
   "cell_type": "code",
   "execution_count": 80,
   "id": "trained-desperate",
   "metadata": {},
   "outputs": [],
   "source": [
    "v_1 = TfidfVectorizer(ngram_range=(1,3),stop_words=\"english\", analyzer='word')\n",
    "ty_et=v_1.fit_transform(text_feats_train['EducationTypes'])\n",
    "ty_ets =v_1.transform(text_feats_test['EducationTypes'])\n",
    "\n",
    "v_1c = TfidfVectorizer(ngram_range=(2,6),stop_words=\"english\", analyzer='char')\n",
    "ty_etc=v_1c.fit_transform(text_feats_train['EducationTypes'])\n",
    "ty_etcs =v_1c.transform(text_feats_test['EducationTypes'])"
   ]
  },
  {
   "cell_type": "markdown",
   "id": "successful-maria",
   "metadata": {},
   "source": [
    "<h3>SelfTaughtTypes"
   ]
  },
  {
   "cell_type": "code",
   "execution_count": 81,
   "id": "fitting-ability",
   "metadata": {},
   "outputs": [],
   "source": [
    "v_1 = TfidfVectorizer(ngram_range=(1,3),stop_words=\"english\", analyzer='word')\n",
    "ty_stt=v_1.fit_transform(text_feats_train['SelfTaughtTypes'])\n",
    "ty_stts =v_1.transform(text_feats_test['SelfTaughtTypes'])\n",
    "\n",
    "v_1c = TfidfVectorizer(ngram_range=(2,6),stop_words=\"english\", analyzer='char')\n",
    "ty_sttc=v_1c.fit_transform(text_feats_train['SelfTaughtTypes'])\n",
    "ty_sttcs =v_1c.transform(text_feats_test['SelfTaughtTypes'])"
   ]
  },
  {
   "cell_type": "markdown",
   "id": "legendary-bicycle",
   "metadata": {},
   "source": [
    "<h3>Methodology"
   ]
  },
  {
   "cell_type": "code",
   "execution_count": 82,
   "id": "outdoor-russia",
   "metadata": {},
   "outputs": [],
   "source": [
    "v_1 = TfidfVectorizer(ngram_range=(1,3),stop_words=\"english\", analyzer='word')\n",
    "ty_m=v_1.fit_transform(text_feats_train['Methodology'])\n",
    "ty_ms =v_1.transform(text_feats_test['Methodology'])\n",
    "\n",
    "v_1c = TfidfVectorizer(ngram_range=(2,6),stop_words=\"english\", analyzer='char')\n",
    "ty_mc=v_1c.fit_transform(text_feats_train['Methodology'])\n",
    "ty_mcs =v_1c.transform(text_feats_test['Methodology'])"
   ]
  },
  {
   "cell_type": "markdown",
   "id": "cosmetic-retreat",
   "metadata": {},
   "source": [
    "<h3>To Apply"
   ]
  },
  {
   "cell_type": "code",
   "execution_count": 83,
   "id": "collect-jenny",
   "metadata": {},
   "outputs": [],
   "source": [
    "v_1 = TfidfVectorizer(ngram_range=(1,3),stop_words=\"english\", analyzer='word')\n",
    "ty_ta=v_1.fit_transform(text_feats_train['To Apply'])\n",
    "ty_tas =v_1.transform(text_feats_test['To Apply'])\n",
    "\n",
    "v_1c = TfidfVectorizer(ngram_range=(2,6),stop_words=\"english\", analyzer='char')\n",
    "ty_tac=v_1c.fit_transform(text_feats_train['To Apply'])\n",
    "ty_tacs =v_1c.transform(text_feats_test['To Apply'])"
   ]
  },
  {
   "cell_type": "markdown",
   "id": "metropolitan-pillow",
   "metadata": {},
   "source": [
    "<h3>Residency Requirement"
   ]
  },
  {
   "cell_type": "code",
   "execution_count": 84,
   "id": "light-channels",
   "metadata": {},
   "outputs": [],
   "source": [
    "v_1 = TfidfVectorizer(ngram_range=(1,3),stop_words=\"english\", analyzer='word')\n",
    "ty_rr=v_1.fit_transform(text_feats_train['Residency Requirement'])\n",
    "ty_rrs=v_1.transform(text_feats_test['Residency Requirement'])\n",
    "\n",
    "v_1c = TfidfVectorizer(ngram_range=(2,6),stop_words=\"english\", analyzer='char')\n",
    "ty_rrc=v_1c.fit_transform(text_feats_train['Residency Requirement'])\n",
    "ty_rrcs=v_1c.transform(text_feats_test['Residency Requirement'])"
   ]
  },
  {
   "cell_type": "markdown",
   "id": "romance-graph",
   "metadata": {},
   "source": [
    "<H3>UpdateCV"
   ]
  },
  {
   "cell_type": "code",
   "execution_count": 85,
   "id": "violent-arrest",
   "metadata": {},
   "outputs": [],
   "source": [
    "v_1 = TfidfVectorizer(ngram_range=(1,3),stop_words=\"english\", analyzer='word')\n",
    "ty_ucv=v_1.fit_transform(text_feats_train['UpdateCV'])\n",
    "ty_ucvs =v_1.transform(text_feats_test['UpdateCV'])\n",
    "\n",
    "v_1c = TfidfVectorizer(ngram_range=(2,6),stop_words=\"english\", analyzer='char')\n",
    "ty_ucvc=v_1.fit_transform(text_feats_train['UpdateCV'])\n",
    "ty_ucvcs =v_1.transform(text_feats_test['UpdateCV'])"
   ]
  },
  {
   "cell_type": "markdown",
   "id": "marked-present",
   "metadata": {},
   "source": [
    "<H3>HopeFiveYears"
   ]
  },
  {
   "cell_type": "code",
   "execution_count": 86,
   "id": "assured-clock",
   "metadata": {},
   "outputs": [],
   "source": [
    "v_1 = TfidfVectorizer(ngram_range=(1,3),stop_words=\"english\", analyzer='word')\n",
    "ty_hfy=v_1.fit_transform(text_feats_train['HopeFiveYears'])\n",
    "ty_hfys =v_1.transform(text_feats_test['HopeFiveYears'])\n",
    "\n",
    "v_1c = TfidfVectorizer(ngram_range=(2,6),stop_words=\"english\", analyzer='char')\n",
    "ty_hfyc=v_1c.fit_transform(text_feats_train['HopeFiveYears'])\n",
    "ty_hfycs =v_1c.transform(text_feats_test['HopeFiveYears'])"
   ]
  },
  {
   "cell_type": "code",
   "execution_count": 87,
   "id": "fatty-puppy",
   "metadata": {},
   "outputs": [],
   "source": [
    "df_train.drop(columns=['Job Description','Minimum Qual Requirements','Preferred Skills','Additional Information','To Apply','Residency Requirement','DevType','EducationTypes','SelfTaughtTypes','Methodology','UpdateCV','HopeFiveYears'],axis=1,inplace=True)\n",
    "#df_train.drop(columns=['Hours/Shift'],axis=1,inplace=True)\n",
    "\n",
    "df_test.drop(columns=['Job Description','Minimum Qual Requirements','Preferred Skills','Additional Information','To Apply','Residency Requirement','DevType','EducationTypes','SelfTaughtTypes','Methodology','UpdateCV','HopeFiveYears'],axis=1,inplace=True)\n",
    "#df_test.drop(columns=['Hours/Shift'],axis=1,inplace=True)"
   ]
  },
  {
   "cell_type": "code",
   "execution_count": null,
   "id": "remarkable-graphic",
   "metadata": {},
   "outputs": [],
   "source": []
  },
  {
   "cell_type": "code",
   "execution_count": 88,
   "id": "mineral-miracle",
   "metadata": {},
   "outputs": [
    {
     "name": "stderr",
     "output_type": "stream",
     "text": [
      "<ipython-input-88-62b00098006b>:12: SettingWithCopyWarning: \n",
      "A value is trying to be set on a copy of a slice from a DataFrame\n",
      "\n",
      "See the caveats in the documentation: https://pandas.pydata.org/pandas-docs/stable/user_guide/indexing.html#returning-a-view-versus-a-copy\n",
      "  df_train['earliest_year'][i]=df_train['earliest_month'][i]\n"
     ]
    },
    {
     "name": "stdout",
     "output_type": "stream",
     "text": [
      "1265\n"
     ]
    }
   ],
   "source": [
    "df_train['earliest_year']=df_train['earliest_cr_line'].str.split('-').str.get(0)\n",
    "df_train['earliest_month']=df_train['earliest_cr_line'].str.split('-').str.get(1)\n",
    "\n",
    "df_train['earliest_year'].reset_index(drop=True, inplace=True)\n",
    "df_train['earliest_month'].reset_index(drop=True, inplace=True)\n",
    "\n",
    "set=['Jan','Feb','Mar','Apr','May','Jun','Jul','Aug','Sep','Oct','Nov','Dec']\n",
    "count=0\n",
    "for i in range(len(df_train['earliest_cr_line'])):\n",
    "    for j in range(len(set)):\n",
    "        if df_train['earliest_year'][i]==set[j]:\n",
    "            df_train['earliest_year'][i]=df_train['earliest_month'][i]\n",
    "            count=count+1\n",
    "print(count)"
   ]
  },
  {
   "cell_type": "code",
   "execution_count": 89,
   "id": "standing-girlfriend",
   "metadata": {},
   "outputs": [],
   "source": [
    "df_train2=df_train.copy()\n",
    "df_test2=df_test.copy"
   ]
  },
  {
   "cell_type": "code",
   "execution_count": 90,
   "id": "fantastic-plate",
   "metadata": {},
   "outputs": [],
   "source": [
    "df_train.drop(['earliest_month'],axis=1,inplace=True)"
   ]
  },
  {
   "cell_type": "code",
   "execution_count": 91,
   "id": "bound-oregon",
   "metadata": {},
   "outputs": [
    {
     "name": "stdout",
     "output_type": "stream",
     "text": [
      "298\n"
     ]
    },
    {
     "name": "stderr",
     "output_type": "stream",
     "text": [
      "<ipython-input-91-c886a4159a35>:12: SettingWithCopyWarning: \n",
      "A value is trying to be set on a copy of a slice from a DataFrame\n",
      "\n",
      "See the caveats in the documentation: https://pandas.pydata.org/pandas-docs/stable/user_guide/indexing.html#returning-a-view-versus-a-copy\n",
      "  df_test['earliest_year'][i]=df_test['earliest_month'][i]\n"
     ]
    }
   ],
   "source": [
    "df_test['earliest_year']=df_test['earliest_cr_line'].str.split('-').str.get(0)\n",
    "df_test['earliest_month']=df_test['earliest_cr_line'].str.split('-').str.get(1)\n",
    "\n",
    "df_test['earliest_year'].reset_index(drop=True, inplace=True)\n",
    "df_test['earliest_month'].reset_index(drop=True, inplace=True)\n",
    "\n",
    "set=['Jan','Feb','Mar','Apr','May','Jun','Jul','Aug','Sep','Oct','Nov','Dec']\n",
    "count=0\n",
    "for i in range(len(df_test['earliest_cr_line'])):\n",
    "    for j in range(len(set)):\n",
    "        if df_test['earliest_year'][i]==set[j]:\n",
    "            df_test['earliest_year'][i]=df_test['earliest_month'][i]\n",
    "            count=count+1\n",
    "print(count)"
   ]
  },
  {
   "cell_type": "code",
   "execution_count": 92,
   "id": "operating-browse",
   "metadata": {},
   "outputs": [],
   "source": [
    "df_test.drop(['earliest_month'],axis=1,inplace=True)"
   ]
  },
  {
   "cell_type": "code",
   "execution_count": 93,
   "id": "vital-haiti",
   "metadata": {},
   "outputs": [],
   "source": [
    "df_train.drop(['earliest_cr_line'],axis=1,inplace=True)\n",
    "df_test.drop(['earliest_cr_line'],axis=1,inplace=True)"
   ]
  },
  {
   "cell_type": "code",
   "execution_count": 94,
   "id": "employed-father",
   "metadata": {},
   "outputs": [
    {
     "data": {
      "text/html": [
       "<div>\n",
       "<style scoped>\n",
       "    .dataframe tbody tr th:only-of-type {\n",
       "        vertical-align: middle;\n",
       "    }\n",
       "\n",
       "    .dataframe tbody tr th {\n",
       "        vertical-align: top;\n",
       "    }\n",
       "\n",
       "    .dataframe thead th {\n",
       "        text-align: right;\n",
       "    }\n",
       "</style>\n",
       "<table border=\"1\" class=\"dataframe\">\n",
       "  <thead>\n",
       "    <tr style=\"text-align: right;\">\n",
       "      <th></th>\n",
       "      <th>id</th>\n",
       "      <th>LOAN_AMT</th>\n",
       "      <th>Business Title</th>\n",
       "      <th>Civil Service Title</th>\n",
       "      <th>Division/Work Unit</th>\n",
       "      <th>FormalEducation</th>\n",
       "      <th>UndergradMajor</th>\n",
       "      <th>CompanySize</th>\n",
       "      <th>YearsCoding</th>\n",
       "      <th>YearsCodingProf</th>\n",
       "      <th>...</th>\n",
       "      <th>updated month</th>\n",
       "      <th>updated day</th>\n",
       "      <th>process year</th>\n",
       "      <th>process month</th>\n",
       "      <th>process day</th>\n",
       "      <th>last_pymnt_d_mon</th>\n",
       "      <th>last_pymnt_d_day</th>\n",
       "      <th>last_credit_pull_d_day</th>\n",
       "      <th>last_credit_pull_d_mon</th>\n",
       "      <th>earliest_year</th>\n",
       "    </tr>\n",
       "  </thead>\n",
       "  <tbody>\n",
       "    <tr>\n",
       "      <th>1</th>\n",
       "      <td>68356094</td>\n",
       "      <td>28000</td>\n",
       "      <td>0.003608</td>\n",
       "      <td>0.007852</td>\n",
       "      <td>0.001910</td>\n",
       "      <td>PD</td>\n",
       "      <td>other</td>\n",
       "      <td>10</td>\n",
       "      <td>9.0</td>\n",
       "      <td>6.0</td>\n",
       "      <td>...</td>\n",
       "      <td>12.0</td>\n",
       "      <td>12.0</td>\n",
       "      <td>2019.0</td>\n",
       "      <td>12.0</td>\n",
       "      <td>17.0</td>\n",
       "      <td>Aug</td>\n",
       "      <td>18</td>\n",
       "      <td>18</td>\n",
       "      <td>Oct</td>\n",
       "      <td>98</td>\n",
       "    </tr>\n",
       "    <tr>\n",
       "      <th>2</th>\n",
       "      <td>68338594</td>\n",
       "      <td>24000</td>\n",
       "      <td>0.000637</td>\n",
       "      <td>0.005730</td>\n",
       "      <td>0.001910</td>\n",
       "      <td>BD</td>\n",
       "      <td>computers</td>\n",
       "      <td>1000</td>\n",
       "      <td>3.0</td>\n",
       "      <td>0.0</td>\n",
       "      <td>...</td>\n",
       "      <td>7.0</td>\n",
       "      <td>3.0</td>\n",
       "      <td>2019.0</td>\n",
       "      <td>12.0</td>\n",
       "      <td>17.0</td>\n",
       "      <td>Sep</td>\n",
       "      <td>16</td>\n",
       "      <td>18</td>\n",
       "      <td>Jul</td>\n",
       "      <td>98</td>\n",
       "    </tr>\n",
       "    <tr>\n",
       "      <th>3</th>\n",
       "      <td>67890239</td>\n",
       "      <td>28000</td>\n",
       "      <td>0.000637</td>\n",
       "      <td>0.001486</td>\n",
       "      <td>0.001910</td>\n",
       "      <td>BD</td>\n",
       "      <td>IT</td>\n",
       "      <td>10</td>\n",
       "      <td>3.0</td>\n",
       "      <td>0.0</td>\n",
       "      <td>...</td>\n",
       "      <td>11.0</td>\n",
       "      <td>23.0</td>\n",
       "      <td>2019.0</td>\n",
       "      <td>12.0</td>\n",
       "      <td>17.0</td>\n",
       "      <td>May</td>\n",
       "      <td>17</td>\n",
       "      <td>17</td>\n",
       "      <td>Sep</td>\n",
       "      <td>3</td>\n",
       "    </tr>\n",
       "    <tr>\n",
       "      <th>4</th>\n",
       "      <td>67326377</td>\n",
       "      <td>16000</td>\n",
       "      <td>0.000637</td>\n",
       "      <td>0.009762</td>\n",
       "      <td>0.003820</td>\n",
       "      <td>BD</td>\n",
       "      <td>other</td>\n",
       "      <td>1000</td>\n",
       "      <td>3.0</td>\n",
       "      <td>3.0</td>\n",
       "      <td>...</td>\n",
       "      <td>10.0</td>\n",
       "      <td>31.0</td>\n",
       "      <td>2019.0</td>\n",
       "      <td>12.0</td>\n",
       "      <td>17.0</td>\n",
       "      <td>May</td>\n",
       "      <td>17</td>\n",
       "      <td>19</td>\n",
       "      <td>Mar</td>\n",
       "      <td>96</td>\n",
       "    </tr>\n",
       "    <tr>\n",
       "      <th>5</th>\n",
       "      <td>68605060</td>\n",
       "      <td>30600</td>\n",
       "      <td>0.000637</td>\n",
       "      <td>0.006579</td>\n",
       "      <td>0.000849</td>\n",
       "      <td>BD</td>\n",
       "      <td>computers</td>\n",
       "      <td>1000</td>\n",
       "      <td>3.0</td>\n",
       "      <td>3.0</td>\n",
       "      <td>...</td>\n",
       "      <td>11.0</td>\n",
       "      <td>21.0</td>\n",
       "      <td>2019.0</td>\n",
       "      <td>12.0</td>\n",
       "      <td>17.0</td>\n",
       "      <td>Oct</td>\n",
       "      <td>16</td>\n",
       "      <td>17</td>\n",
       "      <td>Apr</td>\n",
       "      <td>4</td>\n",
       "    </tr>\n",
       "  </tbody>\n",
       "</table>\n",
       "<p>5 rows × 59 columns</p>\n",
       "</div>"
      ],
      "text/plain": [
       "         id  LOAN_AMT  Business Title  Civil Service Title  \\\n",
       "1  68356094     28000        0.003608             0.007852   \n",
       "2  68338594     24000        0.000637             0.005730   \n",
       "3  67890239     28000        0.000637             0.001486   \n",
       "4  67326377     16000        0.000637             0.009762   \n",
       "5  68605060     30600        0.000637             0.006579   \n",
       "\n",
       "   Division/Work Unit FormalEducation UndergradMajor  CompanySize  \\\n",
       "1            0.001910              PD          other           10   \n",
       "2            0.001910              BD      computers         1000   \n",
       "3            0.001910              BD             IT           10   \n",
       "4            0.003820              BD          other         1000   \n",
       "5            0.000849              BD      computers         1000   \n",
       "\n",
       "   YearsCoding  YearsCodingProf  ... updated month  updated day process year  \\\n",
       "1          9.0              6.0  ...          12.0         12.0       2019.0   \n",
       "2          3.0              0.0  ...           7.0          3.0       2019.0   \n",
       "3          3.0              0.0  ...          11.0         23.0       2019.0   \n",
       "4          3.0              3.0  ...          10.0         31.0       2019.0   \n",
       "5          3.0              3.0  ...          11.0         21.0       2019.0   \n",
       "\n",
       "   process month process day last_pymnt_d_mon last_pymnt_d_day  \\\n",
       "1           12.0        17.0              Aug               18   \n",
       "2           12.0        17.0              Sep               16   \n",
       "3           12.0        17.0              May               17   \n",
       "4           12.0        17.0              May               17   \n",
       "5           12.0        17.0              Oct               16   \n",
       "\n",
       "   last_credit_pull_d_day  last_credit_pull_d_mon  earliest_year  \n",
       "1                      18                     Oct             98  \n",
       "2                      18                     Jul             98  \n",
       "3                      17                     Sep              3  \n",
       "4                      19                     Mar             96  \n",
       "5                      17                     Apr              4  \n",
       "\n",
       "[5 rows x 59 columns]"
      ]
     },
     "execution_count": 94,
     "metadata": {},
     "output_type": "execute_result"
    }
   ],
   "source": [
    "df_train.head()"
   ]
  },
  {
   "cell_type": "code",
   "execution_count": 95,
   "id": "intended-sauce",
   "metadata": {},
   "outputs": [],
   "source": [
    "df_train['earliest_year']=df_train['earliest_year'].astype('int64')\n",
    "df_test['earliest_year']=df_test['earliest_year'].astype('int64')"
   ]
  },
  {
   "cell_type": "code",
   "execution_count": 96,
   "id": "acoustic-option",
   "metadata": {},
   "outputs": [],
   "source": [
    "df_train.drop(['last_pymnt_amnt'],axis=1,inplace=True)\n",
    "df_test.drop(['last_pymnt_amnt'],axis=1,inplace=True)"
   ]
  },
  {
   "cell_type": "code",
   "execution_count": 97,
   "id": "shared-newfoundland",
   "metadata": {},
   "outputs": [
    {
     "data": {
      "text/plain": [
       "((2355, 58), (588, 58))"
      ]
     },
     "execution_count": 97,
     "metadata": {},
     "output_type": "execute_result"
    }
   ],
   "source": [
    "df_train.shape,df_test.shape"
   ]
  },
  {
   "cell_type": "code",
   "execution_count": 98,
   "id": "insured-thunder",
   "metadata": {},
   "outputs": [],
   "source": [
    "numerical_features=df_train.select_dtypes(include=np.number)\n",
    "categorical_features=df_train.select_dtypes(include=np.object)"
   ]
  },
  {
   "cell_type": "code",
   "execution_count": 99,
   "id": "automated-salon",
   "metadata": {},
   "outputs": [
    {
     "data": {
      "text/plain": [
       "Index(['FormalEducation', 'UndergradMajor', 'JobSearchStatus',\n",
       "       'CommunicationTools', 'AgreeDisagree1', 'AgreeDisagree2',\n",
       "       'AgreeDisagree3', 'FrameworkWorkedWith', 'OperatingSystem',\n",
       "       'VersionControl', 'CheckInCode', 'AIDangerous', 'AIInteresting',\n",
       "       'AIResponsible', 'AIFuture', 'loan_status', 'purpose', 'title',\n",
       "       'addr_state', 'last_pymnt_d_mon', 'last_credit_pull_d_mon'],\n",
       "      dtype='object')"
      ]
     },
     "execution_count": 99,
     "metadata": {},
     "output_type": "execute_result"
    }
   ],
   "source": [
    "categorical_features.columns"
   ]
  },
  {
   "cell_type": "markdown",
   "id": "swiss-employee",
   "metadata": {},
   "source": [
    "<h3>EXPLORATORY DATA ANALYSIS TO CREATE NEW FEATURES OR TO REMOVE FEATURES THAT HAS NO IMPACT"
   ]
  },
  {
   "cell_type": "markdown",
   "id": "operational-craps",
   "metadata": {},
   "source": [
    "<h3>Let's work with  Numeric features"
   ]
  },
  {
   "cell_type": "code",
   "execution_count": 100,
   "id": "sixth-geneva",
   "metadata": {},
   "outputs": [
    {
     "data": {
      "text/plain": [
       "0"
      ]
     },
     "execution_count": 100,
     "metadata": {},
     "output_type": "execute_result"
    }
   ],
   "source": [
    "numerical_features.isnull().sum().sum()"
   ]
  },
  {
   "cell_type": "code",
   "execution_count": 101,
   "id": "unknown-steal",
   "metadata": {},
   "outputs": [
    {
     "data": {
      "text/plain": [
       "Index(['id', 'LOAN_AMT', 'Business Title', 'Civil Service Title',\n",
       "       'Division/Work Unit', 'CompanySize', 'YearsCoding', 'YearsCodingProf',\n",
       "       'LastNewJob', 'TimeFullyProductive', 'LanguageWorkedWith',\n",
       "       'LanguageDesireNextYear', 'DatabaseWorkedWith',\n",
       "       'DatabaseDesireNextYear', 'PlatformWorkedWith',\n",
       "       'PlatformDesireNextYear', 'FrameworkDesireNextYear', 'IDE', 'Age',\n",
       "       'term', 'emp_length', 'zip_code', 'dti', 'Target A', 'Target B',\n",
       "       'Posting year', 'Posting month', 'Posting day', 'updated year',\n",
       "       'updated month', 'updated day', 'process year', 'process month',\n",
       "       'process day', 'last_pymnt_d_day', 'last_credit_pull_d_day',\n",
       "       'earliest_year'],\n",
       "      dtype='object')"
      ]
     },
     "execution_count": 101,
     "metadata": {},
     "output_type": "execute_result"
    }
   ],
   "source": [
    "numerical_features.columns"
   ]
  },
  {
   "cell_type": "code",
   "execution_count": 102,
   "id": "structured-treaty",
   "metadata": {},
   "outputs": [],
   "source": [
    "encode_feats=['Business Title', 'Civil Service Title',\n",
    "       'Division/Work Unit','LanguageWorkedWith',\n",
    "       'LanguageDesireNextYear', 'DatabaseWorkedWith',\n",
    "       'DatabaseDesireNextYear', 'PlatformWorkedWith',\n",
    "       'PlatformDesireNextYear', 'FrameworkDesireNextYear', 'IDE']\n",
    "numerical_features=numerical_features.drop(encode_feats,axis=1)"
   ]
  },
  {
   "cell_type": "code",
   "execution_count": 103,
   "id": "ignored-camping",
   "metadata": {},
   "outputs": [
    {
     "data": {
      "text/html": [
       "<div>\n",
       "<style scoped>\n",
       "    .dataframe tbody tr th:only-of-type {\n",
       "        vertical-align: middle;\n",
       "    }\n",
       "\n",
       "    .dataframe tbody tr th {\n",
       "        vertical-align: top;\n",
       "    }\n",
       "\n",
       "    .dataframe thead th {\n",
       "        text-align: right;\n",
       "    }\n",
       "</style>\n",
       "<table border=\"1\" class=\"dataframe\">\n",
       "  <thead>\n",
       "    <tr style=\"text-align: right;\">\n",
       "      <th></th>\n",
       "      <th>id</th>\n",
       "      <th>LOAN_AMT</th>\n",
       "      <th>CompanySize</th>\n",
       "      <th>YearsCoding</th>\n",
       "      <th>YearsCodingProf</th>\n",
       "      <th>LastNewJob</th>\n",
       "      <th>TimeFullyProductive</th>\n",
       "      <th>Age</th>\n",
       "      <th>term</th>\n",
       "      <th>emp_length</th>\n",
       "      <th>...</th>\n",
       "      <th>Posting day</th>\n",
       "      <th>updated year</th>\n",
       "      <th>updated month</th>\n",
       "      <th>updated day</th>\n",
       "      <th>process year</th>\n",
       "      <th>process month</th>\n",
       "      <th>process day</th>\n",
       "      <th>last_pymnt_d_day</th>\n",
       "      <th>last_credit_pull_d_day</th>\n",
       "      <th>earliest_year</th>\n",
       "    </tr>\n",
       "  </thead>\n",
       "  <tbody>\n",
       "    <tr>\n",
       "      <th>1</th>\n",
       "      <td>68356094</td>\n",
       "      <td>28000</td>\n",
       "      <td>10</td>\n",
       "      <td>9.0</td>\n",
       "      <td>6.0</td>\n",
       "      <td>1.0</td>\n",
       "      <td>0.0</td>\n",
       "      <td>34.0</td>\n",
       "      <td>36</td>\n",
       "      <td>6.0</td>\n",
       "      <td>...</td>\n",
       "      <td>15.0</td>\n",
       "      <td>2019.0</td>\n",
       "      <td>12.0</td>\n",
       "      <td>12.0</td>\n",
       "      <td>2019.0</td>\n",
       "      <td>12.0</td>\n",
       "      <td>17.0</td>\n",
       "      <td>18</td>\n",
       "      <td>18</td>\n",
       "      <td>98</td>\n",
       "    </tr>\n",
       "    <tr>\n",
       "      <th>2</th>\n",
       "      <td>68338594</td>\n",
       "      <td>24000</td>\n",
       "      <td>1000</td>\n",
       "      <td>3.0</td>\n",
       "      <td>0.0</td>\n",
       "      <td>1.0</td>\n",
       "      <td>0.0</td>\n",
       "      <td>34.0</td>\n",
       "      <td>60</td>\n",
       "      <td>6.0</td>\n",
       "      <td>...</td>\n",
       "      <td>3.0</td>\n",
       "      <td>2018.0</td>\n",
       "      <td>7.0</td>\n",
       "      <td>3.0</td>\n",
       "      <td>2019.0</td>\n",
       "      <td>12.0</td>\n",
       "      <td>17.0</td>\n",
       "      <td>16</td>\n",
       "      <td>18</td>\n",
       "      <td>98</td>\n",
       "    </tr>\n",
       "    <tr>\n",
       "      <th>3</th>\n",
       "      <td>67890239</td>\n",
       "      <td>28000</td>\n",
       "      <td>10</td>\n",
       "      <td>3.0</td>\n",
       "      <td>0.0</td>\n",
       "      <td>1.0</td>\n",
       "      <td>0.0</td>\n",
       "      <td>24.0</td>\n",
       "      <td>60</td>\n",
       "      <td>5.0</td>\n",
       "      <td>...</td>\n",
       "      <td>30.0</td>\n",
       "      <td>2019.0</td>\n",
       "      <td>11.0</td>\n",
       "      <td>23.0</td>\n",
       "      <td>2019.0</td>\n",
       "      <td>12.0</td>\n",
       "      <td>17.0</td>\n",
       "      <td>17</td>\n",
       "      <td>17</td>\n",
       "      <td>3</td>\n",
       "    </tr>\n",
       "    <tr>\n",
       "      <th>4</th>\n",
       "      <td>67326377</td>\n",
       "      <td>16000</td>\n",
       "      <td>1000</td>\n",
       "      <td>3.0</td>\n",
       "      <td>3.0</td>\n",
       "      <td>0.5</td>\n",
       "      <td>1.0</td>\n",
       "      <td>24.0</td>\n",
       "      <td>36</td>\n",
       "      <td>2.0</td>\n",
       "      <td>...</td>\n",
       "      <td>31.0</td>\n",
       "      <td>2019.0</td>\n",
       "      <td>10.0</td>\n",
       "      <td>31.0</td>\n",
       "      <td>2019.0</td>\n",
       "      <td>12.0</td>\n",
       "      <td>17.0</td>\n",
       "      <td>17</td>\n",
       "      <td>19</td>\n",
       "      <td>96</td>\n",
       "    </tr>\n",
       "    <tr>\n",
       "      <th>5</th>\n",
       "      <td>68605060</td>\n",
       "      <td>30600</td>\n",
       "      <td>1000</td>\n",
       "      <td>3.0</td>\n",
       "      <td>3.0</td>\n",
       "      <td>0.5</td>\n",
       "      <td>1.0</td>\n",
       "      <td>34.0</td>\n",
       "      <td>60</td>\n",
       "      <td>5.0</td>\n",
       "      <td>...</td>\n",
       "      <td>21.0</td>\n",
       "      <td>2019.0</td>\n",
       "      <td>11.0</td>\n",
       "      <td>21.0</td>\n",
       "      <td>2019.0</td>\n",
       "      <td>12.0</td>\n",
       "      <td>17.0</td>\n",
       "      <td>16</td>\n",
       "      <td>17</td>\n",
       "      <td>4</td>\n",
       "    </tr>\n",
       "    <tr>\n",
       "      <th>...</th>\n",
       "      <td>...</td>\n",
       "      <td>...</td>\n",
       "      <td>...</td>\n",
       "      <td>...</td>\n",
       "      <td>...</td>\n",
       "      <td>...</td>\n",
       "      <td>...</td>\n",
       "      <td>...</td>\n",
       "      <td>...</td>\n",
       "      <td>...</td>\n",
       "      <td>...</td>\n",
       "      <td>...</td>\n",
       "      <td>...</td>\n",
       "      <td>...</td>\n",
       "      <td>...</td>\n",
       "      <td>...</td>\n",
       "      <td>...</td>\n",
       "      <td>...</td>\n",
       "      <td>...</td>\n",
       "      <td>...</td>\n",
       "      <td>...</td>\n",
       "    </tr>\n",
       "    <tr>\n",
       "      <th>2351</th>\n",
       "      <td>68526718</td>\n",
       "      <td>6000</td>\n",
       "      <td>0</td>\n",
       "      <td>6.0</td>\n",
       "      <td>3.0</td>\n",
       "      <td>0.5</td>\n",
       "      <td>1.0</td>\n",
       "      <td>34.0</td>\n",
       "      <td>36</td>\n",
       "      <td>6.0</td>\n",
       "      <td>...</td>\n",
       "      <td>12.0</td>\n",
       "      <td>2017.0</td>\n",
       "      <td>10.0</td>\n",
       "      <td>12.0</td>\n",
       "      <td>2019.0</td>\n",
       "      <td>12.0</td>\n",
       "      <td>17.0</td>\n",
       "      <td>18</td>\n",
       "      <td>19</td>\n",
       "      <td>5</td>\n",
       "    </tr>\n",
       "    <tr>\n",
       "      <th>2352</th>\n",
       "      <td>68465485</td>\n",
       "      <td>28000</td>\n",
       "      <td>20</td>\n",
       "      <td>3.0</td>\n",
       "      <td>3.0</td>\n",
       "      <td>2.0</td>\n",
       "      <td>0.0</td>\n",
       "      <td>34.0</td>\n",
       "      <td>60</td>\n",
       "      <td>10.0</td>\n",
       "      <td>...</td>\n",
       "      <td>12.0</td>\n",
       "      <td>2019.0</td>\n",
       "      <td>9.0</td>\n",
       "      <td>12.0</td>\n",
       "      <td>2019.0</td>\n",
       "      <td>12.0</td>\n",
       "      <td>17.0</td>\n",
       "      <td>18</td>\n",
       "      <td>18</td>\n",
       "      <td>3</td>\n",
       "    </tr>\n",
       "    <tr>\n",
       "      <th>2353</th>\n",
       "      <td>68425382</td>\n",
       "      <td>21000</td>\n",
       "      <td>20</td>\n",
       "      <td>3.0</td>\n",
       "      <td>3.0</td>\n",
       "      <td>2.0</td>\n",
       "      <td>1.0</td>\n",
       "      <td>34.0</td>\n",
       "      <td>60</td>\n",
       "      <td>1.0</td>\n",
       "      <td>...</td>\n",
       "      <td>11.0</td>\n",
       "      <td>2019.0</td>\n",
       "      <td>10.0</td>\n",
       "      <td>11.0</td>\n",
       "      <td>2019.0</td>\n",
       "      <td>12.0</td>\n",
       "      <td>17.0</td>\n",
       "      <td>17</td>\n",
       "      <td>19</td>\n",
       "      <td>94</td>\n",
       "    </tr>\n",
       "    <tr>\n",
       "      <th>2354</th>\n",
       "      <td>68485805</td>\n",
       "      <td>8000</td>\n",
       "      <td>100</td>\n",
       "      <td>3.0</td>\n",
       "      <td>0.0</td>\n",
       "      <td>0.5</td>\n",
       "      <td>3.0</td>\n",
       "      <td>24.0</td>\n",
       "      <td>36</td>\n",
       "      <td>2.0</td>\n",
       "      <td>...</td>\n",
       "      <td>21.0</td>\n",
       "      <td>2019.0</td>\n",
       "      <td>12.0</td>\n",
       "      <td>16.0</td>\n",
       "      <td>2019.0</td>\n",
       "      <td>12.0</td>\n",
       "      <td>17.0</td>\n",
       "      <td>16</td>\n",
       "      <td>17</td>\n",
       "      <td>11</td>\n",
       "    </tr>\n",
       "    <tr>\n",
       "      <th>2355</th>\n",
       "      <td>68426438</td>\n",
       "      <td>28000</td>\n",
       "      <td>20</td>\n",
       "      <td>3.0</td>\n",
       "      <td>3.0</td>\n",
       "      <td>0.5</td>\n",
       "      <td>3.0</td>\n",
       "      <td>34.0</td>\n",
       "      <td>36</td>\n",
       "      <td>1.0</td>\n",
       "      <td>...</td>\n",
       "      <td>25.0</td>\n",
       "      <td>2018.0</td>\n",
       "      <td>6.0</td>\n",
       "      <td>25.0</td>\n",
       "      <td>2019.0</td>\n",
       "      <td>12.0</td>\n",
       "      <td>17.0</td>\n",
       "      <td>19</td>\n",
       "      <td>19</td>\n",
       "      <td>91</td>\n",
       "    </tr>\n",
       "  </tbody>\n",
       "</table>\n",
       "<p>2355 rows × 26 columns</p>\n",
       "</div>"
      ],
      "text/plain": [
       "            id  LOAN_AMT  CompanySize  YearsCoding  YearsCodingProf  \\\n",
       "1     68356094     28000           10          9.0              6.0   \n",
       "2     68338594     24000         1000          3.0              0.0   \n",
       "3     67890239     28000           10          3.0              0.0   \n",
       "4     67326377     16000         1000          3.0              3.0   \n",
       "5     68605060     30600         1000          3.0              3.0   \n",
       "...        ...       ...          ...          ...              ...   \n",
       "2351  68526718      6000            0          6.0              3.0   \n",
       "2352  68465485     28000           20          3.0              3.0   \n",
       "2353  68425382     21000           20          3.0              3.0   \n",
       "2354  68485805      8000          100          3.0              0.0   \n",
       "2355  68426438     28000           20          3.0              3.0   \n",
       "\n",
       "      LastNewJob  TimeFullyProductive   Age  term  emp_length  ...  \\\n",
       "1            1.0                  0.0  34.0    36         6.0  ...   \n",
       "2            1.0                  0.0  34.0    60         6.0  ...   \n",
       "3            1.0                  0.0  24.0    60         5.0  ...   \n",
       "4            0.5                  1.0  24.0    36         2.0  ...   \n",
       "5            0.5                  1.0  34.0    60         5.0  ...   \n",
       "...          ...                  ...   ...   ...         ...  ...   \n",
       "2351         0.5                  1.0  34.0    36         6.0  ...   \n",
       "2352         2.0                  0.0  34.0    60        10.0  ...   \n",
       "2353         2.0                  1.0  34.0    60         1.0  ...   \n",
       "2354         0.5                  3.0  24.0    36         2.0  ...   \n",
       "2355         0.5                  3.0  34.0    36         1.0  ...   \n",
       "\n",
       "      Posting day  updated year  updated month  updated day  process year  \\\n",
       "1            15.0        2019.0           12.0         12.0        2019.0   \n",
       "2             3.0        2018.0            7.0          3.0        2019.0   \n",
       "3            30.0        2019.0           11.0         23.0        2019.0   \n",
       "4            31.0        2019.0           10.0         31.0        2019.0   \n",
       "5            21.0        2019.0           11.0         21.0        2019.0   \n",
       "...           ...           ...            ...          ...           ...   \n",
       "2351         12.0        2017.0           10.0         12.0        2019.0   \n",
       "2352         12.0        2019.0            9.0         12.0        2019.0   \n",
       "2353         11.0        2019.0           10.0         11.0        2019.0   \n",
       "2354         21.0        2019.0           12.0         16.0        2019.0   \n",
       "2355         25.0        2018.0            6.0         25.0        2019.0   \n",
       "\n",
       "      process month  process day  last_pymnt_d_day  last_credit_pull_d_day  \\\n",
       "1              12.0         17.0                18                      18   \n",
       "2              12.0         17.0                16                      18   \n",
       "3              12.0         17.0                17                      17   \n",
       "4              12.0         17.0                17                      19   \n",
       "5              12.0         17.0                16                      17   \n",
       "...             ...          ...               ...                     ...   \n",
       "2351           12.0         17.0                18                      19   \n",
       "2352           12.0         17.0                18                      18   \n",
       "2353           12.0         17.0                17                      19   \n",
       "2354           12.0         17.0                16                      17   \n",
       "2355           12.0         17.0                19                      19   \n",
       "\n",
       "      earliest_year  \n",
       "1                98  \n",
       "2                98  \n",
       "3                 3  \n",
       "4                96  \n",
       "5                 4  \n",
       "...             ...  \n",
       "2351              5  \n",
       "2352              3  \n",
       "2353             94  \n",
       "2354             11  \n",
       "2355             91  \n",
       "\n",
       "[2355 rows x 26 columns]"
      ]
     },
     "execution_count": 103,
     "metadata": {},
     "output_type": "execute_result"
    }
   ],
   "source": [
    "numerical_features"
   ]
  },
  {
   "cell_type": "code",
   "execution_count": 104,
   "id": "rational-dublin",
   "metadata": {},
   "outputs": [
    {
     "data": {
      "text/html": [
       "<div>\n",
       "<style scoped>\n",
       "    .dataframe tbody tr th:only-of-type {\n",
       "        vertical-align: middle;\n",
       "    }\n",
       "\n",
       "    .dataframe tbody tr th {\n",
       "        vertical-align: top;\n",
       "    }\n",
       "\n",
       "    .dataframe thead th {\n",
       "        text-align: right;\n",
       "    }\n",
       "</style>\n",
       "<table border=\"1\" class=\"dataframe\">\n",
       "  <thead>\n",
       "    <tr style=\"text-align: right;\">\n",
       "      <th></th>\n",
       "      <th>id</th>\n",
       "      <th>LOAN_AMT</th>\n",
       "      <th>CompanySize</th>\n",
       "      <th>YearsCoding</th>\n",
       "      <th>YearsCodingProf</th>\n",
       "      <th>LastNewJob</th>\n",
       "      <th>TimeFullyProductive</th>\n",
       "      <th>Age</th>\n",
       "      <th>term</th>\n",
       "      <th>emp_length</th>\n",
       "      <th>...</th>\n",
       "      <th>Posting day</th>\n",
       "      <th>updated year</th>\n",
       "      <th>updated month</th>\n",
       "      <th>updated day</th>\n",
       "      <th>process year</th>\n",
       "      <th>process month</th>\n",
       "      <th>process day</th>\n",
       "      <th>last_pymnt_d_day</th>\n",
       "      <th>last_credit_pull_d_day</th>\n",
       "      <th>earliest_year</th>\n",
       "    </tr>\n",
       "  </thead>\n",
       "  <tbody>\n",
       "    <tr>\n",
       "      <th>count</th>\n",
       "      <td>2.355000e+03</td>\n",
       "      <td>2355.000000</td>\n",
       "      <td>2355.000000</td>\n",
       "      <td>2355.000000</td>\n",
       "      <td>2355.000000</td>\n",
       "      <td>2355.000000</td>\n",
       "      <td>2355.000000</td>\n",
       "      <td>2355.000000</td>\n",
       "      <td>2355.000000</td>\n",
       "      <td>2355.000000</td>\n",
       "      <td>...</td>\n",
       "      <td>2355.000000</td>\n",
       "      <td>2355.000000</td>\n",
       "      <td>2355.000000</td>\n",
       "      <td>2355.000000</td>\n",
       "      <td>2355.0</td>\n",
       "      <td>2355.0</td>\n",
       "      <td>2355.0</td>\n",
       "      <td>2355.000000</td>\n",
       "      <td>2355.000000</td>\n",
       "      <td>2355.000000</td>\n",
       "    </tr>\n",
       "    <tr>\n",
       "      <th>mean</th>\n",
       "      <td>6.829948e+07</td>\n",
       "      <td>15383.375796</td>\n",
       "      <td>1639.622081</td>\n",
       "      <td>8.901911</td>\n",
       "      <td>5.443312</td>\n",
       "      <td>1.522081</td>\n",
       "      <td>1.306157</td>\n",
       "      <td>34.704034</td>\n",
       "      <td>43.307006</td>\n",
       "      <td>6.055626</td>\n",
       "      <td>...</td>\n",
       "      <td>16.319745</td>\n",
       "      <td>2018.581741</td>\n",
       "      <td>9.068790</td>\n",
       "      <td>15.568577</td>\n",
       "      <td>2019.0</td>\n",
       "      <td>12.0</td>\n",
       "      <td>17.0</td>\n",
       "      <td>17.652229</td>\n",
       "      <td>18.327389</td>\n",
       "      <td>45.971550</td>\n",
       "    </tr>\n",
       "    <tr>\n",
       "      <th>std</th>\n",
       "      <td>2.018150e+06</td>\n",
       "      <td>8701.768128</td>\n",
       "      <td>3366.162217</td>\n",
       "      <td>7.246431</td>\n",
       "      <td>6.052629</td>\n",
       "      <td>1.218634</td>\n",
       "      <td>1.646843</td>\n",
       "      <td>6.864532</td>\n",
       "      <td>11.046612</td>\n",
       "      <td>3.535457</td>\n",
       "      <td>...</td>\n",
       "      <td>9.036559</td>\n",
       "      <td>0.947880</td>\n",
       "      <td>2.956845</td>\n",
       "      <td>8.897359</td>\n",
       "      <td>0.0</td>\n",
       "      <td>0.0</td>\n",
       "      <td>0.0</td>\n",
       "      <td>1.076547</td>\n",
       "      <td>0.851453</td>\n",
       "      <td>44.351138</td>\n",
       "    </tr>\n",
       "    <tr>\n",
       "      <th>min</th>\n",
       "      <td>3.617740e+05</td>\n",
       "      <td>1000.000000</td>\n",
       "      <td>0.000000</td>\n",
       "      <td>0.000000</td>\n",
       "      <td>0.000000</td>\n",
       "      <td>0.000000</td>\n",
       "      <td>0.000000</td>\n",
       "      <td>18.000000</td>\n",
       "      <td>36.000000</td>\n",
       "      <td>1.000000</td>\n",
       "      <td>...</td>\n",
       "      <td>1.000000</td>\n",
       "      <td>2011.000000</td>\n",
       "      <td>1.000000</td>\n",
       "      <td>1.000000</td>\n",
       "      <td>2019.0</td>\n",
       "      <td>12.0</td>\n",
       "      <td>17.0</td>\n",
       "      <td>16.000000</td>\n",
       "      <td>15.000000</td>\n",
       "      <td>0.000000</td>\n",
       "    </tr>\n",
       "    <tr>\n",
       "      <th>25%</th>\n",
       "      <td>6.837669e+07</td>\n",
       "      <td>8837.500000</td>\n",
       "      <td>20.000000</td>\n",
       "      <td>3.000000</td>\n",
       "      <td>3.000000</td>\n",
       "      <td>0.500000</td>\n",
       "      <td>1.000000</td>\n",
       "      <td>34.000000</td>\n",
       "      <td>36.000000</td>\n",
       "      <td>3.000000</td>\n",
       "      <td>...</td>\n",
       "      <td>9.000000</td>\n",
       "      <td>2019.000000</td>\n",
       "      <td>7.000000</td>\n",
       "      <td>8.000000</td>\n",
       "      <td>2019.0</td>\n",
       "      <td>12.0</td>\n",
       "      <td>17.0</td>\n",
       "      <td>17.000000</td>\n",
       "      <td>18.000000</td>\n",
       "      <td>3.000000</td>\n",
       "    </tr>\n",
       "    <tr>\n",
       "      <th>50%</th>\n",
       "      <td>6.846527e+07</td>\n",
       "      <td>14225.000000</td>\n",
       "      <td>100.000000</td>\n",
       "      <td>6.000000</td>\n",
       "      <td>3.000000</td>\n",
       "      <td>1.000000</td>\n",
       "      <td>1.000000</td>\n",
       "      <td>34.000000</td>\n",
       "      <td>36.000000</td>\n",
       "      <td>6.000000</td>\n",
       "      <td>...</td>\n",
       "      <td>16.000000</td>\n",
       "      <td>2019.000000</td>\n",
       "      <td>10.000000</td>\n",
       "      <td>15.000000</td>\n",
       "      <td>2019.0</td>\n",
       "      <td>12.0</td>\n",
       "      <td>17.0</td>\n",
       "      <td>18.000000</td>\n",
       "      <td>19.000000</td>\n",
       "      <td>11.000000</td>\n",
       "    </tr>\n",
       "    <tr>\n",
       "      <th>75%</th>\n",
       "      <td>6.854338e+07</td>\n",
       "      <td>20550.000000</td>\n",
       "      <td>1000.000000</td>\n",
       "      <td>12.000000</td>\n",
       "      <td>6.000000</td>\n",
       "      <td>2.000000</td>\n",
       "      <td>1.000000</td>\n",
       "      <td>34.000000</td>\n",
       "      <td>60.000000</td>\n",
       "      <td>10.000000</td>\n",
       "      <td>...</td>\n",
       "      <td>24.000000</td>\n",
       "      <td>2019.000000</td>\n",
       "      <td>11.000000</td>\n",
       "      <td>24.000000</td>\n",
       "      <td>2019.0</td>\n",
       "      <td>12.0</td>\n",
       "      <td>17.0</td>\n",
       "      <td>19.000000</td>\n",
       "      <td>19.000000</td>\n",
       "      <td>94.000000</td>\n",
       "    </tr>\n",
       "    <tr>\n",
       "      <th>max</th>\n",
       "      <td>6.861706e+07</td>\n",
       "      <td>35000.000000</td>\n",
       "      <td>10000.000000</td>\n",
       "      <td>30.000000</td>\n",
       "      <td>30.000000</td>\n",
       "      <td>4.000000</td>\n",
       "      <td>12.000000</td>\n",
       "      <td>64.000000</td>\n",
       "      <td>60.000000</td>\n",
       "      <td>10.000000</td>\n",
       "      <td>...</td>\n",
       "      <td>31.000000</td>\n",
       "      <td>2019.000000</td>\n",
       "      <td>12.000000</td>\n",
       "      <td>31.000000</td>\n",
       "      <td>2019.0</td>\n",
       "      <td>12.0</td>\n",
       "      <td>17.0</td>\n",
       "      <td>19.000000</td>\n",
       "      <td>19.000000</td>\n",
       "      <td>99.000000</td>\n",
       "    </tr>\n",
       "  </tbody>\n",
       "</table>\n",
       "<p>8 rows × 26 columns</p>\n",
       "</div>"
      ],
      "text/plain": [
       "                 id      LOAN_AMT   CompanySize  YearsCoding  YearsCodingProf  \\\n",
       "count  2.355000e+03   2355.000000   2355.000000  2355.000000      2355.000000   \n",
       "mean   6.829948e+07  15383.375796   1639.622081     8.901911         5.443312   \n",
       "std    2.018150e+06   8701.768128   3366.162217     7.246431         6.052629   \n",
       "min    3.617740e+05   1000.000000      0.000000     0.000000         0.000000   \n",
       "25%    6.837669e+07   8837.500000     20.000000     3.000000         3.000000   \n",
       "50%    6.846527e+07  14225.000000    100.000000     6.000000         3.000000   \n",
       "75%    6.854338e+07  20550.000000   1000.000000    12.000000         6.000000   \n",
       "max    6.861706e+07  35000.000000  10000.000000    30.000000        30.000000   \n",
       "\n",
       "        LastNewJob  TimeFullyProductive          Age         term  \\\n",
       "count  2355.000000          2355.000000  2355.000000  2355.000000   \n",
       "mean      1.522081             1.306157    34.704034    43.307006   \n",
       "std       1.218634             1.646843     6.864532    11.046612   \n",
       "min       0.000000             0.000000    18.000000    36.000000   \n",
       "25%       0.500000             1.000000    34.000000    36.000000   \n",
       "50%       1.000000             1.000000    34.000000    36.000000   \n",
       "75%       2.000000             1.000000    34.000000    60.000000   \n",
       "max       4.000000            12.000000    64.000000    60.000000   \n",
       "\n",
       "        emp_length  ...  Posting day  updated year  updated month  \\\n",
       "count  2355.000000  ...  2355.000000   2355.000000    2355.000000   \n",
       "mean      6.055626  ...    16.319745   2018.581741       9.068790   \n",
       "std       3.535457  ...     9.036559      0.947880       2.956845   \n",
       "min       1.000000  ...     1.000000   2011.000000       1.000000   \n",
       "25%       3.000000  ...     9.000000   2019.000000       7.000000   \n",
       "50%       6.000000  ...    16.000000   2019.000000      10.000000   \n",
       "75%      10.000000  ...    24.000000   2019.000000      11.000000   \n",
       "max      10.000000  ...    31.000000   2019.000000      12.000000   \n",
       "\n",
       "       updated day  process year  process month  process day  \\\n",
       "count  2355.000000        2355.0         2355.0       2355.0   \n",
       "mean     15.568577        2019.0           12.0         17.0   \n",
       "std       8.897359           0.0            0.0          0.0   \n",
       "min       1.000000        2019.0           12.0         17.0   \n",
       "25%       8.000000        2019.0           12.0         17.0   \n",
       "50%      15.000000        2019.0           12.0         17.0   \n",
       "75%      24.000000        2019.0           12.0         17.0   \n",
       "max      31.000000        2019.0           12.0         17.0   \n",
       "\n",
       "       last_pymnt_d_day  last_credit_pull_d_day  earliest_year  \n",
       "count       2355.000000             2355.000000    2355.000000  \n",
       "mean          17.652229               18.327389      45.971550  \n",
       "std            1.076547                0.851453      44.351138  \n",
       "min           16.000000               15.000000       0.000000  \n",
       "25%           17.000000               18.000000       3.000000  \n",
       "50%           18.000000               19.000000      11.000000  \n",
       "75%           19.000000               19.000000      94.000000  \n",
       "max           19.000000               19.000000      99.000000  \n",
       "\n",
       "[8 rows x 26 columns]"
      ]
     },
     "execution_count": 104,
     "metadata": {},
     "output_type": "execute_result"
    }
   ],
   "source": [
    "numerical_features.iloc[:,:26].describe()"
   ]
  },
  {
   "cell_type": "code",
   "execution_count": 105,
   "id": "honest-application",
   "metadata": {},
   "outputs": [
    {
     "data": {
      "text/html": [
       "<div>\n",
       "<style scoped>\n",
       "    .dataframe tbody tr th:only-of-type {\n",
       "        vertical-align: middle;\n",
       "    }\n",
       "\n",
       "    .dataframe tbody tr th {\n",
       "        vertical-align: top;\n",
       "    }\n",
       "\n",
       "    .dataframe thead th {\n",
       "        text-align: right;\n",
       "    }\n",
       "</style>\n",
       "<table border=\"1\" class=\"dataframe\">\n",
       "  <thead>\n",
       "    <tr style=\"text-align: right;\">\n",
       "      <th></th>\n",
       "      <th>skewness</th>\n",
       "      <th>kurtosis</th>\n",
       "    </tr>\n",
       "  </thead>\n",
       "  <tbody>\n",
       "    <tr>\n",
       "      <th>id</th>\n",
       "      <td>-32.224626</td>\n",
       "      <td>1080.081456</td>\n",
       "    </tr>\n",
       "    <tr>\n",
       "      <th>LOAN_AMT</th>\n",
       "      <td>0.568100</td>\n",
       "      <td>-0.473943</td>\n",
       "    </tr>\n",
       "    <tr>\n",
       "      <th>CompanySize</th>\n",
       "      <td>1.964057</td>\n",
       "      <td>2.054513</td>\n",
       "    </tr>\n",
       "    <tr>\n",
       "      <th>YearsCoding</th>\n",
       "      <td>1.183036</td>\n",
       "      <td>0.973560</td>\n",
       "    </tr>\n",
       "    <tr>\n",
       "      <th>YearsCodingProf</th>\n",
       "      <td>1.902523</td>\n",
       "      <td>3.876883</td>\n",
       "    </tr>\n",
       "    <tr>\n",
       "      <th>LastNewJob</th>\n",
       "      <td>1.208997</td>\n",
       "      <td>0.034053</td>\n",
       "    </tr>\n",
       "    <tr>\n",
       "      <th>TimeFullyProductive</th>\n",
       "      <td>3.263384</td>\n",
       "      <td>13.815698</td>\n",
       "    </tr>\n",
       "    <tr>\n",
       "      <th>Age</th>\n",
       "      <td>1.116223</td>\n",
       "      <td>3.142858</td>\n",
       "    </tr>\n",
       "    <tr>\n",
       "      <th>term</th>\n",
       "      <td>0.850393</td>\n",
       "      <td>-1.277917</td>\n",
       "    </tr>\n",
       "    <tr>\n",
       "      <th>emp_length</th>\n",
       "      <td>-0.144063</td>\n",
       "      <td>-1.579908</td>\n",
       "    </tr>\n",
       "    <tr>\n",
       "      <th>zip_code</th>\n",
       "      <td>0.154066</td>\n",
       "      <td>-1.355895</td>\n",
       "    </tr>\n",
       "    <tr>\n",
       "      <th>dti</th>\n",
       "      <td>0.201936</td>\n",
       "      <td>-0.567750</td>\n",
       "    </tr>\n",
       "    <tr>\n",
       "      <th>Target A</th>\n",
       "      <td>0.494264</td>\n",
       "      <td>4.361448</td>\n",
       "    </tr>\n",
       "    <tr>\n",
       "      <th>Target B</th>\n",
       "      <td>1.374093</td>\n",
       "      <td>-0.111965</td>\n",
       "    </tr>\n",
       "    <tr>\n",
       "      <th>Posting year</th>\n",
       "      <td>-2.539366</td>\n",
       "      <td>7.232396</td>\n",
       "    </tr>\n",
       "    <tr>\n",
       "      <th>Posting month</th>\n",
       "      <td>-0.859707</td>\n",
       "      <td>-0.261870</td>\n",
       "    </tr>\n",
       "    <tr>\n",
       "      <th>Posting day</th>\n",
       "      <td>-0.031615</td>\n",
       "      <td>-1.241743</td>\n",
       "    </tr>\n",
       "    <tr>\n",
       "      <th>updated year</th>\n",
       "      <td>-2.714228</td>\n",
       "      <td>8.294218</td>\n",
       "    </tr>\n",
       "    <tr>\n",
       "      <th>updated month</th>\n",
       "      <td>-1.052717</td>\n",
       "      <td>0.195702</td>\n",
       "    </tr>\n",
       "    <tr>\n",
       "      <th>updated day</th>\n",
       "      <td>0.099242</td>\n",
       "      <td>-1.227579</td>\n",
       "    </tr>\n",
       "    <tr>\n",
       "      <th>process year</th>\n",
       "      <td>0.000000</td>\n",
       "      <td>0.000000</td>\n",
       "    </tr>\n",
       "    <tr>\n",
       "      <th>process month</th>\n",
       "      <td>0.000000</td>\n",
       "      <td>0.000000</td>\n",
       "    </tr>\n",
       "    <tr>\n",
       "      <th>process day</th>\n",
       "      <td>0.000000</td>\n",
       "      <td>0.000000</td>\n",
       "    </tr>\n",
       "    <tr>\n",
       "      <th>last_pymnt_d_day</th>\n",
       "      <td>-0.142309</td>\n",
       "      <td>-1.258024</td>\n",
       "    </tr>\n",
       "    <tr>\n",
       "      <th>last_credit_pull_d_day</th>\n",
       "      <td>-1.052309</td>\n",
       "      <td>0.207614</td>\n",
       "    </tr>\n",
       "    <tr>\n",
       "      <th>earliest_year</th>\n",
       "      <td>0.113875</td>\n",
       "      <td>-1.950206</td>\n",
       "    </tr>\n",
       "  </tbody>\n",
       "</table>\n",
       "</div>"
      ],
      "text/plain": [
       "                         skewness     kurtosis\n",
       "id                     -32.224626  1080.081456\n",
       "LOAN_AMT                 0.568100    -0.473943\n",
       "CompanySize              1.964057     2.054513\n",
       "YearsCoding              1.183036     0.973560\n",
       "YearsCodingProf          1.902523     3.876883\n",
       "LastNewJob               1.208997     0.034053\n",
       "TimeFullyProductive      3.263384    13.815698\n",
       "Age                      1.116223     3.142858\n",
       "term                     0.850393    -1.277917\n",
       "emp_length              -0.144063    -1.579908\n",
       "zip_code                 0.154066    -1.355895\n",
       "dti                      0.201936    -0.567750\n",
       "Target A                 0.494264     4.361448\n",
       "Target B                 1.374093    -0.111965\n",
       "Posting year            -2.539366     7.232396\n",
       "Posting month           -0.859707    -0.261870\n",
       "Posting day             -0.031615    -1.241743\n",
       "updated year            -2.714228     8.294218\n",
       "updated month           -1.052717     0.195702\n",
       "updated day              0.099242    -1.227579\n",
       "process year             0.000000     0.000000\n",
       "process month            0.000000     0.000000\n",
       "process day              0.000000     0.000000\n",
       "last_pymnt_d_day        -0.142309    -1.258024\n",
       "last_credit_pull_d_day  -1.052309     0.207614\n",
       "earliest_year            0.113875    -1.950206"
      ]
     },
     "execution_count": 105,
     "metadata": {},
     "output_type": "execute_result"
    }
   ],
   "source": [
    "#skewness & kurtosis\n",
    "pd.DataFrame({\"skewness\":numerical_features.skew(),\"kurtosis\":numerical_features.kurt()})"
   ]
  },
  {
   "cell_type": "markdown",
   "id": "approved-steering",
   "metadata": {},
   "source": [
    "<h4>If skewness is less than −1 or greater than +1, the distribution is highly skewed. If skewness is between −1 and −½ or between +½ and +1, the distribution is moderately skewed. If skewness is between −½ and +½, the distribution is approximately symmetric"
   ]
  },
  {
   "cell_type": "code",
   "execution_count": 106,
   "id": "portuguese-prediction",
   "metadata": {},
   "outputs": [
    {
     "data": {
      "text/plain": [
       "26"
      ]
     },
     "execution_count": 106,
     "metadata": {},
     "output_type": "execute_result"
    }
   ],
   "source": [
    "len(numerical_features.columns.to_list())"
   ]
  },
  {
   "cell_type": "code",
   "execution_count": 691,
   "id": "asian-porcelain",
   "metadata": {},
   "outputs": [
    {
     "data": {
      "image/png": "[encoded data removed]",
      "text/plain": [
       "<Figure size 1152x1440 with 25 Axes>"
      ]
     },
     "metadata": {},
     "output_type": "display_data"
    }
   ],
   "source": [
    "fig, axs = plt.subplots(5,5, figsize=(16, 20), facecolor='w', edgecolor='k')\n",
    "fig.subplots_adjust(hspace = .5, wspace=.001)\n",
    "axs = axs.ravel()\n",
    "\n",
    "for i,j in zip([i for i in numerical_features.columns.to_list()[1:] if len(i) >2],range(26)):\n",
    "    axs[j].hist(numerical_features[i])\n",
    "    axs[j].set_title(i+': '+str(np.round(numerical_features[i].skew(),2)))"
   ]
  },
  {
   "cell_type": "markdown",
   "id": "comparative-treasure",
   "metadata": {},
   "source": [
    "<h3><ul>\n",
    "    <li>LOAN_AMT is Normally Distibuted</li><br>\n",
    "    <li>DTI is normally distributed</li><br>\n",
    "    <li>last_pymnt_amnt is right skewed</li><br>\n",
    "    <li>Target A is Normally distributed</li><br>\n",
    "    <li>Target B is Moderately right skewed (More examples with Zero response)</li><br>\n",
    "    <li>yearscoding is Moderately right skewed</li><br>\n",
    "    <li>yearscodingprof is Moderately right skewed</li><br>\n",
    "    <li>updatedmonth is Moderately left skewed</li>"
   ]
  },
  {
   "cell_type": "code",
   "execution_count": 692,
   "id": "executive-jason",
   "metadata": {},
   "outputs": [
    {
     "data": {
      "text/plain": [
       "0    1844\n",
       "1     511\n",
       "Name: Target B, dtype: int64"
      ]
     },
     "execution_count": 692,
     "metadata": {},
     "output_type": "execute_result"
    }
   ],
   "source": [
    "numerical_features['Target B'].value_counts()"
   ]
  },
  {
   "cell_type": "code",
   "execution_count": 693,
   "id": "geological-timeline",
   "metadata": {},
   "outputs": [
    {
     "data": {
      "image/png": "[encoded data removed]",
      "text/plain": [
       "<Figure size 1008x1440 with 10 Axes>"
      ]
     },
     "metadata": {
      "needs_background": "light"
     },
     "output_type": "display_data"
    }
   ],
   "source": [
    "fig, ((ax1, ax2), (ax3, ax4), (ax5, ax6), (ax7, ax8), (ax9,ax10)) = plt.subplots(nrows=5, ncols=2, figsize=(14,20))\n",
    "AX = [ax1, ax2, ax3, ax4, ax5, ax6, ax7, ax8, ax9, ax10]\n",
    "for i,j in zip([i for i in numerical_features.columns.to_list()[1:] if len(i)>3],AX):\n",
    "    sns.boxplot(x='Target B',y=i,data=numerical_features,ax=j)"
   ]
  },
  {
   "cell_type": "markdown",
   "id": "secure-campaign",
   "metadata": {},
   "source": [
    "<h3>Less laon_amt more chances of target b being 1\n",
    "    no significant relation other thing are showing"
   ]
  },
  {
   "cell_type": "code",
   "execution_count": 694,
   "id": "personalized-milwaukee",
   "metadata": {},
   "outputs": [
    {
     "data": {
      "text/plain": [
       "<AxesSubplot:>"
      ]
     },
     "execution_count": 694,
     "metadata": {},
     "output_type": "execute_result"
    },
    {
     "data": {
      "image/png": "[encoded data removed]",
      "text/plain": [
       "<Figure size 864x648 with 2 Axes>"
      ]
     },
     "metadata": {
      "needs_background": "light"
     },
     "output_type": "display_data"
    }
   ],
   "source": [
    "f, ax = plt.subplots(figsize=(12, 9))\n",
    "sns.heatmap(numerical_features.corr())"
   ]
  },
  {
   "cell_type": "code",
   "execution_count": 695,
   "id": "composed-relay",
   "metadata": {},
   "outputs": [
    {
     "name": "stderr",
     "output_type": "stream",
     "text": [
      "C:\\Users\\DELL\\anaconda3\\lib\\site-packages\\statsmodels\\regression\\linear_model.py:1715: RuntimeWarning: divide by zero encountered in double_scalars\n",
      "  return 1 - self.ssr/self.centered_tss\n"
     ]
    },
    {
     "data": {
      "text/html": [
       "<div>\n",
       "<style scoped>\n",
       "    .dataframe tbody tr th:only-of-type {\n",
       "        vertical-align: middle;\n",
       "    }\n",
       "\n",
       "    .dataframe tbody tr th {\n",
       "        vertical-align: top;\n",
       "    }\n",
       "\n",
       "    .dataframe thead th {\n",
       "        text-align: right;\n",
       "    }\n",
       "</style>\n",
       "<table border=\"1\" class=\"dataframe\">\n",
       "  <thead>\n",
       "    <tr style=\"text-align: right;\">\n",
       "      <th></th>\n",
       "      <th>VIF Factor</th>\n",
       "      <th>features</th>\n",
       "    </tr>\n",
       "  </thead>\n",
       "  <tbody>\n",
       "    <tr>\n",
       "      <th>0</th>\n",
       "      <td>1.005679</td>\n",
       "      <td>id</td>\n",
       "    </tr>\n",
       "    <tr>\n",
       "      <th>1</th>\n",
       "      <td>1.238909</td>\n",
       "      <td>LOAN_AMT</td>\n",
       "    </tr>\n",
       "    <tr>\n",
       "      <th>2</th>\n",
       "      <td>1.020495</td>\n",
       "      <td>CompanySize</td>\n",
       "    </tr>\n",
       "    <tr>\n",
       "      <th>3</th>\n",
       "      <td>2.932085</td>\n",
       "      <td>YearsCoding</td>\n",
       "    </tr>\n",
       "    <tr>\n",
       "      <th>4</th>\n",
       "      <td>3.397725</td>\n",
       "      <td>YearsCodingProf</td>\n",
       "    </tr>\n",
       "    <tr>\n",
       "      <th>5</th>\n",
       "      <td>1.249645</td>\n",
       "      <td>LastNewJob</td>\n",
       "    </tr>\n",
       "    <tr>\n",
       "      <th>6</th>\n",
       "      <td>1.042878</td>\n",
       "      <td>TimeFullyProductive</td>\n",
       "    </tr>\n",
       "    <tr>\n",
       "      <th>7</th>\n",
       "      <td>2.036736</td>\n",
       "      <td>Age</td>\n",
       "    </tr>\n",
       "    <tr>\n",
       "      <th>8</th>\n",
       "      <td>1.239956</td>\n",
       "      <td>term</td>\n",
       "    </tr>\n",
       "    <tr>\n",
       "      <th>9</th>\n",
       "      <td>1.030722</td>\n",
       "      <td>emp_length</td>\n",
       "    </tr>\n",
       "    <tr>\n",
       "      <th>10</th>\n",
       "      <td>1.018911</td>\n",
       "      <td>zip_code</td>\n",
       "    </tr>\n",
       "    <tr>\n",
       "      <th>11</th>\n",
       "      <td>1.019201</td>\n",
       "      <td>dti</td>\n",
       "    </tr>\n",
       "    <tr>\n",
       "      <th>12</th>\n",
       "      <td>1.010899</td>\n",
       "      <td>Target A</td>\n",
       "    </tr>\n",
       "    <tr>\n",
       "      <th>13</th>\n",
       "      <td>1.019412</td>\n",
       "      <td>Target B</td>\n",
       "    </tr>\n",
       "    <tr>\n",
       "      <th>14</th>\n",
       "      <td>27.751900</td>\n",
       "      <td>Posting year</td>\n",
       "    </tr>\n",
       "    <tr>\n",
       "      <th>15</th>\n",
       "      <td>3.572298</td>\n",
       "      <td>Posting month</td>\n",
       "    </tr>\n",
       "    <tr>\n",
       "      <th>16</th>\n",
       "      <td>1.462392</td>\n",
       "      <td>Posting day</td>\n",
       "    </tr>\n",
       "    <tr>\n",
       "      <th>17</th>\n",
       "      <td>27.208954</td>\n",
       "      <td>updated year</td>\n",
       "    </tr>\n",
       "    <tr>\n",
       "      <th>18</th>\n",
       "      <td>3.832224</td>\n",
       "      <td>updated month</td>\n",
       "    </tr>\n",
       "    <tr>\n",
       "      <th>19</th>\n",
       "      <td>1.469586</td>\n",
       "      <td>updated day</td>\n",
       "    </tr>\n",
       "    <tr>\n",
       "      <th>20</th>\n",
       "      <td>0.000000</td>\n",
       "      <td>process year</td>\n",
       "    </tr>\n",
       "    <tr>\n",
       "      <th>21</th>\n",
       "      <td>0.000000</td>\n",
       "      <td>process month</td>\n",
       "    </tr>\n",
       "    <tr>\n",
       "      <th>22</th>\n",
       "      <td>0.000000</td>\n",
       "      <td>process day</td>\n",
       "    </tr>\n",
       "    <tr>\n",
       "      <th>23</th>\n",
       "      <td>1.346641</td>\n",
       "      <td>last_pymnt_d_day</td>\n",
       "    </tr>\n",
       "    <tr>\n",
       "      <th>24</th>\n",
       "      <td>1.351162</td>\n",
       "      <td>last_credit_pull_d_day</td>\n",
       "    </tr>\n",
       "    <tr>\n",
       "      <th>25</th>\n",
       "      <td>1.055381</td>\n",
       "      <td>earliest_year</td>\n",
       "    </tr>\n",
       "  </tbody>\n",
       "</table>\n",
       "</div>"
      ],
      "text/plain": [
       "    VIF Factor                features\n",
       "0     1.005679                      id\n",
       "1     1.238909                LOAN_AMT\n",
       "2     1.020495             CompanySize\n",
       "3     2.932085             YearsCoding\n",
       "4     3.397725         YearsCodingProf\n",
       "5     1.249645              LastNewJob\n",
       "6     1.042878     TimeFullyProductive\n",
       "7     2.036736                     Age\n",
       "8     1.239956                    term\n",
       "9     1.030722              emp_length\n",
       "10    1.018911                zip_code\n",
       "11    1.019201                     dti\n",
       "12    1.010899                Target A\n",
       "13    1.019412                Target B\n",
       "14   27.751900            Posting year\n",
       "15    3.572298           Posting month\n",
       "16    1.462392             Posting day\n",
       "17   27.208954            updated year\n",
       "18    3.832224           updated month\n",
       "19    1.469586             updated day\n",
       "20    0.000000            process year\n",
       "21    0.000000           process month\n",
       "22    0.000000             process day\n",
       "23    1.346641        last_pymnt_d_day\n",
       "24    1.351162  last_credit_pull_d_day\n",
       "25    1.055381           earliest_year"
      ]
     },
     "execution_count": 695,
     "metadata": {},
     "output_type": "execute_result"
    }
   ],
   "source": [
    "from statsmodels.stats.outliers_influence import variance_inflation_factor\n",
    "vif = pd.DataFrame()\n",
    "vif[\"VIF Factor\"] = [variance_inflation_factor(numerical_features.values, i) for i in range(numerical_features.shape[1])]\n",
    "vif[\"features\"] = numerical_features.columns\n",
    "vif"
   ]
  },
  {
   "cell_type": "markdown",
   "id": "improved-complaint",
   "metadata": {},
   "source": [
    "<h3>categorical_features"
   ]
  },
  {
   "cell_type": "code",
   "execution_count": 696,
   "id": "unique-surfing",
   "metadata": {},
   "outputs": [
    {
     "data": {
      "text/plain": [
       "((2355, 21),\n",
       " Index(['FormalEducation', 'UndergradMajor', 'JobSearchStatus',\n",
       "        'CommunicationTools', 'AgreeDisagree1', 'AgreeDisagree2',\n",
       "        'AgreeDisagree3', 'FrameworkWorkedWith', 'OperatingSystem',\n",
       "        'VersionControl', 'CheckInCode', 'AIDangerous', 'AIInteresting',\n",
       "        'AIResponsible', 'AIFuture', 'loan_status', 'purpose', 'title',\n",
       "        'addr_state', 'last_pymnt_d_mon', 'last_credit_pull_d_mon'],\n",
       "       dtype='object'))"
      ]
     },
     "execution_count": 696,
     "metadata": {},
     "output_type": "execute_result"
    }
   ],
   "source": [
    "categorical_features.shape, categorical_features.columns"
   ]
  },
  {
   "cell_type": "code",
   "execution_count": 697,
   "id": "unable-verse",
   "metadata": {},
   "outputs": [
    {
     "name": "stdout",
     "output_type": "stream",
     "text": [
      "Total unique values for FormalEducation 10\n",
      "Value Counts for FormalEducation \n",
      " BD     1160\n",
      "MD      578\n",
      "CU      246\n",
      "SS      143\n",
      "AD       69\n",
      "DD       62\n",
      "n/a      43\n",
      "PD       34\n",
      "PE       12\n",
      "NO        8\n",
      "Name: FormalEducation, dtype: int64 \n",
      "\n",
      "Total unique values for UndergradMajor 11\n",
      "Value Counts for UndergradMajor \n",
      " computers     1415\n",
      "n/a            258\n",
      "IT             193\n",
      "other          161\n",
      "science         96\n",
      "maths           65\n",
      "business        54\n",
      "humanities      34\n",
      "social          31\n",
      "arts            31\n",
      "others          17\n",
      "Name: UndergradMajor, dtype: int64 \n",
      "\n",
      "Total unique values for JobSearchStatus 3\n",
      "Value Counts for JobSearchStatus \n",
      " deactive    1436\n",
      "No           608\n",
      "active       311\n",
      "Name: JobSearchStatus, dtype: int64 \n",
      "\n",
      "Total unique values for CommunicationTools 11\n",
      "Value Counts for CommunicationTools \n",
      " Confluence                                                            716\n",
      "Office                                                                401\n",
      "Google Hangouts                                                       301\n",
      "Slack                                                                 295\n",
      "Jira                                                                  287\n",
      "Facebook                                                              175\n",
      "Other chat system (IRC, proprietary software, etc.)                    90\n",
      "Other wiki tool (Github, Google Sites, proprietary software, etc.)     32\n",
      "HipChat                                                                25\n",
      "Trello                                                                 23\n",
      "Stack Overflow Enterprise                                              10\n",
      "Name: CommunicationTools, dtype: int64 \n",
      "\n",
      "Total unique values for AgreeDisagree1 5\n",
      "Value Counts for AgreeDisagree1 \n",
      " Agree                         1265\n",
      "Neither Agree nor Disagree     479\n",
      "Strongly agree                 420\n",
      "Disagree                       136\n",
      "Strongly disagree               55\n",
      "Name: AgreeDisagree1, dtype: int64 \n",
      "\n",
      "Total unique values for AgreeDisagree2 5\n",
      "Value Counts for AgreeDisagree2 \n",
      " Neither Agree nor Disagree    656\n",
      "Agree                         633\n",
      "Disagree                      596\n",
      "Strongly disagree             289\n",
      "Strongly agree                181\n",
      "Name: AgreeDisagree2, dtype: int64 \n",
      "\n",
      "Total unique values for AgreeDisagree3 5\n",
      "Value Counts for AgreeDisagree3 \n",
      " Disagree                      843\n",
      "Strongly disagree             564\n",
      "Neither Agree nor Disagree    539\n",
      "Agree                         333\n",
      "Strongly agree                 76\n",
      "Name: AgreeDisagree3, dtype: int64 \n",
      "\n",
      "Total unique values for FrameworkWorkedWith 10\n",
      "Value Counts for FrameworkWorkedWith \n",
      " web                 2044\n",
      "web and big data      92\n",
      "web and ML            90\n",
      "ML                    68\n",
      "big data              35\n",
      "full                  15\n",
      "ML and big data        7\n",
      "data science           2\n",
      "ML aand big data       1\n",
      "wen and ML             1\n",
      "Name: FrameworkWorkedWith, dtype: int64 \n",
      "\n",
      "Total unique values for OperatingSystem 4\n",
      "Value Counts for OperatingSystem \n",
      " Windows        1124\n",
      "MacOS           681\n",
      "Linux-based     545\n",
      "BSD/Unix          5\n",
      "Name: OperatingSystem, dtype: int64 \n",
      "\n",
      "Total unique values for VersionControl 7\n",
      "Value Counts for VersionControl \n",
      " Git                                            2050\n",
      "Subversion                                       92\n",
      "Team Foundation Version Control                  78\n",
      "I don't use version control                      63\n",
      "Copying and pasting files to network shares      40\n",
      "Zip file back-ups                                18\n",
      "Mercurial                                        14\n",
      "Name: VersionControl, dtype: int64 \n",
      "\n",
      "Total unique values for CheckInCode 6\n",
      "Value Counts for CheckInCode \n",
      " Multiple times per day             1484\n",
      "A few times per week                422\n",
      "Once a day                          219\n",
      "Weekly or a few times per month     146\n",
      "Less than once per month             54\n",
      "Never                                30\n",
      "Name: CheckInCode, dtype: int64 \n",
      "\n",
      "Total unique values for AIDangerous 4\n",
      "Value Counts for AIDangerous \n",
      " Algorithms making important decisions                                        730\n",
      "Evolving definitions of \"fairness\" in algorithmic versus human decisions     587\n",
      "Artificial intelligence surpassing human intelligence (\"the singularity\")    585\n",
      "Increasing automation of jobs                                                453\n",
      "Name: AIDangerous, dtype: int64 \n",
      "\n",
      "Total unique values for AIInteresting 4\n",
      "Value Counts for AIInteresting \n",
      " Increasing automation of jobs                                                1006\n",
      "Artificial intelligence surpassing human intelligence (\"the singularity\")     544\n",
      "Algorithms making important decisions                                         510\n",
      "Evolving definitions of \"fairness\" in algorithmic versus human decisions      295\n",
      "Name: AIInteresting, dtype: int64 \n",
      "\n",
      "Total unique values for AIResponsible 4\n",
      "Value Counts for AIResponsible \n",
      " The developers or the people creating the AI    1130\n",
      "A governmental or other regulatory body          677\n",
      "Prominent industry leaders                       364\n",
      "Nobody                                           184\n",
      "Name: AIResponsible, dtype: int64 \n",
      "\n",
      "Total unique values for AIFuture 3\n",
      "Value Counts for AIFuture \n",
      " I'm excited about the possibilities more than worried about the dangers.        1701\n",
      "I'm worried about the dangers more than I'm excited about the possibilities.     440\n",
      "I don't care about it, or I haven't thought about it.                            214\n",
      "Name: AIFuture, dtype: int64 \n",
      "\n",
      "Total unique values for loan_status 6\n",
      "Value Counts for loan_status \n",
      " Fully Paid            1716\n",
      "Charged Off            370\n",
      "Current                256\n",
      "Late (31-120 days)      10\n",
      "In Grace Period          2\n",
      "Late (16-30 days)        1\n",
      "Name: loan_status, dtype: int64 \n",
      "\n",
      "Total unique values for purpose 11\n",
      "Value Counts for purpose \n",
      " debt_consolidation    1377\n",
      "credit_card            568\n",
      "home_improvement       138\n",
      "other                  122\n",
      "major_purchase          43\n",
      "small_business          26\n",
      "car                     25\n",
      "medical                 17\n",
      "house                   15\n",
      "vacation                13\n",
      "moving                  11\n",
      "Name: purpose, dtype: int64 \n",
      "\n",
      "Total unique values for title 11\n",
      "Value Counts for title \n",
      " Debt consolidation         1376\n",
      "Credit card refinancing     572\n",
      "Home improvement            138\n",
      "Other                       117\n",
      "Major purchase               43\n",
      "Business                     27\n",
      "Car financing                25\n",
      "Medical expenses             17\n",
      "Home buying                  16\n",
      "Vacation                     13\n",
      "Moving and relocation        11\n",
      "Name: title, dtype: int64 \n",
      "\n",
      "Total unique values for addr_state 48\n",
      "Value Counts for addr_state \n",
      " CA    278\n",
      "TX    197\n",
      "NY    184\n",
      "FL    156\n",
      "OH     92\n",
      "IL     85\n",
      "MD     83\n",
      "GA     79\n",
      "VA     78\n",
      "NJ     78\n",
      "PA     77\n",
      "MA     69\n",
      "NC     67\n",
      "MI     65\n",
      "AZ     53\n",
      "WA     51\n",
      "CO     49\n",
      "MO     47\n",
      "MN     44\n",
      "TN     43\n",
      "CT     40\n",
      "IN     38\n",
      "AL     37\n",
      "SC     32\n",
      "NV     31\n",
      "OR     30\n",
      "LA     29\n",
      "WI     25\n",
      "AR     24\n",
      "KY     23\n",
      "KS     23\n",
      "MS     16\n",
      "HI     15\n",
      "OK     15\n",
      "RI     13\n",
      "ME     11\n",
      "WV     11\n",
      "DE     10\n",
      "NM      9\n",
      "NE      9\n",
      "VT      8\n",
      "NH      8\n",
      "UT      5\n",
      "MT      5\n",
      "DC      4\n",
      "SD      4\n",
      "AK      3\n",
      "ND      2\n",
      "Name: addr_state, dtype: int64 \n",
      "\n",
      "Total unique values for last_pymnt_d_mon 12\n",
      "Value Counts for last_pymnt_d_mon \n",
      " Jan    457\n",
      "Feb    365\n",
      "Mar    248\n",
      "Dec    193\n",
      "Sep    142\n",
      "Aug    138\n",
      "May    138\n",
      "Jul    138\n",
      "Jun    135\n",
      "Oct    134\n",
      "Nov    134\n",
      "Apr    133\n",
      "Name: last_pymnt_d_mon, dtype: int64 \n",
      "\n",
      "Total unique values for last_credit_pull_d_mon 12\n",
      "Value Counts for last_credit_pull_d_mon \n",
      " Mar    1098\n",
      "Dec     233\n",
      "Jan     194\n",
      "Feb     182\n",
      "Jul     116\n",
      "Oct     114\n",
      "Nov      95\n",
      "Sep      81\n",
      "Aug      80\n",
      "Apr      63\n",
      "May      55\n",
      "Jun      44\n",
      "Name: last_credit_pull_d_mon, dtype: int64 \n",
      "\n"
     ]
    }
   ],
   "source": [
    "for i in categorical_features.columns.to_list():\n",
    "    print(\"Total unique values for\",i,len(categorical_features[i].unique()))\n",
    "    print(\"Value Counts for\",i,'\\n',categorical_features[i].value_counts(),'\\n')"
   ]
  },
  {
   "cell_type": "code",
   "execution_count": 698,
   "id": "eleven-failing",
   "metadata": {},
   "outputs": [
    {
     "data": {
      "image/png": "[encoded data removed]",
      "text/plain": [
       "<Figure size 1008x720 with 6 Axes>"
      ]
     },
     "metadata": {
      "needs_background": "light"
     },
     "output_type": "display_data"
    }
   ],
   "source": [
    "fig, ((ax1, ax2), (ax3, ax4), (ax5, ax6)) = plt.subplots(nrows=3, ncols=2, figsize=(14,10))\n",
    "AX = [ax1, ax2, ax3, ax4, ax5]\n",
    "\n",
    "for i,j in zip(categorical_features.columns.to_list(),AX):\n",
    "    temp = pd.crosstab(df_train[i],df_train['Target B'])\n",
    "    temp.plot(kind='bar',stacked=True,color=['red','green'],grid=False,ax=j)"
   ]
  },
  {
   "cell_type": "code",
   "execution_count": 699,
   "id": "improving-profile",
   "metadata": {},
   "outputs": [
    {
     "name": "stdout",
     "output_type": "stream",
     "text": [
      "Target B           0    1\n",
      "FormalEducation          \n",
      "AD                52   17\n",
      "BD               908  252\n",
      "CU               188   58\n",
      "DD                49   13\n",
      "MD               450  128\n",
      "NO                 7    1\n",
      "PD                29    5\n",
      "PE                 9    3\n",
      "SS               120   23\n",
      "n/a               32   11\n",
      "Target B           0    1\n",
      "UndergradMajor           \n",
      "IT               153   40\n",
      "arts              30    1\n",
      "business          44   10\n",
      "computers       1114  301\n",
      "humanities        26    8\n",
      "maths             52   13\n",
      "n/a              207   51\n",
      "other            114   47\n",
      "others            12    5\n",
      "science           73   23\n",
      "social            19   12\n",
      "Target B            0    1\n",
      "JobSearchStatus           \n",
      "No                476  132\n",
      "active            246   65\n",
      "deactive         1122  314\n",
      "Target B                                              0    1\n",
      "CommunicationTools                                          \n",
      "Confluence                                          544  172\n",
      "Facebook                                            127   48\n",
      "Google Hangouts                                     244   57\n",
      "HipChat                                              19    6\n",
      "Jira                                                228   59\n",
      "Office                                              308   93\n",
      "Other chat system (IRC, proprietary software, e...   73   17\n",
      "Other wiki tool (Github, Google Sites, propriet...   27    5\n",
      "Slack                                               251   44\n",
      "Stack Overflow Enterprise                             8    2\n",
      "Trello                                               15    8\n",
      "Target B                      0    1\n",
      "AgreeDisagree1                      \n",
      "Agree                       982  283\n",
      "Disagree                    111   25\n",
      "Neither Agree nor Disagree  367  112\n",
      "Strongly agree              339   81\n",
      "Strongly disagree            45   10\n",
      "Target B                      0    1\n",
      "AgreeDisagree2                      \n",
      "Agree                       481  152\n",
      "Disagree                    470  126\n",
      "Neither Agree nor Disagree  517  139\n",
      "Strongly agree              141   40\n",
      "Strongly disagree           235   54\n",
      "Target B                      0    1\n",
      "AgreeDisagree3                      \n",
      "Agree                       255   78\n",
      "Disagree                    665  178\n",
      "Neither Agree nor Disagree  414  125\n",
      "Strongly agree               61   15\n",
      "Strongly disagree           449  115\n",
      "Target B                0    1\n",
      "FrameworkWorkedWith           \n",
      "ML                     56   12\n",
      "ML aand big data        1    0\n",
      "ML and big data         5    2\n",
      "big data               24   11\n",
      "data science            1    1\n",
      "full                   11    4\n",
      "web                  1599  445\n",
      "web and ML             77   13\n",
      "web and big data       69   23\n",
      "wen and ML              1    0\n",
      "Target B           0    1\n",
      "OperatingSystem          \n",
      "BSD/Unix           5    0\n",
      "Linux-based      450   95\n",
      "MacOS            531  150\n",
      "Windows          858  266\n",
      "Target B                                        0    1\n",
      "VersionControl                                        \n",
      "Copying and pasting files to network shares    30   10\n",
      "Git                                          1614  436\n",
      "I don't use version control                    45   18\n",
      "Mercurial                                      10    4\n",
      "Subversion                                     70   22\n",
      "Team Foundation Version Control                61   17\n",
      "Zip file back-ups                              14    4\n",
      "Target B                            0    1\n",
      "CheckInCode                               \n",
      "A few times per week              325   97\n",
      "Less than once per month           41   13\n",
      "Multiple times per day           1178  306\n",
      "Never                              19   11\n",
      "Once a day                        174   45\n",
      "Weekly or a few times per month   107   39\n",
      "Target B                                              0    1\n",
      "AIDangerous                                                 \n",
      "Algorithms making important decisions               565  165\n",
      "Artificial intelligence surpassing human intell...  437  148\n",
      "Evolving definitions of \"fairness\" in algorithm...  482  105\n",
      "Increasing automation of jobs                       360   93\n",
      "Target B                                              0    1\n",
      "AIInteresting                                               \n",
      "Algorithms making important decisions               401  109\n",
      "Artificial intelligence surpassing human intell...  428  116\n",
      "Evolving definitions of \"fairness\" in algorithm...  228   67\n",
      "Increasing automation of jobs                       787  219\n",
      "Target B                                        0    1\n",
      "AIResponsible                                         \n",
      "A governmental or other regulatory body       528  149\n",
      "Nobody                                        143   41\n",
      "Prominent industry leaders                    283   81\n",
      "The developers or the people creating the AI  890  240\n",
      "Target B                                               0    1\n",
      "AIFuture                                                     \n",
      "I don't care about it, or I haven't thought abo...   163   51\n",
      "I'm excited about the possibilities more than w...  1345  356\n",
      "I'm worried about the dangers more than I'm exc...   336  104\n",
      "Target B               0    1\n",
      "loan_status                  \n",
      "Charged Off          284   86\n",
      "Current              201   55\n",
      "Fully Paid          1350  366\n",
      "In Grace Period        1    1\n",
      "Late (16-30 days)      0    1\n",
      "Late (31-120 days)     8    2\n",
      "Target B               0    1\n",
      "purpose                      \n",
      "car                   17    8\n",
      "credit_card          469   99\n",
      "debt_consolidation  1072  305\n",
      "home_improvement     106   32\n",
      "house                  8    7\n",
      "major_purchase        30   13\n",
      "medical               12    5\n",
      "moving                 6    5\n",
      "other                 99   23\n",
      "small_business        16   10\n",
      "vacation               9    4\n",
      "Target B                    0    1\n",
      "title                             \n",
      "Business                   17   10\n",
      "Car financing              17    8\n",
      "Credit card refinancing   471  101\n",
      "Debt consolidation       1072  304\n",
      "Home buying                 9    7\n",
      "Home improvement          106   32\n",
      "Major purchase             30   13\n",
      "Medical expenses           12    5\n",
      "Moving and relocation       6    5\n",
      "Other                      95   22\n",
      "Vacation                    9    4\n",
      "Target B      0   1\n",
      "addr_state         \n",
      "AK            2   1\n",
      "AL           30   7\n",
      "AR           16   8\n",
      "AZ           42  11\n",
      "CA          237  41\n",
      "CO           41   8\n",
      "CT           31   9\n",
      "DC            2   2\n",
      "DE            7   3\n",
      "FL          121  35\n",
      "GA           59  20\n",
      "HI           12   3\n",
      "IL           73  12\n",
      "IN           30   8\n",
      "KS           18   5\n",
      "KY           17   6\n",
      "LA           21   8\n",
      "MA           51  18\n",
      "MD           60  23\n",
      "ME           10   1\n",
      "MI           47  18\n",
      "MN           32  12\n",
      "MO           38   9\n",
      "MS           13   3\n",
      "MT            5   0\n",
      "NC           54  13\n",
      "ND            2   0\n",
      "NE            7   2\n",
      "NH            7   1\n",
      "NJ           52  26\n",
      "NM            5   4\n",
      "NV           26   5\n",
      "NY          148  36\n",
      "OH           68  24\n",
      "OK           11   4\n",
      "OR           23   7\n",
      "PA           58  19\n",
      "RI           13   0\n",
      "SC           22  10\n",
      "SD            2   2\n",
      "TN           32  11\n",
      "TX          154  43\n",
      "UT            5   0\n",
      "VA           63  15\n",
      "VT            7   1\n",
      "WA           42   9\n",
      "WI           20   5\n",
      "WV            8   3\n",
      "Target B            0    1\n",
      "last_pymnt_d_mon          \n",
      "Apr               106   27\n",
      "Aug               106   32\n",
      "Dec               151   42\n",
      "Feb               287   78\n",
      "Jan               354  103\n",
      "Jul                97   41\n",
      "Jun               104   31\n",
      "Mar               210   38\n",
      "May               110   28\n",
      "Nov               102   32\n",
      "Oct               105   29\n",
      "Sep               112   30\n",
      "Target B                  0    1\n",
      "last_credit_pull_d_mon          \n",
      "Apr                      49   14\n",
      "Aug                      66   14\n",
      "Dec                     175   58\n",
      "Feb                     134   48\n",
      "Jan                     158   36\n",
      "Jul                      88   28\n",
      "Jun                      38    6\n",
      "Mar                     861  237\n",
      "May                      45   10\n",
      "Nov                      76   19\n",
      "Oct                      88   26\n",
      "Sep                      66   15\n"
     ]
    }
   ],
   "source": [
    "for i in categorical_features.columns.to_list():\n",
    "    print(pd.crosstab(df_train[i],df_train['Target B']))"
   ]
  },
  {
   "cell_type": "markdown",
   "id": "artistic-stomach",
   "metadata": {},
   "source": [
    "Target B is 1 when:\n",
    "<li>FormalEducation is Bachelores degree(BD) or Masters Degree(MD)</li>\n",
    "<li>UndergradMajor is Computers</li>\n",
    "<li>Job search status is deactive</li>\n",
    "<li>Communication tools is confluency or office</li>\n",
    "<li>AgreeDisagree1 is agree or Neither Agree nor Disagree </li>\n",
    "<li>AgreeDisagree2 is Agree or Disagree or Neither Agree nor Disagree</li>\n",
    "<li>AgreeDisagree3 is Disagree or Neither Agree nor Disagree</li>\n",
    "<li>FrameworkWorkedWith is web</li>\n",
    "<li>OperatingSystem is windows or macOS</li>\n",
    "<li>Version control is git</li>\n",
    "<li>CheckIn code is Multiple times per day</li>\n",
    "<li>Loan status Fully Paid</li>\n",
    "<li>Purpose debt_consolidation</li>\n",
    "<li>title is Debt consolidation</li>\n",
    "<li>last_pymnt_d_mon is Ja</li>\n",
    "<li>last_credit_pull_d_mon is Mar<li>"
   ]
  },
  {
   "cell_type": "code",
   "execution_count": 101,
   "id": "standing-keyboard",
   "metadata": {},
   "outputs": [],
   "source": [
    "df_train['FormalEducationNew'] = df_train['FormalEducation'].apply(lambda x:1if (x=='BD') or (x=='MD') else 0)\n",
    "df_train['UndergradMajor_new'] = df_train['UndergradMajor'].apply(lambda x: 1 if (x == 'computers') else 0)\n",
    "df_train['JobSearchStatusNew'] = df_train['JobSearchStatus'].apply(lambda x:1if (x=='deactive')else 0)\n",
    "df_train['CommunicationTools_new'] = df_train['CommunicationTools'].apply(lambda x: 1 if (x == 'Confluence') or (x=='office') else 0)\n",
    "df_train['AgreeDisagree1New'] = df_train['AgreeDisagree1'].apply(lambda x:1 if (x=='Agree') or (x=='Neither Agree nor Disagree') else 0)\n",
    "df_train['AgreeDisagree2_new'] = df_train['AgreeDisagree2'].apply(lambda x: 1 if (x == 'Agree') or (x=='Disagree or Neither Agree nor Disagree') else 0)\n",
    "df_train['AgreeDisagree3New'] = df_train['AgreeDisagree3'].apply(lambda x:1 if (x == 'Disagree') or (x=='Disagree or Neither Agree nor Disagree') else 0)\n",
    "df_train['FrameworkWorkedWith_new'] = df_train['FrameworkWorkedWith'].apply(lambda x: 1 if (x == 'web') else 0)\n",
    "df_train['OperatingSystemNew'] = df_train['OperatingSystem'].apply(lambda x:1if (x=='Windows') or (x=='MacOS') else 0)\n",
    "df_train['VersionControl_new'] = df_train['VersionControl'].apply(lambda x: 1 if (x == 'Git') else 0)\n",
    "df_train['CheckInCodeNew'] = df_train['CheckInCode'].apply(lambda x:1if (x=='Multiple times per day') else 0)\n",
    "df_train['loan_status_new'] = df_train['loan_status'].apply(lambda x: 1 if (x == 'Fully Paid') else 0)\n",
    "df_train['purpose_new'] = df_train['purpose'].apply(lambda x: 1 if (x == 'debt_consolidation') else 0)\n",
    "df_train['titleNew'] = df_train['title'].apply(lambda x:1if (x=='Debt consolidation') else 0)\n",
    "df_train['last_pymnt_d_mon_new'] = df_train['last_pymnt_d_mon'].apply(lambda x: 1 if (x == 'Jan') else 0)\n",
    "df_train['last_credit_pull_d_mon_new'] = df_train['last_credit_pull_d_mon'].apply(lambda x: 1 if (x == 'Mar') else 0)"
   ]
  },
  {
   "cell_type": "code",
   "execution_count": 102,
   "id": "authorized-spelling",
   "metadata": {},
   "outputs": [],
   "source": [
    "df_test['FormalEducationNew'] = df_test['FormalEducation'].apply(lambda x:1if (x=='BD') or (x=='MD') else 0)\n",
    "df_test['UndergradMajor_new'] = df_test['UndergradMajor'].apply(lambda x: 1 if (x == 'computers') else 0)\n",
    "df_test['JobSearchStatusNew'] = df_test['JobSearchStatus'].apply(lambda x:1if (x=='deactive')else 0)\n",
    "df_test['CommunicationTools_new'] = df_test['CommunicationTools'].apply(lambda x: 1 if (x == 'Confluence') or (x=='office') else 0)\n",
    "df_test['AgreeDisagree1New'] = df_test['AgreeDisagree1'].apply(lambda x:1 if (x=='Agree') or (x=='Neither Agree nor Disagree') else 0)\n",
    "df_test['AgreeDisagree2_new'] = df_test['AgreeDisagree2'].apply(lambda x: 1 if (x == 'Agree') or (x=='Disagree or Neither Agree nor Disagree') else 0)\n",
    "df_test['AgreeDisagree3New'] = df_test['AgreeDisagree3'].apply(lambda x:1 if (x == 'Disagree') or (x=='Disagree or Neither Agree nor Disagree') else 0)\n",
    "df_test['FrameworkWorkedWith_new'] = df_test['FrameworkWorkedWith'].apply(lambda x: 1 if (x == 'web') else 0)\n",
    "df_test['OperatingSystemNew'] = df_test['OperatingSystem'].apply(lambda x:1if (x=='Windows') or (x=='MacOS') else 0)\n",
    "df_test['VersionControl_new'] = df_test['VersionControl'].apply(lambda x: 1 if (x == 'Git') else 0)\n",
    "df_test['CheckInCodeNew'] = df_test['CheckInCode'].apply(lambda x:1if (x=='Multiple times per day') else 0)\n",
    "df_test['loan_status_new'] = df_test['loan_status'].apply(lambda x: 1 if (x == 'Fully Paid') else 0)\n",
    "df_test['purpose_new'] = df_test['purpose'].apply(lambda x: 1 if (x == 'debt_consolidation') else 0)\n",
    "df_test['titleNew'] = df_test['title'].apply(lambda x:1if (x=='Debt consolidation') else 0)\n",
    "df_test['last_pymnt_d_mon_new'] = df_test['last_pymnt_d_mon'].apply(lambda x: 1 if (x == 'Jan') else 0)\n",
    "df_test['last_credit_pull_d_mon_new'] = df_test['last_credit_pull_d_mon'].apply(lambda x: 1 if (x == 'Mar') else 0)"
   ]
  },
  {
   "cell_type": "code",
   "execution_count": 103,
   "id": "relative-dancing",
   "metadata": {},
   "outputs": [
    {
     "data": {
      "text/plain": [
       "((2355, 74), (588, 74))"
      ]
     },
     "execution_count": 103,
     "metadata": {},
     "output_type": "execute_result"
    }
   ],
   "source": [
    "df_train.shape,df_test.shape"
   ]
  },
  {
   "cell_type": "code",
   "execution_count": 104,
   "id": "annual-domain",
   "metadata": {},
   "outputs": [],
   "source": [
    "from sklearn.preprocessing import LabelEncoder\n",
    "x=['FormalEducation', 'UndergradMajor', 'JobSearchStatus',\n",
    "        'CommunicationTools', 'AgreeDisagree1', 'AgreeDisagree2',\n",
    "        'AgreeDisagree3', 'FrameworkWorkedWith', 'OperatingSystem',\n",
    "        'VersionControl', 'CheckInCode', 'AIDangerous', 'AIInteresting',\n",
    "        'AIResponsible', 'AIFuture', 'loan_status', 'purpose', 'title',\n",
    "        'addr_state', 'last_pymnt_d_mon', 'last_credit_pull_d_mon']\n",
    "for i in x:\n",
    "  le = LabelEncoder()\n",
    "  df_train[i] = le.fit_transform(df_train[i])\n",
    "  df_train[i]=df_train[i]+1\n",
    "  df_test[i] = le.fit_transform(df_test[i])\n",
    "  df_test[i]=df_test[i]+1\n"
   ]
  },
  {
   "cell_type": "markdown",
   "id": "compact-liberia",
   "metadata": {},
   "source": []
  },
  {
   "cell_type": "code",
   "execution_count": 105,
   "id": "flying-trader",
   "metadata": {},
   "outputs": [
    {
     "name": "stdout",
     "output_type": "stream",
     "text": [
      "[ True  True False False False  True  True  True  True  True  True  True\n",
      "  True  True  True  True  True False False False False False False  True\n",
      " False False  True  True  True  True  True  True  True  True  True  True\n",
      "  True  True  True  True  True  True  True  True  True  True  True  True\n",
      "  True  True False False False  True  True  True  True  True  True  True\n",
      "  True  True  True  True  True  True  True  True  True  True  True  True\n",
      "  True  True]\n"
     ]
    }
   ],
   "source": [
    "from sklearn.feature_selection import VarianceThreshold\n",
    "selector=VarianceThreshold(0.01)\n",
    "selector.fit(df_train)\n",
    "print(selector.get_support())"
   ]
  },
  {
   "cell_type": "code",
   "execution_count": 106,
   "id": "champion-turner",
   "metadata": {},
   "outputs": [
    {
     "name": "stdout",
     "output_type": "stream",
     "text": [
      "['Business Title', 'Civil Service Title', 'Division/Work Unit', 'LanguageWorkedWith', 'LanguageDesireNextYear', 'DatabaseWorkedWith', 'DatabaseDesireNextYear', 'PlatformWorkedWith', 'PlatformDesireNextYear', 'FrameworkDesireNextYear', 'IDE', 'process year', 'process month', 'process day']\n"
     ]
    }
   ],
   "source": [
    "constant_columns=[column for column in df_train.columns if column not in df_train.columns[selector.get_support()]]\n",
    "print(constant_columns)"
   ]
  },
  {
   "cell_type": "code",
   "execution_count": 107,
   "id": "mobile-substance",
   "metadata": {},
   "outputs": [],
   "source": [
    "df_train.drop(constant_columns,axis=1,inplace=True)\n",
    "df_test.drop(constant_columns,axis=1,inplace=True)"
   ]
  },
  {
   "cell_type": "code",
   "execution_count": null,
   "id": "relevant-mobile",
   "metadata": {},
   "outputs": [],
   "source": []
  },
  {
   "cell_type": "code",
   "execution_count": 108,
   "id": "governing-remove",
   "metadata": {},
   "outputs": [
    {
     "data": {
      "text/plain": [
       "6"
      ]
     },
     "execution_count": 108,
     "metadata": {},
     "output_type": "execute_result"
    }
   ],
   "source": [
    "def correlation(dataset, threshold):\n",
    "    set=[]  # Set of all the names of correlated columns\n",
    "    corr_matrix = dataset.corr()\n",
    "    for i in range(len(corr_matrix.columns)):\n",
    "        for j in range(i):\n",
    "            if abs(corr_matrix.iloc[i, j]) > threshold: # we are interested in absolute coeff value\n",
    "                colname = corr_matrix.columns[i]  # getting the name of column\n",
    "                set.append(colname)\n",
    "    return set\n",
    "cols=correlation(df_train,0.8)\n",
    "len(cols)"
   ]
  },
  {
   "cell_type": "code",
   "execution_count": 109,
   "id": "polished-defensive",
   "metadata": {},
   "outputs": [
    {
     "data": {
      "text/plain": [
       "['updated year',\n",
       " 'updated month',\n",
       " 'JobSearchStatusNew',\n",
       " 'OperatingSystemNew',\n",
       " 'loan_status_new',\n",
       " 'titleNew']"
      ]
     },
     "execution_count": 109,
     "metadata": {},
     "output_type": "execute_result"
    }
   ],
   "source": [
    "cols"
   ]
  },
  {
   "cell_type": "code",
   "execution_count": 110,
   "id": "fiscal-pursuit",
   "metadata": {},
   "outputs": [],
   "source": [
    "df_train.drop(cols,axis=1,inplace=True)\n",
    "df_test.drop(cols,axis=1,inplace=True)"
   ]
  },
  {
   "cell_type": "code",
   "execution_count": 111,
   "id": "bridal-sheriff",
   "metadata": {},
   "outputs": [
    {
     "data": {
      "text/plain": [
       "((2355, 54), (588, 54))"
      ]
     },
     "execution_count": 111,
     "metadata": {},
     "output_type": "execute_result"
    }
   ],
   "source": [
    "df_train.shape,df_test.shape"
   ]
  },
  {
   "cell_type": "code",
   "execution_count": 112,
   "id": "intimate-stephen",
   "metadata": {},
   "outputs": [],
   "source": [
    "df_train.reset_index(drop=True,inplace=True)\n",
    "df_test.reset_index(drop=True,inplace=True)"
   ]
  },
  {
   "cell_type": "code",
   "execution_count": 113,
   "id": "further-biotechnology",
   "metadata": {},
   "outputs": [],
   "source": [
    "df_train.drop(['AIInteresting'],axis=1,inplace=True)\n",
    "df_test.drop(['AIInteresting'],axis=1,inplace=True)"
   ]
  },
  {
   "cell_type": "code",
   "execution_count": 114,
   "id": "labeled-heath",
   "metadata": {},
   "outputs": [],
   "source": [
    "df_train.drop(['id'],axis=1,inplace=True)\n",
    "df_test.drop(['id'],axis=1,inplace=True)"
   ]
  },
  {
   "cell_type": "markdown",
   "id": "painted-spotlight",
   "metadata": {},
   "source": []
  },
  {
   "cell_type": "code",
   "execution_count": 115,
   "id": "specific-thailand",
   "metadata": {},
   "outputs": [],
   "source": [
    "df_train['Std'] = df_train.std(axis=1).round(2)\n",
    "df_train['quantile1'] = df_train.quantile(q=0.01,axis=1).round(2)\n",
    "df_train['quantile3'] = df_train.quantile(q=0.25,axis=1).round(2)\n",
    "df_train['quantile5'] = df_train.quantile(q=0.50,axis=1).round(2)                                              \n",
    "df_train['Mean'] = df_train.mean(axis=1).round(2)"
   ]
  },
  {
   "cell_type": "code",
   "execution_count": 116,
   "id": "approximate-detector",
   "metadata": {},
   "outputs": [],
   "source": [
    "#df_test\n",
    "df_test['Std'] = df_test.std(axis=1).round(2)\n",
    "df_test['quantile1'] = df_test.quantile(q=0.01,axis=1).round(2)\n",
    "df_test['quantile3'] = df_test.quantile(q=0.25,axis=1).round(2)\n",
    "df_test['quantile5'] = df_test.quantile(q=0.50,axis=1).round(2)                                              \n",
    "df_test['Mean'] = df_test.mean(axis=1).round(2)"
   ]
  },
  {
   "cell_type": "markdown",
   "id": "absent-royalty",
   "metadata": {},
   "source": [
    "<h3>TARGET A"
   ]
  },
  {
   "cell_type": "code",
   "execution_count": 117,
   "id": "rural-manual",
   "metadata": {},
   "outputs": [],
   "source": [
    "df_train3=df_train.drop(['Target A'],axis=1)\n",
    "rmse_preds=df_test[['Target A','Target B']]\n",
    "df_test3=df_test.drop(['Target A'],axis=1)"
   ]
  },
  {
   "cell_type": "code",
   "execution_count": 118,
   "id": "widespread-vertex",
   "metadata": {},
   "outputs": [],
   "source": [
    "final_train = sparse.hstack((df_train3,ty_jb,ty_jbc,ty_mqr,ty_mqrc,ty_ps,ty_psc,ty_ai,ty_aic,ty_dt,ty_dtc,ty_et,ty_etc,ty_stt,ty_sttc,ty_m,ty_mc,ty_ta,ty_tac,ty_rr,ty_rrc,ty_ucv,ty_ucvc,ty_hfy,ty_hfyc)).tocsr()\n",
    "final_test = sparse.hstack((df_test3,ty_jbs,ty_jbcs,ty_mqrs,ty_mqrcs,ty_pss,ty_pscs,ty_ais,ty_aics,ty_dts,ty_dtcs,ty_ets,ty_etcs,ty_stts,ty_sttcs,ty_ms,ty_mcs,ty_tas,ty_tacs,ty_rrs,ty_rrcs,ty_ucvs,ty_ucvcs,ty_hfys,ty_hfycs)).tocsr()"
   ]
  },
  {
   "cell_type": "markdown",
   "id": "express-antarctica",
   "metadata": {},
   "source": [
    "<h3>Target B"
   ]
  },
  {
   "cell_type": "code",
   "execution_count": 119,
   "id": "suspected-cleaners",
   "metadata": {},
   "outputs": [],
   "source": [
    "df_train4=df_train.drop(['Target B'],axis=1)\n",
    "rmse_preds=df_test[['Target A','Target B']]\n",
    "df_test4=df_test.drop(['Target B'],axis=1)"
   ]
  },
  {
   "cell_type": "code",
   "execution_count": 120,
   "id": "changing-sunrise",
   "metadata": {},
   "outputs": [],
   "source": [
    "final_train2 = sparse.hstack((df_train4,ty_jb,ty_jbc,ty_mqr,ty_mqrc,ty_ps,ty_psc,ty_ai,ty_aic,ty_dt,ty_dtc,ty_et,ty_etc,ty_stt,ty_sttc,ty_m,ty_mc,ty_ta,ty_tac,ty_rr,ty_rrc,ty_ucv,ty_ucvc,ty_hfy,ty_hfyc)).tocsr()\n",
    "final_test2 = sparse.hstack((df_test4,ty_jbs,ty_jbcs,ty_mqrs,ty_mqrcs,ty_pss,ty_pscs,ty_ais,ty_aics,ty_dts,ty_dtcs,ty_ets,ty_etcs,ty_stts,ty_sttcs,ty_ms,ty_mcs,ty_tas,ty_tacs,ty_rrs,ty_rrcs,ty_ucvs,ty_ucvcs,ty_hfys,ty_hfycs)).tocsr()"
   ]
  },
  {
   "cell_type": "code",
   "execution_count": null,
   "id": "heard-terrorist",
   "metadata": {},
   "outputs": [],
   "source": []
  },
  {
   "cell_type": "code",
   "execution_count": 121,
   "id": "revised-outline",
   "metadata": {},
   "outputs": [
    {
     "data": {
      "text/plain": [
       "((2355, 56), (588, 56))"
      ]
     },
     "execution_count": 121,
     "metadata": {},
     "output_type": "execute_result"
    }
   ],
   "source": [
    "df_train4.shape,df_test4.shape"
   ]
  },
  {
   "cell_type": "code",
   "execution_count": null,
   "id": "regulation-retreat",
   "metadata": {},
   "outputs": [],
   "source": []
  },
  {
   "cell_type": "code",
   "execution_count": null,
   "id": "isolated-swaziland",
   "metadata": {},
   "outputs": [],
   "source": []
  },
  {
   "cell_type": "code",
   "execution_count": 122,
   "id": "naval-event",
   "metadata": {},
   "outputs": [],
   "source": [
    "from sklearn.metrics import mean_squared_error\n",
    "import math"
   ]
  },
  {
   "cell_type": "code",
   "execution_count": 123,
   "id": "sweet-garage",
   "metadata": {},
   "outputs": [],
   "source": [
    "target=df_train['Target A']\n",
    "target2=df_train['Target B']"
   ]
  },
  {
   "cell_type": "code",
   "execution_count": 124,
   "id": "alleged-reception",
   "metadata": {},
   "outputs": [],
   "source": [
    "X_trn, X_val, y_trn, y_val = train_test_split(final_train, target, test_size=0.05, random_state=121)\n",
    "X_test = final_test"
   ]
  },
  {
   "cell_type": "code",
   "execution_count": 125,
   "id": "certified-radio",
   "metadata": {},
   "outputs": [],
   "source": [
    "X_trn2, X_val2, y_trn2, y_val2 = train_test_split(final_train2, target2, test_size=0.05, random_state=121)\n",
    "X_test2 = final_test2"
   ]
  },
  {
   "cell_type": "markdown",
   "id": "middle-search",
   "metadata": {},
   "source": [
    "<h3>Light GBM"
   ]
  },
  {
   "cell_type": "code",
   "execution_count": 126,
   "id": "academic-burke",
   "metadata": {},
   "outputs": [],
   "source": [
    "from lightgbm import LGBMRegressor\n",
    "lgbm=LGBMRegressor()\n",
    "def learning_rate_010_decay_power_0995(current_iter): \n",
    "    base_learning_rate = 0.0009\n",
    "    lr = base_learning_rate * np.power(.995, current_iter) \n",
    "    return lr if lr > 1e-4 else 1e-4"
   ]
  },
  {
   "cell_type": "code",
   "execution_count": 129,
   "id": "weekly-hypothetical",
   "metadata": {},
   "outputs": [
    {
     "name": "stderr",
     "output_type": "stream",
     "text": [
      "C:\\Users\\DELL\\anaconda3\\lib\\site-packages\\lightgbm\\engine.py:151: UserWarning: Found `num_iterations` in params. Will use it instead of argument\n",
      "  warnings.warn(\"Found `{}` in params. Will use it instead of argument\".format(alias))\n",
      "C:\\Users\\DELL\\anaconda3\\lib\\site-packages\\lightgbm\\engine.py:156: UserWarning: Found `early_stopping_round` in params. Will use it instead of argument\n",
      "  warnings.warn(\"Found `{}` in params. Will use it instead of argument\".format(alias))\n"
     ]
    },
    {
     "name": "stdout",
     "output_type": "stream",
     "text": [
      "[LightGBM] [Warning] Auto-choosing col-wise multi-threading, the overhead of testing was 6.891061 seconds.\n",
      "You can set `force_col_wise=true` to remove the overhead.\n",
      "[LightGBM] [Info] Total Bins 7185911\n",
      "[LightGBM] [Info] Number of data points in the train set: 2237, number of used features: 251244\n",
      "[LightGBM] [Info] Start training from score 58852.892570\n",
      "Training until validation scores don't improve for 200 rounds\n",
      "[100]\tvalid_0's rmse: 1484.74\n",
      "[200]\tvalid_0's rmse: 1122.18\n",
      "[300]\tvalid_0's rmse: 1054.9\n",
      "[400]\tvalid_0's rmse: 1043.37\n",
      "[500]\tvalid_0's rmse: 1041.91\n",
      "[600]\tvalid_0's rmse: 1041.63\n",
      "[700]\tvalid_0's rmse: 1041.57\n",
      "Early stopping, best iteration is:\n",
      "[554]\tvalid_0's rmse: 1041.33\n",
      "RMSE: 1041.329647387242\n"
     ]
    }
   ],
   "source": [
    "import lightgbm as lgb\n",
    "train_data = lgb.Dataset(X_trn, label=y_trn)\n",
    "test_data = lgb.Dataset(X_val, label=y_val)\n",
    "\n",
    "param = {'objective': 'regression',\n",
    "         'boosting': 'gbdt',  \n",
    "         'metric': 'l2_root',\n",
    "         'learning_rate': 0.1, \n",
    "         'num_iterations': 3000,\n",
    "         'num_leaves': 69,\n",
    "         'max_depth': -1,\n",
    "         'min_data_in_leaf': 11,\n",
    "         'bagging_fraction': 0.90,\n",
    "         'bagging_freq': 1,\n",
    "         'bagging_seed': 3,\n",
    "         'feature_fraction': 0.90,\n",
    "         'feature_fraction_seed': 2,\n",
    "         'early_stopping_round': 200,\n",
    "         'max_bin': 1000\n",
    "         }\n",
    "\n",
    "lgbm = lgb.train(params=param, verbose_eval=100, train_set=train_data, valid_sets=[test_data])\n",
    "\n",
    "y_pred_lgbm = lgbm.predict(X_val)\n",
    "print('RMSE:', math.sqrt((mean_squared_error((y_val), (y_pred_lgbm)))))"
   ]
  },
  {
   "cell_type": "code",
   "execution_count": 146,
   "id": "silver-might",
   "metadata": {},
   "outputs": [
    {
     "name": "stdout",
     "output_type": "stream",
     "text": [
      "1507.0416533156351\n"
     ]
    }
   ],
   "source": [
    "preds=lgbm.predict(final_test)\n",
    "ytest33=rmse_preds['Target A']\n",
    "print(math.sqrt(mean_squared_error(ytest33,preds)))"
   ]
  },
  {
   "cell_type": "code",
   "execution_count": 2,
   "id": "operating-composer",
   "metadata": {},
   "outputs": [],
   "source": [
    "from sklearn.metrics import f1_score\n",
    "def lgb_f1_score(y_hat, data):\n",
    "    y_true = data.get_label()\n",
    "    y_hat = np.round(y_hat) # scikits f1 doesn't like probabilities\n",
    "    return 'f1', f1_score(y_true, y_hat), True"
   ]
  },
  {
   "cell_type": "code",
   "execution_count": null,
   "id": "unavailable-field",
   "metadata": {},
   "outputs": [],
   "source": [
    "print('F1 score:', lgb_f1_score((y_val2), (y_pred_lgbm2)))"
   ]
  },
  {
   "cell_type": "code",
   "execution_count": null,
   "id": "warming-malta",
   "metadata": {},
   "outputs": [],
   "source": [
    "from catboost import CatBoostClassifier\n",
    "cat = CatBoostClassifier(#loss_function='CrossEntropy', \n",
    "                         eval_metric='F1', \n",
    "                         #classes_count=2,\n",
    "                         depth=3,\n",
    "                         random_seed=121, \n",
    "                         iterations=1000, \n",
    "                         learning_rate=0.4,\n",
    "                         leaf_estimation_iterations=1,\n",
    "                         l2_leaf_reg=1,\n",
    "                         bootstrap_type='Bayesian', \n",
    "                         bagging_temperature=1, \n",
    "                         random_strength=1,\n",
    "                         od_type='Iter', \n",
    "                         border_count=100,\n",
    "                         od_wait=500)\n",
    "cat.fit(X_trn2, y_trn2, verbose=100,\n",
    "        use_best_model=True,\n",
    "        eval_set=[(X_trn2, y_trn2),(X_val2, y_val2)],\n",
    "        plot=False)\n",
    "predictions = cat.predict(X_val2)\n",
    "print('f1 score:', f1_score(y_val2, predictions))"
   ]
  },
  {
   "cell_type": "code",
   "execution_count": null,
   "id": "quantitative-communications",
   "metadata": {},
   "outputs": [
    {
     "name": "stderr",
     "output_type": "stream",
     "text": [
      "C:\\Users\\DELL\\anaconda3\\lib\\site-packages\\lightgbm\\engine.py:151: UserWarning: Found `num_trees` in params. Will use it instead of argument\n",
      "  warnings.warn(\"Found `{}` in params. Will use it instead of argument\".format(alias))\n"
     ]
    },
    {
     "name": "stdout",
     "output_type": "stream",
     "text": [
      "[LightGBM] [Warning] Unknown parameter: depth\n",
      "[LightGBM] [Warning] min_data_in_leaf is set=0, min_child_samples=20 will be ignored. Current value: min_data_in_leaf=0\n",
      "[LightGBM] [Warning] min_gain_to_split is set=0, min_split_gain=0.0 will be ignored. Current value: min_gain_to_split=0\n",
      "[LightGBM] [Warning] min_sum_hessian_in_leaf is set=0, min_child_weight=0.001 will be ignored. Current value: min_sum_hessian_in_leaf=0\n",
      "[LightGBM] [Warning] num_threads is set=16, n_jobs=-1 will be ignored. Current value: num_threads=16\n",
      "[LightGBM] [Warning] num_iterations is set=500, num_trees=500 will be ignored. Current value: num_iterations=500\n",
      "[LightGBM] [Warning] Cannot set both min_data_in_leaf and min_sum_hessian_in_leaf to 0. Will set min_data_in_leaf to 1.\n",
      "[LightGBM] [Warning] Unknown parameter: depth\n",
      "[LightGBM] [Warning] min_data_in_leaf is set=0, min_child_samples=20 will be ignored. Current value: min_data_in_leaf=0\n",
      "[LightGBM] [Warning] min_gain_to_split is set=0, min_split_gain=0.0 will be ignored. Current value: min_gain_to_split=0\n",
      "[LightGBM] [Warning] min_sum_hessian_in_leaf is set=0, min_child_weight=0.001 will be ignored. Current value: min_sum_hessian_in_leaf=0\n",
      "[LightGBM] [Warning] num_threads is set=16, n_jobs=-1 will be ignored. Current value: num_threads=16\n",
      "[LightGBM] [Warning] Cannot set both min_data_in_leaf and min_sum_hessian_in_leaf to 0. Will set min_data_in_leaf to 1.\n",
      "[LightGBM] [Info] Number of positive: 511, number of negative: 1844\n",
      "[LightGBM] [Debug] Dataset::GetMultiBinFromSparseFeatures: sparse rate 0.977164\n",
      "[LightGBM] [Debug] Dataset::GetMultiBinFromAllFeatures: sparse rate 0.962950\n",
      "[LightGBM] [Debug] init for col-wise cost 20.530888 seconds, init for row-wise cost 21.190064 seconds\n",
      "[LightGBM] [Warning] Auto-choosing col-wise multi-threading, the overhead of testing was 21.938846 seconds.\n",
      "You can set `force_col_wise=true` to remove the overhead.\n",
      "[LightGBM] [Info] Total Bins 8931179\n",
      "[LightGBM] [Warning] bad allocation\n",
      "[LightGBM] [Warning] bad allocation\n",
      "[LightGBM] [Warning] bad allocation\n",
      "[LightGBM] [Warning] bad allocation\n",
      "[LightGBM] [Warning] bad allocation\n",
      "[LightGBM] [Warning] bad allocation\n",
      "[LightGBM] [Warning] bad allocation\n",
      "[LightGBM] [Warning] bad allocation\n"
     ]
    }
   ],
   "source": [
    "from lightgbm import LGBMClassifier\n",
    "model = LGBMClassifier(verbose=100,boosting_type='gbdt',n_estimators=1000,depth=10,learning_rate=.01,\n",
    "                       objective='binary',is_unbalance=True,colsample_bytree=0.3,reg_lambda=0,\n",
    "                       reg_alpha=0,min_gain_to_split=0,random_state=121,n_jobs=-1,num_leaves = 250,num_trees = 500,num_threads = 16,\n",
    "                       min_data_in_leaf = 0,min_sum_hessian_in_leaf = 0,max_bin=200) \n",
    "clf = model.fit(final_train2,target2)"
   ]
  },
  {
   "cell_type": "code",
   "execution_count": 135,
   "id": "supreme-rings",
   "metadata": {},
   "outputs": [
    {
     "ename": "NameError",
     "evalue": "name 'lgbm2' is not defined",
     "output_type": "error",
     "traceback": [
      "\u001b[1;31m---------------------------------------------------------------------------\u001b[0m",
      "\u001b[1;31mNameError\u001b[0m                                 Traceback (most recent call last)",
      "\u001b[1;32m<ipython-input-135-bcf8b4a1443a>\u001b[0m in \u001b[0;36m<module>\u001b[1;34m\u001b[0m\n\u001b[1;32m----> 1\u001b[1;33m \u001b[0mpredsb\u001b[0m\u001b[1;33m=\u001b[0m\u001b[0mlgbm2\u001b[0m\u001b[1;33m.\u001b[0m\u001b[0mpredict\u001b[0m\u001b[1;33m(\u001b[0m\u001b[0mfinal_test2\u001b[0m\u001b[1;33m)\u001b[0m\u001b[1;33m\u001b[0m\u001b[1;33m\u001b[0m\u001b[0m\n\u001b[0m\u001b[0;32m      2\u001b[0m \u001b[1;32mfrom\u001b[0m \u001b[0msklearn\u001b[0m\u001b[1;33m.\u001b[0m\u001b[0mmetrics\u001b[0m \u001b[1;32mimport\u001b[0m \u001b[0mf1_score\u001b[0m\u001b[1;33m\u001b[0m\u001b[1;33m\u001b[0m\u001b[0m\n\u001b[0;32m      3\u001b[0m \u001b[0mf1_score\u001b[0m\u001b[1;33m(\u001b[0m\u001b[0mrmse_preds\u001b[0m\u001b[1;33m[\u001b[0m\u001b[1;34m'Target B'\u001b[0m\u001b[1;33m]\u001b[0m\u001b[1;33m,\u001b[0m \u001b[0mpredsb\u001b[0m\u001b[1;33m,\u001b[0m \u001b[0maverage\u001b[0m\u001b[1;33m=\u001b[0m\u001b[1;34m'weighted'\u001b[0m\u001b[1;33m)\u001b[0m\u001b[1;33m\u001b[0m\u001b[1;33m\u001b[0m\u001b[0m\n",
      "\u001b[1;31mNameError\u001b[0m: name 'lgbm2' is not defined"
     ]
    }
   ],
   "source": [
    "predsb=lgbm2.predict(final_test2)\n",
    "from sklearn.metrics import f1_score\n",
    "f1_score(rmse_preds['Target B'], predsb, average='weighted')"
   ]
  },
  {
   "cell_type": "code",
   "execution_count": null,
   "id": "white-passing",
   "metadata": {},
   "outputs": [],
   "source": [
    "from catboost import CatBoostRegressor\n",
    "X=final_train\n",
    "y=target\n",
    "\n",
    "errmain=[]\n",
    "y_pred_main=[]\n",
    "\n",
    "#For Stacking\n",
    "cb_train_res = pd.DataFrame()\n",
    "cb_test_res = pd.DataFrame()\n",
    "\n",
    "i=0\n",
    "from sklearn.model_selection import KFold,StratifiedKFold\n",
    "fold=KFold(n_splits=4,shuffle=True,random_state=121)\n",
    "for train_index, test_index in fold.split(X):\n",
    "    X_train, X_test = X[train_index], X[test_index]\n",
    "    y_train, y_test = y[train_index], y[test_index]\n",
    "    \n",
    "    depth = 5\n",
    "    rf=CatBoostRegressor(n_estimators=2000,eval_metric='RMSE',learning_rate=0.005,max_depth=depth)\n",
    "    rf.fit(X_train,y_train,eval_set=[(X_test, y_test.values)],\n",
    "           verbose=200,\n",
    "           early_stopping_rounds=50\n",
    "          )\n",
    "    pr=rf.predict(X_test)\n",
    "    print(\"errmain: \",np.sqrt(mean_squared_error((y_test.values),(pr))))\n",
    "    \n",
    "    errmain.append(np.sqrt(mean_squared_error((y_test.values),(pr))))\n",
    "    pp = rf.predict(final_test)\n",
    "    print(pp.shape)\n",
    "    y_pred_main.append(pp)\n",
    "    \n",
    "    cb_train_res[\"iteration_\"+str(i)] = rf.predict(X)\n",
    "    cb_test_res[\"iteration_\"+str(i)] = rf.predict(final_test)\n",
    "    i=i+1"
   ]
  },
  {
   "cell_type": "code",
   "execution_count": null,
   "id": "falling-crazy",
   "metadata": {},
   "outputs": [],
   "source": [
    "np.mean(y_pred_main,0)"
   ]
  },
  {
   "cell_type": "code",
   "execution_count": null,
   "id": "driven-remainder",
   "metadata": {},
   "outputs": [],
   "source": []
  },
  {
   "cell_type": "code",
   "execution_count": 130,
   "id": "dynamic-beatles",
   "metadata": {},
   "outputs": [],
   "source": []
  },
  {
   "cell_type": "code",
   "execution_count": null,
   "id": "liquid-default",
   "metadata": {},
   "outputs": [],
   "source": []
  },
  {
   "cell_type": "code",
   "execution_count": null,
   "id": "polish-animation",
   "metadata": {},
   "outputs": [],
   "source": []
  },
  {
   "cell_type": "code",
   "execution_count": null,
   "id": "enabling-cedar",
   "metadata": {},
   "outputs": [],
   "source": []
  },
  {
   "cell_type": "code",
   "execution_count": null,
   "id": "desperate-sender",
   "metadata": {},
   "outputs": [],
   "source": []
  },
  {
   "cell_type": "code",
   "execution_count": null,
   "id": "deluxe-absence",
   "metadata": {},
   "outputs": [],
   "source": []
  },
  {
   "cell_type": "code",
   "execution_count": null,
   "id": "purple-numbers",
   "metadata": {},
   "outputs": [],
   "source": []
  },
  {
   "cell_type": "code",
   "execution_count": null,
   "id": "banner-austin",
   "metadata": {},
   "outputs": [],
   "source": []
  },
  {
   "cell_type": "code",
   "execution_count": null,
   "id": "dynamic-denmark",
   "metadata": {},
   "outputs": [],
   "source": []
  },
  {
   "cell_type": "code",
   "execution_count": null,
   "id": "worth-romania",
   "metadata": {},
   "outputs": [],
   "source": []
  },
  {
   "cell_type": "code",
   "execution_count": null,
   "id": "imported-technical",
   "metadata": {},
   "outputs": [],
   "source": []
  },
  {
   "cell_type": "code",
   "execution_count": null,
   "id": "russian-calibration",
   "metadata": {},
   "outputs": [],
   "source": [
    "def target_encoder(df, column, target, index=None, method='mean'):\n",
    "    index = df.index if index is None else index # Encode the entire input df if no specific indices is supplied\n",
    "\n",
    "    if method == 'mean':\n",
    "        encoded_column = df[column].map(df.iloc[index].groupby(column)[target].mean())\n",
    "    elif method == 'median':\n",
    "        encoded_column = df[column].map(df.iloc[index].groupby(column)[target].median())\n",
    "    elif method == 'std':\n",
    "        encoded_column = df[column].map(df.iloc[index].groupby(column)[target].std())\n",
    "    else:\n",
    "        raise ValueError(\"Incorrect method supplied: '{}'. Must be one of 'mean', 'median', 'std'\".format(method))\n",
    "\n",
    "    return encoded_column"
   ]
  },
  {
   "cell_type": "code",
   "execution_count": null,
   "id": "beneficial-blood",
   "metadata": {},
   "outputs": [],
   "source": [
    "def smoothing_target_encoder(df, column, target, weight=100):\n",
    "   \n",
    "    \n",
    "    # Compute the global mean\n",
    "    mean = df[target].mean()\n",
    "\n",
    "    # Compute the number of values and the mean of each group\n",
    "    agg = df.groupby(column)[target].agg(['count', 'mean'])\n",
    "    counts = agg['count']\n",
    "    means = agg['mean']\n",
    "\n",
    "    # Compute the 'smoothed' means\n",
    "    smooth = (counts * means + weight * mean) / (counts + weight)\n",
    "\n",
    "    # Replace each value by the according smoothed mean\n",
    "    return df[column].map(smooth)"
   ]
  }
 ],
 "metadata": {
  "kernelspec": {
   "display_name": "Python 3",
   "language": "python",
   "name": "python3"
  },
  "language_info": {
   "codemirror_mode": {
    "name": "ipython",
    "version": 3
   },
   "file_extension": ".py",
   "mimetype": "text/x-python",
   "name": "python",
   "nbconvert_exporter": "python",
   "pygments_lexer": "ipython3",
   "version": "3.8.5"
  }
 },
 "nbformat": 4,
 "nbformat_minor": 5
}
